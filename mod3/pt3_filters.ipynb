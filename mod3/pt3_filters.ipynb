{
 "cells": [
  {
   "cell_type": "markdown",
   "metadata": {},
   "source": [
    "# Cross Correlation Applied by Hand"
   ]
  },
  {
   "cell_type": "markdown",
   "metadata": {},
   "source": [
    "Here, we start with an image with 3 channels, RGB, of dimension 4x4. We are going to apply a filter of dimension 3x3 to each channel of the image. Our bias is 1 and our stride length is one."
   ]
  },
  {
   "cell_type": "markdown",
   "metadata": {},
   "source": [
    "![filters.png](pt3_filters.png)"
   ]
  },
  {
   "cell_type": "markdown",
   "metadata": {},
   "source": [
    "Now, let's apply max pooling to the original image. We will use a 2x2 filter with a stride length of 2. Finally, we'll flatten the image into a vector for each channel."
   ]
  },
  {
   "cell_type": "markdown",
   "metadata": {},
   "source": [
    "![maxpool.png](pt3_maxpool.png)"
   ]
  }
 ],
 "metadata": {
  "language_info": {
   "name": "python"
  },
  "orig_nbformat": 4
 },
 "nbformat": 4,
 "nbformat_minor": 2
}
