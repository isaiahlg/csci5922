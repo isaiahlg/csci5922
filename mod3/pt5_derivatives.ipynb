{
 "cells": [
  {
   "cell_type": "markdown",
   "metadata": {},
   "source": [
    "# Backpropogation in an RNN"
   ]
  },
  {
   "cell_type": "markdown",
   "metadata": {},
   "source": [
    "## Export to HTML"
   ]
  },
  {
   "cell_type": "code",
   "execution_count": 1,
   "metadata": {},
   "outputs": [
    {
     "name": "stderr",
     "output_type": "stream",
     "text": [
      "[NbConvertApp] Converting notebook pt5_derivatives.ipynb to html\n",
      "[NbConvertApp] Writing 270887 bytes to pt5_derivatives.html\n"
     ]
    },
    {
     "data": {
      "text/plain": [
       "0"
      ]
     },
     "execution_count": 1,
     "metadata": {},
     "output_type": "execute_result"
    }
   ],
   "source": [
    "# export to HTML for webpage\n",
    "import os\n",
    "\n",
    "# os.system('jupyter nbconvert --to html mod1.ipynb')\n",
    "os.system('jupyter nbconvert --to html pt5_derivatives.ipynb --HTMLExporter.theme=dark')"
   ]
  }
 ],
 "metadata": {
  "kernelspec": {
   "display_name": "csci5922",
   "language": "python",
   "name": "python3"
  },
  "language_info": {
   "codemirror_mode": {
    "name": "ipython",
    "version": 3
   },
   "file_extension": ".py",
   "mimetype": "text/x-python",
   "name": "python",
   "nbconvert_exporter": "python",
   "pygments_lexer": "ipython3",
   "version": "3.9.15"
  },
  "orig_nbformat": 4
 },
 "nbformat": 4,
 "nbformat_minor": 2
}
