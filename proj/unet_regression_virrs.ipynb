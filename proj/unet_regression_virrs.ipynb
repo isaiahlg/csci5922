{
  "cells": [
    {
      "cell_type": "markdown",
      "metadata": {
        "id": "aV1xZ1CPi3Nw"
      },
      "source": [
        "<table class=\"ee-notebook-buttons\" align=\"left\"><td>\n",
        "<a target=\"_blank\"  href=\"http://colab.research.google.com/github/google/earthengine-community/blob/master/guides/linked/UNET_regression_demo.ipynb\">\n",
        "    <img src=\"https://www.tensorflow.org/images/colab_logo_32px.png\" /> Run in Google Colab</a>\n",
        "</td><td>\n",
        "<a target=\"_blank\"  href=\"https://github.com/google/earthengine-community/blob/master/guides/linked/UNET_regression_demo.ipynb\"><img width=32px src=\"https://www.tensorflow.org/images/GitHub-Mark-32px.png\" /> View source on GitHub</a></td></table>"
      ]
    },
    {
      "cell_type": "markdown",
      "metadata": {},
      "source": [
        "# VIIRS High Resolution Nightlights Prediction \n",
        "with Landsat 8, Sentinel-2, and UNET"
      ]
    },
    {
      "cell_type": "markdown",
      "metadata": {},
      "source": [
        "## To Do\n",
        "\n",
        "Decide a model to Use\n",
        "- [x] Figure out how to extract image patches for model training\n",
        "- [x] Extract Sentinel 2 and Planet Data\n",
        "- [x] Figure out which type of model to use\n",
        "- [x] Figure out how to run one of these scripts  \n",
        "\n",
        "Get a Demo Notebook Running\n",
        "- [x] Get the notebook running locally with the tfrecords saved locally  \n",
        "- [x] Train a model with small subset of the data  \n",
        "- [x] Get the model prediction and inference code to run with local files\n",
        "- [x] Get a simple version of the model trained  \n",
        "\n",
        "Modify Notebook to Run with Nightlights\n",
        "- [x] Substitute NLCD with nightlights  \n",
        "- [x] Retrain a simple model with the new data  \n",
        "\n",
        "Get the Model Running on the Lab Computer\n",
        "- [x] Set up a python env on the lab computer  \n",
        "- [x] Set up SSH on the lab computer\n",
        "- [x] Adapt script to run on lab computer\n",
        "- [x] Run on lab computer  \n",
        "\n",
        "Improve the Model \n",
        "- [x] Visualize the model accuracy by epoch\n",
        "- [x] Compare a prediction to the actual image\n",
        "- [x] Create a difference image\n",
        "- [ ] Scale up the model with original image patches\n",
        "- [ ] Recreate image patches in Kenya\n",
        "- [ ] Substitute Landsat 8 with Sentinel 2  \n",
        "- [ ] Determine hyperparameters  \n",
        "\n",
        "If Time Allows...\n",
        "- [ ] Consider running again with Planet  \n",
        "- [ ] Consider running again with a ViTs\n",
        "- [ ] Look wealth instead of nightlights data  \n",
        "- [ ] Look at effect of dataset size on model performance"
      ]
    },
    {
      "cell_type": "markdown",
      "metadata": {
        "id": "_SHAc5qbiR8l"
      },
      "source": [
        "# Introduction\n",
        "\n",
        "This is an Earth Engine <> TensorFlow notebook.  Suppose you want to predict a continuous output (regression) from a stack of continuous inputs.  In this example, the output is VIIRS Day/Night Band from [VIIRS](https://developers.google.com/earth-engine/datasets/catalog/NOAA_VIIRS_DNB_MONTHLY_V1_VCMSLCFG) and the input is a Landsat 8 composite.  The model is a [fully convolutional neural network (FCNN)](https://www.cv-foundation.org/openaccess/content_cvpr_2015/papers/Long_Fully_Convolutional_Networks_2015_CVPR_paper.pdf), specifically [U-net](https://arxiv.org/abs/1505.04597). In this notebook, we:\n",
        "\n",
        "1.   Export train/test patches from Earth Engine, suitable for training an FCNN model.\n",
        "2.   Preprocess the data. \n",
        "3.   Train and validating an FCNN model.\n",
        "4.   Maki predictions with the trained model and import them to Earth Engine."
      ]
    },
    {
      "cell_type": "markdown",
      "metadata": {
        "id": "_MJ4kW1pEhwP"
      },
      "source": [
        "# Setup software libraries\n",
        "\n",
        "Authenticate and import as necessary."
      ]
    },
    {
      "cell_type": "code",
      "execution_count": 67,
      "metadata": {},
      "outputs": [],
      "source": [
        "# Read in the .env file\n",
        "from dotenv import dotenv_values\n",
        "\n",
        "# load env variables\n",
        "config = dotenv_values(\".env\")\n",
        "\n",
        "# set env variables\n",
        "GCS_PROJECT = config['GCS_PROJECT']\n",
        "BUCKET = config['BUCKET']\n",
        "HOME_PATH = config['HOME_PATH']\n",
        "DATA_PATH = config['DATA_PATH']\n",
        "FOLDER = config['FOLDER']\n",
        "GCLOUD_PATH = config['GCLOUD_PATH']\n"
      ]
    },
    {
      "cell_type": "code",
      "execution_count": 69,
      "metadata": {
        "id": "neIa46CpciXq"
      },
      "outputs": [
        {
          "name": "stdout",
          "output_type": "stream",
          "text": [
            "Did you mean this?\n",
            "\tls\n",
            "CommandException: Invalid command \"lss\".\n"
          ]
        }
      ],
      "source": [
        "# Cloud authentication when running in Colab\n",
        "# Fix error: https://stackoverflow.com/questions/75666380/attributeerror-module-ipython-utils-traitlets-has-no-attribute-unicode\n",
        "# from google.auth import auth\n",
        "# import google\n",
        "# auth.authenticate_user()\n",
        "\n",
        "# Local authenticate when running locally\n",
        "# ensure you have the Google Cloud SDK installed and configured\n",
        "# !bash {GCLOUD_PATH}gcloud auth login --no-launch-browser\n",
        "!{GCLOUD_PATH}gsutil lss"
      ]
    },
    {
      "cell_type": "code",
      "execution_count": 2,
      "metadata": {
        "id": "jat01FEoUMqg"
      },
      "outputs": [],
      "source": [
        "# Import, authenticate and initialize the Earth Engine library.\n",
        "import ee\n",
        "ee.Authenticate()\n",
        "ee.Initialize()"
      ]
    },
    {
      "cell_type": "code",
      "execution_count": 4,
      "metadata": {
        "id": "8RnZzcYhcpsQ"
      },
      "outputs": [
        {
          "name": "stdout",
          "output_type": "stream",
          "text": [
            "2.15.0\n"
          ]
        }
      ],
      "source": [
        "# Tensorflow setup.\n",
        "import tensorflow as tf\n",
        "print(tf.__version__)"
      ]
    },
    {
      "cell_type": "code",
      "execution_count": 5,
      "metadata": {
        "id": "n1hFdpBQfyhN"
      },
      "outputs": [
        {
          "name": "stdout",
          "output_type": "stream",
          "text": [
            "0.15.1\n"
          ]
        }
      ],
      "source": [
        "# Folium setup.\n",
        "import folium\n",
        "print(folium.__version__)\n",
        "# TODO substitude with geemap"
      ]
    },
    {
      "cell_type": "markdown",
      "metadata": {
        "id": "iT8ycmzClYwf"
      },
      "source": [
        "# Variables\n",
        "\n",
        "Declare the variables that will be in use throughout the notebook."
      ]
    },
    {
      "cell_type": "markdown",
      "metadata": {
        "id": "qKs6HuxOzjMl"
      },
      "source": [
        "## Specify your Cloud Storage Bucket\n",
        "You must have write access to a bucket to run this notebook"
      ]
    },
    {
      "cell_type": "markdown",
      "metadata": {
        "id": "wmfKLl9XcnGJ"
      },
      "source": [
        "## Set other global variables"
      ]
    },
    {
      "cell_type": "code",
      "execution_count": 15,
      "metadata": {
        "id": "psz7wJKalaoj"
      },
      "outputs": [],
      "source": [
        "# variables for image names\n",
        "TRAINING_BASE = 'training_patches'\n",
        "EVAL_BASE = 'eval_patches'\n",
        "\n",
        "# Specify inputs (Landsat bands) to the model and the response variable.\n",
        "opticalBands = ['B1', 'B2', 'B3', 'B4', 'B5', 'B6', 'B7']\n",
        "thermalBands = ['B10', 'B11']\n",
        "BANDS = opticalBands + thermalBands\n",
        "RESPONSE = 'avg_rad' ##### \n",
        "FEATURES = BANDS + [RESPONSE]\n",
        "\n",
        "# Specify the size and shape of patches expected by the model.\n",
        "KERNEL_SIZE = 256\n",
        "KERNEL_SHAPE = [KERNEL_SIZE, KERNEL_SIZE]\n",
        "COLUMNS = [\n",
        "  tf.io.FixedLenFeature(shape=KERNEL_SHAPE, dtype=tf.float32) for k in FEATURES\n",
        "]\n",
        "FEATURES_DICT = dict(zip(FEATURES, COLUMNS))\n",
        "\n",
        "# Sizes of the training and evaluation datasets.\n",
        "TRAIN_SIZE = 16000 # orignally 160000, use 800 for small version\n",
        "EVAL_SIZE = 8000 # down 10X\n",
        "\n",
        "# Specify model training parameters.\n",
        "BATCH_SIZE = 64 # formerly 16\n",
        "EPOCHS = 10\n",
        "BUFFER_SIZE = 1000\n",
        "OPTIMIZER = 'SGD'\n",
        "LOSS = 'MeanSquaredError'\n",
        "METRICS = ['RootMeanSquaredError']"
      ]
    },
    {
      "cell_type": "markdown",
      "metadata": {
        "id": "hgoDc7Hilfc4"
      },
      "source": [
        "# Create and Stack Input + Target Imagery\n",
        "\n",
        "Gather and setup the imagery to use for inputs (predictors).  This is a three-year, cloud-free, Landsat 8 composite.  Display it in the notebook for a sanity check."
      ]
    },
    {
      "cell_type": "code",
      "execution_count": 16,
      "metadata": {
        "id": "-IlgXu-vcUEY"
      },
      "outputs": [
        {
          "data": {
            "text/html": [
              "<div style=\"width:100%;\"><div style=\"position:relative;width:100%;height:0;padding-bottom:60%;\"><span style=\"color:#565656\">Make this Notebook Trusted to load map: File -> Trust Notebook</span><iframe srcdoc=\"&lt;!DOCTYPE html&gt;\n",
              "&lt;html&gt;\n",
              "&lt;head&gt;\n",
              "    \n",
              "    &lt;meta http-equiv=&quot;content-type&quot; content=&quot;text/html; charset=UTF-8&quot; /&gt;\n",
              "    \n",
              "        &lt;script&gt;\n",
              "            L_NO_TOUCH = false;\n",
              "            L_DISABLE_3D = false;\n",
              "        &lt;/script&gt;\n",
              "    \n",
              "    &lt;style&gt;html, body {width: 100%;height: 100%;margin: 0;padding: 0;}&lt;/style&gt;\n",
              "    &lt;style&gt;#map {position:absolute;top:0;bottom:0;right:0;left:0;}&lt;/style&gt;\n",
              "    &lt;script src=&quot;https://cdn.jsdelivr.net/npm/leaflet@1.9.3/dist/leaflet.js&quot;&gt;&lt;/script&gt;\n",
              "    &lt;script src=&quot;https://code.jquery.com/jquery-3.7.1.min.js&quot;&gt;&lt;/script&gt;\n",
              "    &lt;script src=&quot;https://cdn.jsdelivr.net/npm/bootstrap@5.2.2/dist/js/bootstrap.bundle.min.js&quot;&gt;&lt;/script&gt;\n",
              "    &lt;script src=&quot;https://cdnjs.cloudflare.com/ajax/libs/Leaflet.awesome-markers/2.0.2/leaflet.awesome-markers.js&quot;&gt;&lt;/script&gt;\n",
              "    &lt;link rel=&quot;stylesheet&quot; href=&quot;https://cdn.jsdelivr.net/npm/leaflet@1.9.3/dist/leaflet.css&quot;/&gt;\n",
              "    &lt;link rel=&quot;stylesheet&quot; href=&quot;https://cdn.jsdelivr.net/npm/bootstrap@5.2.2/dist/css/bootstrap.min.css&quot;/&gt;\n",
              "    &lt;link rel=&quot;stylesheet&quot; href=&quot;https://netdna.bootstrapcdn.com/bootstrap/3.0.0/css/bootstrap.min.css&quot;/&gt;\n",
              "    &lt;link rel=&quot;stylesheet&quot; href=&quot;https://cdn.jsdelivr.net/npm/@fortawesome/fontawesome-free@6.2.0/css/all.min.css&quot;/&gt;\n",
              "    &lt;link rel=&quot;stylesheet&quot; href=&quot;https://cdnjs.cloudflare.com/ajax/libs/Leaflet.awesome-markers/2.0.2/leaflet.awesome-markers.css&quot;/&gt;\n",
              "    &lt;link rel=&quot;stylesheet&quot; href=&quot;https://cdn.jsdelivr.net/gh/python-visualization/folium/folium/templates/leaflet.awesome.rotate.min.css&quot;/&gt;\n",
              "    \n",
              "            &lt;meta name=&quot;viewport&quot; content=&quot;width=device-width,\n",
              "                initial-scale=1.0, maximum-scale=1.0, user-scalable=no&quot; /&gt;\n",
              "            &lt;style&gt;\n",
              "                #map_b9a0b738e3767d9cd69e18b33789fac4 {\n",
              "                    position: relative;\n",
              "                    width: 100.0%;\n",
              "                    height: 100.0%;\n",
              "                    left: 0.0%;\n",
              "                    top: 0.0%;\n",
              "                }\n",
              "                .leaflet-container { font-size: 1rem; }\n",
              "            &lt;/style&gt;\n",
              "        \n",
              "&lt;/head&gt;\n",
              "&lt;body&gt;\n",
              "    \n",
              "    \n",
              "            &lt;div class=&quot;folium-map&quot; id=&quot;map_b9a0b738e3767d9cd69e18b33789fac4&quot; &gt;&lt;/div&gt;\n",
              "        \n",
              "&lt;/body&gt;\n",
              "&lt;script&gt;\n",
              "    \n",
              "    \n",
              "            var map_b9a0b738e3767d9cd69e18b33789fac4 = L.map(\n",
              "                &quot;map_b9a0b738e3767d9cd69e18b33789fac4&quot;,\n",
              "                {\n",
              "                    center: [-1.0, 37.0],\n",
              "                    crs: L.CRS.EPSG3857,\n",
              "                    zoom: 8,\n",
              "                    zoomControl: true,\n",
              "                    preferCanvas: false,\n",
              "                }\n",
              "            );\n",
              "\n",
              "            \n",
              "\n",
              "        \n",
              "    \n",
              "            var tile_layer_7ffabd7486092c69ab77c6fdf81f361e = L.tileLayer(\n",
              "                &quot;https://tile.openstreetmap.org/{z}/{x}/{y}.png&quot;,\n",
              "                {&quot;attribution&quot;: &quot;\\u0026copy; \\u003ca href=\\&quot;https://www.openstreetmap.org/copyright\\&quot;\\u003eOpenStreetMap\\u003c/a\\u003e contributors&quot;, &quot;detectRetina&quot;: false, &quot;maxNativeZoom&quot;: 19, &quot;maxZoom&quot;: 19, &quot;minZoom&quot;: 0, &quot;noWrap&quot;: false, &quot;opacity&quot;: 1, &quot;subdomains&quot;: &quot;abc&quot;, &quot;tms&quot;: false}\n",
              "            );\n",
              "        \n",
              "    \n",
              "            tile_layer_7ffabd7486092c69ab77c6fdf81f361e.addTo(map_b9a0b738e3767d9cd69e18b33789fac4);\n",
              "        \n",
              "    \n",
              "            var tile_layer_486c8334a0dd719108964e0dd661e701 = L.tileLayer(\n",
              "                &quot;https://earthengine.googleapis.com/v1/projects/earthengine-legacy/maps/84a03442b49148829c3bb1a6cf655500-76ef2150a408142f96f7c0d716aee157/tiles/{z}/{x}/{y}&quot;,\n",
              "                {&quot;attribution&quot;: &quot;Map Data \\u0026copy; \\u003ca href=\\&quot;https://earthengine.google.com/\\&quot;\\u003eGoogle Earth Engine\\u003c/a\\u003e&quot;, &quot;detectRetina&quot;: false, &quot;maxNativeZoom&quot;: 18, &quot;maxZoom&quot;: 18, &quot;minZoom&quot;: 0, &quot;noWrap&quot;: false, &quot;opacity&quot;: 1, &quot;subdomains&quot;: &quot;abc&quot;, &quot;tms&quot;: false}\n",
              "            );\n",
              "        \n",
              "    \n",
              "            tile_layer_486c8334a0dd719108964e0dd661e701.addTo(map_b9a0b738e3767d9cd69e18b33789fac4);\n",
              "        \n",
              "    \n",
              "            var tile_layer_a88402977b2578f612ae8174770d18b0 = L.tileLayer(\n",
              "                &quot;https://earthengine.googleapis.com/v1/projects/earthengine-legacy/maps/1772702befa7ba2f8ec672852fba6f15-5af1b6fa5b707148379d64705fe1abd5/tiles/{z}/{x}/{y}&quot;,\n",
              "                {&quot;attribution&quot;: &quot;Map Data \\u0026copy; \\u003ca href=\\&quot;https://earthengine.google.com/\\&quot;\\u003eGoogle Earth Engine\\u003c/a\\u003e&quot;, &quot;detectRetina&quot;: false, &quot;maxNativeZoom&quot;: 18, &quot;maxZoom&quot;: 18, &quot;minZoom&quot;: 0, &quot;noWrap&quot;: false, &quot;opacity&quot;: 1, &quot;subdomains&quot;: &quot;abc&quot;, &quot;tms&quot;: false}\n",
              "            );\n",
              "        \n",
              "    \n",
              "            tile_layer_a88402977b2578f612ae8174770d18b0.addTo(map_b9a0b738e3767d9cd69e18b33789fac4);\n",
              "        \n",
              "    \n",
              "            var layer_control_a9e66da1b3774972fd4fcada8ee20513_layers = {\n",
              "                base_layers : {\n",
              "                    &quot;openstreetmap&quot; : tile_layer_7ffabd7486092c69ab77c6fdf81f361e,\n",
              "                },\n",
              "                overlays :  {\n",
              "                    &quot;median composite&quot; : tile_layer_486c8334a0dd719108964e0dd661e701,\n",
              "                    &quot;thermal&quot; : tile_layer_a88402977b2578f612ae8174770d18b0,\n",
              "                },\n",
              "            };\n",
              "            let layer_control_a9e66da1b3774972fd4fcada8ee20513 = L.control.layers(\n",
              "                layer_control_a9e66da1b3774972fd4fcada8ee20513_layers.base_layers,\n",
              "                layer_control_a9e66da1b3774972fd4fcada8ee20513_layers.overlays,\n",
              "                {&quot;autoZIndex&quot;: true, &quot;collapsed&quot;: true, &quot;position&quot;: &quot;topright&quot;}\n",
              "            ).addTo(map_b9a0b738e3767d9cd69e18b33789fac4);\n",
              "\n",
              "        \n",
              "&lt;/script&gt;\n",
              "&lt;/html&gt;\" style=\"position:absolute;width:100%;height:100%;left:0;top:0;border:none !important;\" allowfullscreen webkitallowfullscreen mozallowfullscreen></iframe></div></div>"
            ],
            "text/plain": [
              "<folium.folium.Map at 0x7f63c2bcd5d0>"
            ]
          },
          "execution_count": 16,
          "metadata": {},
          "output_type": "execute_result"
        }
      ],
      "source": [
        "# Use Landsat 8 surface reflectance data.\n",
        "l8sr = ee.ImageCollection('LANDSAT/LC08/C01/T1_SR')\n",
        "\n",
        "# Cloud masking function.\n",
        "def maskL8sr(image):\n",
        "  cloudShadowBitMask = ee.Number(2).pow(3).int()\n",
        "  cloudsBitMask = ee.Number(2).pow(5).int()\n",
        "  qa = image.select('pixel_qa')\n",
        "  mask1 = qa.bitwiseAnd(cloudShadowBitMask).eq(0).And(\n",
        "    qa.bitwiseAnd(cloudsBitMask).eq(0))\n",
        "  mask2 = image.mask().reduce('min')\n",
        "  mask3 = image.select(opticalBands).gt(0).And(\n",
        "          image.select(opticalBands).lt(10000)).reduce('min')\n",
        "  mask = mask1.And(mask2).And(mask3)\n",
        "  return image.select(opticalBands).divide(10000).addBands(\n",
        "          image.select(thermalBands).divide(10).clamp(273.15, 373.15)\n",
        "            .subtract(273.15).divide(100)).updateMask(mask)\n",
        "\n",
        "# The image input data is a cloud-masked median composite.\n",
        "image = l8sr.filterDate('2021-01-01', '2022-12-31').map(maskL8sr).median()\n",
        "\n",
        "# Use folium to visualize the imagery.\n",
        "mapid = image.getMapId({'bands': ['B4', 'B3', 'B2'], 'min': 0, 'max': 0.3})\n",
        "map = folium.Map(location=[-1, 37], zoom_start=8)\n",
        "folium.TileLayer(\n",
        "    tiles=mapid['tile_fetcher'].url_format,\n",
        "    attr='Map Data &copy; <a href=\"https://earthengine.google.com/\">Google Earth Engine</a>',\n",
        "    overlay=True,\n",
        "    name='median composite',\n",
        "  ).add_to(map)\n",
        "\n",
        "mapid = image.getMapId({'bands': ['B10'], 'min': 0, 'max': 0.5})\n",
        "folium.TileLayer(\n",
        "    tiles=mapid['tile_fetcher'].url_format,\n",
        "    attr='Map Data &copy; <a href=\"https://earthengine.google.com/\">Google Earth Engine</a>',\n",
        "    overlay=True,\n",
        "    name='thermal',\n",
        "  ).add_to(map)\n",
        "map.add_child(folium.LayerControl())\n",
        "map"
      ]
    },
    {
      "cell_type": "markdown",
      "metadata": {
        "id": "gHznnctkJsZJ"
      },
      "source": [
        "Prepare the response (what we want to predict).  This is nighttime brightness (in nanoWatts/sr/cm^2) from the VIIRS dataset.  Display to check."
      ]
    },
    {
      "cell_type": "code",
      "execution_count": 17,
      "metadata": {
        "id": "e0wHDyxVirec"
      },
      "outputs": [
        {
          "data": {
            "text/html": [
              "<div style=\"width:100%;\"><div style=\"position:relative;width:100%;height:0;padding-bottom:60%;\"><span style=\"color:#565656\">Make this Notebook Trusted to load map: File -> Trust Notebook</span><iframe srcdoc=\"&lt;!DOCTYPE html&gt;\n",
              "&lt;html&gt;\n",
              "&lt;head&gt;\n",
              "    \n",
              "    &lt;meta http-equiv=&quot;content-type&quot; content=&quot;text/html; charset=UTF-8&quot; /&gt;\n",
              "    \n",
              "        &lt;script&gt;\n",
              "            L_NO_TOUCH = false;\n",
              "            L_DISABLE_3D = false;\n",
              "        &lt;/script&gt;\n",
              "    \n",
              "    &lt;style&gt;html, body {width: 100%;height: 100%;margin: 0;padding: 0;}&lt;/style&gt;\n",
              "    &lt;style&gt;#map {position:absolute;top:0;bottom:0;right:0;left:0;}&lt;/style&gt;\n",
              "    &lt;script src=&quot;https://cdn.jsdelivr.net/npm/leaflet@1.9.3/dist/leaflet.js&quot;&gt;&lt;/script&gt;\n",
              "    &lt;script src=&quot;https://code.jquery.com/jquery-3.7.1.min.js&quot;&gt;&lt;/script&gt;\n",
              "    &lt;script src=&quot;https://cdn.jsdelivr.net/npm/bootstrap@5.2.2/dist/js/bootstrap.bundle.min.js&quot;&gt;&lt;/script&gt;\n",
              "    &lt;script src=&quot;https://cdnjs.cloudflare.com/ajax/libs/Leaflet.awesome-markers/2.0.2/leaflet.awesome-markers.js&quot;&gt;&lt;/script&gt;\n",
              "    &lt;link rel=&quot;stylesheet&quot; href=&quot;https://cdn.jsdelivr.net/npm/leaflet@1.9.3/dist/leaflet.css&quot;/&gt;\n",
              "    &lt;link rel=&quot;stylesheet&quot; href=&quot;https://cdn.jsdelivr.net/npm/bootstrap@5.2.2/dist/css/bootstrap.min.css&quot;/&gt;\n",
              "    &lt;link rel=&quot;stylesheet&quot; href=&quot;https://netdna.bootstrapcdn.com/bootstrap/3.0.0/css/bootstrap.min.css&quot;/&gt;\n",
              "    &lt;link rel=&quot;stylesheet&quot; href=&quot;https://cdn.jsdelivr.net/npm/@fortawesome/fontawesome-free@6.2.0/css/all.min.css&quot;/&gt;\n",
              "    &lt;link rel=&quot;stylesheet&quot; href=&quot;https://cdnjs.cloudflare.com/ajax/libs/Leaflet.awesome-markers/2.0.2/leaflet.awesome-markers.css&quot;/&gt;\n",
              "    &lt;link rel=&quot;stylesheet&quot; href=&quot;https://cdn.jsdelivr.net/gh/python-visualization/folium/folium/templates/leaflet.awesome.rotate.min.css&quot;/&gt;\n",
              "    \n",
              "            &lt;meta name=&quot;viewport&quot; content=&quot;width=device-width,\n",
              "                initial-scale=1.0, maximum-scale=1.0, user-scalable=no&quot; /&gt;\n",
              "            &lt;style&gt;\n",
              "                #map_ef024ba2e8e04fa1538dac5e96e73ce3 {\n",
              "                    position: relative;\n",
              "                    width: 100.0%;\n",
              "                    height: 100.0%;\n",
              "                    left: 0.0%;\n",
              "                    top: 0.0%;\n",
              "                }\n",
              "                .leaflet-container { font-size: 1rem; }\n",
              "            &lt;/style&gt;\n",
              "        \n",
              "&lt;/head&gt;\n",
              "&lt;body&gt;\n",
              "    \n",
              "    \n",
              "            &lt;div class=&quot;folium-map&quot; id=&quot;map_ef024ba2e8e04fa1538dac5e96e73ce3&quot; &gt;&lt;/div&gt;\n",
              "        \n",
              "&lt;/body&gt;\n",
              "&lt;script&gt;\n",
              "    \n",
              "    \n",
              "            var map_ef024ba2e8e04fa1538dac5e96e73ce3 = L.map(\n",
              "                &quot;map_ef024ba2e8e04fa1538dac5e96e73ce3&quot;,\n",
              "                {\n",
              "                    center: [-1.0, 37.0],\n",
              "                    crs: L.CRS.EPSG3857,\n",
              "                    zoom: 8,\n",
              "                    zoomControl: true,\n",
              "                    preferCanvas: false,\n",
              "                }\n",
              "            );\n",
              "\n",
              "            \n",
              "\n",
              "        \n",
              "    \n",
              "            var tile_layer_4fe3bef0694858970aafa1a100b9f017 = L.tileLayer(\n",
              "                &quot;https://tile.openstreetmap.org/{z}/{x}/{y}.png&quot;,\n",
              "                {&quot;attribution&quot;: &quot;\\u0026copy; \\u003ca href=\\&quot;https://www.openstreetmap.org/copyright\\&quot;\\u003eOpenStreetMap\\u003c/a\\u003e contributors&quot;, &quot;detectRetina&quot;: false, &quot;maxNativeZoom&quot;: 19, &quot;maxZoom&quot;: 19, &quot;minZoom&quot;: 0, &quot;noWrap&quot;: false, &quot;opacity&quot;: 1, &quot;subdomains&quot;: &quot;abc&quot;, &quot;tms&quot;: false}\n",
              "            );\n",
              "        \n",
              "    \n",
              "            tile_layer_4fe3bef0694858970aafa1a100b9f017.addTo(map_ef024ba2e8e04fa1538dac5e96e73ce3);\n",
              "        \n",
              "    \n",
              "            var tile_layer_46ce2b50b27cc5a18039835f38420c1a = L.tileLayer(\n",
              "                &quot;https://earthengine.googleapis.com/v1/projects/earthengine-legacy/maps/218cc951c6314e36603cd585655e43ed-52112cb62ee8b667669eb0a9bf67633b/tiles/{z}/{x}/{y}&quot;,\n",
              "                {&quot;attribution&quot;: &quot;Map Data \\u0026copy; \\u003ca href=\\&quot;https://earthengine.google.com/\\&quot;\\u003eGoogle Earth Engine\\u003c/a\\u003e&quot;, &quot;detectRetina&quot;: false, &quot;maxNativeZoom&quot;: 18, &quot;maxZoom&quot;: 18, &quot;minZoom&quot;: 0, &quot;noWrap&quot;: false, &quot;opacity&quot;: 1, &quot;subdomains&quot;: &quot;abc&quot;, &quot;tms&quot;: false}\n",
              "            );\n",
              "        \n",
              "    \n",
              "            tile_layer_46ce2b50b27cc5a18039835f38420c1a.addTo(map_ef024ba2e8e04fa1538dac5e96e73ce3);\n",
              "        \n",
              "    \n",
              "            var layer_control_619cc655da71ada3c0527a0211df216f_layers = {\n",
              "                base_layers : {\n",
              "                    &quot;openstreetmap&quot; : tile_layer_4fe3bef0694858970aafa1a100b9f017,\n",
              "                },\n",
              "                overlays :  {\n",
              "                    &quot;viirs dnb&quot; : tile_layer_46ce2b50b27cc5a18039835f38420c1a,\n",
              "                },\n",
              "            };\n",
              "            let layer_control_619cc655da71ada3c0527a0211df216f = L.control.layers(\n",
              "                layer_control_619cc655da71ada3c0527a0211df216f_layers.base_layers,\n",
              "                layer_control_619cc655da71ada3c0527a0211df216f_layers.overlays,\n",
              "                {&quot;autoZIndex&quot;: true, &quot;collapsed&quot;: true, &quot;position&quot;: &quot;topright&quot;}\n",
              "            ).addTo(map_ef024ba2e8e04fa1538dac5e96e73ce3);\n",
              "\n",
              "        \n",
              "&lt;/script&gt;\n",
              "&lt;/html&gt;\" style=\"position:absolute;width:100%;height:100%;left:0;top:0;border:none !important;\" allowfullscreen webkitallowfullscreen mozallowfullscreen></iframe></div></div>"
            ],
            "text/plain": [
              "<folium.folium.Map at 0x7f63c29434d0>"
            ]
          },
          "execution_count": 17,
          "metadata": {},
          "output_type": "execute_result"
        }
      ],
      "source": [
        "viirs = ee.ImageCollection('NOAA/VIIRS/DNB/MONTHLY_V1/VCMSLCFG').select('avg_rad').filterDate('2021-01-01', '2022-12-31').median()\n",
        "viirs = viirs.divide(5).float() # normalize to 0-1 range\n",
        "\n",
        "mapid = viirs.getMapId({'min': 0, 'max': 1}) # normally max 1.0\n",
        "map = folium.Map(location=[-1, 37], zoom_start=8)\n",
        "folium.TileLayer(\n",
        "    tiles=mapid['tile_fetcher'].url_format,\n",
        "    attr='Map Data &copy; <a href=\"https://earthengine.google.com/\">Google Earth Engine</a>',\n",
        "    overlay=True,\n",
        "    name='viirs dnb',\n",
        "  ).add_to(map)\n",
        "map.add_child(folium.LayerControl())\n",
        "map"
      ]
    },
    {
      "cell_type": "markdown",
      "metadata": {
        "id": "CTS7_ZzPDhhg"
      },
      "source": [
        "Stack the 2D images (Landsat composite and VIIRS DNB image) to create a single image from which samples can be taken.  Convert the image into an array image in which each pixel stores 256x256 patches of pixels for each band.  This is a key step that bears emphasis: to export training patches, convert a multi-band image to [an array image](https://developers.google.com/earth-engine/arrays_array_images#array-images) using [`neighborhoodToArray()`](https://developers.google.com/earth-engine/api_docs#eeimageneighborhoodtoarray), then sample the image at points."
      ]
    },
    {
      "cell_type": "code",
      "execution_count": 18,
      "metadata": {
        "id": "eGHYsdAOipa4"
      },
      "outputs": [],
      "source": [
        "featureStack = ee.Image.cat([\n",
        "  image.select(BANDS),\n",
        "  viirs.select(RESPONSE)\n",
        "]).float()\n",
        "\n",
        "list = ee.List.repeat(1, KERNEL_SIZE)\n",
        "lists = ee.List.repeat(list, KERNEL_SIZE)\n",
        "kernel = ee.Kernel.fixed(KERNEL_SIZE, KERNEL_SIZE, lists)\n",
        "\n",
        "arrays = featureStack.neighborhoodToArray(kernel)"
      ]
    },
    {
      "cell_type": "markdown",
      "metadata": {
        "id": "F4djSxBRG2el"
      },
      "source": [
        "# Define Training and Evaluation Areas\n",
        "Use some pre-made geometries to sample the stack in strategic locations.  Specifically, these are hand-made polygons in which to take the 256x256 samples.  Display the sampling polygons on a map, red for training polygons, blue for evaluation."
      ]
    },
    {
      "cell_type": "code",
      "execution_count": 19,
      "metadata": {
        "id": "ure_WaD0itQY"
      },
      "outputs": [
        {
          "name": "stdout",
          "output_type": "stream",
          "text": [
            "{'type': 'FeatureCollection', 'columns': {'name': 'String', 'system:index': 'String'}, 'version': 1561577327437942, 'id': 'projects/google/DemoTrainingGeometries', 'properties': {'system:asset_size': 9146}, 'features': [{'type': 'Feature', 'geometry': {'type': 'Polygon', 'coordinates': [[[-95.00872143356885, 43.882391480018], [-94.88409455780221, 43.8823914774733], [-94.75946766854356, 43.88239151607362], [-94.63484078115829, 43.88239147435741], [-94.51021395009978, 43.88239151761204], [-94.38558703388141, 43.882391525494874], [-94.2609601677304, 43.882391509580756], [-94.13633329268824, 43.88239148649882], [-94.01170647028502, 43.88239146584801], [-93.88707957112779, 43.88239153417791], [-93.762452743159, 43.882391474820324], [-93.63782586789279, 43.88239151416488], [-93.5131990273726, 43.88239150562935], [-93.38857211791701, 43.88239152421802], [-93.26394523710668, 43.88239149067723], [-93.13931837601287, 43.88239147211232], [-93.01469149787505, 43.88239153381336], [-92.89006469177465, 43.882391516840244], [-92.76543779226367, 43.88239148461881], [-92.64081091401505, 43.882391490894726], [-92.51618407146547, 43.882391516800226], [-92.39155718123631, 43.88239147023647], [-92.26693029000165, 43.882391472089445], [-92.14230342401922, 43.882391495701725], [-92.01767659058105, 43.88239151234887], [-91.8930497049712, 43.88239149234478], [-91.76842289020402, 43.88239147275217], [-91.64379595674524, 43.88239149315398], [-91.51916914700787, 43.882391511251], [-91.3945422465723, 43.882391488848704], [-91.26991540002794, 43.882391526025515], [-91.1452885213445, 43.882391504772485], [-91.02066166372158, 43.882391521498185], [-91.02066166321507, 45.71030833821926], [-91.1452884801836, 45.710308298565835], [-91.26991540471863, 45.710308347758854], [-91.39454224130883, 45.710308342596015], [-91.51916914792686, 45.71030835271001], [-91.64379601692121, 45.71030830627487], [-91.76842287013137, 45.71030834662876], [-91.89304975468359, 45.71030832749024], [-92.01767661895659, 45.71030832081094], [-92.14230344681485, 45.71030832576992], [-92.2669303384919, 45.71030833923761], [-92.39155719661292, 45.710308289418144], [-92.51618405618598, 45.71030831878644], [-92.64081089497141, 45.71030835408084], [-92.76543780404954, 45.710308319306286], [-92.89006469108027, 45.710308287195744], [-93.01469149961434, 45.71030832988165], [-93.13931842048561, 45.710308295986096], [-93.26394523970376, 45.71030833396801], [-93.38857213744582, 45.710308292247525], [-93.5131989669291, 45.710308317664584], [-93.637825825313, 45.710308332926026], [-93.76245269244635, 45.710308336404516], [-93.88707957974799, 45.71030832540962], [-94.01170645015593, 45.710308298821396], [-94.13633330741213, 45.710308326484714], [-94.26096016525898, 45.71030833307604], [-94.38558707724467, 45.71030831394931], [-94.51021389617294, 45.710308344438616], [-94.63484080342648, 45.71030834238327], [-94.75946769724204, 45.71030830889608], [-94.88409451511697, 45.7103083161813], [-95.00872136022805, 45.71030828458669], [-95.00872143356885, 43.882391480018]]]}, 'id': '00009d04aa517429cf5f', 'properties': {'name': 'minn'}}, {'type': 'Feature', 'geometry': {'type': 'Polygon', 'coordinates': [[[-122.57756341922175, 37.17965582146776], [-122.41431165616466, 37.1796558042683], [-122.25105993569554, 37.17965582064957], [-122.08780821082645, 37.179655797602784], [-121.92455649777123, 37.179655764471065], [-121.76130470305456, 37.17965583245582], [-121.5980529714963, 37.179655796233966], [-121.43480125248085, 37.179655779334354], [-121.27154947368248, 37.179655813913406], [-121.10829771629672, 37.17965578938427], [-120.94504604148838, 37.17965579984904], [-120.78179422772332, 37.17965577590438], [-120.61854255944574, 37.17965577559257], [-120.45529077611276, 37.179655768444796], [-120.29203903724662, 37.1796558040846], [-120.12878730876662, 37.179655816739185], [-119.96553553869579, 37.17965579757059], [-119.96553553869579, 38.66798562971677], [-120.12878730876662, 38.66798561318965], [-120.29203903724662, 38.667985633927515], [-120.45529077611276, 38.66798564120765], [-120.61854255944574, 38.66798563983983], [-120.78179422772332, 38.66798566828058], [-120.94504604148838, 38.667985620825235], [-121.10829771629672, 38.66798567244511], [-121.27154947368248, 38.667985682240165], [-121.43480125248085, 38.66798564125537], [-121.5980529714963, 38.66798566799057], [-121.76130470305456, 38.667985666790415], [-121.92455649777123, 38.667985668396156], [-122.08780821082645, 38.667985666482345], [-122.25105993569554, 38.66798563002209], [-122.41431165616466, 38.66798567999082], [-122.57756341922175, 38.66798567703692], [-122.57756341922175, 37.17965582146776]]]}, 'id': '0000f910dc74ead2209d', 'properties': {'name': 'cali'}}, {'type': 'Feature', 'geometry': {'type': 'Polygon', 'coordinates': [[[-118.82464723826608, 33.37965699597151], [-118.64337484420909, 33.37965702899774], [-118.46210246369465, 33.379657035258774], [-118.28083011036097, 33.379657026714355], [-118.09955768920418, 33.37965701337339], [-117.91828535435084, 33.379656994247135], [-117.73701297417666, 33.37965701055739], [-117.55574057847798, 33.379657036066746], [-117.37446818070585, 33.37965702105142], [-117.19319577862653, 33.37965705060263], [-117.01192344480276, 33.37965700713361], [-116.83065105798494, 33.37965702971875], [-116.64937866288267, 33.37965703349217], [-116.46810629152557, 33.379656990002175], [-116.2868338738347, 33.37965702760211], [-116.10556150847648, 33.37965705170392], [-115.92428910328437, 33.37965706532297], [-115.92428910328437, 35.338453515370226], [-116.10556150847648, 35.33845347734783], [-116.2868338738347, 35.338453498980094], [-116.46810629152557, 35.33845349057078], [-116.64937866288267, 35.33845353718103], [-116.83065105798494, 35.33845350276398], [-117.01192344480276, 35.338453482542604], [-117.19319577862653, 35.33845354824184], [-117.37446818070585, 35.33845354944215], [-117.55574057847798, 35.33845351078418], [-117.73701297417666, 35.33845348885271], [-117.91828535435084, 35.33845351626499], [-118.0995576892042, 35.33845352465883], [-118.28083011036097, 35.33845353111864], [-118.46210246369465, 35.33845351905529], [-118.64337484420909, 35.33845353399602], [-118.82464723826608, 35.3384535426283], [-118.82464723826608, 33.37965699597151]]]}, 'id': '0000368821d66958dbb4', 'properties': {'name': 'la'}}, {'type': 'Feature', 'geometry': {'type': 'Polygon', 'coordinates': [[[-113.09982866918764, 32.311973366813156], [-112.92542056528059, 32.31197339054204], [-112.75101253043856, 32.31197333519162], [-112.5766044634383, 32.31197337206874], [-112.40219644809976, 32.31197337413722], [-112.22778839020496, 32.31197339437596], [-112.05338038190749, 32.311973351781354], [-111.87897233855799, 32.31197334537196], [-111.70456427222182, 32.31197335729832], [-111.53015620137369, 32.31197335189381], [-111.3557481515442, 32.31197335819499], [-111.1813401559682, 32.31197338775544], [-111.00693207431608, 32.311973383628896], [-110.83252404819133, 32.311973388510644], [-110.65811604696164, 32.31197337682056], [-110.48370795945979, 32.31197332044964], [-110.30929986746291, 32.31197339110238], [-110.30929986746291, 34.18611998820353], [-110.48370795945979, 34.18611997076826], [-110.65811604696164, 34.18611998212207], [-110.83252404819133, 34.18611996496966], [-111.00693207431608, 34.18611997450756], [-111.1813401559682, 34.18611998233879], [-111.3557481515442, 34.18611997496791], [-111.53015620137369, 34.18611995272842], [-111.70456427222182, 34.18611993050861], [-111.87897233855799, 34.18611998600612], [-112.05338038190749, 34.186119936559244], [-112.22778839020496, 34.18611998518187], [-112.40219644809976, 34.18611997634029], [-112.5766044634383, 34.18611993224956], [-112.75101253043856, 34.1861199827865], [-112.92542056528059, 34.18611995258622], [-113.09982866918764, 34.18611993419627], [-113.09982866918764, 32.311973366813156]]]}, 'id': '00006d70454b160c45fd', 'properties': {'name': 'phoenix'}}, {'type': 'Feature', 'geometry': {'type': 'Polygon', 'coordinates': [[[-98.06051570813688, 31.93679394098101], [-97.9108271817083, 31.936793969558025], [-97.76113859459316, 31.93679397910495], [-97.61145004989314, 31.93679396335527], [-97.46176145671022, 31.936793922683425], [-97.31207286293159, 31.93679393011836], [-97.16238429056874, 31.936793968873623], [-97.01269573728914, 31.936793932022233], [-96.86300717797126, 31.936793967727084], [-96.71331856628288, 31.936793960891713], [-96.56362999916342, 31.9367939563809], [-96.4139413915323, 31.93679391716284], [-96.26425288510953, 31.93679396237097], [-96.11456428113978, 31.936793963750944], [-95.96487569126529, 31.936793945312154], [-95.81518713296235, 31.936793930831776], [-95.66549853223209, 31.936793943184664], [-95.66549853223209, 33.672699980427886], [-95.81518713296235, 33.672699999522166], [-95.96487569126529, 33.67270004844437], [-96.11456428113978, 33.67270001202841], [-96.26425288510953, 33.67270002924962], [-96.4139413915323, 33.67269998382915], [-96.56362999916341, 33.672699993307674], [-96.71331856628288, 33.67270001754041], [-96.86300717797127, 33.67269999927678], [-97.01269573728914, 33.67270005577865], [-97.16238429056874, 33.67270003645166], [-97.31207286293159, 33.672700041174416], [-97.46176145671022, 33.67269999599295], [-97.61145004989314, 33.67269999284854], [-97.76113859459316, 33.67270003519098], [-97.9108271817083, 33.67270002766553], [-98.06051570813688, 33.672700051400064], [-98.06051570813688, 31.93679394098101]]]}, 'id': '00000df9b4a12504396d', 'properties': {'name': 'dallas'}}, {'type': 'Feature', 'geometry': {'type': 'Polygon', 'coordinates': [[[-107.36289149140491, 38.781675009762544], [-107.17818274654195, 38.78167504619413], [-106.99347398562651, 38.781675049707765], [-106.80876527528285, 38.78167501580108], [-106.62405653594682, 38.78167502183171], [-106.43934772337836, 38.78167504449625], [-106.25463900928408, 38.78167501204733], [-106.06993024333964, 38.781675037539024], [-105.88522149359012, 38.781675030084905], [-105.70051268856822, 38.781675057109716], [-105.51580397698062, 38.78167498312755], [-105.33109519184393, 38.781675010981026], [-105.14638638889954, 38.78167506266773], [-104.96167766847563, 38.78167503815285], [-104.77696890947699, 38.781675006354696], [-104.59226012775903, 38.781675001890356], [-104.4075513879211, 38.7816750373703], [-104.4075513879211, 40.04208755208244], [-104.59226012775903, 40.04208753071265], [-104.77696890947699, 40.04208751980566], [-104.96167766847563, 40.0420875578792], [-105.14638638889954, 40.042087508208176], [-105.33109519184393, 40.042087505567814], [-105.51580397698062, 40.04208754466904], [-105.70051268856822, 40.04208752193425], [-105.88522149359012, 40.04208751557631], [-106.06993024333964, 40.04208755422107], [-106.25463900928408, 40.04208754280198], [-106.43934772337836, 40.042087541636825], [-106.62405653594682, 40.04208756217747], [-106.80876527528285, 40.042087569341305], [-106.99347398562651, 40.042087555554915], [-107.17818274654196, 40.04208756605641], [-107.36289149140491, 40.04208757430737], [-107.36289149140491, 38.781675009762544]]]}, 'id': '0000ac1701d3851b9cf9', 'properties': {'name': 'denver'}}, {'type': 'Feature', 'geometry': {'type': 'Polygon', 'coordinates': [[[-88.62232312103683, 41.25034569214466], [-88.44928683292896, 41.250345636079096], [-88.276250499349, 41.250345710079436], [-88.10321418454164, 41.250345674186995], [-87.93017794904651, 41.25034566254469], [-87.75714163114978, 41.250345642823774], [-87.58410530153618, 41.2503456538827], [-87.41106904717176, 41.25034564946072], [-87.23803274992314, 41.25034564618429], [-87.06499639364608, 41.25034565322203], [-86.8919601484053, 41.25034567530699], [-86.71892384202494, 41.25034569910714], [-86.54588749870335, 41.25034570676173], [-86.37285119317914, 41.25034567276335], [-86.1998149015466, 41.250345635941805], [-86.02677866016973, 41.250345704134425], [-85.85374233722051, 41.250345663835], [-85.85374233722051, 42.945767052362875], [-86.02677866016973, 42.94576703905114], [-86.1998149015466, 42.9457670550853], [-86.37285119317914, 42.94576701778949], [-86.54588749870335, 42.9457670515885], [-86.71892384202494, 42.945767050983775], [-86.8919601484053, 42.94576704653002], [-87.06499639364608, 42.94576706113341], [-87.23803274992314, 42.94576703900371], [-87.41106904717176, 42.945767054575356], [-87.58410530153618, 42.94576702949706], [-87.75714163114978, 42.945767026340135], [-87.93017794904651, 42.94576701973716], [-88.10321418454164, 42.945767049991595], [-88.276250499349, 42.94576700357758], [-88.44928683292896, 42.94576705054346], [-88.62232312103683, 42.94576705509302], [-88.62232312103683, 41.25034569214466]]]}, 'id': '00004bae26a7fb4b2231', 'properties': {'name': 'chicago'}}, {'type': 'Feature', 'geometry': {'type': 'Polygon', 'coordinates': [[[-75.70239911237971, 40.21807491524559], [-75.52387018695684, 40.21807487412385], [-75.34534133092633, 40.21807493747444], [-75.16681244648474, 40.21807492439072], [-74.98828357009944, 40.21807488632699], [-74.80975469596572, 40.21807493137403], [-74.63122577696166, 40.21807491887793], [-74.45269690449847, 40.21807494139932], [-74.27416795223627, 40.218074895014546], [-74.09563911386029, 40.218074933888246], [-73.91711018808839, 40.2180749142703], [-73.73858129620464, 40.218074875019234], [-73.56005243528413, 40.21807489881567], [-73.38152356862913, 40.2180748963818], [-73.20299462667393, 40.21807491019649], [-73.02446577814068, 40.21807492701974], [-72.84593689106144, 40.218074949577186], [-72.84593689106144, 42.07108152129399], [-73.02446577814068, 42.071081523261256], [-73.20299462667393, 42.071081469316944], [-73.38152356862913, 42.07108147102935], [-73.56005243528413, 42.07108150627031], [-73.73858129620464, 42.07108149980935], [-73.91711018808839, 42.07108150311829], [-74.09563911386029, 42.071081474067846], [-74.27416795223627, 42.07108148548914], [-74.45269690449847, 42.07108149359264], [-74.63122577696166, 42.07108145816287], [-74.80975469596572, 42.07108151649891], [-74.98828357009944, 42.071081466376775], [-75.16681244648474, 42.071081479088605], [-75.34534133092633, 42.07108148451447], [-75.52387018695684, 42.07108146669809], [-75.70239911237971, 42.07108148683429], [-75.70239911237971, 40.21807491524559]]]}, 'id': '0000a6608ea75c435dba', 'properties': {'name': 'ny'}}]}\n"
          ]
        },
        {
          "data": {
            "text/html": [
              "<div style=\"width:100%;\"><div style=\"position:relative;width:100%;height:0;padding-bottom:60%;\"><span style=\"color:#565656\">Make this Notebook Trusted to load map: File -> Trust Notebook</span><iframe srcdoc=\"&lt;!DOCTYPE html&gt;\n",
              "&lt;html&gt;\n",
              "&lt;head&gt;\n",
              "    \n",
              "    &lt;meta http-equiv=&quot;content-type&quot; content=&quot;text/html; charset=UTF-8&quot; /&gt;\n",
              "    \n",
              "        &lt;script&gt;\n",
              "            L_NO_TOUCH = false;\n",
              "            L_DISABLE_3D = false;\n",
              "        &lt;/script&gt;\n",
              "    \n",
              "    &lt;style&gt;html, body {width: 100%;height: 100%;margin: 0;padding: 0;}&lt;/style&gt;\n",
              "    &lt;style&gt;#map {position:absolute;top:0;bottom:0;right:0;left:0;}&lt;/style&gt;\n",
              "    &lt;script src=&quot;https://cdn.jsdelivr.net/npm/leaflet@1.9.3/dist/leaflet.js&quot;&gt;&lt;/script&gt;\n",
              "    &lt;script src=&quot;https://code.jquery.com/jquery-3.7.1.min.js&quot;&gt;&lt;/script&gt;\n",
              "    &lt;script src=&quot;https://cdn.jsdelivr.net/npm/bootstrap@5.2.2/dist/js/bootstrap.bundle.min.js&quot;&gt;&lt;/script&gt;\n",
              "    &lt;script src=&quot;https://cdnjs.cloudflare.com/ajax/libs/Leaflet.awesome-markers/2.0.2/leaflet.awesome-markers.js&quot;&gt;&lt;/script&gt;\n",
              "    &lt;link rel=&quot;stylesheet&quot; href=&quot;https://cdn.jsdelivr.net/npm/leaflet@1.9.3/dist/leaflet.css&quot;/&gt;\n",
              "    &lt;link rel=&quot;stylesheet&quot; href=&quot;https://cdn.jsdelivr.net/npm/bootstrap@5.2.2/dist/css/bootstrap.min.css&quot;/&gt;\n",
              "    &lt;link rel=&quot;stylesheet&quot; href=&quot;https://netdna.bootstrapcdn.com/bootstrap/3.0.0/css/bootstrap.min.css&quot;/&gt;\n",
              "    &lt;link rel=&quot;stylesheet&quot; href=&quot;https://cdn.jsdelivr.net/npm/@fortawesome/fontawesome-free@6.2.0/css/all.min.css&quot;/&gt;\n",
              "    &lt;link rel=&quot;stylesheet&quot; href=&quot;https://cdnjs.cloudflare.com/ajax/libs/Leaflet.awesome-markers/2.0.2/leaflet.awesome-markers.css&quot;/&gt;\n",
              "    &lt;link rel=&quot;stylesheet&quot; href=&quot;https://cdn.jsdelivr.net/gh/python-visualization/folium/folium/templates/leaflet.awesome.rotate.min.css&quot;/&gt;\n",
              "    \n",
              "            &lt;meta name=&quot;viewport&quot; content=&quot;width=device-width,\n",
              "                initial-scale=1.0, maximum-scale=1.0, user-scalable=no&quot; /&gt;\n",
              "            &lt;style&gt;\n",
              "                #map_2f15fdb4f56bf4f8da16475f3c9390df {\n",
              "                    position: relative;\n",
              "                    width: 100.0%;\n",
              "                    height: 100.0%;\n",
              "                    left: 0.0%;\n",
              "                    top: 0.0%;\n",
              "                }\n",
              "                .leaflet-container { font-size: 1rem; }\n",
              "            &lt;/style&gt;\n",
              "        \n",
              "&lt;/head&gt;\n",
              "&lt;body&gt;\n",
              "    \n",
              "    \n",
              "            &lt;div class=&quot;folium-map&quot; id=&quot;map_2f15fdb4f56bf4f8da16475f3c9390df&quot; &gt;&lt;/div&gt;\n",
              "        \n",
              "&lt;/body&gt;\n",
              "&lt;script&gt;\n",
              "    \n",
              "    \n",
              "            var map_2f15fdb4f56bf4f8da16475f3c9390df = L.map(\n",
              "                &quot;map_2f15fdb4f56bf4f8da16475f3c9390df&quot;,\n",
              "                {\n",
              "                    center: [38.0, -100.0],\n",
              "                    crs: L.CRS.EPSG3857,\n",
              "                    zoom: 5,\n",
              "                    zoomControl: true,\n",
              "                    preferCanvas: false,\n",
              "                }\n",
              "            );\n",
              "\n",
              "            \n",
              "\n",
              "        \n",
              "    \n",
              "            var tile_layer_e8cb16cc5147ee1071f404beba817194 = L.tileLayer(\n",
              "                &quot;https://tile.openstreetmap.org/{z}/{x}/{y}.png&quot;,\n",
              "                {&quot;attribution&quot;: &quot;\\u0026copy; \\u003ca href=\\&quot;https://www.openstreetmap.org/copyright\\&quot;\\u003eOpenStreetMap\\u003c/a\\u003e contributors&quot;, &quot;detectRetina&quot;: false, &quot;maxNativeZoom&quot;: 19, &quot;maxZoom&quot;: 19, &quot;minZoom&quot;: 0, &quot;noWrap&quot;: false, &quot;opacity&quot;: 1, &quot;subdomains&quot;: &quot;abc&quot;, &quot;tms&quot;: false}\n",
              "            );\n",
              "        \n",
              "    \n",
              "            tile_layer_e8cb16cc5147ee1071f404beba817194.addTo(map_2f15fdb4f56bf4f8da16475f3c9390df);\n",
              "        \n",
              "    \n",
              "            var tile_layer_24199f267318611f80e69c3a2b24b664 = L.tileLayer(\n",
              "                &quot;https://earthengine.googleapis.com/v1/projects/earthengine-legacy/maps/3959de45a944ccc4fa1fadd758c8f8c9-0f53214f7f1cfc0c4e290f99accfb588/tiles/{z}/{x}/{y}&quot;,\n",
              "                {&quot;attribution&quot;: &quot;Map Data \\u0026copy; \\u003ca href=\\&quot;https://earthengine.google.com/\\&quot;\\u003eGoogle Earth Engine\\u003c/a\\u003e&quot;, &quot;detectRetina&quot;: false, &quot;maxNativeZoom&quot;: 18, &quot;maxZoom&quot;: 18, &quot;minZoom&quot;: 0, &quot;noWrap&quot;: false, &quot;opacity&quot;: 1, &quot;subdomains&quot;: &quot;abc&quot;, &quot;tms&quot;: false}\n",
              "            );\n",
              "        \n",
              "    \n",
              "            tile_layer_24199f267318611f80e69c3a2b24b664.addTo(map_2f15fdb4f56bf4f8da16475f3c9390df);\n",
              "        \n",
              "    \n",
              "            var layer_control_6ce70fd3dbbc492e3a8cb9abf6ca7381_layers = {\n",
              "                base_layers : {\n",
              "                    &quot;openstreetmap&quot; : tile_layer_e8cb16cc5147ee1071f404beba817194,\n",
              "                },\n",
              "                overlays :  {\n",
              "                    &quot;training polygons&quot; : tile_layer_24199f267318611f80e69c3a2b24b664,\n",
              "                },\n",
              "            };\n",
              "            let layer_control_6ce70fd3dbbc492e3a8cb9abf6ca7381 = L.control.layers(\n",
              "                layer_control_6ce70fd3dbbc492e3a8cb9abf6ca7381_layers.base_layers,\n",
              "                layer_control_6ce70fd3dbbc492e3a8cb9abf6ca7381_layers.overlays,\n",
              "                {&quot;autoZIndex&quot;: true, &quot;collapsed&quot;: true, &quot;position&quot;: &quot;topright&quot;}\n",
              "            ).addTo(map_2f15fdb4f56bf4f8da16475f3c9390df);\n",
              "\n",
              "        \n",
              "&lt;/script&gt;\n",
              "&lt;/html&gt;\" style=\"position:absolute;width:100%;height:100%;left:0;top:0;border:none !important;\" allowfullscreen webkitallowfullscreen mozallowfullscreen></iframe></div></div>"
            ],
            "text/plain": [
              "<folium.folium.Map at 0x7f63c2a66610>"
            ]
          },
          "execution_count": 19,
          "metadata": {},
          "output_type": "execute_result"
        }
      ],
      "source": [
        "trainingPolys = ee.FeatureCollection('projects/google/DemoTrainingGeometries')\n",
        "evalPolys = ee.FeatureCollection('projects/google/DemoEvalGeometries')\n",
        "# trainingPolys = ee.FeatureCollection('projects/'+GCS_PROJECT+'/assets/trainingPolys')\n",
        "# evalPolys = ee.FeatureCollection('projects/'+GCS_PROJECT+'/assets/evalPolys')\n",
        "print(trainingPolys.getInfo())\n",
        "\n",
        "polyImage = ee.Image(0).byte().paint(trainingPolys, 1).paint(evalPolys, 2)\n",
        "polyImage = polyImage.updateMask(polyImage)\n",
        "\n",
        "mapid = polyImage.getMapId({'min': 1, 'max': 2, 'palette': ['red', 'blue']})\n",
        "map = folium.Map(location=[38., -100.], zoom_start=5)\n",
        "folium.TileLayer(\n",
        "    tiles=mapid['tile_fetcher'].url_format,\n",
        "    attr='Map Data &copy; <a href=\"https://earthengine.google.com/\">Google Earth Engine</a>',\n",
        "    overlay=True,\n",
        "    name='training polygons',\n",
        "  ).add_to(map)\n",
        "map.add_child(folium.LayerControl())\n",
        "map"
      ]
    },
    {
      "cell_type": "markdown",
      "metadata": {
        "id": "ZV890gPHeZqz"
      },
      "source": [
        "# Sampling\n",
        "\n",
        "The mapped data look reasonable so take a sample from each polygon and merge the results into a single export.  The key step is sampling the array image at points, to get all the pixels in a 256x256 neighborhood at each point.  It's worth noting that to build the training and testing data for the FCNN, you export a single TFRecord file that contains patches of pixel values in each record.  You do NOT need to export each training/testing patch to a different image.  Since each record potentially contains a lot of data (especially with big patches or many input bands), some manual sharding of the computation is necessary to avoid the `computed value too large` error.  Specifically, the following code takes multiple (smaller) samples within each geometry, merging the results to get a single export."
      ]
    },
    {
      "cell_type": "code",
      "execution_count": 20,
      "metadata": {
        "cellView": "both",
        "id": "FyRpvwENxE-A"
      },
      "outputs": [],
      "source": [
        "# Convert the feature collections to lists for iteration.\n",
        "trainingPolysList = trainingPolys.toList(trainingPolys.size())\n",
        "evalPolysList = evalPolys.toList(evalPolys.size())\n",
        "\n",
        "# These numbers determined experimentally.\n",
        "n = 200 # Number of shards in each polygon. # formerly 200\n",
        "N = 2000 # Total sample size in each polygon. # formerly 2000\n"
      ]
    },
    {
      "cell_type": "markdown",
      "metadata": {},
      "source": [
        "# Export Data to Cloud Storage\n",
        "This can be modified to export to local storage, just adjust the file paths."
      ]
    },
    {
      "cell_type": "code",
      "execution_count": 21,
      "metadata": {},
      "outputs": [
        {
          "name": "stdout",
          "output_type": "stream",
          "text": [
            "0 viirs-usa/ csci5922-proj training_patches_g0\n",
            "1 viirs-usa/ csci5922-proj training_patches_g1\n",
            "2 viirs-usa/ csci5922-proj training_patches_g2\n",
            "3 viirs-usa/ csci5922-proj training_patches_g3\n",
            "4 viirs-usa/ csci5922-proj training_patches_g4\n",
            "5 viirs-usa/ csci5922-proj training_patches_g5\n",
            "6 viirs-usa/ csci5922-proj training_patches_g6\n",
            "7 viirs-usa/ csci5922-proj training_patches_g7\n",
            "Training imagery tasks submitted! Check on the Tasks in GEE for their status (https://code.earthengine.google.com/tasks).\n"
          ]
        }
      ],
      "source": [
        "\n",
        "# Export all the training data (in many pieces), with one task\n",
        "# per geometry.\n",
        "for g in range(trainingPolys.size().getInfo()):\n",
        "  geomSample = ee.FeatureCollection([])\n",
        "  for i in range(n):\n",
        "    sample = arrays.sample(\n",
        "      region = ee.Feature(trainingPolysList.get(g)).geometry(),\n",
        "      scale = 30,\n",
        "      numPixels = N / n, # Size of the shard.\n",
        "      seed = i,\n",
        "      tileScale = 8\n",
        "    )\n",
        "    geomSample = geomSample.merge(sample)\n",
        "  \n",
        "  desc = TRAINING_BASE + '_g' + str(g)\n",
        "  print(g, FOLDER, BUCKET, desc)\n",
        "  \n",
        "  task = ee.batch.Export.table.toCloudStorage(\n",
        "    collection = geomSample,\n",
        "    description = desc,\n",
        "    bucket = BUCKET,\n",
        "    fileNamePrefix = FOLDER + desc,\n",
        "    fileFormat = 'TFRecord',\n",
        "    selectors = BANDS + [RESPONSE]\n",
        "  )\n",
        "  task.start()\n",
        "print('Training imagery tasks submitted. Check on the Tasks in GEE for their status (https://code.earthengine.google.com/tasks).')"
      ]
    },
    {
      "cell_type": "code",
      "execution_count": 22,
      "metadata": {},
      "outputs": [
        {
          "name": "stdout",
          "output_type": "stream",
          "text": [
            "0 viirs-usa/ csci5922-proj eval_patches_g0\n",
            "1 viirs-usa/ csci5922-proj eval_patches_g1\n",
            "2 viirs-usa/ csci5922-proj eval_patches_g2\n",
            "3 viirs-usa/ csci5922-proj eval_patches_g3\n",
            "Eval imagery tasks submitted! Check on the Tasks in GEE for their status (https://code.earthengine.google.com/tasks).\n"
          ]
        }
      ],
      "source": [
        "\n",
        "# Export all the evaluation data.\n",
        "for g in range(evalPolys.size().getInfo()):\n",
        "  geomSample = ee.FeatureCollection([])\n",
        "  for i in range(n):\n",
        "    sample = arrays.sample(\n",
        "      region = ee.Feature(evalPolysList.get(g)).geometry(),\n",
        "      scale = 30,\n",
        "      numPixels = N / n,\n",
        "      seed = i,\n",
        "      tileScale = 8\n",
        "    )\n",
        "    geomSample = geomSample.merge(sample)\n",
        "\n",
        "  desc = EVAL_BASE + '_g' + str(g)\n",
        "  print(g, FOLDER, BUCKET, desc)\n",
        "  \n",
        "  task = ee.batch.Export.table.toCloudStorage(\n",
        "    collection = geomSample,\n",
        "    description = desc,\n",
        "    bucket = BUCKET,\n",
        "    fileNamePrefix = FOLDER + desc,\n",
        "    fileFormat = 'TFRecord',\n",
        "    selectors = BANDS + [RESPONSE]\n",
        "  )\n",
        "  task.start()\n",
        "print('Eval imagery tasks submitted. Check on the Tasks in GEE for their status (https://code.earthengine.google.com/tasks).')"
      ]
    },
    {
      "cell_type": "markdown",
      "metadata": {},
      "source": [
        "# Copy Files from Cloud Storage to Local Storage\n",
        "This is necessary to run the model locally. Run these here, or in the terminal to free up the Python kernel."
      ]
    },
    {
      "cell_type": "code",
      "execution_count": null,
      "metadata": {},
      "outputs": [],
      "source": [
        "\n",
        "# Copy from your bucket to local path (note -r is for recursive call)\n",
        "\n",
        "# entire folder\n",
        "!{GCLOUD_PATH}gsutil -m cp -r gs://csci5922-proj/viirs-usa ~/csci5922/proj/data\n",
        "\n",
        "# single file\n",
        "# !{GCLOUD_PATH}gsutil cp gs://$(BUCKET)/$(FOLDER)training_patches_g2.tfrecord.gz $(HOME_PATH)$(DATA_PATH)$(FOLDER)training_patches_g2.tfrecord.gz\n",
        "\n",
        "## TODO move files to /local/isly9493 once permissions are given"
      ]
    },
    {
      "cell_type": "markdown",
      "metadata": {
        "id": "rWXrvBE4607G"
      },
      "source": [
        "# Training data\n",
        "\n",
        "Load the data exported from Earth Engine into a `tf.data.Dataset`.  The following are helper functions for that."
      ]
    },
    {
      "cell_type": "code",
      "execution_count": 35,
      "metadata": {
        "id": "WWZ0UXCVMyJP"
      },
      "outputs": [],
      "source": [
        "# from google.cloud import storage\n",
        "\n",
        "def parse_tfrecord(example_proto):\n",
        "  \"\"\"The parsing function.\n",
        "  Read a serialized example into the structure defined by FEATURES_DICT.\n",
        "  Args:\n",
        "    example_proto: a serialized Example.\n",
        "  Returns:\n",
        "    A dictionary of tensors, keyed by feature name.\n",
        "  \"\"\"\n",
        "  return tf.io.parse_single_example(example_proto, FEATURES_DICT)\n",
        "\n",
        "\n",
        "def to_tuple(inputs):\n",
        "  \"\"\"Function to convert a dictionary of tensors to a tuple of (inputs, outputs).\n",
        "  Turn the tensors returned by parse_tfrecord into a stack in HWC shape.\n",
        "  Args:\n",
        "    inputs: A dictionary of tensors, keyed by feature name.\n",
        "  Returns:\n",
        "    A tuple of (inputs, outputs).\n",
        "  \"\"\"\n",
        "  inputsList = [inputs.get(key) for key in FEATURES]\n",
        "  stacked = tf.stack(inputsList, axis=0)\n",
        "  # Convert from CHW to HWC\n",
        "  stacked = tf.transpose(stacked, [1, 2, 0])\n",
        "  return stacked[:,:,:len(BANDS)], stacked[:,:,len(BANDS):]\n",
        "\n",
        "\n",
        "def get_dataset(path, prefix, n_files):\n",
        "  \"\"\"Function to read, parse and format to tuple a set of input tfrecord files.\n",
        "  Get all the files matching the pattern, parse and convert to tuple.\n",
        "  Args:\n",
        "    pattern: A file pattern to match in a Cloud Storage bucket.\n",
        "  Returns:\n",
        "    A tf.data.Dataset\n",
        "  \"\"\"\n",
        "  # original code\n",
        "  # glob = tf.io.gfile.glob(pattern)\n",
        "  \n",
        "  # from the cloud\n",
        "  # https://cloud.google.com/appengine/docs/legacy/standard/python/googlecloudstorageclient/read-write-to-cloud-storage\n",
        "  # storage_client = storage.Client()\n",
        "  # bucket = storage_client.get_bucket(BUCKET)\n",
        "  # blobs = storage_client.list_blobs(BUCKET, prefix=pattern)\n",
        "  # glob = []\n",
        "  # for blob in blobs:\n",
        "  #   globs.append(blob.name)\n",
        "  # print(globs)\n",
        "  # # append bucket name to globs\n",
        "  # glob = ['gs://' + BUCKET + '/' + f for f in globs]\n",
        "\n",
        "  # read local tfrecord.gz files from unet-mini\n",
        "  glob = []\n",
        "  for i in range(0, n_files):\n",
        "    glob = path + prefix + '_g' + str(i) + '.tfrecord.gz'\n",
        "\n",
        "  # glob = [\n",
        "  #   '/home/isly9493/csci5922/proj/data/unet-mini/eval_patches_g0.tfrecord.gz',\n",
        "  #   '/home/isly9493/csci5922/proj/data/unet-mini/eval_patches_g1.tfrecord.gz'\n",
        "  # ]\n",
        "  dataset = tf.data.TFRecordDataset(glob, compression_type='GZIP')\n",
        "  dataset = dataset.map(parse_tfrecord, num_parallel_calls=5)\n",
        "  dataset = dataset.map(to_tuple, num_parallel_calls=5)\n",
        "  return dataset"
      ]
    },
    {
      "cell_type": "markdown",
      "metadata": {
        "id": "Xg1fa18336D2"
      },
      "source": [
        "Use the helpers to read in the training dataset.  Print the first record to check."
      ]
    },
    {
      "cell_type": "code",
      "execution_count": 36,
      "metadata": {
        "id": "rm0qRF0fAYcC"
      },
      "outputs": [],
      "source": [
        "# import os\n",
        "# os.environ[\"GOOGLE_APPLICATION_CREDENTIALS\"] = \"/Users/ilyonsg/.config/gcloud/application_default_credentials.json\"\n",
        "\n",
        "def get_training_dataset():\n",
        "\t\"\"\"Get the preprocessed training dataset\n",
        "  Returns:\n",
        "    A tf.data.Dataset of training data.\n",
        "  \"\"\"\n",
        "\t# glob = 'gs://' + BUCKET + '/' + FOLDER + '/' + TRAINING_BASE + '*'\n",
        "\tdataset = get_dataset(HOME_PATH + DATA_PATH + FOLDER, TRAINING_BASE, 8) # change from 9 to 8\n",
        "\tdataset = dataset.shuffle(BUFFER_SIZE).batch(BATCH_SIZE).repeat()\n",
        "\treturn dataset\n",
        "\n",
        "training = get_training_dataset()\n",
        "\n",
        "# print(iter(training.take(1)).next())"
      ]
    },
    {
      "cell_type": "markdown",
      "metadata": {
        "id": "j-cQO5RL6vob"
      },
      "source": [
        "# Evaluation data\n",
        "\n",
        "Now do the same thing to get an evaluation dataset.  Note that unlike the training dataset, the evaluation dataset has a batch size of 1, is not repeated and is not shuffled."
      ]
    },
    {
      "cell_type": "code",
      "execution_count": 37,
      "metadata": {
        "id": "ieKTCGiJ6xzo"
      },
      "outputs": [],
      "source": [
        "def get_eval_dataset():\n",
        "\t\"\"\"Get the preprocessed evaluation dataset\n",
        "  Returns:\n",
        "    A tf.data.Dataset of evaluation data.\n",
        "  \"\"\"\t\n",
        "\tdataset = get_dataset(HOME_PATH + DATA_PATH + FOLDER, EVAL_BASE, 4)\n",
        "\tdataset = dataset.batch(1).repeat()\n",
        "\treturn dataset\n",
        "\n",
        "evaluation = get_eval_dataset()\n",
        "\n",
        "# print(iter(evaluation.take(1)).next())"
      ]
    },
    {
      "cell_type": "markdown",
      "metadata": {
        "id": "9JIE7Yl87lgU"
      },
      "source": [
        "# Model\n",
        "\n",
        "Here we use the Keras implementation of the U-Net model.  The U-Net model takes 256x256 pixel patches as input and outputs per-pixel class probability, label or a continuous output.  We can implement the model essentially unmodified, but will use mean squared error loss on the sigmoidal output since we are treating this as a regression problem, rather than a classification problem.  Since impervious surface fraction is constrained to [0,1], with many values close to zero or one, a saturating activation function is suitable here."
      ]
    },
    {
      "cell_type": "code",
      "execution_count": 38,
      "metadata": {
        "id": "wsnnnz56yS3l"
      },
      "outputs": [],
      "source": [
        "from tensorflow import keras\n",
        "from keras import layers\n",
        "from keras import losses\n",
        "from keras import models\n",
        "from keras import metrics\n",
        "from keras import optimizers\n",
        "\n",
        "def conv_block(input_tensor, num_filters):\n",
        "\tencoder = layers.Conv2D(num_filters, (3, 3), padding='same')(input_tensor)\n",
        "\tencoder = layers.BatchNormalization()(encoder)\n",
        "\tencoder = layers.Activation('relu')(encoder)\n",
        "\tencoder = layers.Conv2D(num_filters, (3, 3), padding='same')(encoder)\n",
        "\tencoder = layers.BatchNormalization()(encoder)\n",
        "\tencoder = layers.Activation('relu')(encoder)\n",
        "\treturn encoder\n",
        "\n",
        "def encoder_block(input_tensor, num_filters):\n",
        "\tencoder = conv_block(input_tensor, num_filters)\n",
        "\tencoder_pool = layers.MaxPooling2D((2, 2), strides=(2, 2))(encoder)\n",
        "\treturn encoder_pool, encoder\n",
        "\n",
        "\n",
        "def decoder_block(input_tensor, concat_tensor, num_filters):\n",
        "\tdecoder = layers.Conv2DTranspose(num_filters, (2, 2), strides=(2, 2), padding='same')(input_tensor)\n",
        "\tdecoder = layers.concatenate([concat_tensor, decoder], axis=-1)\n",
        "\tdecoder = layers.BatchNormalization()(decoder)\n",
        "\tdecoder = layers.Activation('relu')(decoder)\n",
        "\tdecoder = layers.Conv2D(num_filters, (3, 3), padding='same')(decoder)\n",
        "\tdecoder = layers.BatchNormalization()(decoder)\n",
        "\tdecoder = layers.Activation('relu')(decoder)\n",
        "\tdecoder = layers.Conv2D(num_filters, (3, 3), padding='same')(decoder)\n",
        "\tdecoder = layers.BatchNormalization()(decoder)\n",
        "\tdecoder = layers.Activation('relu')(decoder)\n",
        "\treturn decoder\n",
        "\n",
        "def get_model():\n",
        "\tinputs = layers.Input(shape=[None, None, len(BANDS)]) # 256\n",
        "\tencoder0_pool, encoder0 = encoder_block(inputs, 32) # 128\n",
        "\tencoder1_pool, encoder1 = encoder_block(encoder0_pool, 64) # 64\n",
        "\tencoder2_pool, encoder2 = encoder_block(encoder1_pool, 128) # 32\n",
        "\tencoder3_pool, encoder3 = encoder_block(encoder2_pool, 256) # 16\n",
        "\tencoder4_pool, encoder4 = encoder_block(encoder3_pool, 512) # 8\n",
        "\tcenter = conv_block(encoder4_pool, 1024) # center\n",
        "\tdecoder4 = decoder_block(center, encoder4, 512) # 16\n",
        "\tdecoder3 = decoder_block(decoder4, encoder3, 256) # 32\n",
        "\tdecoder2 = decoder_block(decoder3, encoder2, 128) # 64\n",
        "\tdecoder1 = decoder_block(decoder2, encoder1, 64) # 128\n",
        "\tdecoder0 = decoder_block(decoder1, encoder0, 32) # 256\n",
        "\toutputs = layers.Conv2D(1, (1, 1), activation='sigmoid')(decoder0)\n",
        "\n",
        "\tmodel = models.Model(inputs=[inputs], outputs=[outputs])\n",
        "\n",
        "\tmodel.compile(\n",
        "\t\toptimizer=optimizers.get(OPTIMIZER),\n",
        "\t\tloss=losses.get(LOSS),\n",
        "\t\tmetrics=[metrics.get(metric) for metric in METRICS])\n",
        "\n",
        "\treturn model"
      ]
    },
    {
      "cell_type": "markdown",
      "metadata": {
        "id": "uu_E7OTDBCoS"
      },
      "source": [
        "# Training the model\n",
        "\n",
        "You train a Keras model by calling `.fit()` on it.  Here we're going to train for 10 epochs, which is suitable for demonstration purposes.  For production use, you probably want to optimize this parameter, for example through [hyperparamter tuning](https://cloud.google.com/ml-engine/docs/tensorflow/using-hyperparameter-tuning)."
      ]
    },
    {
      "cell_type": "code",
      "execution_count": 39,
      "metadata": {
        "id": "NzzaWxOhSxBy"
      },
      "outputs": [],
      "source": [
        "keras.backend.clear_session()\n",
        "m = get_model()"
      ]
    },
    {
      "cell_type": "markdown",
      "metadata": {},
      "source": [
        "Fit the model."
      ]
    },
    {
      "cell_type": "code",
      "execution_count": 40,
      "metadata": {},
      "outputs": [
        {
          "name": "stderr",
          "output_type": "stream",
          "text": [
            "2023-12-08 18:39:16.961417: I tensorflow/core/kernels/data/shuffle_dataset_op.cc:422] ShuffleDatasetV3:35: Filling up shuffle buffer (this may take a while): 1953 of 2000\n",
            "2023-12-08 18:39:17.205126: I tensorflow/core/kernels/data/shuffle_dataset_op.cc:452] Shuffle buffer filled.\n"
          ]
        },
        {
          "name": "stdout",
          "output_type": "stream",
          "text": [
            " 32/250 [==>...........................] - ETA: 1:27 - loss: 6.7640 - root_mean_squared_error: 2.6008"
          ]
        },
        {
          "name": "stderr",
          "output_type": "stream",
          "text": [
            "2023-12-08 18:39:42.422674: I tensorflow/core/kernels/data/shuffle_dataset_op.cc:422] ShuffleDatasetV3:35: Filling up shuffle buffer (this may take a while): 1906 of 2000\n",
            "2023-12-08 18:39:42.911649: I tensorflow/core/kernels/data/shuffle_dataset_op.cc:452] Shuffle buffer filled.\n"
          ]
        },
        {
          "name": "stdout",
          "output_type": "stream",
          "text": [
            " 64/250 [======>.......................] - ETA: 1:45 - loss: 6.6336 - root_mean_squared_error: 2.5756"
          ]
        },
        {
          "name": "stderr",
          "output_type": "stream",
          "text": [
            "2023-12-08 18:40:05.245914: I tensorflow/core/kernels/data/shuffle_dataset_op.cc:422] ShuffleDatasetV3:35: Filling up shuffle buffer (this may take a while): 1959 of 2000\n",
            "2023-12-08 18:40:05.456585: I tensorflow/core/kernels/data/shuffle_dataset_op.cc:452] Shuffle buffer filled.\n"
          ]
        },
        {
          "name": "stdout",
          "output_type": "stream",
          "text": [
            " 96/250 [==========>...................] - ETA: 1:34 - loss: 6.5701 - root_mean_squared_error: 2.5632"
          ]
        },
        {
          "name": "stderr",
          "output_type": "stream",
          "text": [
            "2023-12-08 18:40:27.000343: I tensorflow/core/kernels/data/shuffle_dataset_op.cc:422] ShuffleDatasetV3:35: Filling up shuffle buffer (this may take a while): 1937 of 2000\n",
            "2023-12-08 18:40:27.330391: I tensorflow/core/kernels/data/shuffle_dataset_op.cc:452] Shuffle buffer filled.\n"
          ]
        },
        {
          "name": "stdout",
          "output_type": "stream",
          "text": [
            "128/250 [==============>...............] - ETA: 1:16 - loss: 6.5313 - root_mean_squared_error: 2.5556"
          ]
        },
        {
          "name": "stderr",
          "output_type": "stream",
          "text": [
            "2023-12-08 18:40:47.256291: I tensorflow/core/kernels/data/shuffle_dataset_op.cc:422] ShuffleDatasetV3:35: Filling up shuffle buffer (this may take a while): 1971 of 2000\n",
            "2023-12-08 18:40:47.404775: I tensorflow/core/kernels/data/shuffle_dataset_op.cc:452] Shuffle buffer filled.\n"
          ]
        },
        {
          "name": "stdout",
          "output_type": "stream",
          "text": [
            "160/250 [==================>...........] - ETA: 56s - loss: 6.5054 - root_mean_squared_error: 2.5506"
          ]
        },
        {
          "name": "stderr",
          "output_type": "stream",
          "text": [
            "2023-12-08 18:41:04.026667: I tensorflow/core/kernels/data/shuffle_dataset_op.cc:422] ShuffleDatasetV3:35: Filling up shuffle buffer (this may take a while): 1945 of 2000\n",
            "2023-12-08 18:41:04.309151: I tensorflow/core/kernels/data/shuffle_dataset_op.cc:452] Shuffle buffer filled.\n"
          ]
        },
        {
          "name": "stdout",
          "output_type": "stream",
          "text": [
            "185/250 [=====================>........] - ETA: 40s - loss: 6.4551 - root_mean_squared_error: 2.5407"
          ]
        },
        {
          "name": "stderr",
          "output_type": "stream",
          "text": [
            "2023-12-08 18:41:14.516109: I tensorflow/core/kernels/data/shuffle_dataset_op.cc:422] ShuffleDatasetV3:35: Filling up shuffle buffer (this may take a while): 1928 of 2000\n"
          ]
        },
        {
          "name": "stdout",
          "output_type": "stream",
          "text": [
            "186/250 [=====================>........] - ETA: 39s - loss: 6.4413 - root_mean_squared_error: 2.5380"
          ]
        },
        {
          "name": "stderr",
          "output_type": "stream",
          "text": [
            "2023-12-08 18:41:14.892994: I tensorflow/core/kernels/data/shuffle_dataset_op.cc:452] Shuffle buffer filled.\n"
          ]
        },
        {
          "name": "stdout",
          "output_type": "stream",
          "text": [
            "216/250 [========================>.....] - ETA: 20s - loss: 6.5315 - root_mean_squared_error: 2.5557"
          ]
        },
        {
          "name": "stderr",
          "output_type": "stream",
          "text": [
            "2023-12-08 18:41:27.220155: I tensorflow/core/kernels/data/shuffle_dataset_op.cc:422] ShuffleDatasetV3:35: Filling up shuffle buffer (this may take a while): 1931 of 2000\n"
          ]
        },
        {
          "name": "stdout",
          "output_type": "stream",
          "text": [
            "217/250 [=========================>....] - ETA: 19s - loss: 6.5180 - root_mean_squared_error: 2.5530"
          ]
        },
        {
          "name": "stderr",
          "output_type": "stream",
          "text": [
            "2023-12-08 18:41:27.577722: I tensorflow/core/kernels/data/shuffle_dataset_op.cc:452] Shuffle buffer filled.\n"
          ]
        },
        {
          "name": "stdout",
          "output_type": "stream",
          "text": [
            "248/250 [============================>.] - ETA: 1s - loss: 6.4149 - root_mean_squared_error: 2.5328"
          ]
        },
        {
          "name": "stderr",
          "output_type": "stream",
          "text": [
            "2023-12-08 18:41:40.169526: I tensorflow/core/kernels/data/shuffle_dataset_op.cc:422] ShuffleDatasetV3:35: Filling up shuffle buffer (this may take a while): 1905 of 2000\n"
          ]
        },
        {
          "name": "stdout",
          "output_type": "stream",
          "text": [
            "249/250 [============================>.] - ETA: 0s - loss: 6.4221 - root_mean_squared_error: 2.5342"
          ]
        },
        {
          "name": "stderr",
          "output_type": "stream",
          "text": [
            "2023-12-08 18:41:40.676502: I tensorflow/core/kernels/data/shuffle_dataset_op.cc:452] Shuffle buffer filled.\n"
          ]
        },
        {
          "name": "stdout",
          "output_type": "stream",
          "text": [
            "250/250 [==============================] - 205s 761ms/step - loss: 6.4650 - root_mean_squared_error: 2.5426 - val_loss: 4.8291 - val_root_mean_squared_error: 2.1975\n"
          ]
        }
      ],
      "source": [
        "# fit the model\n",
        "history = m.fit(\n",
        "    x=training,\n",
        "    epochs=1,\n",
        "    # epochs=EPOCHS,\n",
        "    steps_per_epoch=int(TRAIN_SIZE / BATCH_SIZE),\n",
        "    validation_data=evaluation,\n",
        "    validation_steps=EVAL_SIZE\n",
        ")"
      ]
    },
    {
      "cell_type": "code",
      "execution_count": 42,
      "metadata": {},
      "outputs": [],
      "source": [
        "# save the model to a local file \n",
        "MODEL_NAME = 'unet_viirs_e1.keras'\n",
        "m.save(HOME_PATH + DATA_PATH + FOLDER + MODEL_NAME)"
      ]
    },
    {
      "cell_type": "markdown",
      "metadata": {
        "id": "U2XrwZHp66j4"
      },
      "source": [
        "Note that the notebook VM is sometimes not heavy-duty enough to get through a whole training job, especially if you have a large buffer size or a large number of epochs.  You can still use this notebook for training, but may need to set up an alternative VM ([learn more](https://research.google.com/colaboratory/local-runtimes.html)) for production use.  Alternatively, you can package your code for running large training jobs on Google's AI Platform [as described here](https://cloud.google.com/ml-engine/docs/tensorflow/trainer-considerations).  The following code loads a pre-trained model, which you can use for predictions right away."
      ]
    },
    {
      "cell_type": "code",
      "execution_count": null,
      "metadata": {
        "id": "-RJpNfEUS1qp"
      },
      "outputs": [],
      "source": [
        "# import os\n",
        "# os.environ[\"GOOGLE_APPLICATION_CREDENTIALS\"] = \"/Users/ilyonsg/.config/gcloud/application_default_credentials.json\"\n",
        "# Load a trained model. 50 epochs. 25 hours. Final RMSE ~0.08.\n",
        "\n",
        "\n",
        "# MODEL_DIR = 'gs://ee-docs-demos/fcnn-demo/trainer/model'\n",
        "m = tf.keras.models.load_model(HOME_PATH + DATA_PATH + FOLDER + MODEL_NAME)\n",
        "m.summary()"
      ]
    },
    {
      "cell_type": "markdown",
      "metadata": {},
      "source": [
        "# Evaluation\n",
        "Let's look at how the model performed in terms of loss while it trained."
      ]
    },
    {
      "cell_type": "code",
      "execution_count": 43,
      "metadata": {},
      "outputs": [
        {
          "data": {
            "image/png": "[encoded data removed]",
            "text/plain": [
              "<Figure size 640x480 with 1 Axes>"
            ]
          },
          "metadata": {},
          "output_type": "display_data"
        }
      ],
      "source": [
        "# plot the training and validation loss\n",
        "import matplotlib.pyplot as plt\n",
        "\n",
        "plt.plot(history.history['root_mean_squared_error'])\n",
        "plt.plot(history.history['val_root_mean_squared_error'])\n",
        "plt.title('Model RMSE')\n",
        "plt.ylabel('RMSE')\n",
        "plt.xlabel('Epoch')\n",
        "plt.legend(['Train', 'Test'], loc='upper left')\n",
        "plt.show()\n"
      ]
    },
    {
      "cell_type": "markdown",
      "metadata": {
        "id": "J1ySNup0xCqN"
      },
      "source": [
        "# Prediction\n",
        "\n",
        "The prediction pipeline is:\n",
        "\n",
        "1.  Export imagery on which to do predictions from Earth Engine in TFRecord format to a Cloud Storage bucket.\n",
        "2.  Use the trained model to make the predictions.\n",
        "3.  Write the predictions to a TFRecord file in a Cloud Storage.\n",
        "4.  Upload the predictions TFRecord file to Earth Engine.\n",
        "\n",
        "The following functions handle this process.  It's useful to separate the export from the predictions so that you can experiment with different models without running the export every time."
      ]
    },
    {
      "cell_type": "markdown",
      "metadata": {},
      "source": [
        "## Export Sample Imagery for Prediction"
      ]
    },
    {
      "cell_type": "code",
      "execution_count": 50,
      "metadata": {
        "id": "M3WDAa-RUpXP"
      },
      "outputs": [],
      "source": [
        "def doExport(out_image_base, kernel_buffer, region):\n",
        "  \"\"\"Run the image export task.  Block until complete.\n",
        "  \"\"\"\n",
        "  task = ee.batch.Export.image.toCloudStorage(\n",
        "    image = image.select(BANDS),\n",
        "    description = out_image_base,\n",
        "    bucket = BUCKET,\n",
        "    fileNamePrefix = FOLDER + out_image_base,\n",
        "    region = region.getInfo()['coordinates'],\n",
        "    scale = 30,\n",
        "    fileFormat = 'TFRecord',\n",
        "    maxPixels = 1e10,\n",
        "    formatOptions = {\n",
        "      'patchDimensions': KERNEL_SHAPE,\n",
        "      'kernelSize': kernel_buffer,\n",
        "      'compressed': True,\n",
        "      'maxFileSize': 104857600\n",
        "    }\n",
        "  )\n",
        "  task.start()\n",
        "\n",
        "  # Block until the task completes.\n",
        "  print('Running image export to Cloud Storage...')\n",
        "  import time\n",
        "  while task.active():\n",
        "    time.sleep(30)\n",
        "\n",
        "  # Error condition\n",
        "  if task.status()['state'] != 'COMPLETED':\n",
        "    print('Error with image export.')\n",
        "  else:\n",
        "    print('Image export completed.')"
      ]
    },
    {
      "cell_type": "markdown",
      "metadata": {},
      "source": [
        "## Define Code for Running Model on Prediction Data\n",
        "Modified to run on local data."
      ]
    },
    {
      "cell_type": "code",
      "execution_count": 63,
      "metadata": {
        "id": "zb_9_FflygVw"
      },
      "outputs": [],
      "source": [
        "def doPrediction(out_image_base, kernel_buffer):\n",
        "  \"\"\"Perform inference on exported imagery, upload to Earth Engine.\n",
        "  \"\"\"\n",
        "\n",
        "  print('Looking for TFRecord files...')\n",
        "\n",
        "  # # Get a list of all the files in the output bucket.\n",
        "  # filesList = !gsutil ls 'gs://'{BUCKET}'/'{FOLDER}\n",
        "  # Get a list of all local files in /data/unet-mini\n",
        "  filesList = !ls {HOME_PATH}{DATA_PATH}{FOLDER}\n",
        "\n",
        "  # Get only the files generated by the image export.\n",
        "  exportFilesList = [s for s in filesList if out_image_base in s]\n",
        "\n",
        "  # Get the list of image files and the JSON mixer file.\n",
        "  imageFilesList = []\n",
        "  jsonFile = None\n",
        "  for f in exportFilesList:\n",
        "    if f.endswith('.tfrecord.gz'):\n",
        "      imageFilesList.append(f)\n",
        "    elif f.endswith('.json'):\n",
        "      jsonFile = f\n",
        "\n",
        "  # Make sure the files are in the right order.\n",
        "  imageFilesList.sort()\n",
        "\n",
        "  from pprint import pprint\n",
        "  pprint(imageFilesList)\n",
        "  print('here I am')\n",
        "  print(jsonFile)\n",
        "\n",
        "  import json\n",
        "  # Load the contents of the mixer file to a JSON object.\n",
        "  # jsonText = !{GCLOUD_PATH}gsutil cat {jsonFile}  \n",
        "  # jsonText = !cat '/home/isly9493/csci5922/proj/data/viirs-usa/FCNN_demo_beijing_384_mixer.json'\n",
        "  jsonText = !cat {HOME_PATH}{DATA_PATH}{FOLDER}{jsonFile}\n",
        "  print(jsonText)\n",
        "  # Get a single string w/ newlines from the IPython.utils.text.SList\n",
        "  mixer = json.loads(jsonText.nlstr)\n",
        "  pprint(mixer)\n",
        "  patches = mixer['totalPatches']\n",
        "\n",
        "\n",
        "\n",
        "  buffered_shape = [\n",
        "      KERNEL_SHAPE[0] + kernel_buffer[0],\n",
        "      KERNEL_SHAPE[1] + kernel_buffer[1]]\n",
        "\n",
        "  imageColumns = [\n",
        "    tf.io.FixedLenFeature(shape=buffered_shape, dtype=tf.float32)\n",
        "      for k in BANDS\n",
        "  ]\n",
        "\n",
        "  imageFeaturesDict = dict(zip(BANDS, imageColumns))\n",
        "\n",
        "  def parse_image(example_proto):\n",
        "    return tf.io.parse_single_example(example_proto, imageFeaturesDict)\n",
        "\n",
        "  def toTupleImage(inputs):\n",
        "    inputsList = [inputs.get(key) for key in BANDS]\n",
        "    stacked = tf.stack(inputsList, axis=0)\n",
        "    stacked = tf.transpose(stacked, [1, 2, 0])\n",
        "    return stacked\n",
        "\n",
        "  # append absolute path to imageFilesList\n",
        "  imageFilesList = [HOME_PATH + DATA_PATH + FOLDER + f for f in imageFilesList]\n",
        "  print(imageFilesList)\n",
        "  \n",
        "  # Create a dataset from the TFRecord file(s) in Cloud Storage.\n",
        "  imageDataset = tf.data.TFRecordDataset(imageFilesList, compression_type='GZIP')\n",
        "  imageDataset = imageDataset.map(parse_image, num_parallel_calls=5)\n",
        "  imageDataset = imageDataset.map(toTupleImage).batch(1)\n",
        "\n",
        "  # print(imageDataset)\n",
        "\n",
        "  # Perform inference.\n",
        "  print('Running predictions...')\n",
        "  predictions = m.predict(imageDataset, steps=patches, verbose=1)\n",
        "  # print(predictions[0])\n",
        "  return predictions"
      ]
    },
    {
      "cell_type": "code",
      "execution_count": 46,
      "metadata": {},
      "outputs": [],
      "source": [
        "\n",
        "def writePredictions(predictions, out_image_base, kernel_buffer):\n",
        "  print('Writing predictions...')\n",
        "  out_image_file = 'gs://' + BUCKET + '/' + FOLDER + out_image_base + '.TFRecord'\n",
        "  # out_image_file = '/home/isly9493/csci5922/proj/data/unet-mini/' + out_image_base + '.TFRecord'\n",
        "\n",
        "  # Get set up for prediction.\n",
        "  x_buffer = int(kernel_buffer[0] / 2)\n",
        "  y_buffer = int(kernel_buffer[1] / 2)\n",
        "  \n",
        "  \n",
        "  writer = tf.io.TFRecordWriter(out_image_file)\n",
        "  patches = 0\n",
        "  for predictionPatch in predictions:\n",
        "    print('Writing patch ' + str(patches) + '...')\n",
        "    predictionPatch = predictionPatch[\n",
        "        x_buffer:x_buffer+KERNEL_SIZE, y_buffer:y_buffer+KERNEL_SIZE]\n",
        "\n",
        "    # Create an example.\n",
        "    example = tf.train.Example(\n",
        "      features=tf.train.Features(\n",
        "        feature={\n",
        "          'impervious': tf.train.Feature(\n",
        "            float_list=tf.train.FloatList(\n",
        "              value=predictionPatch.flatten()\n",
        "            )\n",
        "          )\n",
        "        }\n",
        "      )\n",
        "    )\n",
        "    # Write the example.\n",
        "    writer.write(example.SerializeToString())\n",
        "    patches += 1\n",
        "\n",
        "  print('Done for looping.')\n",
        "  writer.close()\n"
      ]
    },
    {
      "cell_type": "code",
      "execution_count": 47,
      "metadata": {},
      "outputs": [],
      "source": [
        "def uploadPredictionsToEE(out_image_base, user_folder):\n",
        "  # Start the upload.\n",
        "  print('Uploading to Google Earth Egnine...')\n",
        "  \n",
        "  # define file paths\n",
        "  out_image_file = 'gs://' + BUCKET + '/' + FOLDER + '/' + out_image_base + '.TFRecord'\n",
        "  out_image_asset = user_folder + '/' + out_image_base\n",
        "  jsonFile = 'gs://' + BUCKET + '/' + FOLDER + '/' + 'FCNN_demo_beijing_384_mixer.json'\n",
        "  # jsonFile = '/home/isly9493/csci5922/proj/data/unet-mini/FCNN_demo_beijing_384_mixer.json'\n",
        "  \n",
        "  print('out_image_asset: ', out_image_asset)\n",
        "  print('out_image_file: ', out_image_file)\n",
        "  print('jsonFile: ', jsonFile)\n",
        "  \n",
        "  # upload file to google earth engine from gcs\n",
        "  # !earthengine upload image --asset_id={out_image_asset} {out_image_file} {jsonFile}\n",
        "  !earthengine upload image --asset_id={out_image_asset} {out_image_file} {jsonFile}"
      ]
    },
    {
      "cell_type": "markdown",
      "metadata": {
        "id": "LZqlymOehnQO"
      },
      "source": [
        "Now there's all the code needed to run the prediction pipeline, all that remains is to specify the output region in which to do the prediction, the names of the output files, where to put them, and the shape of the outputs.  In terms of the shape, the model is trained on 256x256 patches, but can work (in theory) on any patch that's big enough with even dimensions ([reference](https://www.cv-foundation.org/openaccess/content_cvpr_2015/papers/Long_Fully_Convolutional_Networks_2015_CVPR_paper.pdf)).  Because of tile boundary artifacts, give the model slightly larger patches for prediction, then clip out the middle 256x256 patch.  This is controlled with a kernel buffer, half the size of which will extend beyond the kernel buffer.  For example, specifying a 128x128 kernel will append 64 pixels on each side of the patch, to ensure that the pixels in the output are taken from inputs completely covered by the kernel."
      ]
    },
    {
      "cell_type": "markdown",
      "metadata": {},
      "source": [
        "### Specify Region and Outputs for Prediction"
      ]
    },
    {
      "cell_type": "code",
      "execution_count": 48,
      "metadata": {
        "id": "FPANwc7B1-TS"
      },
      "outputs": [],
      "source": [
        "# Output assets folder: YOUR FOLDER\n",
        "user_folder = 'projects/'+GCS_PROJECT+'/assets' # INSERT YOUR FOLDER HERE.\n",
        "\n",
        "# Base file name to use for TFRecord files and assets.\n",
        "bj_image_base = 'FCNN_demo_beijing_384_'\n",
        "# Half this will extend on the sides of each patch.\n",
        "bj_kernel_buffer = [128, 128]\n",
        "# Beijing\n",
        "bj_region = ee.Geometry.Polygon(\n",
        "        [[[115.9662455210937, 40.121362012835235],\n",
        "          [115.9662455210937, 39.64293313749715],\n",
        "          [117.01818643906245, 39.64293313749715],\n",
        "          [117.01818643906245, 40.121362012835235]]], None, False)"
      ]
    },
    {
      "cell_type": "code",
      "execution_count": 49,
      "metadata": {
        "id": "lLNEOLkXWvSi"
      },
      "outputs": [
        {
          "name": "stdout",
          "output_type": "stream",
          "text": [
            "Running image export to Cloud Storage...\n",
            "Image export completed.\n"
          ]
        }
      ],
      "source": [
        "# Run the export.\n",
        "doExport(bj_image_base, bj_kernel_buffer, bj_region)"
      ]
    },
    {
      "cell_type": "code",
      "execution_count": 52,
      "metadata": {},
      "outputs": [
        {
          "name": "stdout",
          "output_type": "stream",
          "text": [
            "Copying gs://csci5922-proj/viirs-usa/FCNN_demo_beijing_384_00000.tfrecord.gz...\n",
            "Copying gs://csci5922-proj/viirs-usa/FCNN_demo_beijing_384_00001.tfrecord.gz... \n",
            "Copying gs://csci5922-proj/viirs-usa/FCNN_demo_beijing_384_00002.tfrecord.gz... \n",
            "Copying gs://csci5922-proj/viirs-usa/FCNN_demo_beijing_384_00003.tfrecord.gz... \n",
            "Copying gs://csci5922-proj/viirs-usa/FCNN_demo_beijing_384_00004.tfrecord.gz... \n",
            "Copying gs://csci5922-proj/viirs-usa/FCNN_demo_beijing_384_mixer.json...        \n",
            "| [6/6 files][172.5 MiB/172.5 MiB] 100% Done                                    \n",
            "Operation completed over 6 objects/172.5 MiB.                                    \n"
          ]
        }
      ],
      "source": [
        "# copy the file from cloud storage to local\n",
        "!{GCLOUD_PATH}gsutil -m cp \\\n",
        "  \"gs://csci5922-proj/viirs-usa/FCNN_demo_beijing_384_00000.tfrecord.gz\" \\\n",
        "  \"gs://csci5922-proj/viirs-usa/FCNN_demo_beijing_384_00001.tfrecord.gz\" \\\n",
        "  \"gs://csci5922-proj/viirs-usa/FCNN_demo_beijing_384_00002.tfrecord.gz\" \\\n",
        "  \"gs://csci5922-proj/viirs-usa/FCNN_demo_beijing_384_00003.tfrecord.gz\" \\\n",
        "  \"gs://csci5922-proj/viirs-usa/FCNN_demo_beijing_384_00004.tfrecord.gz\" \\\n",
        "  \"gs://csci5922-proj/viirs-usa/FCNN_demo_beijing_384_mixer.json\" \\\n",
        "  \"/home/isly9493/csci5922/proj/data/viirs-usa/\"\n"
      ]
    },
    {
      "cell_type": "code",
      "execution_count": 64,
      "metadata": {
        "id": "KxACnxKFrQ_J"
      },
      "outputs": [
        {
          "name": "stdout",
          "output_type": "stream",
          "text": [
            "Looking for TFRecord files...\n",
            "['FCNN_demo_beijing_384_00000.tfrecord.gz',\n",
            " 'FCNN_demo_beijing_384_00001.tfrecord.gz',\n",
            " 'FCNN_demo_beijing_384_00002.tfrecord.gz',\n",
            " 'FCNN_demo_beijing_384_00003.tfrecord.gz',\n",
            " 'FCNN_demo_beijing_384_00004.tfrecord.gz']\n",
            "here I am\n",
            "FCNN_demo_beijing_384_mixer.json\n",
            "['{', '  \"projection\": {', '    \"crs\": \"EPSG:4326\",', '    \"affine\": {', '      \"doubleMatrix\": [2.6949458523585647E-4, 0.0, 115.9662149728414, 0.0, -2.6949458523585647E-4, 40.122623344499544]', '    }', '  },', '  \"patchDimensions\": [256, 256],', '  \"patchesPerRow\": 15,', '  \"totalPatches\": 90', '}']\n",
            "{'patchDimensions': [256, 256],\n",
            " 'patchesPerRow': 15,\n",
            " 'projection': {'affine': {'doubleMatrix': [0.00026949458523585647,\n",
            "                                            0.0,\n",
            "                                            115.9662149728414,\n",
            "                                            0.0,\n",
            "                                            -0.00026949458523585647,\n",
            "                                            40.122623344499544]},\n",
            "                'crs': 'EPSG:4326'},\n",
            " 'totalPatches': 90}\n",
            "['/home/isly9493/csci5922/proj/data/viirs-usa/FCNN_demo_beijing_384_00000.tfrecord.gz', '/home/isly9493/csci5922/proj/data/viirs-usa/FCNN_demo_beijing_384_00001.tfrecord.gz', '/home/isly9493/csci5922/proj/data/viirs-usa/FCNN_demo_beijing_384_00002.tfrecord.gz', '/home/isly9493/csci5922/proj/data/viirs-usa/FCNN_demo_beijing_384_00003.tfrecord.gz', '/home/isly9493/csci5922/proj/data/viirs-usa/FCNN_demo_beijing_384_00004.tfrecord.gz']\n",
            "Running predictions...\n",
            "90/90 [==============================] - 2s 10ms/step\n"
          ]
        }
      ],
      "source": [
        "# Run the prediction.\n",
        "predictions = doPrediction(bj_image_base, bj_kernel_buffer)\n"
      ]
    },
    {
      "cell_type": "code",
      "execution_count": 65,
      "metadata": {},
      "outputs": [
        {
          "name": "stdout",
          "output_type": "stream",
          "text": [
            "Writing predictions...\n",
            "Writing patch 0...\n",
            "Writing patch 1...\n",
            "Writing patch 2...\n",
            "Writing patch 3...\n",
            "Writing patch 4...\n",
            "Writing patch 5...\n",
            "Writing patch 6...\n",
            "Writing patch 7...\n",
            "Writing patch 8...\n",
            "Writing patch 9...\n",
            "Writing patch 10...\n",
            "Writing patch 11...\n",
            "Writing patch 12...\n",
            "Writing patch 13...\n",
            "Writing patch 14...\n",
            "Writing patch 15...\n",
            "Writing patch 16...\n",
            "Writing patch 17...\n",
            "Writing patch 18...\n",
            "Writing patch 19...\n",
            "Writing patch 20...\n",
            "Writing patch 21...\n",
            "Writing patch 22...\n",
            "Writing patch 23...\n",
            "Writing patch 24...\n",
            "Writing patch 25...\n",
            "Writing patch 26...\n",
            "Writing patch 27...\n",
            "Writing patch 28...\n",
            "Writing patch 29...\n",
            "Writing patch 30...\n",
            "Writing patch 31...\n",
            "Writing patch 32...\n",
            "Writing patch 33...\n",
            "Writing patch 34...\n",
            "Writing patch 35...\n",
            "Writing patch 36...\n",
            "Writing patch 37...\n",
            "Writing patch 38...\n",
            "Writing patch 39...\n",
            "Writing patch 40...\n",
            "Writing patch 41...\n",
            "Writing patch 42...\n",
            "Writing patch 43...\n",
            "Writing patch 44...\n",
            "Writing patch 45...\n",
            "Writing patch 46...\n",
            "Writing patch 47...\n",
            "Writing patch 48...\n",
            "Writing patch 49...\n",
            "Writing patch 50...\n",
            "Writing patch 51...\n",
            "Writing patch 52...\n",
            "Writing patch 53...\n",
            "Writing patch 54...\n",
            "Writing patch 55...\n",
            "Writing patch 56...\n",
            "Writing patch 57...\n",
            "Writing patch 58...\n",
            "Writing patch 59...\n",
            "Writing patch 60...\n",
            "Writing patch 61...\n",
            "Writing patch 62...\n",
            "Writing patch 63...\n",
            "Writing patch 64...\n",
            "Writing patch 65...\n",
            "Writing patch 66...\n",
            "Writing patch 67...\n",
            "Writing patch 68...\n",
            "Writing patch 69...\n",
            "Writing patch 70...\n",
            "Writing patch 71...\n",
            "Writing patch 72...\n",
            "Writing patch 73...\n",
            "Writing patch 74...\n",
            "Writing patch 75...\n",
            "Writing patch 76...\n",
            "Writing patch 77...\n",
            "Writing patch 78...\n",
            "Writing patch 79...\n",
            "Writing patch 80...\n",
            "Writing patch 81...\n",
            "Writing patch 82...\n",
            "Writing patch 83...\n",
            "Writing patch 84...\n",
            "Writing patch 85...\n",
            "Writing patch 86...\n",
            "Writing patch 87...\n",
            "Writing patch 88...\n",
            "Writing patch 89...\n",
            "Done for looping.\n"
          ]
        }
      ],
      "source": [
        "# Write the predictions.\n",
        "writePredictions(predictions, bj_image_base, bj_kernel_buffer)"
      ]
    },
    {
      "cell_type": "code",
      "execution_count": 66,
      "metadata": {},
      "outputs": [
        {
          "name": "stdout",
          "output_type": "stream",
          "text": [
            "Uploading to Google Earth Egnine...\n",
            "out_image_asset:  projects/master-thesis-ilg/assets/FCNN_demo_beijing_384_\n",
            "out_image_file:  gs://csci5922-proj/viirs-usa//FCNN_demo_beijing_384_.TFRecord\n",
            "jsonFile:  gs://csci5922-proj/viirs-usa//FCNN_demo_beijing_384_mixer.json\n",
            "Started upload task with ID: PHRU7T2CIEJWMVIDJDZ3UYFU\n"
          ]
        }
      ],
      "source": [
        "# upload to earth engine\n",
        "uploadPredictionsToEE(bj_image_base, user_folder)"
      ]
    },
    {
      "cell_type": "markdown",
      "metadata": {
        "id": "uj_G9OZ1xH6K"
      },
      "source": [
        "# Display the output\n",
        "\n",
        "One the data has been exported, the model has made predictions and the predictions have been written to a file, and the image imported to Earth Engine, it's possible to display the resultant Earth Engine asset.  Here, display the impervious area predictions over Beijing, China."
      ]
    },
    {
      "cell_type": "code",
      "execution_count": 70,
      "metadata": {
        "id": "Jgco6HJ4R5p2"
      },
      "outputs": [
        {
          "data": {
            "text/html": [
              "<div style=\"width:100%;\"><div style=\"position:relative;width:100%;height:0;padding-bottom:60%;\"><span style=\"color:#565656\">Make this Notebook Trusted to load map: File -> Trust Notebook</span><iframe srcdoc=\"&lt;!DOCTYPE html&gt;\n",
              "&lt;html&gt;\n",
              "&lt;head&gt;\n",
              "    \n",
              "    &lt;meta http-equiv=&quot;content-type&quot; content=&quot;text/html; charset=UTF-8&quot; /&gt;\n",
              "    \n",
              "        &lt;script&gt;\n",
              "            L_NO_TOUCH = false;\n",
              "            L_DISABLE_3D = false;\n",
              "        &lt;/script&gt;\n",
              "    \n",
              "    &lt;style&gt;html, body {width: 100%;height: 100%;margin: 0;padding: 0;}&lt;/style&gt;\n",
              "    &lt;style&gt;#map {position:absolute;top:0;bottom:0;right:0;left:0;}&lt;/style&gt;\n",
              "    &lt;script src=&quot;https://cdn.jsdelivr.net/npm/leaflet@1.9.3/dist/leaflet.js&quot;&gt;&lt;/script&gt;\n",
              "    &lt;script src=&quot;https://code.jquery.com/jquery-3.7.1.min.js&quot;&gt;&lt;/script&gt;\n",
              "    &lt;script src=&quot;https://cdn.jsdelivr.net/npm/bootstrap@5.2.2/dist/js/bootstrap.bundle.min.js&quot;&gt;&lt;/script&gt;\n",
              "    &lt;script src=&quot;https://cdnjs.cloudflare.com/ajax/libs/Leaflet.awesome-markers/2.0.2/leaflet.awesome-markers.js&quot;&gt;&lt;/script&gt;\n",
              "    &lt;link rel=&quot;stylesheet&quot; href=&quot;https://cdn.jsdelivr.net/npm/leaflet@1.9.3/dist/leaflet.css&quot;/&gt;\n",
              "    &lt;link rel=&quot;stylesheet&quot; href=&quot;https://cdn.jsdelivr.net/npm/bootstrap@5.2.2/dist/css/bootstrap.min.css&quot;/&gt;\n",
              "    &lt;link rel=&quot;stylesheet&quot; href=&quot;https://netdna.bootstrapcdn.com/bootstrap/3.0.0/css/bootstrap.min.css&quot;/&gt;\n",
              "    &lt;link rel=&quot;stylesheet&quot; href=&quot;https://cdn.jsdelivr.net/npm/@fortawesome/fontawesome-free@6.2.0/css/all.min.css&quot;/&gt;\n",
              "    &lt;link rel=&quot;stylesheet&quot; href=&quot;https://cdnjs.cloudflare.com/ajax/libs/Leaflet.awesome-markers/2.0.2/leaflet.awesome-markers.css&quot;/&gt;\n",
              "    &lt;link rel=&quot;stylesheet&quot; href=&quot;https://cdn.jsdelivr.net/gh/python-visualization/folium/folium/templates/leaflet.awesome.rotate.min.css&quot;/&gt;\n",
              "    \n",
              "            &lt;meta name=&quot;viewport&quot; content=&quot;width=device-width,\n",
              "                initial-scale=1.0, maximum-scale=1.0, user-scalable=no&quot; /&gt;\n",
              "            &lt;style&gt;\n",
              "                #map_29f552137fd62a4b68c94530364cc54f {\n",
              "                    position: relative;\n",
              "                    width: 100.0%;\n",
              "                    height: 100.0%;\n",
              "                    left: 0.0%;\n",
              "                    top: 0.0%;\n",
              "                }\n",
              "                .leaflet-container { font-size: 1rem; }\n",
              "            &lt;/style&gt;\n",
              "        \n",
              "&lt;/head&gt;\n",
              "&lt;body&gt;\n",
              "    \n",
              "    \n",
              "            &lt;div class=&quot;folium-map&quot; id=&quot;map_29f552137fd62a4b68c94530364cc54f&quot; &gt;&lt;/div&gt;\n",
              "        \n",
              "&lt;/body&gt;\n",
              "&lt;script&gt;\n",
              "    \n",
              "    \n",
              "            var map_29f552137fd62a4b68c94530364cc54f = L.map(\n",
              "                &quot;map_29f552137fd62a4b68c94530364cc54f&quot;,\n",
              "                {\n",
              "                    center: [39.898, 116.5097],\n",
              "                    crs: L.CRS.EPSG3857,\n",
              "                    zoom: 11,\n",
              "                    zoomControl: true,\n",
              "                    preferCanvas: false,\n",
              "                }\n",
              "            );\n",
              "\n",
              "            \n",
              "\n",
              "        \n",
              "    \n",
              "            var tile_layer_9981580fa2b4616c9aaeca26086ecefb = L.tileLayer(\n",
              "                &quot;https://tile.openstreetmap.org/{z}/{x}/{y}.png&quot;,\n",
              "                {&quot;attribution&quot;: &quot;\\u0026copy; \\u003ca href=\\&quot;https://www.openstreetmap.org/copyright\\&quot;\\u003eOpenStreetMap\\u003c/a\\u003e contributors&quot;, &quot;detectRetina&quot;: false, &quot;maxNativeZoom&quot;: 19, &quot;maxZoom&quot;: 19, &quot;minZoom&quot;: 0, &quot;noWrap&quot;: false, &quot;opacity&quot;: 1, &quot;subdomains&quot;: &quot;abc&quot;, &quot;tms&quot;: false}\n",
              "            );\n",
              "        \n",
              "    \n",
              "            tile_layer_9981580fa2b4616c9aaeca26086ecefb.addTo(map_29f552137fd62a4b68c94530364cc54f);\n",
              "        \n",
              "    \n",
              "            var tile_layer_9830bdbc35e7df987f96a26217f469c2 = L.tileLayer(\n",
              "                &quot;https://earthengine.googleapis.com/v1/projects/earthengine-legacy/maps/5665a5cebce37398a237faa7e9dc8090-d7adfa6f33d36e3d1c04d69e578bacd0/tiles/{z}/{x}/{y}&quot;,\n",
              "                {&quot;attribution&quot;: &quot;Map Data \\u0026copy; \\u003ca href=\\&quot;https://earthengine.google.com/\\&quot;\\u003eGoogle Earth Engine\\u003c/a\\u003e&quot;, &quot;detectRetina&quot;: false, &quot;maxNativeZoom&quot;: 18, &quot;maxZoom&quot;: 18, &quot;minZoom&quot;: 0, &quot;noWrap&quot;: false, &quot;opacity&quot;: 1, &quot;subdomains&quot;: &quot;abc&quot;, &quot;tms&quot;: false}\n",
              "            );\n",
              "        \n",
              "    \n",
              "            tile_layer_9830bdbc35e7df987f96a26217f469c2.addTo(map_29f552137fd62a4b68c94530364cc54f);\n",
              "        \n",
              "    \n",
              "            var tile_layer_03d433062f365f555d130d000a2f1917 = L.tileLayer(\n",
              "                &quot;https://earthengine.googleapis.com/v1/projects/earthengine-legacy/maps/76466a1b9423de2378141a304d9507d6-8d201389098da3b86eb266c3b56e787d/tiles/{z}/{x}/{y}&quot;,\n",
              "                {&quot;attribution&quot;: &quot;Map Data \\u0026copy; \\u003ca href=\\&quot;https://earthengine.google.com/\\&quot;\\u003eGoogle Earth Engine\\u003c/a\\u003e&quot;, &quot;detectRetina&quot;: false, &quot;maxNativeZoom&quot;: 18, &quot;maxZoom&quot;: 18, &quot;minZoom&quot;: 0, &quot;noWrap&quot;: false, &quot;opacity&quot;: 1, &quot;subdomains&quot;: &quot;abc&quot;, &quot;tms&quot;: false}\n",
              "            );\n",
              "        \n",
              "    \n",
              "            tile_layer_03d433062f365f555d130d000a2f1917.addTo(map_29f552137fd62a4b68c94530364cc54f);\n",
              "        \n",
              "    \n",
              "            var tile_layer_7e082f78b5bb099e61756ce98db6204a = L.tileLayer(\n",
              "                &quot;https://earthengine.googleapis.com/v1/projects/earthengine-legacy/maps/a86121784d1162a42ebb8790aff926e5-39d239a4485c967441fdb7799cc3e325/tiles/{z}/{x}/{y}&quot;,\n",
              "                {&quot;attribution&quot;: &quot;Map Data \\u0026copy; \\u003ca href=\\&quot;https://earthengine.google.com/\\&quot;\\u003eGoogle Earth Engine\\u003c/a\\u003e&quot;, &quot;detectRetina&quot;: false, &quot;maxNativeZoom&quot;: 18, &quot;maxZoom&quot;: 18, &quot;minZoom&quot;: 0, &quot;noWrap&quot;: false, &quot;opacity&quot;: 1, &quot;subdomains&quot;: &quot;abc&quot;, &quot;tms&quot;: false}\n",
              "            );\n",
              "        \n",
              "    \n",
              "            tile_layer_7e082f78b5bb099e61756ce98db6204a.addTo(map_29f552137fd62a4b68c94530364cc54f);\n",
              "        \n",
              "    \n",
              "            var layer_control_017e286e95246122f93a5d417b835fad_layers = {\n",
              "                base_layers : {\n",
              "                    &quot;openstreetmap&quot; : tile_layer_9981580fa2b4616c9aaeca26086ecefb,\n",
              "                },\n",
              "                overlays :  {\n",
              "                    &quot;viirs dnb&quot; : tile_layer_9830bdbc35e7df987f96a26217f469c2,\n",
              "                    &quot;predicted nightlights&quot; : tile_layer_03d433062f365f555d130d000a2f1917,\n",
              "                    &quot;difference&quot; : tile_layer_7e082f78b5bb099e61756ce98db6204a,\n",
              "                },\n",
              "            };\n",
              "            let layer_control_017e286e95246122f93a5d417b835fad = L.control.layers(\n",
              "                layer_control_017e286e95246122f93a5d417b835fad_layers.base_layers,\n",
              "                layer_control_017e286e95246122f93a5d417b835fad_layers.overlays,\n",
              "                {&quot;autoZIndex&quot;: true, &quot;collapsed&quot;: true, &quot;position&quot;: &quot;topright&quot;}\n",
              "            ).addTo(map_29f552137fd62a4b68c94530364cc54f);\n",
              "\n",
              "        \n",
              "&lt;/script&gt;\n",
              "&lt;/html&gt;\" style=\"position:absolute;width:100%;height:100%;left:0;top:0;border:none !important;\" allowfullscreen webkitallowfullscreen mozallowfullscreen></iframe></div></div>"
            ],
            "text/plain": [
              "<folium.folium.Map at 0x7f60f04e1550>"
            ]
          },
          "execution_count": 70,
          "metadata": {},
          "output_type": "execute_result"
        }
      ],
      "source": [
        "map = folium.Map(location=[39.898, 116.5097], zoom_start=11)\n",
        "\n",
        "# actual viirs\n",
        "viirs = ee.ImageCollection('NOAA/VIIRS/DNB/MONTHLY_V1/VCMSLCFG').select('avg_rad').filterDate('2021-01-01', '2022-12-31').median().divide(60).float()\n",
        "actual_image = viirs.clip(bj_region)\n",
        "mapid = viirs.getMapId({'min': 0, 'max': 1}) # normally max 1.0\n",
        "folium.TileLayer(\n",
        "    tiles=mapid['tile_fetcher'].url_format,\n",
        "    attr='Map Data &copy; <a href=\"https://earthengine.google.com/\">Google Earth Engine</a>',\n",
        "    overlay=True,\n",
        "    name='viirs dnb',\n",
        "  ).add_to(map)\n",
        "\n",
        "# prediction\n",
        "out_image = ee.Image(user_folder + '/' + bj_image_base)\n",
        "mapid = out_image.getMapId({'min': 0, 'max': 1})\n",
        "folium.TileLayer(\n",
        "    tiles=mapid['tile_fetcher'].url_format,\n",
        "    attr='Map Data &copy; <a href=\"https://earthengine.google.com/\">Google Earth Engine</a>',\n",
        "    overlay=True,\n",
        "    name='predicted nightlights',\n",
        "  ).add_to(map)\n",
        "\n",
        "\n",
        "# difference\n",
        "diff = out_image.subtract(actual_image)\n",
        "mapid = diff.getMapId({'min': -0.5, 'max': 0.5, 'palette': ['FF0000', '000000', '00FF00']})\n",
        "folium.TileLayer(\n",
        "    tiles=mapid['tile_fetcher'].url_format,\n",
        "    attr='Map Data &copy; <a href=\"https://earthengine.google.com/\">Google Earth Engine</a>',\n",
        "    overlay=True,\n",
        "    name='difference',\n",
        "  ).add_to(map)\n",
        "\n",
        "# visualize the map\n",
        "map.add_child(folium.LayerControl())\n",
        "map"
      ]
    }
  ],
  "metadata": {
    "accelerator": "GPU",
    "colab": {
      "machine_shape": "hm",
      "private_outputs": true,
      "provenance": [],
      "toc_visible": true
    },
    "kernelspec": {
      "display_name": "Python 3",
      "name": "python3"
    },
    "language_info": {
      "codemirror_mode": {
        "name": "ipython",
        "version": 3
      },
      "file_extension": ".py",
      "mimetype": "text/x-python",
      "name": "python",
      "nbconvert_exporter": "python",
      "pygments_lexer": "ipython3",
      "version": "3.11.5"
    }
  },
  "nbformat": 4,
  "nbformat_minor": 0
}
