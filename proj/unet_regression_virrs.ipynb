{
  "cells": [
    {
      "cell_type": "markdown",
      "metadata": {
        "id": "aV1xZ1CPi3Nw"
      },
      "source": [
        "<table class=\"ee-notebook-buttons\" align=\"left\"><td>\n",
        "<a target=\"_blank\"  href=\"http://colab.research.google.com/github/google/earthengine-community/blob/master/guides/linked/UNET_regression_demo.ipynb\">\n",
        "    <img src=\"https://www.tensorflow.org/images/colab_logo_32px.png\" /> Run in Google Colab</a>\n",
        "</td><td>\n",
        "<a target=\"_blank\"  href=\"https://github.com/google/earthengine-community/blob/master/guides/linked/UNET_regression_demo.ipynb\"><img width=32px src=\"https://www.tensorflow.org/images/GitHub-Mark-32px.png\" /> View source on GitHub</a></td></table>"
      ]
    },
    {
      "cell_type": "markdown",
      "metadata": {},
      "source": [
        "# VIIRS High Resolution Nightlights Prediction \n",
        "with Landsat 8, Sentinel-2, and UNET"
      ]
    },
    {
      "cell_type": "markdown",
      "metadata": {},
      "source": [
        "## To Do\n",
        "\n",
        "Decide a model to Use\n",
        "- [x] Figure out how to extract image patches for model training\n",
        "- [x] Extract Sentinel 2 and Planet Data\n",
        "- [x] Figure out which type of model to use\n",
        "- [x] Figure out how to run one of these scripts  \n",
        "\n",
        "Get a Demo Notebook Running\n",
        "- [x] Get the notebook running locally with the tfrecords saved locally  \n",
        "- [x] Train a model with small subset of the data  \n",
        "- [x] Get the model prediction and inference code to run with local files\n",
        "- [x] Get a simple version of the model trained  \n",
        "\n",
        "Modify Notebook to Run with Nightlights\n",
        "- [x] Substitute NLCD with nightlights  \n",
        "- [x] Retrain a simple model with the new data  \n",
        "\n",
        "Get the Model Running on the Lab Computer\n",
        "- [x] Set up a python env on the lab computer  \n",
        "- [x] Set up SSH on the lab computer\n",
        "- [x] Adapt script to run on lab computer\n",
        "- [x] Run on lab computer  \n",
        "\n",
        "Improve the Model \n",
        "- [x] Visualize the model accuracy by epoch\n",
        "- [x] Compare a prediction to the actual image\n",
        "- [x] Create a difference image\n",
        "- [ ] Scale up the model with original image patches\n",
        "- [ ] Recreate image patches in Kenya\n",
        "- [ ] Substitute Landsat 8 with Sentinel 2  \n",
        "- [ ] Determine hyperparameters  \n",
        "\n",
        "If Time Allows...\n",
        "- [ ] Consider running again with Planet  \n",
        "- [ ] Consider running again with a ViTs\n",
        "- [ ] Look wealth instead of nightlights data  \n",
        "- [ ] Look at effect of dataset size on model performance"
      ]
    },
    {
      "cell_type": "markdown",
      "metadata": {
        "id": "_SHAc5qbiR8l"
      },
      "source": [
        "# Introduction\n",
        "\n",
        "This is an Earth Engine <> TensorFlow notebook.  Suppose you want to predict a continuous output (regression) from a stack of continuous inputs.  In this example, the output is VIIRS Day/Night Band from [VIIRS](https://developers.google.com/earth-engine/datasets/catalog/NOAA_VIIRS_DNB_MONTHLY_V1_VCMSLCFG) and the input is a Landsat 8 composite.  The model is a [fully convolutional neural network (FCNN)](https://www.cv-foundation.org/openaccess/content_cvpr_2015/papers/Long_Fully_Convolutional_Networks_2015_CVPR_paper.pdf), specifically [U-net](https://arxiv.org/abs/1505.04597). In this notebook, we:\n",
        "\n",
        "1.   Export train/test patches from Earth Engine, suitable for training an FCNN model.\n",
        "2.   Preprocess the data. \n",
        "3.   Train and validating an FCNN model.\n",
        "4.   Maki predictions with the trained model and import them to Earth Engine."
      ]
    },
    {
      "cell_type": "markdown",
      "metadata": {
        "id": "_MJ4kW1pEhwP"
      },
      "source": [
        "# Setup software libraries\n",
        "\n",
        "Authenticate and import as necessary."
      ]
    },
    {
      "cell_type": "code",
      "execution_count": null,
      "metadata": {},
      "outputs": [],
      "source": [
        "# Read in the .env file\n",
        "from dotenv import dotenv_values\n",
        "\n",
        "# load env variables\n",
        "config = dotenv_values(\".env\")\n",
        "\n",
        "# set env variables\n",
        "GCS_PROJECT = config['GCS_PROJECT']\n",
        "BUCKET = config['BUCKET']\n",
        "HOME_PATH = config['HOME_PATH']\n",
        "DATA_PATH = config['DATA_PATH']\n",
        "FOLDER = config['FOLDER']\n",
        "GCLOUD_PATH = config['GCLOUD_PATH']\n"
      ]
    },
    {
      "cell_type": "code",
      "execution_count": null,
      "metadata": {
        "id": "neIa46CpciXq"
      },
      "outputs": [],
      "source": [
        "# Cloud authentication when running in Colab\n",
        "# Fix error: https://stackoverflow.com/questions/75666380/attributeerror-module-ipython-utils-traitlets-has-no-attribute-unicode\n",
        "# from google.auth import auth\n",
        "# import google\n",
        "# auth.authenticate_user()\n",
        "\n",
        "# Local authenticate when running locally\n",
        "# ensure you have the Google Cloud SDK installed and configured\n",
        "# !bash {GCLOUD_PATH}gcloud auth login --no-launch-browser\n",
        "!{GCLOUD_PATH}gsutil lss"
      ]
    },
    {
      "cell_type": "code",
      "execution_count": null,
      "metadata": {
        "id": "jat01FEoUMqg"
      },
      "outputs": [],
      "source": [
        "# Import, authenticate and initialize the Earth Engine library.\n",
        "import ee\n",
        "ee.Authenticate()\n",
        "ee.Initialize()"
      ]
    },
    {
      "cell_type": "code",
      "execution_count": null,
      "metadata": {
        "id": "8RnZzcYhcpsQ"
      },
      "outputs": [],
      "source": [
        "# Tensorflow setup.\n",
        "import tensorflow as tf\n",
        "print(tf.__version__)"
      ]
    },
    {
      "cell_type": "code",
      "execution_count": null,
      "metadata": {
        "id": "n1hFdpBQfyhN"
      },
      "outputs": [],
      "source": [
        "# Folium setup.\n",
        "import folium\n",
        "print(folium.__version__)\n",
        "# TODO substitude with geemap"
      ]
    },
    {
      "cell_type": "markdown",
      "metadata": {
        "id": "iT8ycmzClYwf"
      },
      "source": [
        "# Variables\n",
        "\n",
        "Declare the variables that will be in use throughout the notebook."
      ]
    },
    {
      "cell_type": "markdown",
      "metadata": {
        "id": "qKs6HuxOzjMl"
      },
      "source": [
        "## Specify your Cloud Storage Bucket\n",
        "You must have write access to a bucket to run this notebook"
      ]
    },
    {
      "cell_type": "markdown",
      "metadata": {
        "id": "wmfKLl9XcnGJ"
      },
      "source": [
        "## Set other global variables"
      ]
    },
    {
      "cell_type": "code",
      "execution_count": null,
      "metadata": {
        "id": "psz7wJKalaoj"
      },
      "outputs": [],
      "source": [
        "# variables for image names\n",
        "TRAINING_BASE = 'training_patches'\n",
        "EVAL_BASE = 'eval_patches'\n",
        "\n",
        "# Specify inputs (Landsat bands) to the model and the response variable.\n",
        "opticalBands = ['B1', 'B2', 'B3', 'B4', 'B5', 'B6', 'B7']\n",
        "thermalBands = ['B10', 'B11']\n",
        "BANDS = opticalBands + thermalBands\n",
        "RESPONSE = 'avg_rad' ##### \n",
        "FEATURES = BANDS + [RESPONSE]\n",
        "\n",
        "# Specify the size and shape of patches expected by the model.\n",
        "KERNEL_SIZE = 256\n",
        "KERNEL_SHAPE = [KERNEL_SIZE, KERNEL_SIZE]\n",
        "COLUMNS = [\n",
        "  tf.io.FixedLenFeature(shape=KERNEL_SHAPE, dtype=tf.float32) for k in FEATURES\n",
        "]\n",
        "FEATURES_DICT = dict(zip(FEATURES, COLUMNS))\n",
        "\n",
        "# Sizes of the training and evaluation datasets.\n",
        "TRAIN_SIZE = 16000 # orignally 160000, use 800 for small version\n",
        "EVAL_SIZE = 8000 # down 10X\n",
        "\n",
        "# Specify model training parameters.\n",
        "BATCH_SIZE = 64 # formerly 16\n",
        "EPOCHS = 10\n",
        "BUFFER_SIZE = 1000\n",
        "OPTIMIZER = 'SGD'\n",
        "LOSS = 'MeanSquaredError'\n",
        "METRICS = ['RootMeanSquaredError']"
      ]
    },
    {
      "cell_type": "markdown",
      "metadata": {
        "id": "hgoDc7Hilfc4"
      },
      "source": [
        "# Create and Stack Input + Target Imagery\n",
        "\n",
        "Gather and setup the imagery to use for inputs (predictors).  This is a three-year, cloud-free, Landsat 8 composite.  Display it in the notebook for a sanity check."
      ]
    },
    {
      "cell_type": "code",
      "execution_count": null,
      "metadata": {
        "id": "-IlgXu-vcUEY"
      },
      "outputs": [],
      "source": [
        "# Use Landsat 8 surface reflectance data.\n",
        "l8sr = ee.ImageCollection('LANDSAT/LC08/C01/T1_SR')\n",
        "\n",
        "# Cloud masking function.\n",
        "def maskL8sr(image):\n",
        "  cloudShadowBitMask = ee.Number(2).pow(3).int()\n",
        "  cloudsBitMask = ee.Number(2).pow(5).int()\n",
        "  qa = image.select('pixel_qa')\n",
        "  mask1 = qa.bitwiseAnd(cloudShadowBitMask).eq(0).And(\n",
        "    qa.bitwiseAnd(cloudsBitMask).eq(0))\n",
        "  mask2 = image.mask().reduce('min')\n",
        "  mask3 = image.select(opticalBands).gt(0).And(\n",
        "          image.select(opticalBands).lt(10000)).reduce('min')\n",
        "  mask = mask1.And(mask2).And(mask3)\n",
        "  return image.select(opticalBands).divide(10000).addBands(\n",
        "          image.select(thermalBands).divide(10).clamp(273.15, 373.15)\n",
        "            .subtract(273.15).divide(100)).updateMask(mask)\n",
        "\n",
        "# The image input data is a cloud-masked median composite.\n",
        "image = l8sr.filterDate('2021-01-01', '2022-12-31').map(maskL8sr).median()\n",
        "\n",
        "# Use folium to visualize the imagery.\n",
        "mapid = image.getMapId({'bands': ['B4', 'B3', 'B2'], 'min': 0, 'max': 0.3})\n",
        "map = folium.Map(location=[-1, 37], zoom_start=8)\n",
        "folium.TileLayer(\n",
        "    tiles=mapid['tile_fetcher'].url_format,\n",
        "    attr='Map Data &copy; <a href=\"https://earthengine.google.com/\">Google Earth Engine</a>',\n",
        "    overlay=True,\n",
        "    name='median composite',\n",
        "  ).add_to(map)\n",
        "\n",
        "mapid = image.getMapId({'bands': ['B10'], 'min': 0, 'max': 0.5})\n",
        "folium.TileLayer(\n",
        "    tiles=mapid['tile_fetcher'].url_format,\n",
        "    attr='Map Data &copy; <a href=\"https://earthengine.google.com/\">Google Earth Engine</a>',\n",
        "    overlay=True,\n",
        "    name='thermal',\n",
        "  ).add_to(map)\n",
        "map.add_child(folium.LayerControl())\n",
        "map"
      ]
    },
    {
      "cell_type": "markdown",
      "metadata": {
        "id": "gHznnctkJsZJ"
      },
      "source": [
        "Prepare the response (what we want to predict).  This is nighttime brightness (in nanoWatts/sr/cm^2) from the VIIRS dataset.  Display to check."
      ]
    },
    {
      "cell_type": "code",
      "execution_count": null,
      "metadata": {
        "id": "e0wHDyxVirec"
      },
      "outputs": [],
      "source": [
        "viirs = ee.ImageCollection('NOAA/VIIRS/DNB/MONTHLY_V1/VCMSLCFG').select('avg_rad').filterDate('2021-01-01', '2022-12-31').median()\n",
        "viirs = viirs.divide(5).float() # normalize to 0-1 range\n",
        "\n",
        "mapid = viirs.getMapId({'min': 0, 'max': 1}) # normally max 1.0\n",
        "map = folium.Map(location=[-1, 37], zoom_start=8)\n",
        "folium.TileLayer(\n",
        "    tiles=mapid['tile_fetcher'].url_format,\n",
        "    attr='Map Data &copy; <a href=\"https://earthengine.google.com/\">Google Earth Engine</a>',\n",
        "    overlay=True,\n",
        "    name='viirs dnb',\n",
        "  ).add_to(map)\n",
        "map.add_child(folium.LayerControl())\n",
        "map"
      ]
    },
    {
      "cell_type": "markdown",
      "metadata": {
        "id": "CTS7_ZzPDhhg"
      },
      "source": [
        "Stack the 2D images (Landsat composite and VIIRS DNB image) to create a single image from which samples can be taken.  Convert the image into an array image in which each pixel stores 256x256 patches of pixels for each band.  This is a key step that bears emphasis: to export training patches, convert a multi-band image to [an array image](https://developers.google.com/earth-engine/arrays_array_images#array-images) using [`neighborhoodToArray()`](https://developers.google.com/earth-engine/api_docs#eeimageneighborhoodtoarray), then sample the image at points."
      ]
    },
    {
      "cell_type": "code",
      "execution_count": null,
      "metadata": {
        "id": "eGHYsdAOipa4"
      },
      "outputs": [],
      "source": [
        "featureStack = ee.Image.cat([\n",
        "  image.select(BANDS),\n",
        "  viirs.select(RESPONSE)\n",
        "]).float()\n",
        "\n",
        "list = ee.List.repeat(1, KERNEL_SIZE)\n",
        "lists = ee.List.repeat(list, KERNEL_SIZE)\n",
        "kernel = ee.Kernel.fixed(KERNEL_SIZE, KERNEL_SIZE, lists)\n",
        "\n",
        "arrays = featureStack.neighborhoodToArray(kernel)"
      ]
    },
    {
      "cell_type": "markdown",
      "metadata": {
        "id": "F4djSxBRG2el"
      },
      "source": [
        "# Define Training and Evaluation Areas\n",
        "Use some pre-made geometries to sample the stack in strategic locations.  Specifically, these are hand-made polygons in which to take the 256x256 samples.  Display the sampling polygons on a map, red for training polygons, blue for evaluation."
      ]
    },
    {
      "cell_type": "code",
      "execution_count": null,
      "metadata": {
        "id": "ure_WaD0itQY"
      },
      "outputs": [],
      "source": [
        "trainingPolys = ee.FeatureCollection('projects/google/DemoTrainingGeometries')\n",
        "evalPolys = ee.FeatureCollection('projects/google/DemoEvalGeometries')\n",
        "# trainingPolys = ee.FeatureCollection('projects/'+GCS_PROJECT+'/assets/trainingPolys')\n",
        "# evalPolys = ee.FeatureCollection('projects/'+GCS_PROJECT+'/assets/evalPolys')\n",
        "print(trainingPolys.getInfo())\n",
        "\n",
        "polyImage = ee.Image(0).byte().paint(trainingPolys, 1).paint(evalPolys, 2)\n",
        "polyImage = polyImage.updateMask(polyImage)\n",
        "\n",
        "mapid = polyImage.getMapId({'min': 1, 'max': 2, 'palette': ['red', 'blue']})\n",
        "map = folium.Map(location=[38., -100.], zoom_start=5)\n",
        "folium.TileLayer(\n",
        "    tiles=mapid['tile_fetcher'].url_format,\n",
        "    attr='Map Data &copy; <a href=\"https://earthengine.google.com/\">Google Earth Engine</a>',\n",
        "    overlay=True,\n",
        "    name='training polygons',\n",
        "  ).add_to(map)\n",
        "map.add_child(folium.LayerControl())\n",
        "map"
      ]
    },
    {
      "cell_type": "markdown",
      "metadata": {
        "id": "ZV890gPHeZqz"
      },
      "source": [
        "# Sampling\n",
        "\n",
        "The mapped data look reasonable so take a sample from each polygon and merge the results into a single export.  The key step is sampling the array image at points, to get all the pixels in a 256x256 neighborhood at each point.  It's worth noting that to build the training and testing data for the FCNN, you export a single TFRecord file that contains patches of pixel values in each record.  You do NOT need to export each training/testing patch to a different image.  Since each record potentially contains a lot of data (especially with big patches or many input bands), some manual sharding of the computation is necessary to avoid the `computed value too large` error.  Specifically, the following code takes multiple (smaller) samples within each geometry, merging the results to get a single export."
      ]
    },
    {
      "cell_type": "code",
      "execution_count": null,
      "metadata": {
        "cellView": "both",
        "id": "FyRpvwENxE-A"
      },
      "outputs": [],
      "source": [
        "# Convert the feature collections to lists for iteration.\n",
        "trainingPolysList = trainingPolys.toList(trainingPolys.size())\n",
        "evalPolysList = evalPolys.toList(evalPolys.size())\n",
        "\n",
        "# These numbers determined experimentally.\n",
        "n = 200 # Number of shards in each polygon. # formerly 200\n",
        "N = 2000 # Total sample size in each polygon. # formerly 2000\n"
      ]
    },
    {
      "cell_type": "markdown",
      "metadata": {},
      "source": [
        "# Export Data to Cloud Storage\n",
        "This can be modified to export to local storage, just adjust the file paths."
      ]
    },
    {
      "cell_type": "code",
      "execution_count": null,
      "metadata": {},
      "outputs": [],
      "source": [
        "\n",
        "# Export all the training data (in many pieces), with one task\n",
        "# per geometry.\n",
        "for g in range(trainingPolys.size().getInfo()):\n",
        "  geomSample = ee.FeatureCollection([])\n",
        "  for i in range(n):\n",
        "    sample = arrays.sample(\n",
        "      region = ee.Feature(trainingPolysList.get(g)).geometry(),\n",
        "      scale = 30,\n",
        "      numPixels = N / n, # Size of the shard.\n",
        "      seed = i,\n",
        "      tileScale = 8\n",
        "    )\n",
        "    geomSample = geomSample.merge(sample)\n",
        "  \n",
        "  desc = TRAINING_BASE + '_g' + str(g)\n",
        "  print(g, FOLDER, BUCKET, desc)\n",
        "  \n",
        "  task = ee.batch.Export.table.toCloudStorage(\n",
        "    collection = geomSample,\n",
        "    description = desc,\n",
        "    bucket = BUCKET,\n",
        "    fileNamePrefix = FOLDER + desc,\n",
        "    fileFormat = 'TFRecord',\n",
        "    selectors = BANDS + [RESPONSE]\n",
        "  )\n",
        "  task.start()\n",
        "print('Training imagery tasks submitted. Check on the Tasks in GEE for their status (https://code.earthengine.google.com/tasks).')"
      ]
    },
    {
      "cell_type": "code",
      "execution_count": null,
      "metadata": {},
      "outputs": [],
      "source": [
        "\n",
        "# Export all the evaluation data.\n",
        "for g in range(evalPolys.size().getInfo()):\n",
        "  geomSample = ee.FeatureCollection([])\n",
        "  for i in range(n):\n",
        "    sample = arrays.sample(\n",
        "      region = ee.Feature(evalPolysList.get(g)).geometry(),\n",
        "      scale = 30,\n",
        "      numPixels = N / n,\n",
        "      seed = i,\n",
        "      tileScale = 8\n",
        "    )\n",
        "    geomSample = geomSample.merge(sample)\n",
        "\n",
        "  desc = EVAL_BASE + '_g' + str(g)\n",
        "  print(g, FOLDER, BUCKET, desc)\n",
        "  \n",
        "  task = ee.batch.Export.table.toCloudStorage(\n",
        "    collection = geomSample,\n",
        "    description = desc,\n",
        "    bucket = BUCKET,\n",
        "    fileNamePrefix = FOLDER + desc,\n",
        "    fileFormat = 'TFRecord',\n",
        "    selectors = BANDS + [RESPONSE]\n",
        "  )\n",
        "  task.start()\n",
        "print('Eval imagery tasks submitted. Check on the Tasks in GEE for their status (https://code.earthengine.google.com/tasks).')"
      ]
    },
    {
      "cell_type": "markdown",
      "metadata": {},
      "source": [
        "# Copy Files from Cloud Storage to Local Storage\n",
        "This is necessary to run the model locally. Run these here, or in the terminal to free up the Python kernel."
      ]
    },
    {
      "cell_type": "code",
      "execution_count": null,
      "metadata": {},
      "outputs": [],
      "source": [
        "\n",
        "# Copy from your bucket to local path (note -r is for recursive call)\n",
        "\n",
        "# entire folder\n",
        "!{GCLOUD_PATH}gsutil -m cp -r gs://csci5922-proj/viirs-usa ~/csci5922/proj/data\n",
        "\n",
        "# single file\n",
        "# !{GCLOUD_PATH}gsutil cp gs://$(BUCKET)/$(FOLDER)training_patches_g2.tfrecord.gz $(HOME_PATH)$(DATA_PATH)$(FOLDER)training_patches_g2.tfrecord.gz\n",
        "\n",
        "## TODO move files to /local/isly9493 once permissions are given"
      ]
    },
    {
      "cell_type": "markdown",
      "metadata": {
        "id": "rWXrvBE4607G"
      },
      "source": [
        "# Training data\n",
        "\n",
        "Load the data exported from Earth Engine into a `tf.data.Dataset`.  The following are helper functions for that."
      ]
    },
    {
      "cell_type": "code",
      "execution_count": null,
      "metadata": {
        "id": "WWZ0UXCVMyJP"
      },
      "outputs": [],
      "source": [
        "# from google.cloud import storage\n",
        "\n",
        "def parse_tfrecord(example_proto):\n",
        "  \"\"\"The parsing function.\n",
        "  Read a serialized example into the structure defined by FEATURES_DICT.\n",
        "  Args:\n",
        "    example_proto: a serialized Example.\n",
        "  Returns:\n",
        "    A dictionary of tensors, keyed by feature name.\n",
        "  \"\"\"\n",
        "  return tf.io.parse_single_example(example_proto, FEATURES_DICT)\n",
        "\n",
        "\n",
        "def to_tuple(inputs):\n",
        "  \"\"\"Function to convert a dictionary of tensors to a tuple of (inputs, outputs).\n",
        "  Turn the tensors returned by parse_tfrecord into a stack in HWC shape.\n",
        "  Args:\n",
        "    inputs: A dictionary of tensors, keyed by feature name.\n",
        "  Returns:\n",
        "    A tuple of (inputs, outputs).\n",
        "  \"\"\"\n",
        "  inputsList = [inputs.get(key) for key in FEATURES]\n",
        "  stacked = tf.stack(inputsList, axis=0)\n",
        "  # Convert from CHW to HWC\n",
        "  stacked = tf.transpose(stacked, [1, 2, 0])\n",
        "  return stacked[:,:,:len(BANDS)], stacked[:,:,len(BANDS):]\n",
        "\n",
        "\n",
        "def get_dataset(path, prefix, n_files):\n",
        "  \"\"\"Function to read, parse and format to tuple a set of input tfrecord files.\n",
        "  Get all the files matching the pattern, parse and convert to tuple.\n",
        "  Args:\n",
        "    pattern: A file pattern to match in a Cloud Storage bucket.\n",
        "  Returns:\n",
        "    A tf.data.Dataset\n",
        "  \"\"\"\n",
        "  # original code\n",
        "  # glob = tf.io.gfile.glob(pattern)\n",
        "  \n",
        "  # from the cloud\n",
        "  # https://cloud.google.com/appengine/docs/legacy/standard/python/googlecloudstorageclient/read-write-to-cloud-storage\n",
        "  # storage_client = storage.Client()\n",
        "  # bucket = storage_client.get_bucket(BUCKET)\n",
        "  # blobs = storage_client.list_blobs(BUCKET, prefix=pattern)\n",
        "  # glob = []\n",
        "  # for blob in blobs:\n",
        "  #   globs.append(blob.name)\n",
        "  # print(globs)\n",
        "  # # append bucket name to globs\n",
        "  # glob = ['gs://' + BUCKET + '/' + f for f in globs]\n",
        "\n",
        "  # read local tfrecord.gz files from unet-mini\n",
        "  glob = []\n",
        "  for i in range(0, n_files):\n",
        "    glob = path + prefix + '_g' + str(i) + '.tfrecord.gz'\n",
        "\n",
        "  # glob = [\n",
        "  #   '/home/isly9493/csci5922/proj/data/unet-mini/eval_patches_g0.tfrecord.gz',\n",
        "  #   '/home/isly9493/csci5922/proj/data/unet-mini/eval_patches_g1.tfrecord.gz'\n",
        "  # ]\n",
        "  dataset = tf.data.TFRecordDataset(glob, compression_type='GZIP')\n",
        "  dataset = dataset.map(parse_tfrecord, num_parallel_calls=5)\n",
        "  dataset = dataset.map(to_tuple, num_parallel_calls=5)\n",
        "  return dataset"
      ]
    },
    {
      "cell_type": "markdown",
      "metadata": {
        "id": "Xg1fa18336D2"
      },
      "source": [
        "Use the helpers to read in the training dataset.  Print the first record to check."
      ]
    },
    {
      "cell_type": "code",
      "execution_count": null,
      "metadata": {
        "id": "rm0qRF0fAYcC"
      },
      "outputs": [],
      "source": [
        "# import os\n",
        "# os.environ[\"GOOGLE_APPLICATION_CREDENTIALS\"] = \"/Users/ilyonsg/.config/gcloud/application_default_credentials.json\"\n",
        "\n",
        "def get_training_dataset():\n",
        "\t\"\"\"Get the preprocessed training dataset\n",
        "  Returns:\n",
        "    A tf.data.Dataset of training data.\n",
        "  \"\"\"\n",
        "\t# glob = 'gs://' + BUCKET + '/' + FOLDER + '/' + TRAINING_BASE + '*'\n",
        "\tdataset = get_dataset(HOME_PATH + DATA_PATH + FOLDER, TRAINING_BASE, 8) # change from 9 to 8\n",
        "\tdataset = dataset.shuffle(BUFFER_SIZE).batch(BATCH_SIZE).repeat()\n",
        "\treturn dataset\n",
        "\n",
        "training = get_training_dataset()\n",
        "\n",
        "# print(iter(training.take(1)).next())"
      ]
    },
    {
      "cell_type": "markdown",
      "metadata": {
        "id": "j-cQO5RL6vob"
      },
      "source": [
        "# Evaluation data\n",
        "\n",
        "Now do the same thing to get an evaluation dataset.  Note that unlike the training dataset, the evaluation dataset has a batch size of 1, is not repeated and is not shuffled."
      ]
    },
    {
      "cell_type": "code",
      "execution_count": null,
      "metadata": {
        "id": "ieKTCGiJ6xzo"
      },
      "outputs": [],
      "source": [
        "def get_eval_dataset():\n",
        "\t\"\"\"Get the preprocessed evaluation dataset\n",
        "  Returns:\n",
        "    A tf.data.Dataset of evaluation data.\n",
        "  \"\"\"\t\n",
        "\tdataset = get_dataset(HOME_PATH + DATA_PATH + FOLDER, EVAL_BASE, 4)\n",
        "\tdataset = dataset.batch(1).repeat()\n",
        "\treturn dataset\n",
        "\n",
        "evaluation = get_eval_dataset()\n",
        "\n",
        "# print(iter(evaluation.take(1)).next())"
      ]
    },
    {
      "cell_type": "markdown",
      "metadata": {
        "id": "9JIE7Yl87lgU"
      },
      "source": [
        "# Model\n",
        "\n",
        "Here we use the Keras implementation of the U-Net model.  The U-Net model takes 256x256 pixel patches as input and outputs per-pixel class probability, label or a continuous output.  We can implement the model essentially unmodified, but will use mean squared error loss on the sigmoidal output since we are treating this as a regression problem, rather than a classification problem.  Since impervious surface fraction is constrained to [0,1], with many values close to zero or one, a saturating activation function is suitable here."
      ]
    },
    {
      "cell_type": "code",
      "execution_count": null,
      "metadata": {
        "id": "wsnnnz56yS3l"
      },
      "outputs": [],
      "source": [
        "from tensorflow import keras\n",
        "from keras import layers\n",
        "from keras import losses\n",
        "from keras import models\n",
        "from keras import metrics\n",
        "from keras import optimizers\n",
        "\n",
        "def conv_block(input_tensor, num_filters):\n",
        "\tencoder = layers.Conv2D(num_filters, (3, 3), padding='same')(input_tensor)\n",
        "\tencoder = layers.BatchNormalization()(encoder)\n",
        "\tencoder = layers.Activation('relu')(encoder)\n",
        "\tencoder = layers.Conv2D(num_filters, (3, 3), padding='same')(encoder)\n",
        "\tencoder = layers.BatchNormalization()(encoder)\n",
        "\tencoder = layers.Activation('relu')(encoder)\n",
        "\treturn encoder\n",
        "\n",
        "def encoder_block(input_tensor, num_filters):\n",
        "\tencoder = conv_block(input_tensor, num_filters)\n",
        "\tencoder_pool = layers.MaxPooling2D((2, 2), strides=(2, 2))(encoder)\n",
        "\treturn encoder_pool, encoder\n",
        "\n",
        "\n",
        "def decoder_block(input_tensor, concat_tensor, num_filters):\n",
        "\tdecoder = layers.Conv2DTranspose(num_filters, (2, 2), strides=(2, 2), padding='same')(input_tensor)\n",
        "\tdecoder = layers.concatenate([concat_tensor, decoder], axis=-1)\n",
        "\tdecoder = layers.BatchNormalization()(decoder)\n",
        "\tdecoder = layers.Activation('relu')(decoder)\n",
        "\tdecoder = layers.Conv2D(num_filters, (3, 3), padding='same')(decoder)\n",
        "\tdecoder = layers.BatchNormalization()(decoder)\n",
        "\tdecoder = layers.Activation('relu')(decoder)\n",
        "\tdecoder = layers.Conv2D(num_filters, (3, 3), padding='same')(decoder)\n",
        "\tdecoder = layers.BatchNormalization()(decoder)\n",
        "\tdecoder = layers.Activation('relu')(decoder)\n",
        "\treturn decoder\n",
        "\n",
        "def get_model():\n",
        "\tinputs = layers.Input(shape=[None, None, len(BANDS)]) # 256\n",
        "\tencoder0_pool, encoder0 = encoder_block(inputs, 32) # 128\n",
        "\tencoder1_pool, encoder1 = encoder_block(encoder0_pool, 64) # 64\n",
        "\tencoder2_pool, encoder2 = encoder_block(encoder1_pool, 128) # 32\n",
        "\tencoder3_pool, encoder3 = encoder_block(encoder2_pool, 256) # 16\n",
        "\tencoder4_pool, encoder4 = encoder_block(encoder3_pool, 512) # 8\n",
        "\tcenter = conv_block(encoder4_pool, 1024) # center\n",
        "\tdecoder4 = decoder_block(center, encoder4, 512) # 16\n",
        "\tdecoder3 = decoder_block(decoder4, encoder3, 256) # 32\n",
        "\tdecoder2 = decoder_block(decoder3, encoder2, 128) # 64\n",
        "\tdecoder1 = decoder_block(decoder2, encoder1, 64) # 128\n",
        "\tdecoder0 = decoder_block(decoder1, encoder0, 32) # 256\n",
        "\toutputs = layers.Conv2D(1, (1, 1), activation='sigmoid')(decoder0)\n",
        "\n",
        "\tmodel = models.Model(inputs=[inputs], outputs=[outputs])\n",
        "\n",
        "\tmodel.compile(\n",
        "\t\toptimizer=optimizers.get(OPTIMIZER),\n",
        "\t\tloss=losses.get(LOSS),\n",
        "\t\tmetrics=[metrics.get(metric) for metric in METRICS])\n",
        "\n",
        "\treturn model"
      ]
    },
    {
      "cell_type": "markdown",
      "metadata": {
        "id": "uu_E7OTDBCoS"
      },
      "source": [
        "# Training the model\n",
        "\n",
        "You train a Keras model by calling `.fit()` on it.  Here we're going to train for 10 epochs, which is suitable for demonstration purposes.  For production use, you probably want to optimize this parameter, for example through [hyperparamter tuning](https://cloud.google.com/ml-engine/docs/tensorflow/using-hyperparameter-tuning)."
      ]
    },
    {
      "cell_type": "code",
      "execution_count": null,
      "metadata": {
        "id": "NzzaWxOhSxBy"
      },
      "outputs": [],
      "source": [
        "keras.backend.clear_session()\n",
        "m = get_model()"
      ]
    },
    {
      "cell_type": "markdown",
      "metadata": {},
      "source": [
        "Fit the model."
      ]
    },
    {
      "cell_type": "code",
      "execution_count": 73,
      "metadata": {},
      "outputs": [
        {
          "name": "stdout",
          "output_type": "stream",
          "text": [
            "Epoch 1/50\n"
          ]
        },
        {
          "name": "stderr",
          "output_type": "stream",
          "text": [
            "2023-12-08 19:11:18.906479: I tensorflow/core/kernels/data/shuffle_dataset_op.cc:422] ShuffleDatasetV3:35: Filling up shuffle buffer (this may take a while): 1968 of 2000\n",
            "2023-12-08 19:11:19.072675: I tensorflow/core/kernels/data/shuffle_dataset_op.cc:452] Shuffle buffer filled.\n"
          ]
        },
        {
          "name": "stdout",
          "output_type": "stream",
          "text": [
            " 32/250 [==>...........................] - ETA: 1:26 - loss: 6.6878 - root_mean_squared_error: 2.5861"
          ]
        },
        {
          "name": "stderr",
          "output_type": "stream",
          "text": [
            "2023-12-08 19:11:44.229686: I tensorflow/core/kernels/data/shuffle_dataset_op.cc:422] ShuffleDatasetV3:35: Filling up shuffle buffer (this may take a while): 1946 of 2000\n",
            "2023-12-08 19:11:44.509227: I tensorflow/core/kernels/data/shuffle_dataset_op.cc:452] Shuffle buffer filled.\n"
          ]
        },
        {
          "name": "stdout",
          "output_type": "stream",
          "text": [
            " 64/250 [======>.......................] - ETA: 1:44 - loss: 6.5888 - root_mean_squared_error: 2.5669"
          ]
        },
        {
          "name": "stderr",
          "output_type": "stream",
          "text": [
            "2023-12-08 19:12:06.754039: I tensorflow/core/kernels/data/shuffle_dataset_op.cc:422] ShuffleDatasetV3:35: Filling up shuffle buffer (this may take a while): 1945 of 2000\n",
            "2023-12-08 19:12:07.039023: I tensorflow/core/kernels/data/shuffle_dataset_op.cc:452] Shuffle buffer filled.\n"
          ]
        },
        {
          "name": "stdout",
          "output_type": "stream",
          "text": [
            " 96/250 [==========>...................] - ETA: 1:33 - loss: 6.5410 - root_mean_squared_error: 2.5575"
          ]
        },
        {
          "name": "stderr",
          "output_type": "stream",
          "text": [
            "2023-12-08 19:12:28.530408: I tensorflow/core/kernels/data/shuffle_dataset_op.cc:422] ShuffleDatasetV3:35: Filling up shuffle buffer (this may take a while): 1946 of 2000\n",
            "2023-12-08 19:12:28.808849: I tensorflow/core/kernels/data/shuffle_dataset_op.cc:452] Shuffle buffer filled.\n"
          ]
        },
        {
          "name": "stdout",
          "output_type": "stream",
          "text": [
            "128/250 [==============>...............] - ETA: 1:16 - loss: 6.5115 - root_mean_squared_error: 2.5518"
          ]
        },
        {
          "name": "stderr",
          "output_type": "stream",
          "text": [
            "2023-12-08 19:12:48.682122: I tensorflow/core/kernels/data/shuffle_dataset_op.cc:422] ShuffleDatasetV3:35: Filling up shuffle buffer (this may take a while): 1942 of 2000\n",
            "2023-12-08 19:12:48.983238: I tensorflow/core/kernels/data/shuffle_dataset_op.cc:452] Shuffle buffer filled.\n"
          ]
        },
        {
          "name": "stdout",
          "output_type": "stream",
          "text": [
            "160/250 [==================>...........] - ETA: 56s - loss: 6.4910 - root_mean_squared_error: 2.5477"
          ]
        },
        {
          "name": "stderr",
          "output_type": "stream",
          "text": [
            "2023-12-08 19:13:05.598371: I tensorflow/core/kernels/data/shuffle_dataset_op.cc:422] ShuffleDatasetV3:35: Filling up shuffle buffer (this may take a while): 1936 of 2000\n",
            "2023-12-08 19:13:05.932509: I tensorflow/core/kernels/data/shuffle_dataset_op.cc:452] Shuffle buffer filled.\n"
          ]
        },
        {
          "name": "stdout",
          "output_type": "stream",
          "text": [
            "185/250 [=====================>........] - ETA: 40s - loss: 6.5418 - root_mean_squared_error: 2.5577"
          ]
        },
        {
          "name": "stderr",
          "output_type": "stream",
          "text": [
            "2023-12-08 19:13:16.132603: I tensorflow/core/kernels/data/shuffle_dataset_op.cc:422] ShuffleDatasetV3:35: Filling up shuffle buffer (this may take a while): 1928 of 2000\n"
          ]
        },
        {
          "name": "stdout",
          "output_type": "stream",
          "text": [
            "186/250 [=====================>........] - ETA: 39s - loss: 6.5308 - root_mean_squared_error: 2.5555"
          ]
        },
        {
          "name": "stderr",
          "output_type": "stream",
          "text": [
            "2023-12-08 19:13:16.507862: I tensorflow/core/kernels/data/shuffle_dataset_op.cc:452] Shuffle buffer filled.\n"
          ]
        },
        {
          "name": "stdout",
          "output_type": "stream",
          "text": [
            "216/250 [========================>.....] - ETA: 20s - loss: 6.5286 - root_mean_squared_error: 2.5551"
          ]
        },
        {
          "name": "stderr",
          "output_type": "stream",
          "text": [
            "2023-12-08 19:13:28.817864: I tensorflow/core/kernels/data/shuffle_dataset_op.cc:422] ShuffleDatasetV3:35: Filling up shuffle buffer (this may take a while): 1932 of 2000\n"
          ]
        },
        {
          "name": "stdout",
          "output_type": "stream",
          "text": [
            "217/250 [=========================>....] - ETA: 19s - loss: 6.5088 - root_mean_squared_error: 2.5512"
          ]
        },
        {
          "name": "stderr",
          "output_type": "stream",
          "text": [
            "2023-12-08 19:13:29.174451: I tensorflow/core/kernels/data/shuffle_dataset_op.cc:452] Shuffle buffer filled.\n"
          ]
        },
        {
          "name": "stdout",
          "output_type": "stream",
          "text": [
            "248/250 [============================>.] - ETA: 1s - loss: 6.4007 - root_mean_squared_error: 2.5300"
          ]
        },
        {
          "name": "stderr",
          "output_type": "stream",
          "text": [
            "2023-12-08 19:13:41.723169: I tensorflow/core/kernels/data/shuffle_dataset_op.cc:422] ShuffleDatasetV3:35: Filling up shuffle buffer (this may take a while): 1931 of 2000\n"
          ]
        },
        {
          "name": "stdout",
          "output_type": "stream",
          "text": [
            "249/250 [============================>.] - ETA: 0s - loss: 6.3980 - root_mean_squared_error: 2.5294"
          ]
        },
        {
          "name": "stderr",
          "output_type": "stream",
          "text": [
            "2023-12-08 19:13:42.084241: I tensorflow/core/kernels/data/shuffle_dataset_op.cc:452] Shuffle buffer filled.\n"
          ]
        },
        {
          "name": "stdout",
          "output_type": "stream",
          "text": [
            "250/250 [==============================] - 204s 760ms/step - loss: 6.4174 - root_mean_squared_error: 2.5332 - val_loss: 4.9898 - val_root_mean_squared_error: 2.2338\n",
            "Epoch 2/50\n",
            " 30/250 [==>...........................] - ETA: 1:28 - loss: 6.8518 - root_mean_squared_error: 2.6176"
          ]
        },
        {
          "name": "stderr",
          "output_type": "stream",
          "text": [
            "2023-12-08 19:14:43.351149: I tensorflow/core/kernels/data/shuffle_dataset_op.cc:422] ShuffleDatasetV3:35: Filling up shuffle buffer (this may take a while): 1913 of 2000\n"
          ]
        },
        {
          "name": "stdout",
          "output_type": "stream",
          "text": [
            " 31/250 [==>...........................] - ETA: 1:27 - loss: 6.7985 - root_mean_squared_error: 2.6074"
          ]
        },
        {
          "name": "stderr",
          "output_type": "stream",
          "text": [
            "2023-12-08 19:14:43.809748: I tensorflow/core/kernels/data/shuffle_dataset_op.cc:452] Shuffle buffer filled.\n"
          ]
        },
        {
          "name": "stdout",
          "output_type": "stream",
          "text": [
            " 62/250 [======>.......................] - ETA: 1:15 - loss: 6.6549 - root_mean_squared_error: 2.5797"
          ]
        },
        {
          "name": "stderr",
          "output_type": "stream",
          "text": [
            "2023-12-08 19:14:56.210371: I tensorflow/core/kernels/data/shuffle_dataset_op.cc:422] ShuffleDatasetV3:35: Filling up shuffle buffer (this may take a while): 1902 of 2000\n"
          ]
        },
        {
          "name": "stdout",
          "output_type": "stream",
          "text": [
            " 64/250 [======>.......................] - ETA: 1:14 - loss: 6.6116 - root_mean_squared_error: 2.5713"
          ]
        },
        {
          "name": "stderr",
          "output_type": "stream",
          "text": [
            "2023-12-08 19:14:56.719267: I tensorflow/core/kernels/data/shuffle_dataset_op.cc:452] Shuffle buffer filled.\n"
          ]
        },
        {
          "name": "stdout",
          "output_type": "stream",
          "text": [
            " 94/250 [==========>...................] - ETA: 1:02 - loss: 6.4951 - root_mean_squared_error: 2.5486"
          ]
        },
        {
          "name": "stderr",
          "output_type": "stream",
          "text": [
            "2023-12-08 19:15:09.085635: I tensorflow/core/kernels/data/shuffle_dataset_op.cc:422] ShuffleDatasetV3:35: Filling up shuffle buffer (this may take a while): 1916 of 2000\n"
          ]
        },
        {
          "name": "stdout",
          "output_type": "stream",
          "text": [
            " 95/250 [==========>...................] - ETA: 1:02 - loss: 6.5057 - root_mean_squared_error: 2.5506"
          ]
        },
        {
          "name": "stderr",
          "output_type": "stream",
          "text": [
            "2023-12-08 19:15:09.526223: I tensorflow/core/kernels/data/shuffle_dataset_op.cc:452] Shuffle buffer filled.\n"
          ]
        },
        {
          "name": "stdout",
          "output_type": "stream",
          "text": [
            "126/250 [==============>...............] - ETA: 49s - loss: 6.4736 - root_mean_squared_error: 2.5443"
          ]
        },
        {
          "name": "stderr",
          "output_type": "stream",
          "text": [
            "2023-12-08 19:15:21.970087: I tensorflow/core/kernels/data/shuffle_dataset_op.cc:422] ShuffleDatasetV3:35: Filling up shuffle buffer (this may take a while): 1908 of 2000\n"
          ]
        },
        {
          "name": "stdout",
          "output_type": "stream",
          "text": [
            "127/250 [==============>...............] - ETA: 49s - loss: 6.4829 - root_mean_squared_error: 2.5462"
          ]
        },
        {
          "name": "stderr",
          "output_type": "stream",
          "text": [
            "2023-12-08 19:15:22.455705: I tensorflow/core/kernels/data/shuffle_dataset_op.cc:452] Shuffle buffer filled.\n"
          ]
        },
        {
          "name": "stdout",
          "output_type": "stream",
          "text": [
            "158/250 [=================>............] - ETA: 37s - loss: 6.4452 - root_mean_squared_error: 2.5387"
          ]
        },
        {
          "name": "stderr",
          "output_type": "stream",
          "text": [
            "2023-12-08 19:15:35.125152: I tensorflow/core/kernels/data/shuffle_dataset_op.cc:422] ShuffleDatasetV3:35: Filling up shuffle buffer (this may take a while): 1930 of 2000\n"
          ]
        },
        {
          "name": "stdout",
          "output_type": "stream",
          "text": [
            "159/250 [==================>...........] - ETA: 36s - loss: 6.4138 - root_mean_squared_error: 2.5325"
          ]
        },
        {
          "name": "stderr",
          "output_type": "stream",
          "text": [
            "2023-12-08 19:15:35.493875: I tensorflow/core/kernels/data/shuffle_dataset_op.cc:452] Shuffle buffer filled.\n"
          ]
        },
        {
          "name": "stdout",
          "output_type": "stream",
          "text": [
            "190/250 [=====================>........] - ETA: 24s - loss: 6.4722 - root_mean_squared_error: 2.5441"
          ]
        },
        {
          "name": "stderr",
          "output_type": "stream",
          "text": [
            "2023-12-08 19:15:48.045345: I tensorflow/core/kernels/data/shuffle_dataset_op.cc:422] ShuffleDatasetV3:35: Filling up shuffle buffer (this may take a while): 1940 of 2000\n"
          ]
        },
        {
          "name": "stdout",
          "output_type": "stream",
          "text": [
            "191/250 [=====================>........] - ETA: 23s - loss: 6.4705 - root_mean_squared_error: 2.5437"
          ]
        },
        {
          "name": "stderr",
          "output_type": "stream",
          "text": [
            "2023-12-08 19:15:48.353910: I tensorflow/core/kernels/data/shuffle_dataset_op.cc:452] Shuffle buffer filled.\n"
          ]
        },
        {
          "name": "stdout",
          "output_type": "stream",
          "text": [
            "222/250 [=========================>....] - ETA: 11s - loss: 6.4656 - root_mean_squared_error: 2.5427"
          ]
        },
        {
          "name": "stderr",
          "output_type": "stream",
          "text": [
            "2023-12-08 19:16:01.000878: I tensorflow/core/kernels/data/shuffle_dataset_op.cc:422] ShuffleDatasetV3:35: Filling up shuffle buffer (this may take a while): 1922 of 2000\n"
          ]
        },
        {
          "name": "stdout",
          "output_type": "stream",
          "text": [
            "223/250 [=========================>....] - ETA: 10s - loss: 6.4563 - root_mean_squared_error: 2.5409"
          ]
        },
        {
          "name": "stderr",
          "output_type": "stream",
          "text": [
            "2023-12-08 19:16:01.406486: I tensorflow/core/kernels/data/shuffle_dataset_op.cc:452] Shuffle buffer filled.\n"
          ]
        },
        {
          "name": "stdout",
          "output_type": "stream",
          "text": [
            "250/250 [==============================] - ETA: 0s - loss: 6.4518 - root_mean_squared_error: 2.5400"
          ]
        },
        {
          "name": "stderr",
          "output_type": "stream",
          "text": [
            "2023-12-08 19:16:14.006715: I tensorflow/core/kernels/data/shuffle_dataset_op.cc:422] ShuffleDatasetV3:35: Filling up shuffle buffer (this may take a while): 1897 of 2000\n",
            "2023-12-08 19:16:14.607015: I tensorflow/core/kernels/data/shuffle_dataset_op.cc:452] Shuffle buffer filled.\n"
          ]
        },
        {
          "name": "stdout",
          "output_type": "stream",
          "text": [
            "250/250 [==============================] - 149s 599ms/step - loss: 6.4518 - root_mean_squared_error: 2.5400 - val_loss: 4.4612 - val_root_mean_squared_error: 2.1122\n",
            "Epoch 3/50\n",
            " 36/250 [===>..........................] - ETA: 1:26 - loss: 6.0665 - root_mean_squared_error: 2.4630"
          ]
        },
        {
          "name": "stderr",
          "output_type": "stream",
          "text": [
            "2023-12-08 19:17:15.314614: I tensorflow/core/kernels/data/shuffle_dataset_op.cc:422] ShuffleDatasetV3:35: Filling up shuffle buffer (this may take a while): 1937 of 2000\n"
          ]
        },
        {
          "name": "stdout",
          "output_type": "stream",
          "text": [
            " 37/250 [===>..........................] - ETA: 1:26 - loss: 5.9647 - root_mean_squared_error: 2.4423"
          ]
        },
        {
          "name": "stderr",
          "output_type": "stream",
          "text": [
            "2023-12-08 19:17:15.644988: I tensorflow/core/kernels/data/shuffle_dataset_op.cc:452] Shuffle buffer filled.\n"
          ]
        },
        {
          "name": "stdout",
          "output_type": "stream",
          "text": [
            " 68/250 [=======>......................] - ETA: 1:13 - loss: 6.2522 - root_mean_squared_error: 2.5004"
          ]
        },
        {
          "name": "stderr",
          "output_type": "stream",
          "text": [
            "2023-12-08 19:17:28.370229: I tensorflow/core/kernels/data/shuffle_dataset_op.cc:422] ShuffleDatasetV3:35: Filling up shuffle buffer (this may take a while): 1948 of 2000\n"
          ]
        },
        {
          "name": "stdout",
          "output_type": "stream",
          "text": [
            " 69/250 [=======>......................] - ETA: 1:13 - loss: 6.2457 - root_mean_squared_error: 2.4991"
          ]
        },
        {
          "name": "stderr",
          "output_type": "stream",
          "text": [
            "2023-12-08 19:17:28.639023: I tensorflow/core/kernels/data/shuffle_dataset_op.cc:452] Shuffle buffer filled.\n"
          ]
        },
        {
          "name": "stdout",
          "output_type": "stream",
          "text": [
            "100/250 [===========>..................] - ETA: 1:01 - loss: 6.3306 - root_mean_squared_error: 2.5161"
          ]
        },
        {
          "name": "stderr",
          "output_type": "stream",
          "text": [
            "2023-12-08 19:17:41.472471: I tensorflow/core/kernels/data/shuffle_dataset_op.cc:422] ShuffleDatasetV3:35: Filling up shuffle buffer (this may take a while): 1955 of 2000\n"
          ]
        },
        {
          "name": "stdout",
          "output_type": "stream",
          "text": [
            "101/250 [===========>..................] - ETA: 1:00 - loss: 6.2791 - root_mean_squared_error: 2.5058"
          ]
        },
        {
          "name": "stderr",
          "output_type": "stream",
          "text": [
            "2023-12-08 19:17:41.707509: I tensorflow/core/kernels/data/shuffle_dataset_op.cc:452] Shuffle buffer filled.\n"
          ]
        },
        {
          "name": "stdout",
          "output_type": "stream",
          "text": [
            "132/250 [==============>...............] - ETA: 47s - loss: 6.3519 - root_mean_squared_error: 2.5203"
          ]
        },
        {
          "name": "stderr",
          "output_type": "stream",
          "text": [
            "2023-12-08 19:17:54.362877: I tensorflow/core/kernels/data/shuffle_dataset_op.cc:422] ShuffleDatasetV3:35: Filling up shuffle buffer (this may take a while): 1938 of 2000\n"
          ]
        },
        {
          "name": "stdout",
          "output_type": "stream",
          "text": [
            "133/250 [==============>...............] - ETA: 47s - loss: 6.3430 - root_mean_squared_error: 2.5185"
          ]
        },
        {
          "name": "stderr",
          "output_type": "stream",
          "text": [
            "2023-12-08 19:17:54.688013: I tensorflow/core/kernels/data/shuffle_dataset_op.cc:452] Shuffle buffer filled.\n"
          ]
        },
        {
          "name": "stdout",
          "output_type": "stream",
          "text": [
            "164/250 [==================>...........] - ETA: 35s - loss: 6.3427 - root_mean_squared_error: 2.5185"
          ]
        },
        {
          "name": "stderr",
          "output_type": "stream",
          "text": [
            "2023-12-08 19:18:07.508303: I tensorflow/core/kernels/data/shuffle_dataset_op.cc:422] ShuffleDatasetV3:35: Filling up shuffle buffer (this may take a while): 1941 of 2000\n"
          ]
        },
        {
          "name": "stdout",
          "output_type": "stream",
          "text": [
            "165/250 [==================>...........] - ETA: 34s - loss: 6.3361 - root_mean_squared_error: 2.5172"
          ]
        },
        {
          "name": "stderr",
          "output_type": "stream",
          "text": [
            "2023-12-08 19:18:07.820919: I tensorflow/core/kernels/data/shuffle_dataset_op.cc:452] Shuffle buffer filled.\n"
          ]
        },
        {
          "name": "stdout",
          "output_type": "stream",
          "text": [
            "196/250 [======================>.......] - ETA: 21s - loss: 6.2842 - root_mean_squared_error: 2.5068"
          ]
        },
        {
          "name": "stderr",
          "output_type": "stream",
          "text": [
            "2023-12-08 19:18:20.406046: I tensorflow/core/kernels/data/shuffle_dataset_op.cc:422] ShuffleDatasetV3:35: Filling up shuffle buffer (this may take a while): 1913 of 2000\n"
          ]
        },
        {
          "name": "stdout",
          "output_type": "stream",
          "text": [
            "197/250 [======================>.......] - ETA: 21s - loss: 6.2760 - root_mean_squared_error: 2.5052"
          ]
        },
        {
          "name": "stderr",
          "output_type": "stream",
          "text": [
            "2023-12-08 19:18:20.858714: I tensorflow/core/kernels/data/shuffle_dataset_op.cc:452] Shuffle buffer filled.\n"
          ]
        },
        {
          "name": "stdout",
          "output_type": "stream",
          "text": [
            "228/250 [==========================>...] - ETA: 8s - loss: 6.3032 - root_mean_squared_error: 2.5106"
          ]
        },
        {
          "name": "stderr",
          "output_type": "stream",
          "text": [
            "2023-12-08 19:18:33.607329: I tensorflow/core/kernels/data/shuffle_dataset_op.cc:422] ShuffleDatasetV3:35: Filling up shuffle buffer (this may take a while): 1934 of 2000\n"
          ]
        },
        {
          "name": "stdout",
          "output_type": "stream",
          "text": [
            "229/250 [==========================>...] - ETA: 8s - loss: 6.3003 - root_mean_squared_error: 2.5100"
          ]
        },
        {
          "name": "stderr",
          "output_type": "stream",
          "text": [
            "2023-12-08 19:18:33.957529: I tensorflow/core/kernels/data/shuffle_dataset_op.cc:452] Shuffle buffer filled.\n"
          ]
        },
        {
          "name": "stdout",
          "output_type": "stream",
          "text": [
            "250/250 [==============================] - ETA: 0s - loss: 6.2192 - root_mean_squared_error: 2.4938"
          ]
        },
        {
          "name": "stderr",
          "output_type": "stream",
          "text": [
            "2023-12-08 19:18:46.546126: I tensorflow/core/kernels/data/shuffle_dataset_op.cc:422] ShuffleDatasetV3:35: Filling up shuffle buffer (this may take a while): 1845 of 2000\n",
            "2023-12-08 19:18:47.435786: I tensorflow/core/kernels/data/shuffle_dataset_op.cc:452] Shuffle buffer filled.\n"
          ]
        },
        {
          "name": "stdout",
          "output_type": "stream",
          "text": [
            "250/250 [==============================] - 151s 603ms/step - loss: 6.2192 - root_mean_squared_error: 2.4938 - val_loss: 4.4322 - val_root_mean_squared_error: 2.1053\n",
            "Epoch 4/50\n",
            " 42/250 [====>.........................] - ETA: 1:24 - loss: 6.5611 - root_mean_squared_error: 2.5615"
          ]
        },
        {
          "name": "stderr",
          "output_type": "stream",
          "text": [
            "2023-12-08 19:19:48.313991: I tensorflow/core/kernels/data/shuffle_dataset_op.cc:422] ShuffleDatasetV3:35: Filling up shuffle buffer (this may take a while): 1934 of 2000\n"
          ]
        },
        {
          "name": "stdout",
          "output_type": "stream",
          "text": [
            " 43/250 [====>.........................] - ETA: 1:23 - loss: 6.5070 - root_mean_squared_error: 2.5509"
          ]
        },
        {
          "name": "stderr",
          "output_type": "stream",
          "text": [
            "2023-12-08 19:19:48.656502: I tensorflow/core/kernels/data/shuffle_dataset_op.cc:452] Shuffle buffer filled.\n"
          ]
        },
        {
          "name": "stdout",
          "output_type": "stream",
          "text": [
            " 74/250 [=======>......................] - ETA: 1:10 - loss: 6.5891 - root_mean_squared_error: 2.5669"
          ]
        },
        {
          "name": "stderr",
          "output_type": "stream",
          "text": [
            "2023-12-08 19:20:01.169351: I tensorflow/core/kernels/data/shuffle_dataset_op.cc:422] ShuffleDatasetV3:35: Filling up shuffle buffer (this may take a while): 1934 of 2000\n"
          ]
        },
        {
          "name": "stdout",
          "output_type": "stream",
          "text": [
            " 75/250 [========>.....................] - ETA: 1:10 - loss: 6.5683 - root_mean_squared_error: 2.5629"
          ]
        },
        {
          "name": "stderr",
          "output_type": "stream",
          "text": [
            "2023-12-08 19:20:01.515111: I tensorflow/core/kernels/data/shuffle_dataset_op.cc:452] Shuffle buffer filled.\n"
          ]
        },
        {
          "name": "stdout",
          "output_type": "stream",
          "text": [
            "106/250 [===========>..................] - ETA: 58s - loss: 6.4460 - root_mean_squared_error: 2.5389"
          ]
        },
        {
          "name": "stderr",
          "output_type": "stream",
          "text": [
            "2023-12-08 19:20:14.139497: I tensorflow/core/kernels/data/shuffle_dataset_op.cc:422] ShuffleDatasetV3:35: Filling up shuffle buffer (this may take a while): 1930 of 2000\n"
          ]
        },
        {
          "name": "stdout",
          "output_type": "stream",
          "text": [
            "107/250 [===========>..................] - ETA: 57s - loss: 6.4392 - root_mean_squared_error: 2.5375"
          ]
        },
        {
          "name": "stderr",
          "output_type": "stream",
          "text": [
            "2023-12-08 19:20:14.503638: I tensorflow/core/kernels/data/shuffle_dataset_op.cc:452] Shuffle buffer filled.\n"
          ]
        },
        {
          "name": "stdout",
          "output_type": "stream",
          "text": [
            "138/250 [===============>..............] - ETA: 45s - loss: 6.4860 - root_mean_squared_error: 2.5468"
          ]
        },
        {
          "name": "stderr",
          "output_type": "stream",
          "text": [
            "2023-12-08 19:20:27.205654: I tensorflow/core/kernels/data/shuffle_dataset_op.cc:422] ShuffleDatasetV3:35: Filling up shuffle buffer (this may take a while): 1927 of 2000\n"
          ]
        },
        {
          "name": "stdout",
          "output_type": "stream",
          "text": [
            "139/250 [===============>..............] - ETA: 44s - loss: 6.5071 - root_mean_squared_error: 2.5509"
          ]
        },
        {
          "name": "stderr",
          "output_type": "stream",
          "text": [
            "2023-12-08 19:20:27.585451: I tensorflow/core/kernels/data/shuffle_dataset_op.cc:452] Shuffle buffer filled.\n"
          ]
        },
        {
          "name": "stdout",
          "output_type": "stream",
          "text": [
            "170/250 [===================>..........] - ETA: 32s - loss: 6.4196 - root_mean_squared_error: 2.5337"
          ]
        },
        {
          "name": "stderr",
          "output_type": "stream",
          "text": [
            "2023-12-08 19:20:40.309397: I tensorflow/core/kernels/data/shuffle_dataset_op.cc:422] ShuffleDatasetV3:35: Filling up shuffle buffer (this may take a while): 1906 of 2000\n"
          ]
        },
        {
          "name": "stdout",
          "output_type": "stream",
          "text": [
            "171/250 [===================>..........] - ETA: 32s - loss: 6.4383 - root_mean_squared_error: 2.5374"
          ]
        },
        {
          "name": "stderr",
          "output_type": "stream",
          "text": [
            "2023-12-08 19:20:40.803877: I tensorflow/core/kernels/data/shuffle_dataset_op.cc:452] Shuffle buffer filled.\n"
          ]
        },
        {
          "name": "stdout",
          "output_type": "stream",
          "text": [
            "202/250 [=======================>......] - ETA: 19s - loss: 6.5228 - root_mean_squared_error: 2.5540"
          ]
        },
        {
          "name": "stderr",
          "output_type": "stream",
          "text": [
            "2023-12-08 19:20:53.213722: I tensorflow/core/kernels/data/shuffle_dataset_op.cc:422] ShuffleDatasetV3:35: Filling up shuffle buffer (this may take a while): 1908 of 2000\n"
          ]
        },
        {
          "name": "stdout",
          "output_type": "stream",
          "text": [
            "203/250 [=======================>......] - ETA: 19s - loss: 6.5342 - root_mean_squared_error: 2.5562"
          ]
        },
        {
          "name": "stderr",
          "output_type": "stream",
          "text": [
            "2023-12-08 19:20:53.699185: I tensorflow/core/kernels/data/shuffle_dataset_op.cc:452] Shuffle buffer filled.\n"
          ]
        },
        {
          "name": "stdout",
          "output_type": "stream",
          "text": [
            "234/250 [===========================>..] - ETA: 6s - loss: 6.4706 - root_mean_squared_error: 2.5437"
          ]
        },
        {
          "name": "stderr",
          "output_type": "stream",
          "text": [
            "2023-12-08 19:21:06.105923: I tensorflow/core/kernels/data/shuffle_dataset_op.cc:422] ShuffleDatasetV3:35: Filling up shuffle buffer (this may take a while): 1909 of 2000\n"
          ]
        },
        {
          "name": "stdout",
          "output_type": "stream",
          "text": [
            "235/250 [===========================>..] - ETA: 6s - loss: 6.4805 - root_mean_squared_error: 2.5457"
          ]
        },
        {
          "name": "stderr",
          "output_type": "stream",
          "text": [
            "2023-12-08 19:21:06.580392: I tensorflow/core/kernels/data/shuffle_dataset_op.cc:452] Shuffle buffer filled.\n"
          ]
        },
        {
          "name": "stdout",
          "output_type": "stream",
          "text": [
            "250/250 [==============================] - ETA: 0s - loss: 6.4306 - root_mean_squared_error: 2.5359"
          ]
        },
        {
          "name": "stderr",
          "output_type": "stream",
          "text": [
            "2023-12-08 19:21:19.171706: I tensorflow/core/kernels/data/shuffle_dataset_op.cc:422] ShuffleDatasetV3:35: Filling up shuffle buffer (this may take a while): 1770 of 2000\n",
            "2023-12-08 19:21:20.510735: I tensorflow/core/kernels/data/shuffle_dataset_op.cc:452] Shuffle buffer filled.\n"
          ]
        },
        {
          "name": "stdout",
          "output_type": "stream",
          "text": [
            "250/250 [==============================] - 150s 599ms/step - loss: 6.4306 - root_mean_squared_error: 2.5359 - val_loss: 4.4235 - val_root_mean_squared_error: 2.1032\n",
            "Epoch 5/50\n",
            " 48/250 [====>.........................] - ETA: 1:22 - loss: 6.3399 - root_mean_squared_error: 2.5179"
          ]
        },
        {
          "name": "stderr",
          "output_type": "stream",
          "text": [
            "2023-12-08 19:22:20.476312: I tensorflow/core/kernels/data/shuffle_dataset_op.cc:422] ShuffleDatasetV3:35: Filling up shuffle buffer (this may take a while): 1942 of 2000\n"
          ]
        },
        {
          "name": "stdout",
          "output_type": "stream",
          "text": [
            " 49/250 [====>.........................] - ETA: 1:21 - loss: 6.2586 - root_mean_squared_error: 2.5017"
          ]
        },
        {
          "name": "stderr",
          "output_type": "stream",
          "text": [
            "2023-12-08 19:22:20.777567: I tensorflow/core/kernels/data/shuffle_dataset_op.cc:452] Shuffle buffer filled.\n"
          ]
        },
        {
          "name": "stdout",
          "output_type": "stream",
          "text": [
            " 80/250 [========>.....................] - ETA: 1:08 - loss: 6.5298 - root_mean_squared_error: 2.5553"
          ]
        },
        {
          "name": "stderr",
          "output_type": "stream",
          "text": [
            "2023-12-08 19:22:33.360682: I tensorflow/core/kernels/data/shuffle_dataset_op.cc:422] ShuffleDatasetV3:35: Filling up shuffle buffer (this may take a while): 1934 of 2000\n"
          ]
        },
        {
          "name": "stdout",
          "output_type": "stream",
          "text": [
            " 81/250 [========>.....................] - ETA: 1:08 - loss: 6.5503 - root_mean_squared_error: 2.5594"
          ]
        },
        {
          "name": "stderr",
          "output_type": "stream",
          "text": [
            "2023-12-08 19:22:33.703190: I tensorflow/core/kernels/data/shuffle_dataset_op.cc:452] Shuffle buffer filled.\n"
          ]
        },
        {
          "name": "stdout",
          "output_type": "stream",
          "text": [
            "112/250 [============>.................] - ETA: 55s - loss: 6.3773 - root_mean_squared_error: 2.5253"
          ]
        },
        {
          "name": "stderr",
          "output_type": "stream",
          "text": [
            "2023-12-08 19:22:46.293058: I tensorflow/core/kernels/data/shuffle_dataset_op.cc:422] ShuffleDatasetV3:35: Filling up shuffle buffer (this may take a while): 1933 of 2000\n"
          ]
        },
        {
          "name": "stdout",
          "output_type": "stream",
          "text": [
            "113/250 [============>.................] - ETA: 55s - loss: 6.3815 - root_mean_squared_error: 2.5262"
          ]
        },
        {
          "name": "stderr",
          "output_type": "stream",
          "text": [
            "2023-12-08 19:22:46.640133: I tensorflow/core/kernels/data/shuffle_dataset_op.cc:452] Shuffle buffer filled.\n"
          ]
        },
        {
          "name": "stdout",
          "output_type": "stream",
          "text": [
            "144/250 [================>.............] - ETA: 42s - loss: 6.4415 - root_mean_squared_error: 2.5380"
          ]
        },
        {
          "name": "stderr",
          "output_type": "stream",
          "text": [
            "2023-12-08 19:22:59.197010: I tensorflow/core/kernels/data/shuffle_dataset_op.cc:422] ShuffleDatasetV3:35: Filling up shuffle buffer (this may take a while): 1938 of 2000\n"
          ]
        },
        {
          "name": "stdout",
          "output_type": "stream",
          "text": [
            "145/250 [================>.............] - ETA: 42s - loss: 6.4050 - root_mean_squared_error: 2.5308"
          ]
        },
        {
          "name": "stderr",
          "output_type": "stream",
          "text": [
            "2023-12-08 19:22:59.524318: I tensorflow/core/kernels/data/shuffle_dataset_op.cc:452] Shuffle buffer filled.\n"
          ]
        },
        {
          "name": "stdout",
          "output_type": "stream",
          "text": [
            "176/250 [====================>.........] - ETA: 29s - loss: 6.4188 - root_mean_squared_error: 2.5335"
          ]
        },
        {
          "name": "stderr",
          "output_type": "stream",
          "text": [
            "2023-12-08 19:23:12.166925: I tensorflow/core/kernels/data/shuffle_dataset_op.cc:422] ShuffleDatasetV3:35: Filling up shuffle buffer (this may take a while): 1932 of 2000\n"
          ]
        },
        {
          "name": "stdout",
          "output_type": "stream",
          "text": [
            "177/250 [====================>.........] - ETA: 29s - loss: 6.4218 - root_mean_squared_error: 2.5341"
          ]
        },
        {
          "name": "stderr",
          "output_type": "stream",
          "text": [
            "2023-12-08 19:23:12.520699: I tensorflow/core/kernels/data/shuffle_dataset_op.cc:452] Shuffle buffer filled.\n"
          ]
        },
        {
          "name": "stdout",
          "output_type": "stream",
          "text": [
            "208/250 [=======================>......] - ETA: 16s - loss: 6.2787 - root_mean_squared_error: 2.5057"
          ]
        },
        {
          "name": "stderr",
          "output_type": "stream",
          "text": [
            "2023-12-08 19:23:25.088099: I tensorflow/core/kernels/data/shuffle_dataset_op.cc:422] ShuffleDatasetV3:35: Filling up shuffle buffer (this may take a while): 1938 of 2000\n"
          ]
        },
        {
          "name": "stdout",
          "output_type": "stream",
          "text": [
            "209/250 [========================>.....] - ETA: 16s - loss: 6.2583 - root_mean_squared_error: 2.5017"
          ]
        },
        {
          "name": "stderr",
          "output_type": "stream",
          "text": [
            "2023-12-08 19:23:25.416376: I tensorflow/core/kernels/data/shuffle_dataset_op.cc:452] Shuffle buffer filled.\n"
          ]
        },
        {
          "name": "stdout",
          "output_type": "stream",
          "text": [
            "240/250 [===========================>..] - ETA: 4s - loss: 6.4406 - root_mean_squared_error: 2.5378"
          ]
        },
        {
          "name": "stderr",
          "output_type": "stream",
          "text": [
            "2023-12-08 19:23:38.014105: I tensorflow/core/kernels/data/shuffle_dataset_op.cc:422] ShuffleDatasetV3:35: Filling up shuffle buffer (this may take a while): 1930 of 2000\n"
          ]
        },
        {
          "name": "stdout",
          "output_type": "stream",
          "text": [
            "241/250 [===========================>..] - ETA: 3s - loss: 6.4204 - root_mean_squared_error: 2.5338"
          ]
        },
        {
          "name": "stderr",
          "output_type": "stream",
          "text": [
            "2023-12-08 19:23:38.377956: I tensorflow/core/kernels/data/shuffle_dataset_op.cc:452] Shuffle buffer filled.\n"
          ]
        },
        {
          "name": "stdout",
          "output_type": "stream",
          "text": [
            "250/250 [==============================] - ETA: 0s - loss: 6.3580 - root_mean_squared_error: 2.5215"
          ]
        },
        {
          "name": "stderr",
          "output_type": "stream",
          "text": [
            "2023-12-08 19:23:50.950546: I tensorflow/core/kernels/data/shuffle_dataset_op.cc:422] ShuffleDatasetV3:35: Filling up shuffle buffer (this may take a while): 1776 of 2000\n",
            "2023-12-08 19:23:52.236766: I tensorflow/core/kernels/data/shuffle_dataset_op.cc:452] Shuffle buffer filled.\n"
          ]
        },
        {
          "name": "stdout",
          "output_type": "stream",
          "text": [
            "250/250 [==============================] - 149s 599ms/step - loss: 6.3580 - root_mean_squared_error: 2.5215 - val_loss: 4.4103 - val_root_mean_squared_error: 2.1001\n",
            "Epoch 6/50\n",
            " 54/250 [=====>........................] - ETA: 1:19 - loss: 6.2036 - root_mean_squared_error: 2.4907"
          ]
        },
        {
          "name": "stderr",
          "output_type": "stream",
          "text": [
            "2023-12-08 19:24:52.453603: I tensorflow/core/kernels/data/shuffle_dataset_op.cc:422] ShuffleDatasetV3:35: Filling up shuffle buffer (this may take a while): 1939 of 2000\n"
          ]
        },
        {
          "name": "stdout",
          "output_type": "stream",
          "text": [
            " 55/250 [=====>........................] - ETA: 1:19 - loss: 6.1743 - root_mean_squared_error: 2.4848"
          ]
        },
        {
          "name": "stderr",
          "output_type": "stream",
          "text": [
            "2023-12-08 19:24:52.773528: I tensorflow/core/kernels/data/shuffle_dataset_op.cc:452] Shuffle buffer filled.\n"
          ]
        },
        {
          "name": "stdout",
          "output_type": "stream",
          "text": [
            " 86/250 [=========>....................] - ETA: 1:06 - loss: 6.2443 - root_mean_squared_error: 2.4989"
          ]
        },
        {
          "name": "stderr",
          "output_type": "stream",
          "text": [
            "2023-12-08 19:25:05.335026: I tensorflow/core/kernels/data/shuffle_dataset_op.cc:422] ShuffleDatasetV3:35: Filling up shuffle buffer (this may take a while): 1932 of 2000\n"
          ]
        },
        {
          "name": "stdout",
          "output_type": "stream",
          "text": [
            " 87/250 [=========>....................] - ETA: 1:06 - loss: 6.3279 - root_mean_squared_error: 2.5155"
          ]
        },
        {
          "name": "stderr",
          "output_type": "stream",
          "text": [
            "2023-12-08 19:25:05.689135: I tensorflow/core/kernels/data/shuffle_dataset_op.cc:452] Shuffle buffer filled.\n"
          ]
        },
        {
          "name": "stdout",
          "output_type": "stream",
          "text": [
            "118/250 [=============>................] - ETA: 53s - loss: 6.3992 - root_mean_squared_error: 2.5297"
          ]
        },
        {
          "name": "stderr",
          "output_type": "stream",
          "text": [
            "2023-12-08 19:25:18.292805: I tensorflow/core/kernels/data/shuffle_dataset_op.cc:422] ShuffleDatasetV3:35: Filling up shuffle buffer (this may take a while): 1936 of 2000\n"
          ]
        },
        {
          "name": "stdout",
          "output_type": "stream",
          "text": [
            "119/250 [=============>................] - ETA: 53s - loss: 6.4556 - root_mean_squared_error: 2.5408"
          ]
        },
        {
          "name": "stderr",
          "output_type": "stream",
          "text": [
            "2023-12-08 19:25:18.628853: I tensorflow/core/kernels/data/shuffle_dataset_op.cc:452] Shuffle buffer filled.\n"
          ]
        },
        {
          "name": "stdout",
          "output_type": "stream",
          "text": [
            "150/250 [=================>............] - ETA: 40s - loss: 6.3665 - root_mean_squared_error: 2.5232"
          ]
        },
        {
          "name": "stderr",
          "output_type": "stream",
          "text": [
            "2023-12-08 19:25:31.158256: I tensorflow/core/kernels/data/shuffle_dataset_op.cc:422] ShuffleDatasetV3:35: Filling up shuffle buffer (this may take a while): 1919 of 2000\n"
          ]
        },
        {
          "name": "stdout",
          "output_type": "stream",
          "text": [
            "151/250 [=================>............] - ETA: 40s - loss: 6.3470 - root_mean_squared_error: 2.5193"
          ]
        },
        {
          "name": "stderr",
          "output_type": "stream",
          "text": [
            "2023-12-08 19:25:31.586617: I tensorflow/core/kernels/data/shuffle_dataset_op.cc:452] Shuffle buffer filled.\n"
          ]
        },
        {
          "name": "stdout",
          "output_type": "stream",
          "text": [
            "182/250 [====================>.........] - ETA: 27s - loss: 6.3708 - root_mean_squared_error: 2.5240"
          ]
        },
        {
          "name": "stderr",
          "output_type": "stream",
          "text": [
            "2023-12-08 19:25:44.054438: I tensorflow/core/kernels/data/shuffle_dataset_op.cc:422] ShuffleDatasetV3:35: Filling up shuffle buffer (this may take a while): 1917 of 2000\n"
          ]
        },
        {
          "name": "stdout",
          "output_type": "stream",
          "text": [
            "183/250 [====================>.........] - ETA: 27s - loss: 6.3590 - root_mean_squared_error: 2.5217"
          ]
        },
        {
          "name": "stderr",
          "output_type": "stream",
          "text": [
            "2023-12-08 19:25:44.488553: I tensorflow/core/kernels/data/shuffle_dataset_op.cc:452] Shuffle buffer filled.\n"
          ]
        },
        {
          "name": "stdout",
          "output_type": "stream",
          "text": [
            "214/250 [========================>.....] - ETA: 14s - loss: 6.3289 - root_mean_squared_error: 2.5157"
          ]
        },
        {
          "name": "stderr",
          "output_type": "stream",
          "text": [
            "2023-12-08 19:25:57.004895: I tensorflow/core/kernels/data/shuffle_dataset_op.cc:422] ShuffleDatasetV3:35: Filling up shuffle buffer (this may take a while): 1933 of 2000\n"
          ]
        },
        {
          "name": "stdout",
          "output_type": "stream",
          "text": [
            "215/250 [========================>.....] - ETA: 14s - loss: 6.3423 - root_mean_squared_error: 2.5184"
          ]
        },
        {
          "name": "stderr",
          "output_type": "stream",
          "text": [
            "2023-12-08 19:25:57.353453: I tensorflow/core/kernels/data/shuffle_dataset_op.cc:452] Shuffle buffer filled.\n"
          ]
        },
        {
          "name": "stdout",
          "output_type": "stream",
          "text": [
            "246/250 [============================>.] - ETA: 1s - loss: 6.3796 - root_mean_squared_error: 2.5258"
          ]
        },
        {
          "name": "stderr",
          "output_type": "stream",
          "text": [
            "2023-12-08 19:26:09.915687: I tensorflow/core/kernels/data/shuffle_dataset_op.cc:422] ShuffleDatasetV3:35: Filling up shuffle buffer (this may take a while): 1912 of 2000\n"
          ]
        },
        {
          "name": "stdout",
          "output_type": "stream",
          "text": [
            "247/250 [============================>.] - ETA: 1s - loss: 6.3733 - root_mean_squared_error: 2.5245"
          ]
        },
        {
          "name": "stderr",
          "output_type": "stream",
          "text": [
            "2023-12-08 19:26:10.372929: I tensorflow/core/kernels/data/shuffle_dataset_op.cc:452] Shuffle buffer filled.\n"
          ]
        },
        {
          "name": "stdout",
          "output_type": "stream",
          "text": [
            "250/250 [==============================] - 150s 602ms/step - loss: 6.3851 - root_mean_squared_error: 2.5269 - val_loss: 4.4081 - val_root_mean_squared_error: 2.0996\n",
            "Epoch 7/50\n",
            " 28/250 [==>...........................] - ETA: 1:28 - loss: 5.9502 - root_mean_squared_error: 2.4393"
          ]
        },
        {
          "name": "stderr",
          "output_type": "stream",
          "text": [
            "2023-12-08 19:27:11.934280: I tensorflow/core/kernels/data/shuffle_dataset_op.cc:422] ShuffleDatasetV3:35: Filling up shuffle buffer (this may take a while): 1882 of 2000\n"
          ]
        },
        {
          "name": "stdout",
          "output_type": "stream",
          "text": [
            " 30/250 [==>...........................] - ETA: 1:27 - loss: 6.1464 - root_mean_squared_error: 2.4792"
          ]
        },
        {
          "name": "stderr",
          "output_type": "stream",
          "text": [
            "2023-12-08 19:27:12.553472: I tensorflow/core/kernels/data/shuffle_dataset_op.cc:452] Shuffle buffer filled.\n"
          ]
        },
        {
          "name": "stdout",
          "output_type": "stream",
          "text": [
            " 60/250 [======>.......................] - ETA: 1:16 - loss: 6.3875 - root_mean_squared_error: 2.5274"
          ]
        },
        {
          "name": "stderr",
          "output_type": "stream",
          "text": [
            "2023-12-08 19:27:24.767121: I tensorflow/core/kernels/data/shuffle_dataset_op.cc:422] ShuffleDatasetV3:35: Filling up shuffle buffer (this may take a while): 1920 of 2000\n"
          ]
        },
        {
          "name": "stdout",
          "output_type": "stream",
          "text": [
            " 61/250 [======>.......................] - ETA: 1:15 - loss: 6.3348 - root_mean_squared_error: 2.5169"
          ]
        },
        {
          "name": "stderr",
          "output_type": "stream",
          "text": [
            "2023-12-08 19:27:25.186319: I tensorflow/core/kernels/data/shuffle_dataset_op.cc:452] Shuffle buffer filled.\n"
          ]
        },
        {
          "name": "stdout",
          "output_type": "stream",
          "text": [
            " 92/250 [==========>...................] - ETA: 1:03 - loss: 6.3144 - root_mean_squared_error: 2.5128"
          ]
        },
        {
          "name": "stderr",
          "output_type": "stream",
          "text": [
            "2023-12-08 19:27:37.692829: I tensorflow/core/kernels/data/shuffle_dataset_op.cc:422] ShuffleDatasetV3:35: Filling up shuffle buffer (this may take a while): 1947 of 2000\n"
          ]
        },
        {
          "name": "stdout",
          "output_type": "stream",
          "text": [
            " 93/250 [==========>...................] - ETA: 1:03 - loss: 6.3089 - root_mean_squared_error: 2.5118"
          ]
        },
        {
          "name": "stderr",
          "output_type": "stream",
          "text": [
            "2023-12-08 19:27:37.967027: I tensorflow/core/kernels/data/shuffle_dataset_op.cc:452] Shuffle buffer filled.\n"
          ]
        },
        {
          "name": "stdout",
          "output_type": "stream",
          "text": [
            "124/250 [=============>................] - ETA: 50s - loss: 6.1882 - root_mean_squared_error: 2.4876"
          ]
        },
        {
          "name": "stderr",
          "output_type": "stream",
          "text": [
            "2023-12-08 19:27:50.570518: I tensorflow/core/kernels/data/shuffle_dataset_op.cc:422] ShuffleDatasetV3:35: Filling up shuffle buffer (this may take a while): 1935 of 2000\n"
          ]
        },
        {
          "name": "stdout",
          "output_type": "stream",
          "text": [
            "125/250 [==============>...............] - ETA: 50s - loss: 6.1830 - root_mean_squared_error: 2.4866"
          ]
        },
        {
          "name": "stderr",
          "output_type": "stream",
          "text": [
            "2023-12-08 19:27:50.914596: I tensorflow/core/kernels/data/shuffle_dataset_op.cc:452] Shuffle buffer filled.\n"
          ]
        },
        {
          "name": "stdout",
          "output_type": "stream",
          "text": [
            "156/250 [=================>............] - ETA: 37s - loss: 6.2656 - root_mean_squared_error: 2.5031"
          ]
        },
        {
          "name": "stderr",
          "output_type": "stream",
          "text": [
            "2023-12-08 19:28:03.472142: I tensorflow/core/kernels/data/shuffle_dataset_op.cc:422] ShuffleDatasetV3:35: Filling up shuffle buffer (this may take a while): 1930 of 2000\n"
          ]
        },
        {
          "name": "stdout",
          "output_type": "stream",
          "text": [
            "157/250 [=================>............] - ETA: 37s - loss: 6.2567 - root_mean_squared_error: 2.5013"
          ]
        },
        {
          "name": "stderr",
          "output_type": "stream",
          "text": [
            "2023-12-08 19:28:03.840130: I tensorflow/core/kernels/data/shuffle_dataset_op.cc:452] Shuffle buffer filled.\n"
          ]
        },
        {
          "name": "stdout",
          "output_type": "stream",
          "text": [
            "188/250 [=====================>........] - ETA: 24s - loss: 6.2431 - root_mean_squared_error: 2.4986"
          ]
        },
        {
          "name": "stderr",
          "output_type": "stream",
          "text": [
            "2023-12-08 19:28:16.393956: I tensorflow/core/kernels/data/shuffle_dataset_op.cc:422] ShuffleDatasetV3:35: Filling up shuffle buffer (this may take a while): 1937 of 2000\n"
          ]
        },
        {
          "name": "stdout",
          "output_type": "stream",
          "text": [
            "189/250 [=====================>........] - ETA: 24s - loss: 6.2620 - root_mean_squared_error: 2.5024"
          ]
        },
        {
          "name": "stderr",
          "output_type": "stream",
          "text": [
            "2023-12-08 19:28:16.722480: I tensorflow/core/kernels/data/shuffle_dataset_op.cc:452] Shuffle buffer filled.\n"
          ]
        },
        {
          "name": "stdout",
          "output_type": "stream",
          "text": [
            "220/250 [=========================>....] - ETA: 12s - loss: 6.3053 - root_mean_squared_error: 2.5110"
          ]
        },
        {
          "name": "stderr",
          "output_type": "stream",
          "text": [
            "2023-12-08 19:28:29.319505: I tensorflow/core/kernels/data/shuffle_dataset_op.cc:422] ShuffleDatasetV3:35: Filling up shuffle buffer (this may take a while): 1943 of 2000\n"
          ]
        },
        {
          "name": "stdout",
          "output_type": "stream",
          "text": [
            "221/250 [=========================>....] - ETA: 11s - loss: 6.2962 - root_mean_squared_error: 2.5092"
          ]
        },
        {
          "name": "stderr",
          "output_type": "stream",
          "text": [
            "2023-12-08 19:28:29.614918: I tensorflow/core/kernels/data/shuffle_dataset_op.cc:452] Shuffle buffer filled.\n"
          ]
        },
        {
          "name": "stdout",
          "output_type": "stream",
          "text": [
            "250/250 [==============================] - ETA: 0s - loss: 6.2906 - root_mean_squared_error: 2.5081"
          ]
        },
        {
          "name": "stderr",
          "output_type": "stream",
          "text": [
            "2023-12-08 19:28:42.225876: I tensorflow/core/kernels/data/shuffle_dataset_op.cc:422] ShuffleDatasetV3:35: Filling up shuffle buffer (this may take a while): 1926 of 2000\n",
            "2023-12-08 19:28:42.650248: I tensorflow/core/kernels/data/shuffle_dataset_op.cc:452] Shuffle buffer filled.\n"
          ]
        },
        {
          "name": "stdout",
          "output_type": "stream",
          "text": [
            "250/250 [==============================] - 149s 598ms/step - loss: 6.2906 - root_mean_squared_error: 2.5081 - val_loss: 4.4030 - val_root_mean_squared_error: 2.0983\n",
            "Epoch 8/50\n",
            " 34/250 [===>..........................] - ETA: 1:26 - loss: 6.0513 - root_mean_squared_error: 2.4599"
          ]
        },
        {
          "name": "stderr",
          "output_type": "stream",
          "text": [
            "2023-12-08 19:29:43.730488: I tensorflow/core/kernels/data/shuffle_dataset_op.cc:422] ShuffleDatasetV3:35: Filling up shuffle buffer (this may take a while): 1933 of 2000\n"
          ]
        },
        {
          "name": "stdout",
          "output_type": "stream",
          "text": [
            " 35/250 [===>..........................] - ETA: 1:26 - loss: 6.2981 - root_mean_squared_error: 2.5096"
          ]
        },
        {
          "name": "stderr",
          "output_type": "stream",
          "text": [
            "2023-12-08 19:29:44.081682: I tensorflow/core/kernels/data/shuffle_dataset_op.cc:452] Shuffle buffer filled.\n"
          ]
        },
        {
          "name": "stdout",
          "output_type": "stream",
          "text": [
            " 66/250 [======>.......................] - ETA: 1:14 - loss: 6.4377 - root_mean_squared_error: 2.5373"
          ]
        },
        {
          "name": "stderr",
          "output_type": "stream",
          "text": [
            "2023-12-08 19:29:56.595533: I tensorflow/core/kernels/data/shuffle_dataset_op.cc:422] ShuffleDatasetV3:35: Filling up shuffle buffer (this may take a while): 1942 of 2000\n"
          ]
        },
        {
          "name": "stdout",
          "output_type": "stream",
          "text": [
            " 67/250 [=======>......................] - ETA: 1:13 - loss: 6.5011 - root_mean_squared_error: 2.5497"
          ]
        },
        {
          "name": "stderr",
          "output_type": "stream",
          "text": [
            "2023-12-08 19:29:56.898799: I tensorflow/core/kernels/data/shuffle_dataset_op.cc:452] Shuffle buffer filled.\n"
          ]
        },
        {
          "name": "stdout",
          "output_type": "stream",
          "text": [
            " 98/250 [==========>...................] - ETA: 1:01 - loss: 6.2917 - root_mean_squared_error: 2.5083"
          ]
        },
        {
          "name": "stderr",
          "output_type": "stream",
          "text": [
            "2023-12-08 19:30:09.476800: I tensorflow/core/kernels/data/shuffle_dataset_op.cc:422] ShuffleDatasetV3:35: Filling up shuffle buffer (this may take a while): 1933 of 2000\n"
          ]
        },
        {
          "name": "stdout",
          "output_type": "stream",
          "text": [
            " 99/250 [==========>...................] - ETA: 1:00 - loss: 6.2565 - root_mean_squared_error: 2.5013"
          ]
        },
        {
          "name": "stderr",
          "output_type": "stream",
          "text": [
            "2023-12-08 19:30:09.826440: I tensorflow/core/kernels/data/shuffle_dataset_op.cc:452] Shuffle buffer filled.\n"
          ]
        },
        {
          "name": "stdout",
          "output_type": "stream",
          "text": [
            "130/250 [==============>...............] - ETA: 48s - loss: 6.3806 - root_mean_squared_error: 2.5260"
          ]
        },
        {
          "name": "stderr",
          "output_type": "stream",
          "text": [
            "2023-12-08 19:30:22.366286: I tensorflow/core/kernels/data/shuffle_dataset_op.cc:422] ShuffleDatasetV3:35: Filling up shuffle buffer (this may take a while): 1940 of 2000\n"
          ]
        },
        {
          "name": "stdout",
          "output_type": "stream",
          "text": [
            "131/250 [==============>...............] - ETA: 47s - loss: 6.3823 - root_mean_squared_error: 2.5263"
          ]
        },
        {
          "name": "stderr",
          "output_type": "stream",
          "text": [
            "2023-12-08 19:30:22.676247: I tensorflow/core/kernels/data/shuffle_dataset_op.cc:452] Shuffle buffer filled.\n"
          ]
        },
        {
          "name": "stdout",
          "output_type": "stream",
          "text": [
            "162/250 [==================>...........] - ETA: 35s - loss: 6.3740 - root_mean_squared_error: 2.5247"
          ]
        },
        {
          "name": "stderr",
          "output_type": "stream",
          "text": [
            "2023-12-08 19:30:35.262643: I tensorflow/core/kernels/data/shuffle_dataset_op.cc:422] ShuffleDatasetV3:35: Filling up shuffle buffer (this may take a while): 1913 of 2000\n"
          ]
        },
        {
          "name": "stdout",
          "output_type": "stream",
          "text": [
            "163/250 [==================>...........] - ETA: 35s - loss: 6.3529 - root_mean_squared_error: 2.5205"
          ]
        },
        {
          "name": "stderr",
          "output_type": "stream",
          "text": [
            "2023-12-08 19:30:35.717106: I tensorflow/core/kernels/data/shuffle_dataset_op.cc:452] Shuffle buffer filled.\n"
          ]
        },
        {
          "name": "stdout",
          "output_type": "stream",
          "text": [
            "194/250 [======================>.......] - ETA: 22s - loss: 6.3179 - root_mean_squared_error: 2.5136"
          ]
        },
        {
          "name": "stderr",
          "output_type": "stream",
          "text": [
            "2023-12-08 19:30:48.182450: I tensorflow/core/kernels/data/shuffle_dataset_op.cc:422] ShuffleDatasetV3:35: Filling up shuffle buffer (this may take a while): 1948 of 2000\n"
          ]
        },
        {
          "name": "stdout",
          "output_type": "stream",
          "text": [
            "195/250 [======================>.......] - ETA: 22s - loss: 6.3389 - root_mean_squared_error: 2.5177"
          ]
        },
        {
          "name": "stderr",
          "output_type": "stream",
          "text": [
            "2023-12-08 19:30:48.450053: I tensorflow/core/kernels/data/shuffle_dataset_op.cc:452] Shuffle buffer filled.\n"
          ]
        },
        {
          "name": "stdout",
          "output_type": "stream",
          "text": [
            "226/250 [==========================>...] - ETA: 9s - loss: 6.3188 - root_mean_squared_error: 2.5137 "
          ]
        },
        {
          "name": "stderr",
          "output_type": "stream",
          "text": [
            "2023-12-08 19:31:01.077906: I tensorflow/core/kernels/data/shuffle_dataset_op.cc:422] ShuffleDatasetV3:35: Filling up shuffle buffer (this may take a while): 1917 of 2000\n"
          ]
        },
        {
          "name": "stdout",
          "output_type": "stream",
          "text": [
            "227/250 [==========================>...] - ETA: 9s - loss: 6.3064 - root_mean_squared_error: 2.5113"
          ]
        },
        {
          "name": "stderr",
          "output_type": "stream",
          "text": [
            "2023-12-08 19:31:01.504654: I tensorflow/core/kernels/data/shuffle_dataset_op.cc:452] Shuffle buffer filled.\n"
          ]
        },
        {
          "name": "stdout",
          "output_type": "stream",
          "text": [
            "250/250 [==============================] - ETA: 0s - loss: 6.3642 - root_mean_squared_error: 2.5227"
          ]
        },
        {
          "name": "stderr",
          "output_type": "stream",
          "text": [
            "2023-12-08 19:31:14.065207: I tensorflow/core/kernels/data/shuffle_dataset_op.cc:422] ShuffleDatasetV3:35: Filling up shuffle buffer (this may take a while): 1866 of 2000\n",
            "2023-12-08 19:31:14.831343: I tensorflow/core/kernels/data/shuffle_dataset_op.cc:452] Shuffle buffer filled.\n"
          ]
        },
        {
          "name": "stdout",
          "output_type": "stream",
          "text": [
            "250/250 [==============================] - 149s 596ms/step - loss: 6.3642 - root_mean_squared_error: 2.5227 - val_loss: 4.4006 - val_root_mean_squared_error: 2.0978\n",
            "Epoch 9/50\n",
            " 40/250 [===>..........................] - ETA: 1:24 - loss: 6.1173 - root_mean_squared_error: 2.4733"
          ]
        },
        {
          "name": "stderr",
          "output_type": "stream",
          "text": [
            "2023-12-08 19:32:14.999936: I tensorflow/core/kernels/data/shuffle_dataset_op.cc:422] ShuffleDatasetV3:35: Filling up shuffle buffer (this may take a while): 1916 of 2000\n"
          ]
        },
        {
          "name": "stdout",
          "output_type": "stream",
          "text": [
            " 41/250 [===>..........................] - ETA: 1:24 - loss: 6.0091 - root_mean_squared_error: 2.4513"
          ]
        },
        {
          "name": "stderr",
          "output_type": "stream",
          "text": [
            "2023-12-08 19:32:15.438437: I tensorflow/core/kernels/data/shuffle_dataset_op.cc:452] Shuffle buffer filled.\n"
          ]
        },
        {
          "name": "stdout",
          "output_type": "stream",
          "text": [
            " 72/250 [=======>......................] - ETA: 1:11 - loss: 6.5526 - root_mean_squared_error: 2.5598"
          ]
        },
        {
          "name": "stderr",
          "output_type": "stream",
          "text": [
            "2023-12-08 19:32:27.866910: I tensorflow/core/kernels/data/shuffle_dataset_op.cc:422] ShuffleDatasetV3:35: Filling up shuffle buffer (this may take a while): 1926 of 2000\n"
          ]
        },
        {
          "name": "stdout",
          "output_type": "stream",
          "text": [
            " 73/250 [=======>......................] - ETA: 1:11 - loss: 6.5144 - root_mean_squared_error: 2.5523"
          ]
        },
        {
          "name": "stderr",
          "output_type": "stream",
          "text": [
            "2023-12-08 19:32:28.249942: I tensorflow/core/kernels/data/shuffle_dataset_op.cc:452] Shuffle buffer filled.\n"
          ]
        },
        {
          "name": "stdout",
          "output_type": "stream",
          "text": [
            "104/250 [===========>..................] - ETA: 58s - loss: 6.3777 - root_mean_squared_error: 2.5254"
          ]
        },
        {
          "name": "stderr",
          "output_type": "stream",
          "text": [
            "2023-12-08 19:32:40.750674: I tensorflow/core/kernels/data/shuffle_dataset_op.cc:422] ShuffleDatasetV3:35: Filling up shuffle buffer (this may take a while): 1920 of 2000\n"
          ]
        },
        {
          "name": "stdout",
          "output_type": "stream",
          "text": [
            "105/250 [===========>..................] - ETA: 58s - loss: 6.3600 - root_mean_squared_error: 2.5219"
          ]
        },
        {
          "name": "stderr",
          "output_type": "stream",
          "text": [
            "2023-12-08 19:32:41.161187: I tensorflow/core/kernels/data/shuffle_dataset_op.cc:452] Shuffle buffer filled.\n"
          ]
        },
        {
          "name": "stdout",
          "output_type": "stream",
          "text": [
            "136/250 [===============>..............] - ETA: 45s - loss: 6.3769 - root_mean_squared_error: 2.5253"
          ]
        },
        {
          "name": "stderr",
          "output_type": "stream",
          "text": [
            "2023-12-08 19:32:53.646072: I tensorflow/core/kernels/data/shuffle_dataset_op.cc:422] ShuffleDatasetV3:35: Filling up shuffle buffer (this may take a while): 1939 of 2000\n"
          ]
        },
        {
          "name": "stdout",
          "output_type": "stream",
          "text": [
            "137/250 [===============>..............] - ETA: 45s - loss: 6.3457 - root_mean_squared_error: 2.5191"
          ]
        },
        {
          "name": "stderr",
          "output_type": "stream",
          "text": [
            "2023-12-08 19:32:53.966047: I tensorflow/core/kernels/data/shuffle_dataset_op.cc:452] Shuffle buffer filled.\n"
          ]
        },
        {
          "name": "stdout",
          "output_type": "stream",
          "text": [
            "168/250 [===================>..........] - ETA: 33s - loss: 6.3604 - root_mean_squared_error: 2.5220"
          ]
        },
        {
          "name": "stderr",
          "output_type": "stream",
          "text": [
            "2023-12-08 19:33:06.536940: I tensorflow/core/kernels/data/shuffle_dataset_op.cc:422] ShuffleDatasetV3:35: Filling up shuffle buffer (this may take a while): 1940 of 2000\n"
          ]
        },
        {
          "name": "stdout",
          "output_type": "stream",
          "text": [
            "169/250 [===================>..........] - ETA: 32s - loss: 6.3342 - root_mean_squared_error: 2.5168"
          ]
        },
        {
          "name": "stderr",
          "output_type": "stream",
          "text": [
            "2023-12-08 19:33:06.849597: I tensorflow/core/kernels/data/shuffle_dataset_op.cc:452] Shuffle buffer filled.\n"
          ]
        },
        {
          "name": "stdout",
          "output_type": "stream",
          "text": [
            "200/250 [=======================>......] - ETA: 20s - loss: 6.3387 - root_mean_squared_error: 2.5177"
          ]
        },
        {
          "name": "stderr",
          "output_type": "stream",
          "text": [
            "2023-12-08 19:33:19.414059: I tensorflow/core/kernels/data/shuffle_dataset_op.cc:422] ShuffleDatasetV3:35: Filling up shuffle buffer (this may take a while): 1933 of 2000\n"
          ]
        },
        {
          "name": "stdout",
          "output_type": "stream",
          "text": [
            "201/250 [=======================>......] - ETA: 19s - loss: 6.3516 - root_mean_squared_error: 2.5202"
          ]
        },
        {
          "name": "stderr",
          "output_type": "stream",
          "text": [
            "2023-12-08 19:33:19.762970: I tensorflow/core/kernels/data/shuffle_dataset_op.cc:452] Shuffle buffer filled.\n"
          ]
        },
        {
          "name": "stdout",
          "output_type": "stream",
          "text": [
            "232/250 [==========================>...] - ETA: 7s - loss: 6.3726 - root_mean_squared_error: 2.5244"
          ]
        },
        {
          "name": "stderr",
          "output_type": "stream",
          "text": [
            "2023-12-08 19:33:32.330498: I tensorflow/core/kernels/data/shuffle_dataset_op.cc:422] ShuffleDatasetV3:35: Filling up shuffle buffer (this may take a while): 1932 of 2000\n"
          ]
        },
        {
          "name": "stdout",
          "output_type": "stream",
          "text": [
            "233/250 [==========================>...] - ETA: 6s - loss: 6.3626 - root_mean_squared_error: 2.5224"
          ]
        },
        {
          "name": "stderr",
          "output_type": "stream",
          "text": [
            "2023-12-08 19:33:32.683280: I tensorflow/core/kernels/data/shuffle_dataset_op.cc:452] Shuffle buffer filled.\n"
          ]
        },
        {
          "name": "stdout",
          "output_type": "stream",
          "text": [
            "250/250 [==============================] - ETA: 0s - loss: 6.4007 - root_mean_squared_error: 2.5300"
          ]
        },
        {
          "name": "stderr",
          "output_type": "stream",
          "text": [
            "2023-12-08 19:33:45.244213: I tensorflow/core/kernels/data/shuffle_dataset_op.cc:422] ShuffleDatasetV3:35: Filling up shuffle buffer (this may take a while): 1816 of 2000\n",
            "2023-12-08 19:33:46.297723: I tensorflow/core/kernels/data/shuffle_dataset_op.cc:452] Shuffle buffer filled.\n"
          ]
        },
        {
          "name": "stdout",
          "output_type": "stream",
          "text": [
            "250/250 [==============================] - 149s 599ms/step - loss: 6.4007 - root_mean_squared_error: 2.5300 - val_loss: 4.3993 - val_root_mean_squared_error: 2.0974\n",
            "Epoch 10/50\n",
            " 46/250 [====>.........................] - ETA: 1:22 - loss: 5.8919 - root_mean_squared_error: 2.4273"
          ]
        },
        {
          "name": "stderr",
          "output_type": "stream",
          "text": [
            "2023-12-08 19:34:46.930211: I tensorflow/core/kernels/data/shuffle_dataset_op.cc:422] ShuffleDatasetV3:35: Filling up shuffle buffer (this may take a while): 1931 of 2000\n"
          ]
        },
        {
          "name": "stdout",
          "output_type": "stream",
          "text": [
            " 47/250 [====>.........................] - ETA: 1:22 - loss: 6.1678 - root_mean_squared_error: 2.4835"
          ]
        },
        {
          "name": "stderr",
          "output_type": "stream",
          "text": [
            "2023-12-08 19:34:47.286510: I tensorflow/core/kernels/data/shuffle_dataset_op.cc:452] Shuffle buffer filled.\n"
          ]
        },
        {
          "name": "stdout",
          "output_type": "stream",
          "text": [
            " 78/250 [========>.....................] - ETA: 1:09 - loss: 6.0142 - root_mean_squared_error: 2.4524"
          ]
        },
        {
          "name": "stderr",
          "output_type": "stream",
          "text": [
            "2023-12-08 19:34:59.851715: I tensorflow/core/kernels/data/shuffle_dataset_op.cc:422] ShuffleDatasetV3:35: Filling up shuffle buffer (this may take a while): 1905 of 2000\n"
          ]
        },
        {
          "name": "stdout",
          "output_type": "stream",
          "text": [
            " 79/250 [========>.....................] - ETA: 1:09 - loss: 6.0444 - root_mean_squared_error: 2.4585"
          ]
        },
        {
          "name": "stderr",
          "output_type": "stream",
          "text": [
            "2023-12-08 19:35:00.346529: I tensorflow/core/kernels/data/shuffle_dataset_op.cc:452] Shuffle buffer filled.\n"
          ]
        },
        {
          "name": "stdout",
          "output_type": "stream",
          "text": [
            "110/250 [============>.................] - ETA: 56s - loss: 6.1182 - root_mean_squared_error: 2.4735"
          ]
        },
        {
          "name": "stderr",
          "output_type": "stream",
          "text": [
            "2023-12-08 19:35:12.745103: I tensorflow/core/kernels/data/shuffle_dataset_op.cc:422] ShuffleDatasetV3:35: Filling up shuffle buffer (this may take a while): 1933 of 2000\n"
          ]
        },
        {
          "name": "stdout",
          "output_type": "stream",
          "text": [
            "111/250 [============>.................] - ETA: 56s - loss: 6.0967 - root_mean_squared_error: 2.4692"
          ]
        },
        {
          "name": "stderr",
          "output_type": "stream",
          "text": [
            "2023-12-08 19:35:13.090393: I tensorflow/core/kernels/data/shuffle_dataset_op.cc:452] Shuffle buffer filled.\n"
          ]
        },
        {
          "name": "stdout",
          "output_type": "stream",
          "text": [
            "142/250 [================>.............] - ETA: 43s - loss: 6.2598 - root_mean_squared_error: 2.5020"
          ]
        },
        {
          "name": "stderr",
          "output_type": "stream",
          "text": [
            "2023-12-08 19:35:25.630693: I tensorflow/core/kernels/data/shuffle_dataset_op.cc:422] ShuffleDatasetV3:35: Filling up shuffle buffer (this may take a while): 1958 of 2000\n"
          ]
        },
        {
          "name": "stdout",
          "output_type": "stream",
          "text": [
            "143/250 [================>.............] - ETA: 43s - loss: 6.2404 - root_mean_squared_error: 2.4981"
          ]
        },
        {
          "name": "stderr",
          "output_type": "stream",
          "text": [
            "2023-12-08 19:35:25.847898: I tensorflow/core/kernels/data/shuffle_dataset_op.cc:452] Shuffle buffer filled.\n"
          ]
        },
        {
          "name": "stdout",
          "output_type": "stream",
          "text": [
            "174/250 [===================>..........] - ETA: 30s - loss: 6.2304 - root_mean_squared_error: 2.4961"
          ]
        },
        {
          "name": "stderr",
          "output_type": "stream",
          "text": [
            "2023-12-08 19:35:38.539383: I tensorflow/core/kernels/data/shuffle_dataset_op.cc:422] ShuffleDatasetV3:35: Filling up shuffle buffer (this may take a while): 1930 of 2000\n"
          ]
        },
        {
          "name": "stdout",
          "output_type": "stream",
          "text": [
            "175/250 [====================>.........] - ETA: 30s - loss: 6.2280 - root_mean_squared_error: 2.4956"
          ]
        },
        {
          "name": "stderr",
          "output_type": "stream",
          "text": [
            "2023-12-08 19:35:38.906544: I tensorflow/core/kernels/data/shuffle_dataset_op.cc:452] Shuffle buffer filled.\n"
          ]
        },
        {
          "name": "stdout",
          "output_type": "stream",
          "text": [
            "206/250 [=======================>......] - ETA: 17s - loss: 6.2163 - root_mean_squared_error: 2.4932"
          ]
        },
        {
          "name": "stderr",
          "output_type": "stream",
          "text": [
            "2023-12-08 19:35:51.432033: I tensorflow/core/kernels/data/shuffle_dataset_op.cc:422] ShuffleDatasetV3:35: Filling up shuffle buffer (this may take a while): 1927 of 2000\n"
          ]
        },
        {
          "name": "stdout",
          "output_type": "stream",
          "text": [
            "207/250 [=======================>......] - ETA: 17s - loss: 6.2262 - root_mean_squared_error: 2.4952"
          ]
        },
        {
          "name": "stderr",
          "output_type": "stream",
          "text": [
            "2023-12-08 19:35:51.813328: I tensorflow/core/kernels/data/shuffle_dataset_op.cc:452] Shuffle buffer filled.\n"
          ]
        },
        {
          "name": "stdout",
          "output_type": "stream",
          "text": [
            "238/250 [===========================>..] - ETA: 4s - loss: 6.2633 - root_mean_squared_error: 2.5027"
          ]
        },
        {
          "name": "stderr",
          "output_type": "stream",
          "text": [
            "2023-12-08 19:36:04.330602: I tensorflow/core/kernels/data/shuffle_dataset_op.cc:422] ShuffleDatasetV3:35: Filling up shuffle buffer (this may take a while): 1938 of 2000\n"
          ]
        },
        {
          "name": "stdout",
          "output_type": "stream",
          "text": [
            "239/250 [===========================>..] - ETA: 4s - loss: 6.2474 - root_mean_squared_error: 2.4995"
          ]
        },
        {
          "name": "stderr",
          "output_type": "stream",
          "text": [
            "2023-12-08 19:36:04.654177: I tensorflow/core/kernels/data/shuffle_dataset_op.cc:452] Shuffle buffer filled.\n"
          ]
        },
        {
          "name": "stdout",
          "output_type": "stream",
          "text": [
            "250/250 [==============================] - ETA: 0s - loss: 6.2258 - root_mean_squared_error: 2.4952"
          ]
        },
        {
          "name": "stderr",
          "output_type": "stream",
          "text": [
            "2023-12-08 19:36:17.254629: I tensorflow/core/kernels/data/shuffle_dataset_op.cc:422] ShuffleDatasetV3:35: Filling up shuffle buffer (this may take a while): 1763 of 2000\n",
            "2023-12-08 19:36:18.614360: I tensorflow/core/kernels/data/shuffle_dataset_op.cc:452] Shuffle buffer filled.\n"
          ]
        },
        {
          "name": "stdout",
          "output_type": "stream",
          "text": [
            "250/250 [==============================] - 149s 597ms/step - loss: 6.2258 - root_mean_squared_error: 2.4952 - val_loss: 4.3958 - val_root_mean_squared_error: 2.0966\n",
            "Epoch 11/50\n",
            " 52/250 [=====>........................] - ETA: 1:20 - loss: 6.5879 - root_mean_squared_error: 2.5667"
          ]
        },
        {
          "name": "stderr",
          "output_type": "stream",
          "text": [
            "2023-12-08 19:37:18.550962: I tensorflow/core/kernels/data/shuffle_dataset_op.cc:422] ShuffleDatasetV3:35: Filling up shuffle buffer (this may take a while): 1935 of 2000\n"
          ]
        },
        {
          "name": "stdout",
          "output_type": "stream",
          "text": [
            " 53/250 [=====>........................] - ETA: 1:20 - loss: 6.5050 - root_mean_squared_error: 2.5505"
          ]
        },
        {
          "name": "stderr",
          "output_type": "stream",
          "text": [
            "2023-12-08 19:37:18.892272: I tensorflow/core/kernels/data/shuffle_dataset_op.cc:452] Shuffle buffer filled.\n"
          ]
        },
        {
          "name": "stdout",
          "output_type": "stream",
          "text": [
            " 84/250 [=========>....................] - ETA: 1:07 - loss: 6.4787 - root_mean_squared_error: 2.5453"
          ]
        },
        {
          "name": "stderr",
          "output_type": "stream",
          "text": [
            "2023-12-08 19:37:31.409889: I tensorflow/core/kernels/data/shuffle_dataset_op.cc:422] ShuffleDatasetV3:35: Filling up shuffle buffer (this may take a while): 1936 of 2000\n"
          ]
        },
        {
          "name": "stdout",
          "output_type": "stream",
          "text": [
            " 85/250 [=========>....................] - ETA: 1:06 - loss: 6.4953 - root_mean_squared_error: 2.5486"
          ]
        },
        {
          "name": "stderr",
          "output_type": "stream",
          "text": [
            "2023-12-08 19:37:31.743210: I tensorflow/core/kernels/data/shuffle_dataset_op.cc:452] Shuffle buffer filled.\n"
          ]
        },
        {
          "name": "stdout",
          "output_type": "stream",
          "text": [
            "116/250 [============>.................] - ETA: 54s - loss: 6.4024 - root_mean_squared_error: 2.5303"
          ]
        },
        {
          "name": "stderr",
          "output_type": "stream",
          "text": [
            "2023-12-08 19:37:44.277320: I tensorflow/core/kernels/data/shuffle_dataset_op.cc:422] ShuffleDatasetV3:35: Filling up shuffle buffer (this may take a while): 1899 of 2000\n"
          ]
        },
        {
          "name": "stdout",
          "output_type": "stream",
          "text": [
            "118/250 [=============>................] - ETA: 53s - loss: 6.4033 - root_mean_squared_error: 2.5305"
          ]
        },
        {
          "name": "stderr",
          "output_type": "stream",
          "text": [
            "2023-12-08 19:37:44.809192: I tensorflow/core/kernels/data/shuffle_dataset_op.cc:452] Shuffle buffer filled.\n"
          ]
        },
        {
          "name": "stdout",
          "output_type": "stream",
          "text": [
            "148/250 [================>.............] - ETA: 41s - loss: 6.4247 - root_mean_squared_error: 2.5347"
          ]
        },
        {
          "name": "stderr",
          "output_type": "stream",
          "text": [
            "2023-12-08 19:37:57.160549: I tensorflow/core/kernels/data/shuffle_dataset_op.cc:422] ShuffleDatasetV3:35: Filling up shuffle buffer (this may take a while): 1914 of 2000\n"
          ]
        },
        {
          "name": "stdout",
          "output_type": "stream",
          "text": [
            "149/250 [================>.............] - ETA: 40s - loss: 6.4317 - root_mean_squared_error: 2.5361"
          ]
        },
        {
          "name": "stderr",
          "output_type": "stream",
          "text": [
            "2023-12-08 19:37:57.614061: I tensorflow/core/kernels/data/shuffle_dataset_op.cc:452] Shuffle buffer filled.\n"
          ]
        },
        {
          "name": "stdout",
          "output_type": "stream",
          "text": [
            "180/250 [====================>.........] - ETA: 28s - loss: 6.3498 - root_mean_squared_error: 2.5199"
          ]
        },
        {
          "name": "stderr",
          "output_type": "stream",
          "text": [
            "2023-12-08 19:38:10.033565: I tensorflow/core/kernels/data/shuffle_dataset_op.cc:422] ShuffleDatasetV3:35: Filling up shuffle buffer (this may take a while): 1932 of 2000\n"
          ]
        },
        {
          "name": "stdout",
          "output_type": "stream",
          "text": [
            "181/250 [====================>.........] - ETA: 27s - loss: 6.3607 - root_mean_squared_error: 2.5220"
          ]
        },
        {
          "name": "stderr",
          "output_type": "stream",
          "text": [
            "2023-12-08 19:38:10.384654: I tensorflow/core/kernels/data/shuffle_dataset_op.cc:452] Shuffle buffer filled.\n"
          ]
        },
        {
          "name": "stdout",
          "output_type": "stream",
          "text": [
            "212/250 [========================>.....] - ETA: 15s - loss: 6.4032 - root_mean_squared_error: 2.5305"
          ]
        },
        {
          "name": "stderr",
          "output_type": "stream",
          "text": [
            "2023-12-08 19:38:22.951062: I tensorflow/core/kernels/data/shuffle_dataset_op.cc:422] ShuffleDatasetV3:35: Filling up shuffle buffer (this may take a while): 1941 of 2000\n"
          ]
        },
        {
          "name": "stdout",
          "output_type": "stream",
          "text": [
            "213/250 [========================>.....] - ETA: 14s - loss: 6.3902 - root_mean_squared_error: 2.5279"
          ]
        },
        {
          "name": "stderr",
          "output_type": "stream",
          "text": [
            "2023-12-08 19:38:23.255202: I tensorflow/core/kernels/data/shuffle_dataset_op.cc:452] Shuffle buffer filled.\n"
          ]
        },
        {
          "name": "stdout",
          "output_type": "stream",
          "text": [
            "244/250 [============================>.] - ETA: 2s - loss: 6.4181 - root_mean_squared_error: 2.5334"
          ]
        },
        {
          "name": "stderr",
          "output_type": "stream",
          "text": [
            "2023-12-08 19:38:35.860242: I tensorflow/core/kernels/data/shuffle_dataset_op.cc:422] ShuffleDatasetV3:35: Filling up shuffle buffer (this may take a while): 1927 of 2000\n"
          ]
        },
        {
          "name": "stdout",
          "output_type": "stream",
          "text": [
            "245/250 [============================>.] - ETA: 2s - loss: 6.4072 - root_mean_squared_error: 2.5313"
          ]
        },
        {
          "name": "stderr",
          "output_type": "stream",
          "text": [
            "2023-12-08 19:38:36.239354: I tensorflow/core/kernels/data/shuffle_dataset_op.cc:452] Shuffle buffer filled.\n"
          ]
        },
        {
          "name": "stdout",
          "output_type": "stream",
          "text": [
            "250/250 [==============================] - 150s 599ms/step - loss: 6.3910 - root_mean_squared_error: 2.5280 - val_loss: 4.3932 - val_root_mean_squared_error: 2.0960\n",
            "Epoch 12/50\n",
            " 26/250 [==>...........................] - ETA: 1:29 - loss: 6.4633 - root_mean_squared_error: 2.5423"
          ]
        },
        {
          "name": "stderr",
          "output_type": "stream",
          "text": [
            "2023-12-08 19:39:37.441690: I tensorflow/core/kernels/data/shuffle_dataset_op.cc:422] ShuffleDatasetV3:35: Filling up shuffle buffer (this may take a while): 1933 of 2000\n"
          ]
        },
        {
          "name": "stdout",
          "output_type": "stream",
          "text": [
            " 27/250 [==>...........................] - ETA: 1:28 - loss: 6.4619 - root_mean_squared_error: 2.5420"
          ]
        },
        {
          "name": "stderr",
          "output_type": "stream",
          "text": [
            "2023-12-08 19:39:37.794875: I tensorflow/core/kernels/data/shuffle_dataset_op.cc:452] Shuffle buffer filled.\n"
          ]
        },
        {
          "name": "stdout",
          "output_type": "stream",
          "text": [
            " 58/250 [=====>........................] - ETA: 1:16 - loss: 6.3743 - root_mean_squared_error: 2.5247"
          ]
        },
        {
          "name": "stderr",
          "output_type": "stream",
          "text": [
            "2023-12-08 19:39:50.325180: I tensorflow/core/kernels/data/shuffle_dataset_op.cc:422] ShuffleDatasetV3:35: Filling up shuffle buffer (this may take a while): 1929 of 2000\n"
          ]
        },
        {
          "name": "stdout",
          "output_type": "stream",
          "text": [
            " 59/250 [======>.......................] - ETA: 1:16 - loss: 6.2998 - root_mean_squared_error: 2.5099"
          ]
        },
        {
          "name": "stderr",
          "output_type": "stream",
          "text": [
            "2023-12-08 19:39:50.699689: I tensorflow/core/kernels/data/shuffle_dataset_op.cc:452] Shuffle buffer filled.\n"
          ]
        },
        {
          "name": "stdout",
          "output_type": "stream",
          "text": [
            " 90/250 [=========>....................] - ETA: 1:04 - loss: 6.3102 - root_mean_squared_error: 2.5120"
          ]
        },
        {
          "name": "stderr",
          "output_type": "stream",
          "text": [
            "2023-12-08 19:40:03.185679: I tensorflow/core/kernels/data/shuffle_dataset_op.cc:422] ShuffleDatasetV3:35: Filling up shuffle buffer (this may take a while): 1927 of 2000\n"
          ]
        },
        {
          "name": "stdout",
          "output_type": "stream",
          "text": [
            " 91/250 [=========>....................] - ETA: 1:03 - loss: 6.3032 - root_mean_squared_error: 2.5106"
          ]
        },
        {
          "name": "stderr",
          "output_type": "stream",
          "text": [
            "2023-12-08 19:40:03.568718: I tensorflow/core/kernels/data/shuffle_dataset_op.cc:452] Shuffle buffer filled.\n"
          ]
        },
        {
          "name": "stdout",
          "output_type": "stream",
          "text": [
            "122/250 [=============>................] - ETA: 51s - loss: 6.1787 - root_mean_squared_error: 2.4857"
          ]
        },
        {
          "name": "stderr",
          "output_type": "stream",
          "text": [
            "2023-12-08 19:40:16.057514: I tensorflow/core/kernels/data/shuffle_dataset_op.cc:422] ShuffleDatasetV3:35: Filling up shuffle buffer (this may take a while): 1933 of 2000\n"
          ]
        },
        {
          "name": "stdout",
          "output_type": "stream",
          "text": [
            "123/250 [=============>................] - ETA: 51s - loss: 6.2005 - root_mean_squared_error: 2.4901"
          ]
        },
        {
          "name": "stderr",
          "output_type": "stream",
          "text": [
            "2023-12-08 19:40:16.408217: I tensorflow/core/kernels/data/shuffle_dataset_op.cc:452] Shuffle buffer filled.\n"
          ]
        },
        {
          "name": "stdout",
          "output_type": "stream",
          "text": [
            "154/250 [=================>............] - ETA: 38s - loss: 6.2782 - root_mean_squared_error: 2.5056"
          ]
        },
        {
          "name": "stderr",
          "output_type": "stream",
          "text": [
            "2023-12-08 19:40:28.938632: I tensorflow/core/kernels/data/shuffle_dataset_op.cc:422] ShuffleDatasetV3:35: Filling up shuffle buffer (this may take a while): 1933 of 2000\n"
          ]
        },
        {
          "name": "stdout",
          "output_type": "stream",
          "text": [
            "155/250 [=================>............] - ETA: 38s - loss: 6.3226 - root_mean_squared_error: 2.5145"
          ]
        },
        {
          "name": "stderr",
          "output_type": "stream",
          "text": [
            "2023-12-08 19:40:29.287634: I tensorflow/core/kernels/data/shuffle_dataset_op.cc:452] Shuffle buffer filled.\n"
          ]
        },
        {
          "name": "stdout",
          "output_type": "stream",
          "text": [
            "186/250 [=====================>........] - ETA: 25s - loss: 6.3123 - root_mean_squared_error: 2.5124"
          ]
        },
        {
          "name": "stderr",
          "output_type": "stream",
          "text": [
            "2023-12-08 19:40:41.822231: I tensorflow/core/kernels/data/shuffle_dataset_op.cc:422] ShuffleDatasetV3:35: Filling up shuffle buffer (this may take a while): 1932 of 2000\n"
          ]
        },
        {
          "name": "stdout",
          "output_type": "stream",
          "text": [
            "187/250 [=====================>........] - ETA: 25s - loss: 6.2923 - root_mean_squared_error: 2.5084"
          ]
        },
        {
          "name": "stderr",
          "output_type": "stream",
          "text": [
            "2023-12-08 19:40:42.174207: I tensorflow/core/kernels/data/shuffle_dataset_op.cc:452] Shuffle buffer filled.\n"
          ]
        },
        {
          "name": "stdout",
          "output_type": "stream",
          "text": [
            "218/250 [=========================>....] - ETA: 12s - loss: 6.3738 - root_mean_squared_error: 2.5246"
          ]
        },
        {
          "name": "stderr",
          "output_type": "stream",
          "text": [
            "2023-12-08 19:40:54.726537: I tensorflow/core/kernels/data/shuffle_dataset_op.cc:422] ShuffleDatasetV3:35: Filling up shuffle buffer (this may take a while): 1939 of 2000\n"
          ]
        },
        {
          "name": "stdout",
          "output_type": "stream",
          "text": [
            "219/250 [=========================>....] - ETA: 12s - loss: 6.3628 - root_mean_squared_error: 2.5225"
          ]
        },
        {
          "name": "stderr",
          "output_type": "stream",
          "text": [
            "2023-12-08 19:40:55.046828: I tensorflow/core/kernels/data/shuffle_dataset_op.cc:452] Shuffle buffer filled.\n"
          ]
        },
        {
          "name": "stdout",
          "output_type": "stream",
          "text": [
            "250/250 [==============================] - ETA: 0s - loss: 6.3046 - root_mean_squared_error: 2.5109"
          ]
        },
        {
          "name": "stderr",
          "output_type": "stream",
          "text": [
            "2023-12-08 19:41:07.620917: I tensorflow/core/kernels/data/shuffle_dataset_op.cc:422] ShuffleDatasetV3:35: Filling up shuffle buffer (this may take a while): 1936 of 2000\n",
            "2023-12-08 19:41:07.993300: I tensorflow/core/kernels/data/shuffle_dataset_op.cc:452] Shuffle buffer filled.\n"
          ]
        },
        {
          "name": "stdout",
          "output_type": "stream",
          "text": [
            "250/250 [==============================] - 149s 597ms/step - loss: 6.3046 - root_mean_squared_error: 2.5109 - val_loss: 4.3949 - val_root_mean_squared_error: 2.0964\n",
            "Epoch 13/50\n",
            " 32/250 [==>...........................] - ETA: 1:27 - loss: 6.8698 - root_mean_squared_error: 2.6210"
          ]
        },
        {
          "name": "stderr",
          "output_type": "stream",
          "text": [
            "2023-12-08 19:42:09.055576: I tensorflow/core/kernels/data/shuffle_dataset_op.cc:422] ShuffleDatasetV3:35: Filling up shuffle buffer (this may take a while): 1922 of 2000\n"
          ]
        },
        {
          "name": "stdout",
          "output_type": "stream",
          "text": [
            " 33/250 [==>...........................] - ETA: 1:27 - loss: 6.9220 - root_mean_squared_error: 2.6310"
          ]
        },
        {
          "name": "stderr",
          "output_type": "stream",
          "text": [
            "2023-12-08 19:42:09.457827: I tensorflow/core/kernels/data/shuffle_dataset_op.cc:452] Shuffle buffer filled.\n"
          ]
        },
        {
          "name": "stdout",
          "output_type": "stream",
          "text": [
            " 64/250 [======>.......................] - ETA: 1:14 - loss: 6.4948 - root_mean_squared_error: 2.5485"
          ]
        },
        {
          "name": "stderr",
          "output_type": "stream",
          "text": [
            "2023-12-08 19:42:21.905174: I tensorflow/core/kernels/data/shuffle_dataset_op.cc:422] ShuffleDatasetV3:35: Filling up shuffle buffer (this may take a while): 1928 of 2000\n"
          ]
        },
        {
          "name": "stdout",
          "output_type": "stream",
          "text": [
            " 65/250 [======>.......................] - ETA: 1:14 - loss: 6.4416 - root_mean_squared_error: 2.5380"
          ]
        },
        {
          "name": "stderr",
          "output_type": "stream",
          "text": [
            "2023-12-08 19:42:22.278724: I tensorflow/core/kernels/data/shuffle_dataset_op.cc:452] Shuffle buffer filled.\n"
          ]
        },
        {
          "name": "stdout",
          "output_type": "stream",
          "text": [
            " 96/250 [==========>...................] - ETA: 1:01 - loss: 6.3402 - root_mean_squared_error: 2.5180"
          ]
        },
        {
          "name": "stderr",
          "output_type": "stream",
          "text": [
            "2023-12-08 19:42:34.750358: I tensorflow/core/kernels/data/shuffle_dataset_op.cc:422] ShuffleDatasetV3:35: Filling up shuffle buffer (this may take a while): 1914 of 2000\n"
          ]
        },
        {
          "name": "stdout",
          "output_type": "stream",
          "text": [
            " 97/250 [==========>...................] - ETA: 1:01 - loss: 6.3060 - root_mean_squared_error: 2.5112"
          ]
        },
        {
          "name": "stderr",
          "output_type": "stream",
          "text": [
            "2023-12-08 19:42:35.199453: I tensorflow/core/kernels/data/shuffle_dataset_op.cc:452] Shuffle buffer filled.\n"
          ]
        },
        {
          "name": "stdout",
          "output_type": "stream",
          "text": [
            "128/250 [==============>...............] - ETA: 49s - loss: 6.4396 - root_mean_squared_error: 2.5376"
          ]
        },
        {
          "name": "stderr",
          "output_type": "stream",
          "text": [
            "2023-12-08 19:42:47.727303: I tensorflow/core/kernels/data/shuffle_dataset_op.cc:422] ShuffleDatasetV3:35: Filling up shuffle buffer (this may take a while): 1904 of 2000\n"
          ]
        },
        {
          "name": "stdout",
          "output_type": "stream",
          "text": [
            "130/250 [==============>...............] - ETA: 48s - loss: 6.3842 - root_mean_squared_error: 2.5267"
          ]
        },
        {
          "name": "stderr",
          "output_type": "stream",
          "text": [
            "2023-12-08 19:42:48.231704: I tensorflow/core/kernels/data/shuffle_dataset_op.cc:452] Shuffle buffer filled.\n"
          ]
        },
        {
          "name": "stdout",
          "output_type": "stream",
          "text": [
            "160/250 [==================>...........] - ETA: 36s - loss: 6.3894 - root_mean_squared_error: 2.5277"
          ]
        },
        {
          "name": "stderr",
          "output_type": "stream",
          "text": [
            "2023-12-08 19:43:00.616526: I tensorflow/core/kernels/data/shuffle_dataset_op.cc:422] ShuffleDatasetV3:35: Filling up shuffle buffer (this may take a while): 1915 of 2000\n"
          ]
        },
        {
          "name": "stdout",
          "output_type": "stream",
          "text": [
            "161/250 [==================>...........] - ETA: 35s - loss: 6.4144 - root_mean_squared_error: 2.5327"
          ]
        },
        {
          "name": "stderr",
          "output_type": "stream",
          "text": [
            "2023-12-08 19:43:01.059793: I tensorflow/core/kernels/data/shuffle_dataset_op.cc:452] Shuffle buffer filled.\n"
          ]
        },
        {
          "name": "stdout",
          "output_type": "stream",
          "text": [
            "192/250 [======================>.......] - ETA: 23s - loss: 6.3483 - root_mean_squared_error: 2.5196"
          ]
        },
        {
          "name": "stderr",
          "output_type": "stream",
          "text": [
            "2023-12-08 19:43:13.510298: I tensorflow/core/kernels/data/shuffle_dataset_op.cc:422] ShuffleDatasetV3:35: Filling up shuffle buffer (this may take a while): 1927 of 2000\n"
          ]
        },
        {
          "name": "stdout",
          "output_type": "stream",
          "text": [
            "193/250 [======================>.......] - ETA: 22s - loss: 6.3412 - root_mean_squared_error: 2.5182"
          ]
        },
        {
          "name": "stderr",
          "output_type": "stream",
          "text": [
            "2023-12-08 19:43:13.885541: I tensorflow/core/kernels/data/shuffle_dataset_op.cc:452] Shuffle buffer filled.\n"
          ]
        },
        {
          "name": "stdout",
          "output_type": "stream",
          "text": [
            "224/250 [=========================>....] - ETA: 10s - loss: 6.3940 - root_mean_squared_error: 2.5286"
          ]
        },
        {
          "name": "stderr",
          "output_type": "stream",
          "text": [
            "2023-12-08 19:43:26.423655: I tensorflow/core/kernels/data/shuffle_dataset_op.cc:422] ShuffleDatasetV3:35: Filling up shuffle buffer (this may take a while): 1931 of 2000\n"
          ]
        },
        {
          "name": "stdout",
          "output_type": "stream",
          "text": [
            "225/250 [==========================>...] - ETA: 10s - loss: 6.3860 - root_mean_squared_error: 2.5271"
          ]
        },
        {
          "name": "stderr",
          "output_type": "stream",
          "text": [
            "2023-12-08 19:43:26.781816: I tensorflow/core/kernels/data/shuffle_dataset_op.cc:452] Shuffle buffer filled.\n"
          ]
        },
        {
          "name": "stdout",
          "output_type": "stream",
          "text": [
            "250/250 [==============================] - ETA: 0s - loss: 6.3409 - root_mean_squared_error: 2.5181"
          ]
        },
        {
          "name": "stderr",
          "output_type": "stream",
          "text": [
            "2023-12-08 19:43:39.331919: I tensorflow/core/kernels/data/shuffle_dataset_op.cc:422] ShuffleDatasetV3:35: Filling up shuffle buffer (this may take a while): 1854 of 2000\n",
            "2023-12-08 19:43:40.167421: I tensorflow/core/kernels/data/shuffle_dataset_op.cc:452] Shuffle buffer filled.\n"
          ]
        },
        {
          "name": "stdout",
          "output_type": "stream",
          "text": [
            "250/250 [==============================] - 149s 598ms/step - loss: 6.3409 - root_mean_squared_error: 2.5181 - val_loss: 4.3916 - val_root_mean_squared_error: 2.0956\n",
            "Epoch 14/50\n",
            " 38/250 [===>..........................] - ETA: 1:25 - loss: 6.8369 - root_mean_squared_error: 2.6147"
          ]
        },
        {
          "name": "stderr",
          "output_type": "stream",
          "text": [
            "2023-12-08 19:44:40.973465: I tensorflow/core/kernels/data/shuffle_dataset_op.cc:422] ShuffleDatasetV3:35: Filling up shuffle buffer (this may take a while): 1900 of 2000\n"
          ]
        },
        {
          "name": "stdout",
          "output_type": "stream",
          "text": [
            " 40/250 [===>..........................] - ETA: 1:24 - loss: 6.5903 - root_mean_squared_error: 2.5672"
          ]
        },
        {
          "name": "stderr",
          "output_type": "stream",
          "text": [
            "2023-12-08 19:44:41.499399: I tensorflow/core/kernels/data/shuffle_dataset_op.cc:452] Shuffle buffer filled.\n"
          ]
        },
        {
          "name": "stdout",
          "output_type": "stream",
          "text": [
            " 70/250 [=======>......................] - ETA: 1:12 - loss: 6.5155 - root_mean_squared_error: 2.5525"
          ]
        },
        {
          "name": "stderr",
          "output_type": "stream",
          "text": [
            "2023-12-08 19:44:53.956637: I tensorflow/core/kernels/data/shuffle_dataset_op.cc:422] ShuffleDatasetV3:35: Filling up shuffle buffer (this may take a while): 1912 of 2000\n"
          ]
        },
        {
          "name": "stdout",
          "output_type": "stream",
          "text": [
            " 71/250 [=======>......................] - ETA: 1:12 - loss: 6.4861 - root_mean_squared_error: 2.5468"
          ]
        },
        {
          "name": "stderr",
          "output_type": "stream",
          "text": [
            "2023-12-08 19:44:54.411126: I tensorflow/core/kernels/data/shuffle_dataset_op.cc:452] Shuffle buffer filled.\n"
          ]
        },
        {
          "name": "stdout",
          "output_type": "stream",
          "text": [
            "102/250 [===========>..................] - ETA: 59s - loss: 6.3287 - root_mean_squared_error: 2.5157 "
          ]
        },
        {
          "name": "stderr",
          "output_type": "stream",
          "text": [
            "2023-12-08 19:45:06.839340: I tensorflow/core/kernels/data/shuffle_dataset_op.cc:422] ShuffleDatasetV3:35: Filling up shuffle buffer (this may take a while): 1923 of 2000\n"
          ]
        },
        {
          "name": "stdout",
          "output_type": "stream",
          "text": [
            "103/250 [===========>..................] - ETA: 59s - loss: 6.3906 - root_mean_squared_error: 2.5280"
          ]
        },
        {
          "name": "stderr",
          "output_type": "stream",
          "text": [
            "2023-12-08 19:45:07.237439: I tensorflow/core/kernels/data/shuffle_dataset_op.cc:452] Shuffle buffer filled.\n"
          ]
        },
        {
          "name": "stdout",
          "output_type": "stream",
          "text": [
            "134/250 [===============>..............] - ETA: 46s - loss: 6.4382 - root_mean_squared_error: 2.5374"
          ]
        },
        {
          "name": "stderr",
          "output_type": "stream",
          "text": [
            "2023-12-08 19:45:19.751620: I tensorflow/core/kernels/data/shuffle_dataset_op.cc:422] ShuffleDatasetV3:35: Filling up shuffle buffer (this may take a while): 1913 of 2000\n"
          ]
        },
        {
          "name": "stdout",
          "output_type": "stream",
          "text": [
            "135/250 [===============>..............] - ETA: 46s - loss: 6.4087 - root_mean_squared_error: 2.5315"
          ]
        },
        {
          "name": "stderr",
          "output_type": "stream",
          "text": [
            "2023-12-08 19:45:20.204487: I tensorflow/core/kernels/data/shuffle_dataset_op.cc:452] Shuffle buffer filled.\n"
          ]
        },
        {
          "name": "stdout",
          "output_type": "stream",
          "text": [
            "166/250 [==================>...........] - ETA: 33s - loss: 6.2839 - root_mean_squared_error: 2.5068"
          ]
        },
        {
          "name": "stderr",
          "output_type": "stream",
          "text": [
            "2023-12-08 19:45:32.674371: I tensorflow/core/kernels/data/shuffle_dataset_op.cc:422] ShuffleDatasetV3:35: Filling up shuffle buffer (this may take a while): 1911 of 2000\n"
          ]
        },
        {
          "name": "stdout",
          "output_type": "stream",
          "text": [
            "167/250 [===================>..........] - ETA: 33s - loss: 6.3091 - root_mean_squared_error: 2.5118"
          ]
        },
        {
          "name": "stderr",
          "output_type": "stream",
          "text": [
            "2023-12-08 19:45:33.136317: I tensorflow/core/kernels/data/shuffle_dataset_op.cc:452] Shuffle buffer filled.\n"
          ]
        },
        {
          "name": "stdout",
          "output_type": "stream",
          "text": [
            "198/250 [======================>.......] - ETA: 21s - loss: 6.2937 - root_mean_squared_error: 2.5087"
          ]
        },
        {
          "name": "stderr",
          "output_type": "stream",
          "text": [
            "2023-12-08 19:45:45.613344: I tensorflow/core/kernels/data/shuffle_dataset_op.cc:422] ShuffleDatasetV3:35: Filling up shuffle buffer (this may take a while): 1933 of 2000\n"
          ]
        },
        {
          "name": "stdout",
          "output_type": "stream",
          "text": [
            "199/250 [======================>.......] - ETA: 20s - loss: 6.2924 - root_mean_squared_error: 2.5085"
          ]
        },
        {
          "name": "stderr",
          "output_type": "stream",
          "text": [
            "2023-12-08 19:45:45.962282: I tensorflow/core/kernels/data/shuffle_dataset_op.cc:452] Shuffle buffer filled.\n"
          ]
        },
        {
          "name": "stdout",
          "output_type": "stream",
          "text": [
            "230/250 [==========================>...] - ETA: 8s - loss: 6.3634 - root_mean_squared_error: 2.5226"
          ]
        },
        {
          "name": "stderr",
          "output_type": "stream",
          "text": [
            "2023-12-08 19:45:58.522746: I tensorflow/core/kernels/data/shuffle_dataset_op.cc:422] ShuffleDatasetV3:35: Filling up shuffle buffer (this may take a while): 1896 of 2000\n"
          ]
        },
        {
          "name": "stdout",
          "output_type": "stream",
          "text": [
            "232/250 [==========================>...] - ETA: 7s - loss: 6.3291 - root_mean_squared_error: 2.5158"
          ]
        },
        {
          "name": "stderr",
          "output_type": "stream",
          "text": [
            "2023-12-08 19:45:59.067482: I tensorflow/core/kernels/data/shuffle_dataset_op.cc:452] Shuffle buffer filled.\n"
          ]
        },
        {
          "name": "stdout",
          "output_type": "stream",
          "text": [
            "250/250 [==============================] - ETA: 0s - loss: 6.3586 - root_mean_squared_error: 2.5216"
          ]
        },
        {
          "name": "stderr",
          "output_type": "stream",
          "text": [
            "2023-12-08 19:46:11.437693: I tensorflow/core/kernels/data/shuffle_dataset_op.cc:422] ShuffleDatasetV3:35: Filling up shuffle buffer (this may take a while): 1796 of 2000\n",
            "2023-12-08 19:46:12.627841: I tensorflow/core/kernels/data/shuffle_dataset_op.cc:452] Shuffle buffer filled.\n"
          ]
        },
        {
          "name": "stdout",
          "output_type": "stream",
          "text": [
            "250/250 [==============================] - 149s 598ms/step - loss: 6.3586 - root_mean_squared_error: 2.5216 - val_loss: 4.3928 - val_root_mean_squared_error: 2.0959\n",
            "Epoch 15/50\n",
            " 44/250 [====>.........................] - ETA: 1:23 - loss: 6.2556 - root_mean_squared_error: 2.5011"
          ]
        },
        {
          "name": "stderr",
          "output_type": "stream",
          "text": [
            "2023-12-08 19:47:12.859550: I tensorflow/core/kernels/data/shuffle_dataset_op.cc:422] ShuffleDatasetV3:35: Filling up shuffle buffer (this may take a while): 1889 of 2000\n"
          ]
        },
        {
          "name": "stdout",
          "output_type": "stream",
          "text": [
            " 46/250 [====>.........................] - ETA: 1:22 - loss: 6.2725 - root_mean_squared_error: 2.5045"
          ]
        },
        {
          "name": "stderr",
          "output_type": "stream",
          "text": [
            "2023-12-08 19:47:13.439841: I tensorflow/core/kernels/data/shuffle_dataset_op.cc:452] Shuffle buffer filled.\n"
          ]
        },
        {
          "name": "stdout",
          "output_type": "stream",
          "text": [
            " 76/250 [========>.....................] - ETA: 1:10 - loss: 6.2641 - root_mean_squared_error: 2.5028"
          ]
        },
        {
          "name": "stderr",
          "output_type": "stream",
          "text": [
            "2023-12-08 19:47:25.720667: I tensorflow/core/kernels/data/shuffle_dataset_op.cc:422] ShuffleDatasetV3:35: Filling up shuffle buffer (this may take a while): 1941 of 2000\n"
          ]
        },
        {
          "name": "stdout",
          "output_type": "stream",
          "text": [
            " 77/250 [========>.....................] - ETA: 1:09 - loss: 6.2396 - root_mean_squared_error: 2.4979"
          ]
        },
        {
          "name": "stderr",
          "output_type": "stream",
          "text": [
            "2023-12-08 19:47:26.030881: I tensorflow/core/kernels/data/shuffle_dataset_op.cc:452] Shuffle buffer filled.\n"
          ]
        },
        {
          "name": "stdout",
          "output_type": "stream",
          "text": [
            "108/250 [===========>..................] - ETA: 57s - loss: 6.2886 - root_mean_squared_error: 2.5077"
          ]
        },
        {
          "name": "stderr",
          "output_type": "stream",
          "text": [
            "2023-12-08 19:47:38.589439: I tensorflow/core/kernels/data/shuffle_dataset_op.cc:422] ShuffleDatasetV3:35: Filling up shuffle buffer (this may take a while): 1912 of 2000\n"
          ]
        },
        {
          "name": "stdout",
          "output_type": "stream",
          "text": [
            "109/250 [============>.................] - ETA: 56s - loss: 6.3406 - root_mean_squared_error: 2.5181"
          ]
        },
        {
          "name": "stderr",
          "output_type": "stream",
          "text": [
            "2023-12-08 19:47:39.044420: I tensorflow/core/kernels/data/shuffle_dataset_op.cc:452] Shuffle buffer filled.\n"
          ]
        },
        {
          "name": "stdout",
          "output_type": "stream",
          "text": [
            "140/250 [===============>..............] - ETA: 44s - loss: 6.4803 - root_mean_squared_error: 2.5456"
          ]
        },
        {
          "name": "stderr",
          "output_type": "stream",
          "text": [
            "2023-12-08 19:47:51.495216: I tensorflow/core/kernels/data/shuffle_dataset_op.cc:422] ShuffleDatasetV3:35: Filling up shuffle buffer (this may take a while): 1909 of 2000\n"
          ]
        },
        {
          "name": "stdout",
          "output_type": "stream",
          "text": [
            "141/250 [===============>..............] - ETA: 43s - loss: 6.4575 - root_mean_squared_error: 2.5412"
          ]
        },
        {
          "name": "stderr",
          "output_type": "stream",
          "text": [
            "2023-12-08 19:47:51.975662: I tensorflow/core/kernels/data/shuffle_dataset_op.cc:452] Shuffle buffer filled.\n"
          ]
        },
        {
          "name": "stdout",
          "output_type": "stream",
          "text": [
            "172/250 [===================>..........] - ETA: 31s - loss: 6.2630 - root_mean_squared_error: 2.5026"
          ]
        },
        {
          "name": "stderr",
          "output_type": "stream",
          "text": [
            "2023-12-08 19:48:04.416521: I tensorflow/core/kernels/data/shuffle_dataset_op.cc:422] ShuffleDatasetV3:35: Filling up shuffle buffer (this may take a while): 1941 of 2000\n"
          ]
        },
        {
          "name": "stdout",
          "output_type": "stream",
          "text": [
            "173/250 [===================>..........] - ETA: 31s - loss: 6.2574 - root_mean_squared_error: 2.5015"
          ]
        },
        {
          "name": "stderr",
          "output_type": "stream",
          "text": [
            "2023-12-08 19:48:04.723713: I tensorflow/core/kernels/data/shuffle_dataset_op.cc:452] Shuffle buffer filled.\n"
          ]
        },
        {
          "name": "stdout",
          "output_type": "stream",
          "text": [
            "204/250 [=======================>......] - ETA: 18s - loss: 6.3707 - root_mean_squared_error: 2.5240"
          ]
        },
        {
          "name": "stderr",
          "output_type": "stream",
          "text": [
            "2023-12-08 19:48:17.365170: I tensorflow/core/kernels/data/shuffle_dataset_op.cc:422] ShuffleDatasetV3:35: Filling up shuffle buffer (this may take a while): 1944 of 2000\n"
          ]
        },
        {
          "name": "stdout",
          "output_type": "stream",
          "text": [
            "205/250 [=======================>......] - ETA: 18s - loss: 6.3511 - root_mean_squared_error: 2.5201"
          ]
        },
        {
          "name": "stderr",
          "output_type": "stream",
          "text": [
            "2023-12-08 19:48:17.653883: I tensorflow/core/kernels/data/shuffle_dataset_op.cc:452] Shuffle buffer filled.\n"
          ]
        },
        {
          "name": "stdout",
          "output_type": "stream",
          "text": [
            "236/250 [===========================>..] - ETA: 5s - loss: 6.2893 - root_mean_squared_error: 2.5078"
          ]
        },
        {
          "name": "stderr",
          "output_type": "stream",
          "text": [
            "2023-12-08 19:48:30.301702: I tensorflow/core/kernels/data/shuffle_dataset_op.cc:422] ShuffleDatasetV3:35: Filling up shuffle buffer (this may take a while): 1920 of 2000\n"
          ]
        },
        {
          "name": "stdout",
          "output_type": "stream",
          "text": [
            "237/250 [===========================>..] - ETA: 5s - loss: 6.2936 - root_mean_squared_error: 2.5087"
          ]
        },
        {
          "name": "stderr",
          "output_type": "stream",
          "text": [
            "2023-12-08 19:48:30.720508: I tensorflow/core/kernels/data/shuffle_dataset_op.cc:452] Shuffle buffer filled.\n"
          ]
        },
        {
          "name": "stdout",
          "output_type": "stream",
          "text": [
            "250/250 [==============================] - ETA: 0s - loss: 6.3695 - root_mean_squared_error: 2.5238"
          ]
        },
        {
          "name": "stderr",
          "output_type": "stream",
          "text": [
            "2023-12-08 19:48:43.191647: I tensorflow/core/kernels/data/shuffle_dataset_op.cc:422] ShuffleDatasetV3:35: Filling up shuffle buffer (this may take a while): 1777 of 2000\n",
            "2023-12-08 19:48:44.470024: I tensorflow/core/kernels/data/shuffle_dataset_op.cc:452] Shuffle buffer filled.\n"
          ]
        },
        {
          "name": "stdout",
          "output_type": "stream",
          "text": [
            "250/250 [==============================] - 149s 598ms/step - loss: 6.3695 - root_mean_squared_error: 2.5238 - val_loss: 4.3934 - val_root_mean_squared_error: 2.0960\n",
            "Epoch 16/50\n",
            " 50/250 [=====>........................] - ETA: 1:21 - loss: 6.2406 - root_mean_squared_error: 2.4981"
          ]
        },
        {
          "name": "stderr",
          "output_type": "stream",
          "text": [
            "2023-12-08 19:49:44.722801: I tensorflow/core/kernels/data/shuffle_dataset_op.cc:422] ShuffleDatasetV3:35: Filling up shuffle buffer (this may take a while): 1889 of 2000\n"
          ]
        },
        {
          "name": "stdout",
          "output_type": "stream",
          "text": [
            " 52/250 [=====>........................] - ETA: 1:20 - loss: 6.3159 - root_mean_squared_error: 2.5132"
          ]
        },
        {
          "name": "stderr",
          "output_type": "stream",
          "text": [
            "2023-12-08 19:49:45.299174: I tensorflow/core/kernels/data/shuffle_dataset_op.cc:452] Shuffle buffer filled.\n"
          ]
        },
        {
          "name": "stdout",
          "output_type": "stream",
          "text": [
            " 82/250 [========>.....................] - ETA: 1:08 - loss: 6.3044 - root_mean_squared_error: 2.5108"
          ]
        },
        {
          "name": "stderr",
          "output_type": "stream",
          "text": [
            "2023-12-08 19:49:57.613057: I tensorflow/core/kernels/data/shuffle_dataset_op.cc:422] ShuffleDatasetV3:35: Filling up shuffle buffer (this may take a while): 1907 of 2000\n"
          ]
        },
        {
          "name": "stdout",
          "output_type": "stream",
          "text": [
            " 83/250 [========>.....................] - ETA: 1:07 - loss: 6.2855 - root_mean_squared_error: 2.5071"
          ]
        },
        {
          "name": "stderr",
          "output_type": "stream",
          "text": [
            "2023-12-08 19:49:58.098863: I tensorflow/core/kernels/data/shuffle_dataset_op.cc:452] Shuffle buffer filled.\n"
          ]
        },
        {
          "name": "stdout",
          "output_type": "stream",
          "text": [
            "114/250 [============>.................] - ETA: 55s - loss: 6.2528 - root_mean_squared_error: 2.5006"
          ]
        },
        {
          "name": "stderr",
          "output_type": "stream",
          "text": [
            "2023-12-08 19:50:10.495810: I tensorflow/core/kernels/data/shuffle_dataset_op.cc:422] ShuffleDatasetV3:35: Filling up shuffle buffer (this may take a while): 1940 of 2000\n"
          ]
        },
        {
          "name": "stdout",
          "output_type": "stream",
          "text": [
            "115/250 [============>.................] - ETA: 54s - loss: 6.2484 - root_mean_squared_error: 2.4997"
          ]
        },
        {
          "name": "stderr",
          "output_type": "stream",
          "text": [
            "2023-12-08 19:50:10.808869: I tensorflow/core/kernels/data/shuffle_dataset_op.cc:452] Shuffle buffer filled.\n"
          ]
        },
        {
          "name": "stdout",
          "output_type": "stream",
          "text": [
            "146/250 [================>.............] - ETA: 42s - loss: 6.2870 - root_mean_squared_error: 2.5074"
          ]
        },
        {
          "name": "stderr",
          "output_type": "stream",
          "text": [
            "2023-12-08 19:50:23.370622: I tensorflow/core/kernels/data/shuffle_dataset_op.cc:422] ShuffleDatasetV3:35: Filling up shuffle buffer (this may take a while): 1883 of 2000\n"
          ]
        },
        {
          "name": "stdout",
          "output_type": "stream",
          "text": [
            "148/250 [================>.............] - ETA: 41s - loss: 6.2672 - root_mean_squared_error: 2.5034"
          ]
        },
        {
          "name": "stderr",
          "output_type": "stream",
          "text": [
            "2023-12-08 19:50:23.985234: I tensorflow/core/kernels/data/shuffle_dataset_op.cc:452] Shuffle buffer filled.\n"
          ]
        },
        {
          "name": "stdout",
          "output_type": "stream",
          "text": [
            "178/250 [====================>.........] - ETA: 29s - loss: 6.2355 - root_mean_squared_error: 2.4971"
          ]
        },
        {
          "name": "stderr",
          "output_type": "stream",
          "text": [
            "2023-12-08 19:50:36.288647: I tensorflow/core/kernels/data/shuffle_dataset_op.cc:422] ShuffleDatasetV3:35: Filling up shuffle buffer (this may take a while): 1879 of 2000\n"
          ]
        },
        {
          "name": "stdout",
          "output_type": "stream",
          "text": [
            "180/250 [====================>.........] - ETA: 28s - loss: 6.2103 - root_mean_squared_error: 2.4920"
          ]
        },
        {
          "name": "stderr",
          "output_type": "stream",
          "text": [
            "2023-12-08 19:50:36.922887: I tensorflow/core/kernels/data/shuffle_dataset_op.cc:452] Shuffle buffer filled.\n"
          ]
        },
        {
          "name": "stdout",
          "output_type": "stream",
          "text": [
            "210/250 [========================>.....] - ETA: 16s - loss: 6.3474 - root_mean_squared_error: 2.5194"
          ]
        },
        {
          "name": "stderr",
          "output_type": "stream",
          "text": [
            "2023-12-08 19:50:49.233196: I tensorflow/core/kernels/data/shuffle_dataset_op.cc:422] ShuffleDatasetV3:35: Filling up shuffle buffer (this may take a while): 1941 of 2000\n"
          ]
        },
        {
          "name": "stdout",
          "output_type": "stream",
          "text": [
            "211/250 [========================>.....] - ETA: 15s - loss: 6.3524 - root_mean_squared_error: 2.5204"
          ]
        },
        {
          "name": "stderr",
          "output_type": "stream",
          "text": [
            "2023-12-08 19:50:49.537155: I tensorflow/core/kernels/data/shuffle_dataset_op.cc:452] Shuffle buffer filled.\n"
          ]
        },
        {
          "name": "stdout",
          "output_type": "stream",
          "text": [
            "242/250 [============================>.] - ETA: 3s - loss: 6.2801 - root_mean_squared_error: 2.5060"
          ]
        },
        {
          "name": "stderr",
          "output_type": "stream",
          "text": [
            "2023-12-08 19:51:02.162700: I tensorflow/core/kernels/data/shuffle_dataset_op.cc:422] ShuffleDatasetV3:35: Filling up shuffle buffer (this may take a while): 1886 of 2000\n"
          ]
        },
        {
          "name": "stdout",
          "output_type": "stream",
          "text": [
            "244/250 [============================>.] - ETA: 2s - loss: 6.3194 - root_mean_squared_error: 2.5138"
          ]
        },
        {
          "name": "stderr",
          "output_type": "stream",
          "text": [
            "2023-12-08 19:51:02.755304: I tensorflow/core/kernels/data/shuffle_dataset_op.cc:452] Shuffle buffer filled.\n"
          ]
        },
        {
          "name": "stdout",
          "output_type": "stream",
          "text": [
            "250/250 [==============================] - 150s 601ms/step - loss: 6.3024 - root_mean_squared_error: 2.5105 - val_loss: 4.4004 - val_root_mean_squared_error: 2.0977\n",
            "Epoch 17/50\n",
            " 24/250 [=>............................] - ETA: 1:33 - loss: 6.7530 - root_mean_squared_error: 2.5987"
          ]
        },
        {
          "name": "stderr",
          "output_type": "stream",
          "text": [
            "2023-12-08 19:52:04.278989: I tensorflow/core/kernels/data/shuffle_dataset_op.cc:422] ShuffleDatasetV3:35: Filling up shuffle buffer (this may take a while): 1923 of 2000\n"
          ]
        },
        {
          "name": "stdout",
          "output_type": "stream",
          "text": [
            " 25/250 [==>...........................] - ETA: 1:32 - loss: 6.6530 - root_mean_squared_error: 2.5793"
          ]
        },
        {
          "name": "stderr",
          "output_type": "stream",
          "text": [
            "2023-12-08 19:52:04.679665: I tensorflow/core/kernels/data/shuffle_dataset_op.cc:452] Shuffle buffer filled.\n"
          ]
        },
        {
          "name": "stdout",
          "output_type": "stream",
          "text": [
            " 56/250 [=====>........................] - ETA: 1:18 - loss: 6.4049 - root_mean_squared_error: 2.5308"
          ]
        },
        {
          "name": "stderr",
          "output_type": "stream",
          "text": [
            "2023-12-08 19:52:17.200634: I tensorflow/core/kernels/data/shuffle_dataset_op.cc:422] ShuffleDatasetV3:35: Filling up shuffle buffer (this may take a while): 1890 of 2000\n"
          ]
        },
        {
          "name": "stdout",
          "output_type": "stream",
          "text": [
            " 58/250 [=====>........................] - ETA: 1:18 - loss: 6.4878 - root_mean_squared_error: 2.5471"
          ]
        },
        {
          "name": "stderr",
          "output_type": "stream",
          "text": [
            "2023-12-08 19:52:17.779361: I tensorflow/core/kernels/data/shuffle_dataset_op.cc:452] Shuffle buffer filled.\n"
          ]
        },
        {
          "name": "stdout",
          "output_type": "stream",
          "text": [
            " 88/250 [=========>....................] - ETA: 1:05 - loss: 6.3416 - root_mean_squared_error: 2.5182"
          ]
        },
        {
          "name": "stderr",
          "output_type": "stream",
          "text": [
            "2023-12-08 19:52:30.097770: I tensorflow/core/kernels/data/shuffle_dataset_op.cc:422] ShuffleDatasetV3:35: Filling up shuffle buffer (this may take a while): 1885 of 2000\n"
          ]
        },
        {
          "name": "stdout",
          "output_type": "stream",
          "text": [
            " 90/250 [=========>....................] - ETA: 1:04 - loss: 6.3842 - root_mean_squared_error: 2.5267"
          ]
        },
        {
          "name": "stderr",
          "output_type": "stream",
          "text": [
            "2023-12-08 19:52:30.697531: I tensorflow/core/kernels/data/shuffle_dataset_op.cc:452] Shuffle buffer filled.\n"
          ]
        },
        {
          "name": "stdout",
          "output_type": "stream",
          "text": [
            "120/250 [=============>................] - ETA: 52s - loss: 6.3043 - root_mean_squared_error: 2.5108"
          ]
        },
        {
          "name": "stderr",
          "output_type": "stream",
          "text": [
            "2023-12-08 19:52:42.979525: I tensorflow/core/kernels/data/shuffle_dataset_op.cc:422] ShuffleDatasetV3:35: Filling up shuffle buffer (this may take a while): 1934 of 2000\n"
          ]
        },
        {
          "name": "stdout",
          "output_type": "stream",
          "text": [
            "121/250 [=============>................] - ETA: 52s - loss: 6.2877 - root_mean_squared_error: 2.5075"
          ]
        },
        {
          "name": "stderr",
          "output_type": "stream",
          "text": [
            "2023-12-08 19:52:43.326256: I tensorflow/core/kernels/data/shuffle_dataset_op.cc:452] Shuffle buffer filled.\n"
          ]
        },
        {
          "name": "stdout",
          "output_type": "stream",
          "text": [
            "152/250 [=================>............] - ETA: 39s - loss: 6.3958 - root_mean_squared_error: 2.5290"
          ]
        },
        {
          "name": "stderr",
          "output_type": "stream",
          "text": [
            "2023-12-08 19:52:55.865490: I tensorflow/core/kernels/data/shuffle_dataset_op.cc:422] ShuffleDatasetV3:35: Filling up shuffle buffer (this may take a while): 1916 of 2000\n"
          ]
        },
        {
          "name": "stdout",
          "output_type": "stream",
          "text": [
            "153/250 [=================>............] - ETA: 39s - loss: 6.3703 - root_mean_squared_error: 2.5239"
          ]
        },
        {
          "name": "stderr",
          "output_type": "stream",
          "text": [
            "2023-12-08 19:52:56.304700: I tensorflow/core/kernels/data/shuffle_dataset_op.cc:452] Shuffle buffer filled.\n"
          ]
        },
        {
          "name": "stdout",
          "output_type": "stream",
          "text": [
            "184/250 [=====================>........] - ETA: 26s - loss: 6.2963 - root_mean_squared_error: 2.5092"
          ]
        },
        {
          "name": "stderr",
          "output_type": "stream",
          "text": [
            "2023-12-08 19:53:08.748159: I tensorflow/core/kernels/data/shuffle_dataset_op.cc:422] ShuffleDatasetV3:35: Filling up shuffle buffer (this may take a while): 1943 of 2000\n"
          ]
        },
        {
          "name": "stdout",
          "output_type": "stream",
          "text": [
            "185/250 [=====================>........] - ETA: 26s - loss: 6.3211 - root_mean_squared_error: 2.5142"
          ]
        },
        {
          "name": "stderr",
          "output_type": "stream",
          "text": [
            "2023-12-08 19:53:09.044362: I tensorflow/core/kernels/data/shuffle_dataset_op.cc:452] Shuffle buffer filled.\n"
          ]
        },
        {
          "name": "stdout",
          "output_type": "stream",
          "text": [
            "216/250 [========================>.....] - ETA: 13s - loss: 6.3345 - root_mean_squared_error: 2.5168"
          ]
        },
        {
          "name": "stderr",
          "output_type": "stream",
          "text": [
            "2023-12-08 19:53:21.680466: I tensorflow/core/kernels/data/shuffle_dataset_op.cc:422] ShuffleDatasetV3:35: Filling up shuffle buffer (this may take a while): 1881 of 2000\n"
          ]
        },
        {
          "name": "stdout",
          "output_type": "stream",
          "text": [
            "218/250 [=========================>....] - ETA: 12s - loss: 6.3224 - root_mean_squared_error: 2.5144"
          ]
        },
        {
          "name": "stderr",
          "output_type": "stream",
          "text": [
            "2023-12-08 19:53:22.299287: I tensorflow/core/kernels/data/shuffle_dataset_op.cc:452] Shuffle buffer filled.\n"
          ]
        },
        {
          "name": "stdout",
          "output_type": "stream",
          "text": [
            "248/250 [============================>.] - ETA: 0s - loss: 6.2924 - root_mean_squared_error: 2.5085"
          ]
        },
        {
          "name": "stderr",
          "output_type": "stream",
          "text": [
            "2023-12-08 19:53:34.740400: I tensorflow/core/kernels/data/shuffle_dataset_op.cc:422] ShuffleDatasetV3:35: Filling up shuffle buffer (this may take a while): 1917 of 2000\n"
          ]
        },
        {
          "name": "stdout",
          "output_type": "stream",
          "text": [
            "249/250 [============================>.] - ETA: 0s - loss: 6.3170 - root_mean_squared_error: 2.5134"
          ]
        },
        {
          "name": "stderr",
          "output_type": "stream",
          "text": [
            "2023-12-08 19:53:35.169610: I tensorflow/core/kernels/data/shuffle_dataset_op.cc:452] Shuffle buffer filled.\n"
          ]
        },
        {
          "name": "stdout",
          "output_type": "stream",
          "text": [
            "250/250 [==============================] - 150s 600ms/step - loss: 6.3282 - root_mean_squared_error: 2.5156 - val_loss: 4.3906 - val_root_mean_squared_error: 2.0954\n",
            "Epoch 18/50\n",
            " 30/250 [==>...........................] - ETA: 1:28 - loss: 6.1734 - root_mean_squared_error: 2.4846"
          ]
        },
        {
          "name": "stderr",
          "output_type": "stream",
          "text": [
            "2023-12-08 19:54:36.384219: I tensorflow/core/kernels/data/shuffle_dataset_op.cc:422] ShuffleDatasetV3:35: Filling up shuffle buffer (this may take a while): 1902 of 2000\n"
          ]
        },
        {
          "name": "stdout",
          "output_type": "stream",
          "text": [
            " 32/250 [==>...........................] - ETA: 1:27 - loss: 6.5414 - root_mean_squared_error: 2.5576"
          ]
        },
        {
          "name": "stderr",
          "output_type": "stream",
          "text": [
            "2023-12-08 19:54:36.895175: I tensorflow/core/kernels/data/shuffle_dataset_op.cc:452] Shuffle buffer filled.\n"
          ]
        },
        {
          "name": "stdout",
          "output_type": "stream",
          "text": [
            " 62/250 [======>.......................] - ETA: 1:16 - loss: 6.4447 - root_mean_squared_error: 2.5386"
          ]
        },
        {
          "name": "stderr",
          "output_type": "stream",
          "text": [
            "2023-12-08 19:54:49.388590: I tensorflow/core/kernels/data/shuffle_dataset_op.cc:422] ShuffleDatasetV3:35: Filling up shuffle buffer (this may take a while): 1881 of 2000\n"
          ]
        },
        {
          "name": "stdout",
          "output_type": "stream",
          "text": [
            " 64/250 [======>.......................] - ETA: 1:15 - loss: 6.4176 - root_mean_squared_error: 2.5333"
          ]
        },
        {
          "name": "stderr",
          "output_type": "stream",
          "text": [
            "2023-12-08 19:54:50.010577: I tensorflow/core/kernels/data/shuffle_dataset_op.cc:452] Shuffle buffer filled.\n"
          ]
        },
        {
          "name": "stdout",
          "output_type": "stream",
          "text": [
            " 94/250 [==========>...................] - ETA: 1:03 - loss: 6.3554 - root_mean_squared_error: 2.5210"
          ]
        },
        {
          "name": "stderr",
          "output_type": "stream",
          "text": [
            "2023-12-08 19:55:02.318225: I tensorflow/core/kernels/data/shuffle_dataset_op.cc:422] ShuffleDatasetV3:35: Filling up shuffle buffer (this may take a while): 1914 of 2000\n"
          ]
        },
        {
          "name": "stdout",
          "output_type": "stream",
          "text": [
            " 95/250 [==========>...................] - ETA: 1:02 - loss: 6.3949 - root_mean_squared_error: 2.5288"
          ]
        },
        {
          "name": "stderr",
          "output_type": "stream",
          "text": [
            "2023-12-08 19:55:02.767016: I tensorflow/core/kernels/data/shuffle_dataset_op.cc:452] Shuffle buffer filled.\n"
          ]
        },
        {
          "name": "stdout",
          "output_type": "stream",
          "text": [
            "126/250 [==============>...............] - ETA: 50s - loss: 6.3711 - root_mean_squared_error: 2.5241"
          ]
        },
        {
          "name": "stderr",
          "output_type": "stream",
          "text": [
            "2023-12-08 19:55:15.186359: I tensorflow/core/kernels/data/shuffle_dataset_op.cc:422] ShuffleDatasetV3:35: Filling up shuffle buffer (this may take a while): 1911 of 2000\n"
          ]
        },
        {
          "name": "stdout",
          "output_type": "stream",
          "text": [
            "127/250 [==============>...............] - ETA: 49s - loss: 6.3698 - root_mean_squared_error: 2.5239"
          ]
        },
        {
          "name": "stderr",
          "output_type": "stream",
          "text": [
            "2023-12-08 19:55:15.651031: I tensorflow/core/kernels/data/shuffle_dataset_op.cc:452] Shuffle buffer filled.\n"
          ]
        },
        {
          "name": "stdout",
          "output_type": "stream",
          "text": [
            "158/250 [=================>............] - ETA: 37s - loss: 6.4369 - root_mean_squared_error: 2.5371"
          ]
        },
        {
          "name": "stderr",
          "output_type": "stream",
          "text": [
            "2023-12-08 19:55:28.121381: I tensorflow/core/kernels/data/shuffle_dataset_op.cc:422] ShuffleDatasetV3:35: Filling up shuffle buffer (this may take a while): 1911 of 2000\n"
          ]
        },
        {
          "name": "stdout",
          "output_type": "stream",
          "text": [
            "159/250 [==================>...........] - ETA: 36s - loss: 6.4315 - root_mean_squared_error: 2.5360"
          ]
        },
        {
          "name": "stderr",
          "output_type": "stream",
          "text": [
            "2023-12-08 19:55:28.590053: I tensorflow/core/kernels/data/shuffle_dataset_op.cc:452] Shuffle buffer filled.\n"
          ]
        },
        {
          "name": "stdout",
          "output_type": "stream",
          "text": [
            "190/250 [=====================>........] - ETA: 24s - loss: 6.3721 - root_mean_squared_error: 2.5243"
          ]
        },
        {
          "name": "stderr",
          "output_type": "stream",
          "text": [
            "2023-12-08 19:55:41.045479: I tensorflow/core/kernels/data/shuffle_dataset_op.cc:422] ShuffleDatasetV3:35: Filling up shuffle buffer (this may take a while): 1880 of 2000\n"
          ]
        },
        {
          "name": "stdout",
          "output_type": "stream",
          "text": [
            "192/250 [======================>.......] - ETA: 23s - loss: 6.3624 - root_mean_squared_error: 2.5224"
          ]
        },
        {
          "name": "stderr",
          "output_type": "stream",
          "text": [
            "2023-12-08 19:55:41.668229: I tensorflow/core/kernels/data/shuffle_dataset_op.cc:452] Shuffle buffer filled.\n"
          ]
        },
        {
          "name": "stdout",
          "output_type": "stream",
          "text": [
            "222/250 [=========================>....] - ETA: 11s - loss: 6.3585 - root_mean_squared_error: 2.5216"
          ]
        },
        {
          "name": "stderr",
          "output_type": "stream",
          "text": [
            "2023-12-08 19:55:53.980132: I tensorflow/core/kernels/data/shuffle_dataset_op.cc:422] ShuffleDatasetV3:35: Filling up shuffle buffer (this may take a while): 1928 of 2000\n"
          ]
        },
        {
          "name": "stdout",
          "output_type": "stream",
          "text": [
            "223/250 [=========================>....] - ETA: 10s - loss: 6.3461 - root_mean_squared_error: 2.5191"
          ]
        },
        {
          "name": "stderr",
          "output_type": "stream",
          "text": [
            "2023-12-08 19:55:54.356749: I tensorflow/core/kernels/data/shuffle_dataset_op.cc:452] Shuffle buffer filled.\n"
          ]
        },
        {
          "name": "stdout",
          "output_type": "stream",
          "text": [
            "250/250 [==============================] - ETA: 0s - loss: 6.3631 - root_mean_squared_error: 2.5225"
          ]
        },
        {
          "name": "stderr",
          "output_type": "stream",
          "text": [
            "2023-12-08 19:56:07.523139: I tensorflow/core/kernels/data/shuffle_dataset_op.cc:422] ShuffleDatasetV3:35: Filling up shuffle buffer (this may take a while): 1873 of 2000\n",
            "2023-12-08 19:56:08.252061: I tensorflow/core/kernels/data/shuffle_dataset_op.cc:452] Shuffle buffer filled.\n"
          ]
        },
        {
          "name": "stdout",
          "output_type": "stream",
          "text": [
            "250/250 [==============================] - 151s 606ms/step - loss: 6.3631 - root_mean_squared_error: 2.5225 - val_loss: 4.3920 - val_root_mean_squared_error: 2.0957\n",
            "Epoch 19/50\n",
            " 36/250 [===>..........................] - ETA: 1:26 - loss: 6.2236 - root_mean_squared_error: 2.4947"
          ]
        },
        {
          "name": "stderr",
          "output_type": "stream",
          "text": [
            "2023-12-08 19:57:10.319256: I tensorflow/core/kernels/data/shuffle_dataset_op.cc:422] ShuffleDatasetV3:35: Filling up shuffle buffer (this may take a while): 1925 of 2000\n"
          ]
        },
        {
          "name": "stdout",
          "output_type": "stream",
          "text": [
            " 37/250 [===>..........................] - ETA: 1:26 - loss: 6.3019 - root_mean_squared_error: 2.5104"
          ]
        },
        {
          "name": "stderr",
          "output_type": "stream",
          "text": [
            "2023-12-08 19:57:10.712059: I tensorflow/core/kernels/data/shuffle_dataset_op.cc:452] Shuffle buffer filled.\n"
          ]
        },
        {
          "name": "stdout",
          "output_type": "stream",
          "text": [
            " 68/250 [=======>......................] - ETA: 1:13 - loss: 6.4044 - root_mean_squared_error: 2.5307"
          ]
        },
        {
          "name": "stderr",
          "output_type": "stream",
          "text": [
            "2023-12-08 19:57:23.213943: I tensorflow/core/kernels/data/shuffle_dataset_op.cc:422] ShuffleDatasetV3:35: Filling up shuffle buffer (this may take a while): 1942 of 2000\n"
          ]
        },
        {
          "name": "stdout",
          "output_type": "stream",
          "text": [
            " 69/250 [=======>......................] - ETA: 1:13 - loss: 6.4227 - root_mean_squared_error: 2.5343"
          ]
        },
        {
          "name": "stderr",
          "output_type": "stream",
          "text": [
            "2023-12-08 19:57:23.515698: I tensorflow/core/kernels/data/shuffle_dataset_op.cc:452] Shuffle buffer filled.\n"
          ]
        },
        {
          "name": "stdout",
          "output_type": "stream",
          "text": [
            "100/250 [===========>..................] - ETA: 1:00 - loss: 6.1669 - root_mean_squared_error: 2.4833"
          ]
        },
        {
          "name": "stderr",
          "output_type": "stream",
          "text": [
            "2023-12-08 19:57:36.106887: I tensorflow/core/kernels/data/shuffle_dataset_op.cc:422] ShuffleDatasetV3:35: Filling up shuffle buffer (this may take a while): 1923 of 2000\n"
          ]
        },
        {
          "name": "stdout",
          "output_type": "stream",
          "text": [
            "101/250 [===========>..................] - ETA: 1:00 - loss: 6.1534 - root_mean_squared_error: 2.4806"
          ]
        },
        {
          "name": "stderr",
          "output_type": "stream",
          "text": [
            "2023-12-08 19:57:36.509110: I tensorflow/core/kernels/data/shuffle_dataset_op.cc:452] Shuffle buffer filled.\n"
          ]
        },
        {
          "name": "stdout",
          "output_type": "stream",
          "text": [
            "132/250 [==============>...............] - ETA: 47s - loss: 6.2543 - root_mean_squared_error: 2.5009"
          ]
        },
        {
          "name": "stderr",
          "output_type": "stream",
          "text": [
            "2023-12-08 19:57:48.983665: I tensorflow/core/kernels/data/shuffle_dataset_op.cc:422] ShuffleDatasetV3:35: Filling up shuffle buffer (this may take a while): 1936 of 2000\n"
          ]
        },
        {
          "name": "stdout",
          "output_type": "stream",
          "text": [
            "133/250 [==============>...............] - ETA: 47s - loss: 6.2506 - root_mean_squared_error: 2.5001"
          ]
        },
        {
          "name": "stderr",
          "output_type": "stream",
          "text": [
            "2023-12-08 19:57:49.320474: I tensorflow/core/kernels/data/shuffle_dataset_op.cc:452] Shuffle buffer filled.\n"
          ]
        },
        {
          "name": "stdout",
          "output_type": "stream",
          "text": [
            "164/250 [==================>...........] - ETA: 34s - loss: 6.3063 - root_mean_squared_error: 2.5112"
          ]
        },
        {
          "name": "stderr",
          "output_type": "stream",
          "text": [
            "2023-12-08 19:58:01.851956: I tensorflow/core/kernels/data/shuffle_dataset_op.cc:422] ShuffleDatasetV3:35: Filling up shuffle buffer (this may take a while): 1919 of 2000\n"
          ]
        },
        {
          "name": "stdout",
          "output_type": "stream",
          "text": [
            "165/250 [==================>...........] - ETA: 34s - loss: 6.3299 - root_mean_squared_error: 2.5159"
          ]
        },
        {
          "name": "stderr",
          "output_type": "stream",
          "text": [
            "2023-12-08 19:58:02.274005: I tensorflow/core/kernels/data/shuffle_dataset_op.cc:452] Shuffle buffer filled.\n"
          ]
        },
        {
          "name": "stdout",
          "output_type": "stream",
          "text": [
            "196/250 [======================>.......] - ETA: 21s - loss: 6.2361 - root_mean_squared_error: 2.4972"
          ]
        },
        {
          "name": "stderr",
          "output_type": "stream",
          "text": [
            "2023-12-08 19:58:14.742743: I tensorflow/core/kernels/data/shuffle_dataset_op.cc:422] ShuffleDatasetV3:35: Filling up shuffle buffer (this may take a while): 1936 of 2000\n"
          ]
        },
        {
          "name": "stdout",
          "output_type": "stream",
          "text": [
            "197/250 [======================>.......] - ETA: 21s - loss: 6.2460 - root_mean_squared_error: 2.4992"
          ]
        },
        {
          "name": "stderr",
          "output_type": "stream",
          "text": [
            "2023-12-08 19:58:15.076466: I tensorflow/core/kernels/data/shuffle_dataset_op.cc:452] Shuffle buffer filled.\n"
          ]
        },
        {
          "name": "stdout",
          "output_type": "stream",
          "text": [
            "228/250 [==========================>...] - ETA: 8s - loss: 6.3137 - root_mean_squared_error: 2.5127"
          ]
        },
        {
          "name": "stderr",
          "output_type": "stream",
          "text": [
            "2023-12-08 19:58:27.646908: I tensorflow/core/kernels/data/shuffle_dataset_op.cc:422] ShuffleDatasetV3:35: Filling up shuffle buffer (this may take a while): 1929 of 2000\n"
          ]
        },
        {
          "name": "stdout",
          "output_type": "stream",
          "text": [
            "229/250 [==========================>...] - ETA: 8s - loss: 6.3062 - root_mean_squared_error: 2.5112"
          ]
        },
        {
          "name": "stderr",
          "output_type": "stream",
          "text": [
            "2023-12-08 19:58:28.017166: I tensorflow/core/kernels/data/shuffle_dataset_op.cc:452] Shuffle buffer filled.\n"
          ]
        },
        {
          "name": "stdout",
          "output_type": "stream",
          "text": [
            "250/250 [==============================] - ETA: 0s - loss: 6.2926 - root_mean_squared_error: 2.5085"
          ]
        },
        {
          "name": "stderr",
          "output_type": "stream",
          "text": [
            "2023-12-08 19:58:40.565742: I tensorflow/core/kernels/data/shuffle_dataset_op.cc:422] ShuffleDatasetV3:35: Filling up shuffle buffer (this may take a while): 1840 of 2000\n",
            "2023-12-08 19:58:41.479634: I tensorflow/core/kernels/data/shuffle_dataset_op.cc:452] Shuffle buffer filled.\n"
          ]
        },
        {
          "name": "stdout",
          "output_type": "stream",
          "text": [
            "250/250 [==============================] - 149s 598ms/step - loss: 6.2926 - root_mean_squared_error: 2.5085 - val_loss: 4.3891 - val_root_mean_squared_error: 2.0950\n",
            "Epoch 20/50\n",
            " 42/250 [====>.........................] - ETA: 1:24 - loss: 6.3837 - root_mean_squared_error: 2.5266"
          ]
        },
        {
          "name": "stderr",
          "output_type": "stream",
          "text": [
            "2023-12-08 19:59:41.997758: I tensorflow/core/kernels/data/shuffle_dataset_op.cc:422] ShuffleDatasetV3:35: Filling up shuffle buffer (this may take a while): 1948 of 2000\n"
          ]
        },
        {
          "name": "stdout",
          "output_type": "stream",
          "text": [
            " 43/250 [====>.........................] - ETA: 1:23 - loss: 6.3112 - root_mean_squared_error: 2.5122"
          ]
        },
        {
          "name": "stderr",
          "output_type": "stream",
          "text": [
            "2023-12-08 19:59:42.263889: I tensorflow/core/kernels/data/shuffle_dataset_op.cc:452] Shuffle buffer filled.\n"
          ]
        },
        {
          "name": "stdout",
          "output_type": "stream",
          "text": [
            " 74/250 [=======>......................] - ETA: 1:11 - loss: 6.2753 - root_mean_squared_error: 2.5051"
          ]
        },
        {
          "name": "stderr",
          "output_type": "stream",
          "text": [
            "2023-12-08 19:59:54.865798: I tensorflow/core/kernels/data/shuffle_dataset_op.cc:422] ShuffleDatasetV3:35: Filling up shuffle buffer (this may take a while): 1938 of 2000\n"
          ]
        },
        {
          "name": "stdout",
          "output_type": "stream",
          "text": [
            " 75/250 [========>.....................] - ETA: 1:10 - loss: 6.2303 - root_mean_squared_error: 2.4961"
          ]
        },
        {
          "name": "stderr",
          "output_type": "stream",
          "text": [
            "2023-12-08 19:59:55.191822: I tensorflow/core/kernels/data/shuffle_dataset_op.cc:452] Shuffle buffer filled.\n"
          ]
        },
        {
          "name": "stdout",
          "output_type": "stream",
          "text": [
            "106/250 [===========>..................] - ETA: 58s - loss: 6.4014 - root_mean_squared_error: 2.5301"
          ]
        },
        {
          "name": "stderr",
          "output_type": "stream",
          "text": [
            "2023-12-08 20:00:07.734830: I tensorflow/core/kernels/data/shuffle_dataset_op.cc:422] ShuffleDatasetV3:35: Filling up shuffle buffer (this may take a while): 1929 of 2000\n"
          ]
        },
        {
          "name": "stdout",
          "output_type": "stream",
          "text": [
            "107/250 [===========>..................] - ETA: 57s - loss: 6.4511 - root_mean_squared_error: 2.5399"
          ]
        },
        {
          "name": "stderr",
          "output_type": "stream",
          "text": [
            "2023-12-08 20:00:08.108301: I tensorflow/core/kernels/data/shuffle_dataset_op.cc:452] Shuffle buffer filled.\n"
          ]
        },
        {
          "name": "stdout",
          "output_type": "stream",
          "text": [
            "138/250 [===============>..............] - ETA: 45s - loss: 6.3921 - root_mean_squared_error: 2.5283"
          ]
        },
        {
          "name": "stderr",
          "output_type": "stream",
          "text": [
            "2023-12-08 20:00:20.618913: I tensorflow/core/kernels/data/shuffle_dataset_op.cc:422] ShuffleDatasetV3:35: Filling up shuffle buffer (this may take a while): 1921 of 2000\n"
          ]
        },
        {
          "name": "stdout",
          "output_type": "stream",
          "text": [
            "139/250 [===============>..............] - ETA: 44s - loss: 6.3789 - root_mean_squared_error: 2.5256"
          ]
        },
        {
          "name": "stderr",
          "output_type": "stream",
          "text": [
            "2023-12-08 20:00:21.030295: I tensorflow/core/kernels/data/shuffle_dataset_op.cc:452] Shuffle buffer filled.\n"
          ]
        },
        {
          "name": "stdout",
          "output_type": "stream",
          "text": [
            "170/250 [===================>..........] - ETA: 32s - loss: 6.3584 - root_mean_squared_error: 2.5216"
          ]
        },
        {
          "name": "stderr",
          "output_type": "stream",
          "text": [
            "2023-12-08 20:00:33.520665: I tensorflow/core/kernels/data/shuffle_dataset_op.cc:422] ShuffleDatasetV3:35: Filling up shuffle buffer (this may take a while): 1933 of 2000\n"
          ]
        },
        {
          "name": "stdout",
          "output_type": "stream",
          "text": [
            "171/250 [===================>..........] - ETA: 31s - loss: 6.3511 - root_mean_squared_error: 2.5201"
          ]
        },
        {
          "name": "stderr",
          "output_type": "stream",
          "text": [
            "2023-12-08 20:00:33.873038: I tensorflow/core/kernels/data/shuffle_dataset_op.cc:452] Shuffle buffer filled.\n"
          ]
        },
        {
          "name": "stdout",
          "output_type": "stream",
          "text": [
            "202/250 [=======================>......] - ETA: 19s - loss: 6.3208 - root_mean_squared_error: 2.5141"
          ]
        },
        {
          "name": "stderr",
          "output_type": "stream",
          "text": [
            "2023-12-08 20:00:46.416411: I tensorflow/core/kernels/data/shuffle_dataset_op.cc:422] ShuffleDatasetV3:35: Filling up shuffle buffer (this may take a while): 1943 of 2000\n"
          ]
        },
        {
          "name": "stdout",
          "output_type": "stream",
          "text": [
            "203/250 [=======================>......] - ETA: 18s - loss: 6.3173 - root_mean_squared_error: 2.5134"
          ]
        },
        {
          "name": "stderr",
          "output_type": "stream",
          "text": [
            "2023-12-08 20:00:46.712231: I tensorflow/core/kernels/data/shuffle_dataset_op.cc:452] Shuffle buffer filled.\n"
          ]
        },
        {
          "name": "stdout",
          "output_type": "stream",
          "text": [
            "234/250 [===========================>..] - ETA: 6s - loss: 6.3972 - root_mean_squared_error: 2.5293"
          ]
        },
        {
          "name": "stderr",
          "output_type": "stream",
          "text": [
            "2023-12-08 20:00:59.338530: I tensorflow/core/kernels/data/shuffle_dataset_op.cc:422] ShuffleDatasetV3:35: Filling up shuffle buffer (this may take a while): 1938 of 2000\n"
          ]
        },
        {
          "name": "stdout",
          "output_type": "stream",
          "text": [
            "235/250 [===========================>..] - ETA: 6s - loss: 6.3999 - root_mean_squared_error: 2.5298"
          ]
        },
        {
          "name": "stderr",
          "output_type": "stream",
          "text": [
            "2023-12-08 20:00:59.662436: I tensorflow/core/kernels/data/shuffle_dataset_op.cc:452] Shuffle buffer filled.\n"
          ]
        },
        {
          "name": "stdout",
          "output_type": "stream",
          "text": [
            "250/250 [==============================] - ETA: 0s - loss: 6.3411 - root_mean_squared_error: 2.5181"
          ]
        },
        {
          "name": "stderr",
          "output_type": "stream",
          "text": [
            "2023-12-08 20:01:12.248686: I tensorflow/core/kernels/data/shuffle_dataset_op.cc:422] ShuffleDatasetV3:35: Filling up shuffle buffer (this may take a while): 1799 of 2000\n",
            "2023-12-08 20:01:13.398398: I tensorflow/core/kernels/data/shuffle_dataset_op.cc:452] Shuffle buffer filled.\n"
          ]
        },
        {
          "name": "stdout",
          "output_type": "stream",
          "text": [
            "250/250 [==============================] - 149s 597ms/step - loss: 6.3411 - root_mean_squared_error: 2.5181 - val_loss: 4.3910 - val_root_mean_squared_error: 2.0955\n",
            "Epoch 21/50\n",
            " 48/250 [====>.........................] - ETA: 1:22 - loss: 6.3199 - root_mean_squared_error: 2.5139"
          ]
        },
        {
          "name": "stderr",
          "output_type": "stream",
          "text": [
            "2023-12-08 20:02:13.647778: I tensorflow/core/kernels/data/shuffle_dataset_op.cc:422] ShuffleDatasetV3:35: Filling up shuffle buffer (this may take a while): 1926 of 2000\n"
          ]
        },
        {
          "name": "stdout",
          "output_type": "stream",
          "text": [
            " 49/250 [====>.........................] - ETA: 1:21 - loss: 6.2801 - root_mean_squared_error: 2.5060"
          ]
        },
        {
          "name": "stderr",
          "output_type": "stream",
          "text": [
            "2023-12-08 20:02:14.038573: I tensorflow/core/kernels/data/shuffle_dataset_op.cc:452] Shuffle buffer filled.\n"
          ]
        },
        {
          "name": "stdout",
          "output_type": "stream",
          "text": [
            " 80/250 [========>.....................] - ETA: 1:08 - loss: 6.4067 - root_mean_squared_error: 2.5311"
          ]
        },
        {
          "name": "stderr",
          "output_type": "stream",
          "text": [
            "2023-12-08 20:02:26.515609: I tensorflow/core/kernels/data/shuffle_dataset_op.cc:422] ShuffleDatasetV3:35: Filling up shuffle buffer (this may take a while): 1933 of 2000\n"
          ]
        },
        {
          "name": "stdout",
          "output_type": "stream",
          "text": [
            " 81/250 [========>.....................] - ETA: 1:08 - loss: 6.4557 - root_mean_squared_error: 2.5408"
          ]
        },
        {
          "name": "stderr",
          "output_type": "stream",
          "text": [
            "2023-12-08 20:02:26.863856: I tensorflow/core/kernels/data/shuffle_dataset_op.cc:452] Shuffle buffer filled.\n"
          ]
        },
        {
          "name": "stdout",
          "output_type": "stream",
          "text": [
            "112/250 [============>.................] - ETA: 55s - loss: 6.3361 - root_mean_squared_error: 2.5172"
          ]
        },
        {
          "name": "stderr",
          "output_type": "stream",
          "text": [
            "2023-12-08 20:02:39.384262: I tensorflow/core/kernels/data/shuffle_dataset_op.cc:422] ShuffleDatasetV3:35: Filling up shuffle buffer (this may take a while): 1931 of 2000\n"
          ]
        },
        {
          "name": "stdout",
          "output_type": "stream",
          "text": [
            "113/250 [============>.................] - ETA: 55s - loss: 6.3277 - root_mean_squared_error: 2.5155"
          ]
        },
        {
          "name": "stderr",
          "output_type": "stream",
          "text": [
            "2023-12-08 20:02:39.747430: I tensorflow/core/kernels/data/shuffle_dataset_op.cc:452] Shuffle buffer filled.\n"
          ]
        },
        {
          "name": "stdout",
          "output_type": "stream",
          "text": [
            "144/250 [================>.............] - ETA: 42s - loss: 6.2911 - root_mean_squared_error: 2.5082"
          ]
        },
        {
          "name": "stderr",
          "output_type": "stream",
          "text": [
            "2023-12-08 20:02:52.234944: I tensorflow/core/kernels/data/shuffle_dataset_op.cc:422] ShuffleDatasetV3:35: Filling up shuffle buffer (this may take a while): 1933 of 2000\n"
          ]
        },
        {
          "name": "stdout",
          "output_type": "stream",
          "text": [
            "145/250 [================>.............] - ETA: 42s - loss: 6.3091 - root_mean_squared_error: 2.5118"
          ]
        },
        {
          "name": "stderr",
          "output_type": "stream",
          "text": [
            "2023-12-08 20:02:52.584681: I tensorflow/core/kernels/data/shuffle_dataset_op.cc:452] Shuffle buffer filled.\n"
          ]
        },
        {
          "name": "stdout",
          "output_type": "stream",
          "text": [
            "176/250 [====================>.........] - ETA: 29s - loss: 6.3153 - root_mean_squared_error: 2.5130"
          ]
        },
        {
          "name": "stderr",
          "output_type": "stream",
          "text": [
            "2023-12-08 20:03:05.118500: I tensorflow/core/kernels/data/shuffle_dataset_op.cc:422] ShuffleDatasetV3:35: Filling up shuffle buffer (this may take a while): 1933 of 2000\n"
          ]
        },
        {
          "name": "stdout",
          "output_type": "stream",
          "text": [
            "177/250 [====================>.........] - ETA: 29s - loss: 6.3619 - root_mean_squared_error: 2.5223"
          ]
        },
        {
          "name": "stderr",
          "output_type": "stream",
          "text": [
            "2023-12-08 20:03:05.468928: I tensorflow/core/kernels/data/shuffle_dataset_op.cc:452] Shuffle buffer filled.\n"
          ]
        },
        {
          "name": "stdout",
          "output_type": "stream",
          "text": [
            "208/250 [=======================>......] - ETA: 16s - loss: 6.3249 - root_mean_squared_error: 2.5149"
          ]
        },
        {
          "name": "stderr",
          "output_type": "stream",
          "text": [
            "2023-12-08 20:03:18.010949: I tensorflow/core/kernels/data/shuffle_dataset_op.cc:422] ShuffleDatasetV3:35: Filling up shuffle buffer (this may take a while): 1947 of 2000\n"
          ]
        },
        {
          "name": "stdout",
          "output_type": "stream",
          "text": [
            "209/250 [========================>.....] - ETA: 16s - loss: 6.2992 - root_mean_squared_error: 2.5098"
          ]
        },
        {
          "name": "stderr",
          "output_type": "stream",
          "text": [
            "2023-12-08 20:03:18.286087: I tensorflow/core/kernels/data/shuffle_dataset_op.cc:452] Shuffle buffer filled.\n"
          ]
        },
        {
          "name": "stdout",
          "output_type": "stream",
          "text": [
            "240/250 [===========================>..] - ETA: 4s - loss: 6.3517 - root_mean_squared_error: 2.5203"
          ]
        },
        {
          "name": "stderr",
          "output_type": "stream",
          "text": [
            "2023-12-08 20:03:30.930365: I tensorflow/core/kernels/data/shuffle_dataset_op.cc:422] ShuffleDatasetV3:35: Filling up shuffle buffer (this may take a while): 1929 of 2000\n"
          ]
        },
        {
          "name": "stdout",
          "output_type": "stream",
          "text": [
            "241/250 [===========================>..] - ETA: 3s - loss: 6.3539 - root_mean_squared_error: 2.5207"
          ]
        },
        {
          "name": "stderr",
          "output_type": "stream",
          "text": [
            "2023-12-08 20:03:31.298898: I tensorflow/core/kernels/data/shuffle_dataset_op.cc:452] Shuffle buffer filled.\n"
          ]
        },
        {
          "name": "stdout",
          "output_type": "stream",
          "text": [
            "250/250 [==============================] - ETA: 0s - loss: 6.3253 - root_mean_squared_error: 2.5150"
          ]
        },
        {
          "name": "stderr",
          "output_type": "stream",
          "text": [
            "2023-12-08 20:03:43.823763: I tensorflow/core/kernels/data/shuffle_dataset_op.cc:422] ShuffleDatasetV3:35: Filling up shuffle buffer (this may take a while): 1749 of 2000\n",
            "2023-12-08 20:03:45.268800: I tensorflow/core/kernels/data/shuffle_dataset_op.cc:452] Shuffle buffer filled.\n"
          ]
        },
        {
          "name": "stdout",
          "output_type": "stream",
          "text": [
            "250/250 [==============================] - 149s 598ms/step - loss: 6.3253 - root_mean_squared_error: 2.5150 - val_loss: 4.3901 - val_root_mean_squared_error: 2.0952\n",
            "Epoch 22/50\n",
            " 54/250 [=====>........................] - ETA: 1:19 - loss: 6.7675 - root_mean_squared_error: 2.6014"
          ]
        },
        {
          "name": "stderr",
          "output_type": "stream",
          "text": [
            "2023-12-08 20:04:45.529686: I tensorflow/core/kernels/data/shuffle_dataset_op.cc:422] ShuffleDatasetV3:35: Filling up shuffle buffer (this may take a while): 1917 of 2000\n"
          ]
        },
        {
          "name": "stdout",
          "output_type": "stream",
          "text": [
            " 55/250 [=====>........................] - ETA: 1:19 - loss: 6.7466 - root_mean_squared_error: 2.5974"
          ]
        },
        {
          "name": "stderr",
          "output_type": "stream",
          "text": [
            "2023-12-08 20:04:45.960337: I tensorflow/core/kernels/data/shuffle_dataset_op.cc:452] Shuffle buffer filled.\n"
          ]
        },
        {
          "name": "stdout",
          "output_type": "stream",
          "text": [
            " 86/250 [=========>....................] - ETA: 1:06 - loss: 6.2156 - root_mean_squared_error: 2.4931"
          ]
        },
        {
          "name": "stderr",
          "output_type": "stream",
          "text": [
            "2023-12-08 20:04:58.383472: I tensorflow/core/kernels/data/shuffle_dataset_op.cc:422] ShuffleDatasetV3:35: Filling up shuffle buffer (this may take a while): 1938 of 2000\n"
          ]
        },
        {
          "name": "stdout",
          "output_type": "stream",
          "text": [
            " 87/250 [=========>....................] - ETA: 1:05 - loss: 6.2463 - root_mean_squared_error: 2.4993"
          ]
        },
        {
          "name": "stderr",
          "output_type": "stream",
          "text": [
            "2023-12-08 20:04:58.708111: I tensorflow/core/kernels/data/shuffle_dataset_op.cc:452] Shuffle buffer filled.\n"
          ]
        },
        {
          "name": "stdout",
          "output_type": "stream",
          "text": [
            "118/250 [=============>................] - ETA: 53s - loss: 6.4842 - root_mean_squared_error: 2.5464"
          ]
        },
        {
          "name": "stderr",
          "output_type": "stream",
          "text": [
            "2023-12-08 20:05:11.245158: I tensorflow/core/kernels/data/shuffle_dataset_op.cc:422] ShuffleDatasetV3:35: Filling up shuffle buffer (this may take a while): 1902 of 2000\n"
          ]
        },
        {
          "name": "stdout",
          "output_type": "stream",
          "text": [
            "120/250 [=============>................] - ETA: 52s - loss: 6.4190 - root_mean_squared_error: 2.5336"
          ]
        },
        {
          "name": "stderr",
          "output_type": "stream",
          "text": [
            "2023-12-08 20:05:11.754376: I tensorflow/core/kernels/data/shuffle_dataset_op.cc:452] Shuffle buffer filled.\n"
          ]
        },
        {
          "name": "stdout",
          "output_type": "stream",
          "text": [
            "150/250 [=================>............] - ETA: 40s - loss: 6.3599 - root_mean_squared_error: 2.5219"
          ]
        },
        {
          "name": "stderr",
          "output_type": "stream",
          "text": [
            "2023-12-08 20:05:24.115096: I tensorflow/core/kernels/data/shuffle_dataset_op.cc:422] ShuffleDatasetV3:35: Filling up shuffle buffer (this may take a while): 1926 of 2000\n"
          ]
        },
        {
          "name": "stdout",
          "output_type": "stream",
          "text": [
            "151/250 [=================>............] - ETA: 39s - loss: 6.3684 - root_mean_squared_error: 2.5236"
          ]
        },
        {
          "name": "stderr",
          "output_type": "stream",
          "text": [
            "2023-12-08 20:05:24.498863: I tensorflow/core/kernels/data/shuffle_dataset_op.cc:452] Shuffle buffer filled.\n"
          ]
        },
        {
          "name": "stdout",
          "output_type": "stream",
          "text": [
            "182/250 [====================>.........] - ETA: 27s - loss: 6.4016 - root_mean_squared_error: 2.5301"
          ]
        },
        {
          "name": "stderr",
          "output_type": "stream",
          "text": [
            "2023-12-08 20:05:36.995324: I tensorflow/core/kernels/data/shuffle_dataset_op.cc:422] ShuffleDatasetV3:35: Filling up shuffle buffer (this may take a while): 1916 of 2000\n"
          ]
        },
        {
          "name": "stdout",
          "output_type": "stream",
          "text": [
            "183/250 [====================>.........] - ETA: 27s - loss: 6.3805 - root_mean_squared_error: 2.5260"
          ]
        },
        {
          "name": "stderr",
          "output_type": "stream",
          "text": [
            "2023-12-08 20:05:37.431182: I tensorflow/core/kernels/data/shuffle_dataset_op.cc:452] Shuffle buffer filled.\n"
          ]
        },
        {
          "name": "stdout",
          "output_type": "stream",
          "text": [
            "214/250 [========================>.....] - ETA: 14s - loss: 6.3677 - root_mean_squared_error: 2.5234"
          ]
        },
        {
          "name": "stderr",
          "output_type": "stream",
          "text": [
            "2023-12-08 20:05:49.892400: I tensorflow/core/kernels/data/shuffle_dataset_op.cc:422] ShuffleDatasetV3:35: Filling up shuffle buffer (this may take a while): 1938 of 2000\n"
          ]
        },
        {
          "name": "stdout",
          "output_type": "stream",
          "text": [
            "215/250 [========================>.....] - ETA: 14s - loss: 6.3486 - root_mean_squared_error: 2.5196"
          ]
        },
        {
          "name": "stderr",
          "output_type": "stream",
          "text": [
            "2023-12-08 20:05:50.214245: I tensorflow/core/kernels/data/shuffle_dataset_op.cc:452] Shuffle buffer filled.\n"
          ]
        },
        {
          "name": "stdout",
          "output_type": "stream",
          "text": [
            "246/250 [============================>.] - ETA: 1s - loss: 6.3881 - root_mean_squared_error: 2.5275"
          ]
        },
        {
          "name": "stderr",
          "output_type": "stream",
          "text": [
            "2023-12-08 20:06:02.797188: I tensorflow/core/kernels/data/shuffle_dataset_op.cc:422] ShuffleDatasetV3:35: Filling up shuffle buffer (this may take a while): 1914 of 2000\n"
          ]
        },
        {
          "name": "stdout",
          "output_type": "stream",
          "text": [
            "247/250 [============================>.] - ETA: 1s - loss: 6.3748 - root_mean_squared_error: 2.5248"
          ]
        },
        {
          "name": "stderr",
          "output_type": "stream",
          "text": [
            "2023-12-08 20:06:03.244874: I tensorflow/core/kernels/data/shuffle_dataset_op.cc:452] Shuffle buffer filled.\n"
          ]
        },
        {
          "name": "stdout",
          "output_type": "stream",
          "text": [
            "250/250 [==============================] - 149s 599ms/step - loss: 6.3621 - root_mean_squared_error: 2.5223 - val_loss: 4.3898 - val_root_mean_squared_error: 2.0952\n",
            "Epoch 23/50\n",
            " 28/250 [==>...........................] - ETA: 1:28 - loss: 6.6287 - root_mean_squared_error: 2.5746"
          ]
        },
        {
          "name": "stderr",
          "output_type": "stream",
          "text": [
            "2023-12-08 20:07:04.299877: I tensorflow/core/kernels/data/shuffle_dataset_op.cc:422] ShuffleDatasetV3:35: Filling up shuffle buffer (this may take a while): 1937 of 2000\n"
          ]
        },
        {
          "name": "stdout",
          "output_type": "stream",
          "text": [
            " 29/250 [==>...........................] - ETA: 1:28 - loss: 6.6063 - root_mean_squared_error: 2.5703"
          ]
        },
        {
          "name": "stderr",
          "output_type": "stream",
          "text": [
            "2023-12-08 20:07:04.626127: I tensorflow/core/kernels/data/shuffle_dataset_op.cc:452] Shuffle buffer filled.\n"
          ]
        },
        {
          "name": "stdout",
          "output_type": "stream",
          "text": [
            " 60/250 [======>.......................] - ETA: 1:16 - loss: 6.1090 - root_mean_squared_error: 2.4716"
          ]
        },
        {
          "name": "stderr",
          "output_type": "stream",
          "text": [
            "2023-12-08 20:07:17.152183: I tensorflow/core/kernels/data/shuffle_dataset_op.cc:422] ShuffleDatasetV3:35: Filling up shuffle buffer (this may take a while): 1928 of 2000\n"
          ]
        },
        {
          "name": "stdout",
          "output_type": "stream",
          "text": [
            " 61/250 [======>.......................] - ETA: 1:15 - loss: 6.1477 - root_mean_squared_error: 2.4795"
          ]
        },
        {
          "name": "stderr",
          "output_type": "stream",
          "text": [
            "2023-12-08 20:07:17.523831: I tensorflow/core/kernels/data/shuffle_dataset_op.cc:452] Shuffle buffer filled.\n"
          ]
        },
        {
          "name": "stdout",
          "output_type": "stream",
          "text": [
            " 92/250 [==========>...................] - ETA: 1:03 - loss: 6.3067 - root_mean_squared_error: 2.5113"
          ]
        },
        {
          "name": "stderr",
          "output_type": "stream",
          "text": [
            "2023-12-08 20:07:30.006457: I tensorflow/core/kernels/data/shuffle_dataset_op.cc:422] ShuffleDatasetV3:35: Filling up shuffle buffer (this may take a while): 1933 of 2000\n"
          ]
        },
        {
          "name": "stdout",
          "output_type": "stream",
          "text": [
            " 93/250 [==========>...................] - ETA: 1:03 - loss: 6.3017 - root_mean_squared_error: 2.5103"
          ]
        },
        {
          "name": "stderr",
          "output_type": "stream",
          "text": [
            "2023-12-08 20:07:30.350679: I tensorflow/core/kernels/data/shuffle_dataset_op.cc:452] Shuffle buffer filled.\n"
          ]
        },
        {
          "name": "stdout",
          "output_type": "stream",
          "text": [
            "124/250 [=============>................] - ETA: 50s - loss: 6.3526 - root_mean_squared_error: 2.5204"
          ]
        },
        {
          "name": "stderr",
          "output_type": "stream",
          "text": [
            "2023-12-08 20:07:42.881552: I tensorflow/core/kernels/data/shuffle_dataset_op.cc:422] ShuffleDatasetV3:35: Filling up shuffle buffer (this may take a while): 1931 of 2000\n"
          ]
        },
        {
          "name": "stdout",
          "output_type": "stream",
          "text": [
            "125/250 [==============>...............] - ETA: 50s - loss: 6.3684 - root_mean_squared_error: 2.5236"
          ]
        },
        {
          "name": "stderr",
          "output_type": "stream",
          "text": [
            "2023-12-08 20:07:43.242412: I tensorflow/core/kernels/data/shuffle_dataset_op.cc:452] Shuffle buffer filled.\n"
          ]
        },
        {
          "name": "stdout",
          "output_type": "stream",
          "text": [
            "156/250 [=================>............] - ETA: 37s - loss: 6.3983 - root_mean_squared_error: 2.5295"
          ]
        },
        {
          "name": "stderr",
          "output_type": "stream",
          "text": [
            "2023-12-08 20:07:55.739670: I tensorflow/core/kernels/data/shuffle_dataset_op.cc:422] ShuffleDatasetV3:35: Filling up shuffle buffer (this may take a while): 1916 of 2000\n"
          ]
        },
        {
          "name": "stdout",
          "output_type": "stream",
          "text": [
            "157/250 [=================>............] - ETA: 37s - loss: 6.3972 - root_mean_squared_error: 2.5293"
          ]
        },
        {
          "name": "stderr",
          "output_type": "stream",
          "text": [
            "2023-12-08 20:07:56.173702: I tensorflow/core/kernels/data/shuffle_dataset_op.cc:452] Shuffle buffer filled.\n"
          ]
        },
        {
          "name": "stdout",
          "output_type": "stream",
          "text": [
            "188/250 [=====================>........] - ETA: 24s - loss: 6.3379 - root_mean_squared_error: 2.5175"
          ]
        },
        {
          "name": "stderr",
          "output_type": "stream",
          "text": [
            "2023-12-08 20:08:08.642104: I tensorflow/core/kernels/data/shuffle_dataset_op.cc:422] ShuffleDatasetV3:35: Filling up shuffle buffer (this may take a while): 1928 of 2000\n"
          ]
        },
        {
          "name": "stdout",
          "output_type": "stream",
          "text": [
            "189/250 [=====================>........] - ETA: 24s - loss: 6.3350 - root_mean_squared_error: 2.5169"
          ]
        },
        {
          "name": "stderr",
          "output_type": "stream",
          "text": [
            "2023-12-08 20:08:09.013751: I tensorflow/core/kernels/data/shuffle_dataset_op.cc:452] Shuffle buffer filled.\n"
          ]
        },
        {
          "name": "stdout",
          "output_type": "stream",
          "text": [
            "220/250 [=========================>....] - ETA: 12s - loss: 6.2813 - root_mean_squared_error: 2.5062"
          ]
        },
        {
          "name": "stderr",
          "output_type": "stream",
          "text": [
            "2023-12-08 20:08:21.565051: I tensorflow/core/kernels/data/shuffle_dataset_op.cc:422] ShuffleDatasetV3:35: Filling up shuffle buffer (this may take a while): 1905 of 2000\n"
          ]
        },
        {
          "name": "stdout",
          "output_type": "stream",
          "text": [
            "221/250 [=========================>....] - ETA: 11s - loss: 6.2656 - root_mean_squared_error: 2.5031"
          ]
        },
        {
          "name": "stderr",
          "output_type": "stream",
          "text": [
            "2023-12-08 20:08:22.056272: I tensorflow/core/kernels/data/shuffle_dataset_op.cc:452] Shuffle buffer filled.\n"
          ]
        },
        {
          "name": "stdout",
          "output_type": "stream",
          "text": [
            "250/250 [==============================] - ETA: 0s - loss: 6.3169 - root_mean_squared_error: 2.5133"
          ]
        },
        {
          "name": "stderr",
          "output_type": "stream",
          "text": [
            "2023-12-08 20:08:34.518289: I tensorflow/core/kernels/data/shuffle_dataset_op.cc:422] ShuffleDatasetV3:35: Filling up shuffle buffer (this may take a while): 1905 of 2000\n",
            "2023-12-08 20:08:35.065070: I tensorflow/core/kernels/data/shuffle_dataset_op.cc:452] Shuffle buffer filled.\n"
          ]
        },
        {
          "name": "stdout",
          "output_type": "stream",
          "text": [
            "250/250 [==============================] - 149s 598ms/step - loss: 6.3169 - root_mean_squared_error: 2.5133 - val_loss: 4.3890 - val_root_mean_squared_error: 2.0950\n",
            "Epoch 24/50\n",
            " 34/250 [===>..........................] - ETA: 1:26 - loss: 6.4676 - root_mean_squared_error: 2.5431"
          ]
        },
        {
          "name": "stderr",
          "output_type": "stream",
          "text": [
            "2023-12-08 20:09:36.161070: I tensorflow/core/kernels/data/shuffle_dataset_op.cc:422] ShuffleDatasetV3:35: Filling up shuffle buffer (this may take a while): 1927 of 2000\n"
          ]
        },
        {
          "name": "stdout",
          "output_type": "stream",
          "text": [
            " 35/250 [===>..........................] - ETA: 1:26 - loss: 6.5655 - root_mean_squared_error: 2.5623"
          ]
        },
        {
          "name": "stderr",
          "output_type": "stream",
          "text": [
            "2023-12-08 20:09:36.540477: I tensorflow/core/kernels/data/shuffle_dataset_op.cc:452] Shuffle buffer filled.\n"
          ]
        },
        {
          "name": "stdout",
          "output_type": "stream",
          "text": [
            " 66/250 [======>.......................] - ETA: 1:13 - loss: 6.3301 - root_mean_squared_error: 2.5160"
          ]
        },
        {
          "name": "stderr",
          "output_type": "stream",
          "text": [
            "2023-12-08 20:09:49.019832: I tensorflow/core/kernels/data/shuffle_dataset_op.cc:422] ShuffleDatasetV3:35: Filling up shuffle buffer (this may take a while): 1944 of 2000\n"
          ]
        },
        {
          "name": "stdout",
          "output_type": "stream",
          "text": [
            " 67/250 [=======>......................] - ETA: 1:13 - loss: 6.3185 - root_mean_squared_error: 2.5137"
          ]
        },
        {
          "name": "stderr",
          "output_type": "stream",
          "text": [
            "2023-12-08 20:09:49.309970: I tensorflow/core/kernels/data/shuffle_dataset_op.cc:452] Shuffle buffer filled.\n"
          ]
        },
        {
          "name": "stdout",
          "output_type": "stream",
          "text": [
            " 98/250 [==========>...................] - ETA: 1:01 - loss: 6.3379 - root_mean_squared_error: 2.5175"
          ]
        },
        {
          "name": "stderr",
          "output_type": "stream",
          "text": [
            "2023-12-08 20:10:01.868063: I tensorflow/core/kernels/data/shuffle_dataset_op.cc:422] ShuffleDatasetV3:35: Filling up shuffle buffer (this may take a while): 1942 of 2000\n"
          ]
        },
        {
          "name": "stdout",
          "output_type": "stream",
          "text": [
            " 99/250 [==========>...................] - ETA: 1:00 - loss: 6.3089 - root_mean_squared_error: 2.5118"
          ]
        },
        {
          "name": "stderr",
          "output_type": "stream",
          "text": [
            "2023-12-08 20:10:02.170910: I tensorflow/core/kernels/data/shuffle_dataset_op.cc:452] Shuffle buffer filled.\n"
          ]
        },
        {
          "name": "stdout",
          "output_type": "stream",
          "text": [
            "130/250 [==============>...............] - ETA: 48s - loss: 6.4472 - root_mean_squared_error: 2.5391"
          ]
        },
        {
          "name": "stderr",
          "output_type": "stream",
          "text": [
            "2023-12-08 20:10:14.737295: I tensorflow/core/kernels/data/shuffle_dataset_op.cc:422] ShuffleDatasetV3:35: Filling up shuffle buffer (this may take a while): 1938 of 2000\n"
          ]
        },
        {
          "name": "stdout",
          "output_type": "stream",
          "text": [
            "131/250 [==============>...............] - ETA: 47s - loss: 6.4392 - root_mean_squared_error: 2.5375"
          ]
        },
        {
          "name": "stderr",
          "output_type": "stream",
          "text": [
            "2023-12-08 20:10:15.057957: I tensorflow/core/kernels/data/shuffle_dataset_op.cc:452] Shuffle buffer filled.\n"
          ]
        },
        {
          "name": "stdout",
          "output_type": "stream",
          "text": [
            "162/250 [==================>...........] - ETA: 35s - loss: 6.2775 - root_mean_squared_error: 2.5055"
          ]
        },
        {
          "name": "stderr",
          "output_type": "stream",
          "text": [
            "2023-12-08 20:10:27.630607: I tensorflow/core/kernels/data/shuffle_dataset_op.cc:422] ShuffleDatasetV3:35: Filling up shuffle buffer (this may take a while): 1947 of 2000\n"
          ]
        },
        {
          "name": "stdout",
          "output_type": "stream",
          "text": [
            "163/250 [==================>...........] - ETA: 35s - loss: 6.2763 - root_mean_squared_error: 2.5053"
          ]
        },
        {
          "name": "stderr",
          "output_type": "stream",
          "text": [
            "2023-12-08 20:10:27.907049: I tensorflow/core/kernels/data/shuffle_dataset_op.cc:452] Shuffle buffer filled.\n"
          ]
        },
        {
          "name": "stdout",
          "output_type": "stream",
          "text": [
            "194/250 [======================>.......] - ETA: 22s - loss: 6.3644 - root_mean_squared_error: 2.5228"
          ]
        },
        {
          "name": "stderr",
          "output_type": "stream",
          "text": [
            "2023-12-08 20:10:40.543066: I tensorflow/core/kernels/data/shuffle_dataset_op.cc:422] ShuffleDatasetV3:35: Filling up shuffle buffer (this may take a while): 1941 of 2000\n"
          ]
        },
        {
          "name": "stdout",
          "output_type": "stream",
          "text": [
            "195/250 [======================>.......] - ETA: 22s - loss: 6.3576 - root_mean_squared_error: 2.5214"
          ]
        },
        {
          "name": "stderr",
          "output_type": "stream",
          "text": [
            "2023-12-08 20:10:40.845671: I tensorflow/core/kernels/data/shuffle_dataset_op.cc:452] Shuffle buffer filled.\n"
          ]
        },
        {
          "name": "stdout",
          "output_type": "stream",
          "text": [
            "226/250 [==========================>...] - ETA: 9s - loss: 6.3319 - root_mean_squared_error: 2.5163 "
          ]
        },
        {
          "name": "stderr",
          "output_type": "stream",
          "text": [
            "2023-12-08 20:10:53.460949: I tensorflow/core/kernels/data/shuffle_dataset_op.cc:422] ShuffleDatasetV3:35: Filling up shuffle buffer (this may take a while): 1940 of 2000\n"
          ]
        },
        {
          "name": "stdout",
          "output_type": "stream",
          "text": [
            "227/250 [==========================>...] - ETA: 9s - loss: 6.3399 - root_mean_squared_error: 2.5179"
          ]
        },
        {
          "name": "stderr",
          "output_type": "stream",
          "text": [
            "2023-12-08 20:10:53.771359: I tensorflow/core/kernels/data/shuffle_dataset_op.cc:452] Shuffle buffer filled.\n"
          ]
        },
        {
          "name": "stdout",
          "output_type": "stream",
          "text": [
            "250/250 [==============================] - ETA: 0s - loss: 6.2742 - root_mean_squared_error: 2.5048"
          ]
        },
        {
          "name": "stderr",
          "output_type": "stream",
          "text": [
            "2023-12-08 20:11:06.361150: I tensorflow/core/kernels/data/shuffle_dataset_op.cc:422] ShuffleDatasetV3:35: Filling up shuffle buffer (this may take a while): 1870 of 2000\n",
            "2023-12-08 20:11:07.103126: I tensorflow/core/kernels/data/shuffle_dataset_op.cc:452] Shuffle buffer filled.\n"
          ]
        },
        {
          "name": "stdout",
          "output_type": "stream",
          "text": [
            "250/250 [==============================] - 149s 597ms/step - loss: 6.2742 - root_mean_squared_error: 2.5048 - val_loss: 4.3968 - val_root_mean_squared_error: 2.0968\n",
            "Epoch 25/50\n",
            " 40/250 [===>..........................] - ETA: 1:24 - loss: 6.6877 - root_mean_squared_error: 2.5861"
          ]
        },
        {
          "name": "stderr",
          "output_type": "stream",
          "text": [
            "2023-12-08 20:12:07.740238: I tensorflow/core/kernels/data/shuffle_dataset_op.cc:422] ShuffleDatasetV3:35: Filling up shuffle buffer (this may take a while): 1932 of 2000\n"
          ]
        },
        {
          "name": "stdout",
          "output_type": "stream",
          "text": [
            " 41/250 [===>..........................] - ETA: 1:24 - loss: 6.6843 - root_mean_squared_error: 2.5854"
          ]
        },
        {
          "name": "stderr",
          "output_type": "stream",
          "text": [
            "2023-12-08 20:12:08.091903: I tensorflow/core/kernels/data/shuffle_dataset_op.cc:452] Shuffle buffer filled.\n"
          ]
        },
        {
          "name": "stdout",
          "output_type": "stream",
          "text": [
            " 72/250 [=======>......................] - ETA: 1:11 - loss: 6.4874 - root_mean_squared_error: 2.5470"
          ]
        },
        {
          "name": "stderr",
          "output_type": "stream",
          "text": [
            "2023-12-08 20:12:20.594781: I tensorflow/core/kernels/data/shuffle_dataset_op.cc:422] ShuffleDatasetV3:35: Filling up shuffle buffer (this may take a while): 1933 of 2000\n"
          ]
        },
        {
          "name": "stdout",
          "output_type": "stream",
          "text": [
            " 73/250 [=======>......................] - ETA: 1:11 - loss: 6.4658 - root_mean_squared_error: 2.5428"
          ]
        },
        {
          "name": "stderr",
          "output_type": "stream",
          "text": [
            "2023-12-08 20:12:20.943199: I tensorflow/core/kernels/data/shuffle_dataset_op.cc:452] Shuffle buffer filled.\n"
          ]
        },
        {
          "name": "stdout",
          "output_type": "stream",
          "text": [
            "104/250 [===========>..................] - ETA: 58s - loss: 6.5449 - root_mean_squared_error: 2.5583"
          ]
        },
        {
          "name": "stderr",
          "output_type": "stream",
          "text": [
            "2023-12-08 20:12:33.473396: I tensorflow/core/kernels/data/shuffle_dataset_op.cc:422] ShuffleDatasetV3:35: Filling up shuffle buffer (this may take a while): 1944 of 2000\n"
          ]
        },
        {
          "name": "stdout",
          "output_type": "stream",
          "text": [
            "105/250 [===========>..................] - ETA: 58s - loss: 6.6057 - root_mean_squared_error: 2.5702"
          ]
        },
        {
          "name": "stderr",
          "output_type": "stream",
          "text": [
            "2023-12-08 20:12:33.760806: I tensorflow/core/kernels/data/shuffle_dataset_op.cc:452] Shuffle buffer filled.\n"
          ]
        },
        {
          "name": "stdout",
          "output_type": "stream",
          "text": [
            "136/250 [===============>..............] - ETA: 45s - loss: 6.3984 - root_mean_squared_error: 2.5295"
          ]
        },
        {
          "name": "stderr",
          "output_type": "stream",
          "text": [
            "2023-12-08 20:12:46.348428: I tensorflow/core/kernels/data/shuffle_dataset_op.cc:422] ShuffleDatasetV3:35: Filling up shuffle buffer (this may take a while): 1933 of 2000\n"
          ]
        },
        {
          "name": "stdout",
          "output_type": "stream",
          "text": [
            "137/250 [===============>..............] - ETA: 45s - loss: 6.4238 - root_mean_squared_error: 2.5345"
          ]
        },
        {
          "name": "stderr",
          "output_type": "stream",
          "text": [
            "2023-12-08 20:12:46.694703: I tensorflow/core/kernels/data/shuffle_dataset_op.cc:452] Shuffle buffer filled.\n"
          ]
        },
        {
          "name": "stdout",
          "output_type": "stream",
          "text": [
            "168/250 [===================>..........] - ETA: 33s - loss: 6.4983 - root_mean_squared_error: 2.5492"
          ]
        },
        {
          "name": "stderr",
          "output_type": "stream",
          "text": [
            "2023-12-08 20:12:59.242204: I tensorflow/core/kernels/data/shuffle_dataset_op.cc:422] ShuffleDatasetV3:35: Filling up shuffle buffer (this may take a while): 1937 of 2000\n"
          ]
        },
        {
          "name": "stdout",
          "output_type": "stream",
          "text": [
            "169/250 [===================>..........] - ETA: 32s - loss: 6.4738 - root_mean_squared_error: 2.5444"
          ]
        },
        {
          "name": "stderr",
          "output_type": "stream",
          "text": [
            "2023-12-08 20:12:59.571311: I tensorflow/core/kernels/data/shuffle_dataset_op.cc:452] Shuffle buffer filled.\n"
          ]
        },
        {
          "name": "stdout",
          "output_type": "stream",
          "text": [
            "200/250 [=======================>......] - ETA: 20s - loss: 6.4047 - root_mean_squared_error: 2.5308"
          ]
        },
        {
          "name": "stderr",
          "output_type": "stream",
          "text": [
            "2023-12-08 20:13:12.150063: I tensorflow/core/kernels/data/shuffle_dataset_op.cc:422] ShuffleDatasetV3:35: Filling up shuffle buffer (this may take a while): 1934 of 2000\n"
          ]
        },
        {
          "name": "stdout",
          "output_type": "stream",
          "text": [
            "201/250 [=======================>......] - ETA: 19s - loss: 6.4071 - root_mean_squared_error: 2.5312"
          ]
        },
        {
          "name": "stderr",
          "output_type": "stream",
          "text": [
            "2023-12-08 20:13:12.491231: I tensorflow/core/kernels/data/shuffle_dataset_op.cc:452] Shuffle buffer filled.\n"
          ]
        },
        {
          "name": "stdout",
          "output_type": "stream",
          "text": [
            "232/250 [==========================>...] - ETA: 7s - loss: 6.4158 - root_mean_squared_error: 2.5329"
          ]
        },
        {
          "name": "stderr",
          "output_type": "stream",
          "text": [
            "2023-12-08 20:13:25.050394: I tensorflow/core/kernels/data/shuffle_dataset_op.cc:422] ShuffleDatasetV3:35: Filling up shuffle buffer (this may take a while): 1939 of 2000\n"
          ]
        },
        {
          "name": "stdout",
          "output_type": "stream",
          "text": [
            "233/250 [==========================>...] - ETA: 6s - loss: 6.4032 - root_mean_squared_error: 2.5304"
          ]
        },
        {
          "name": "stderr",
          "output_type": "stream",
          "text": [
            "2023-12-08 20:13:25.369416: I tensorflow/core/kernels/data/shuffle_dataset_op.cc:452] Shuffle buffer filled.\n"
          ]
        },
        {
          "name": "stdout",
          "output_type": "stream",
          "text": [
            "250/250 [==============================] - ETA: 0s - loss: 6.3679 - root_mean_squared_error: 2.5235"
          ]
        },
        {
          "name": "stderr",
          "output_type": "stream",
          "text": [
            "2023-12-08 20:13:37.958286: I tensorflow/core/kernels/data/shuffle_dataset_op.cc:422] ShuffleDatasetV3:35: Filling up shuffle buffer (this may take a while): 1814 of 2000\n",
            "2023-12-08 20:13:39.025550: I tensorflow/core/kernels/data/shuffle_dataset_op.cc:452] Shuffle buffer filled.\n"
          ]
        },
        {
          "name": "stdout",
          "output_type": "stream",
          "text": [
            "250/250 [==============================] - 149s 597ms/step - loss: 6.3679 - root_mean_squared_error: 2.5235 - val_loss: 4.3871 - val_root_mean_squared_error: 2.0945\n",
            "Epoch 26/50\n",
            " 46/250 [====>.........................] - ETA: 1:22 - loss: 6.3511 - root_mean_squared_error: 2.5201"
          ]
        },
        {
          "name": "stderr",
          "output_type": "stream",
          "text": [
            "2023-12-08 20:14:39.339617: I tensorflow/core/kernels/data/shuffle_dataset_op.cc:422] ShuffleDatasetV3:35: Filling up shuffle buffer (this may take a while): 1924 of 2000\n"
          ]
        },
        {
          "name": "stdout",
          "output_type": "stream",
          "text": [
            " 47/250 [====>.........................] - ETA: 1:22 - loss: 6.3923 - root_mean_squared_error: 2.5283"
          ]
        },
        {
          "name": "stderr",
          "output_type": "stream",
          "text": [
            "2023-12-08 20:14:39.734849: I tensorflow/core/kernels/data/shuffle_dataset_op.cc:452] Shuffle buffer filled.\n"
          ]
        },
        {
          "name": "stdout",
          "output_type": "stream",
          "text": [
            " 78/250 [========>.....................] - ETA: 1:09 - loss: 6.3312 - root_mean_squared_error: 2.5162"
          ]
        },
        {
          "name": "stderr",
          "output_type": "stream",
          "text": [
            "2023-12-08 20:14:52.208399: I tensorflow/core/kernels/data/shuffle_dataset_op.cc:422] ShuffleDatasetV3:35: Filling up shuffle buffer (this may take a while): 1927 of 2000\n"
          ]
        },
        {
          "name": "stdout",
          "output_type": "stream",
          "text": [
            " 79/250 [========>.....................] - ETA: 1:09 - loss: 6.3051 - root_mean_squared_error: 2.5110"
          ]
        },
        {
          "name": "stderr",
          "output_type": "stream",
          "text": [
            "2023-12-08 20:14:52.583396: I tensorflow/core/kernels/data/shuffle_dataset_op.cc:452] Shuffle buffer filled.\n"
          ]
        },
        {
          "name": "stdout",
          "output_type": "stream",
          "text": [
            "110/250 [============>.................] - ETA: 56s - loss: 6.3744 - root_mean_squared_error: 2.5248"
          ]
        },
        {
          "name": "stderr",
          "output_type": "stream",
          "text": [
            "2023-12-08 20:15:05.090521: I tensorflow/core/kernels/data/shuffle_dataset_op.cc:422] ShuffleDatasetV3:35: Filling up shuffle buffer (this may take a while): 1915 of 2000\n"
          ]
        },
        {
          "name": "stdout",
          "output_type": "stream",
          "text": [
            "111/250 [============>.................] - ETA: 56s - loss: 6.3541 - root_mean_squared_error: 2.5207"
          ]
        },
        {
          "name": "stderr",
          "output_type": "stream",
          "text": [
            "2023-12-08 20:15:05.534535: I tensorflow/core/kernels/data/shuffle_dataset_op.cc:452] Shuffle buffer filled.\n"
          ]
        },
        {
          "name": "stdout",
          "output_type": "stream",
          "text": [
            "142/250 [================>.............] - ETA: 43s - loss: 6.3974 - root_mean_squared_error: 2.5293"
          ]
        },
        {
          "name": "stderr",
          "output_type": "stream",
          "text": [
            "2023-12-08 20:15:17.979848: I tensorflow/core/kernels/data/shuffle_dataset_op.cc:422] ShuffleDatasetV3:35: Filling up shuffle buffer (this may take a while): 1941 of 2000\n"
          ]
        },
        {
          "name": "stdout",
          "output_type": "stream",
          "text": [
            "143/250 [================>.............] - ETA: 43s - loss: 6.3989 - root_mean_squared_error: 2.5296"
          ]
        },
        {
          "name": "stderr",
          "output_type": "stream",
          "text": [
            "2023-12-08 20:15:18.283797: I tensorflow/core/kernels/data/shuffle_dataset_op.cc:452] Shuffle buffer filled.\n"
          ]
        },
        {
          "name": "stdout",
          "output_type": "stream",
          "text": [
            "174/250 [===================>..........] - ETA: 30s - loss: 6.3888 - root_mean_squared_error: 2.5276"
          ]
        },
        {
          "name": "stderr",
          "output_type": "stream",
          "text": [
            "2023-12-08 20:15:30.869566: I tensorflow/core/kernels/data/shuffle_dataset_op.cc:422] ShuffleDatasetV3:35: Filling up shuffle buffer (this may take a while): 1940 of 2000\n"
          ]
        },
        {
          "name": "stdout",
          "output_type": "stream",
          "text": [
            "175/250 [====================>.........] - ETA: 30s - loss: 6.4071 - root_mean_squared_error: 2.5312"
          ]
        },
        {
          "name": "stderr",
          "output_type": "stream",
          "text": [
            "2023-12-08 20:15:31.182277: I tensorflow/core/kernels/data/shuffle_dataset_op.cc:452] Shuffle buffer filled.\n"
          ]
        },
        {
          "name": "stdout",
          "output_type": "stream",
          "text": [
            "206/250 [=======================>......] - ETA: 17s - loss: 6.3582 - root_mean_squared_error: 2.5215"
          ]
        },
        {
          "name": "stderr",
          "output_type": "stream",
          "text": [
            "2023-12-08 20:15:43.759123: I tensorflow/core/kernels/data/shuffle_dataset_op.cc:422] ShuffleDatasetV3:35: Filling up shuffle buffer (this may take a while): 1917 of 2000\n"
          ]
        },
        {
          "name": "stdout",
          "output_type": "stream",
          "text": [
            "207/250 [=======================>......] - ETA: 17s - loss: 6.3698 - root_mean_squared_error: 2.5238"
          ]
        },
        {
          "name": "stderr",
          "output_type": "stream",
          "text": [
            "2023-12-08 20:15:44.190924: I tensorflow/core/kernels/data/shuffle_dataset_op.cc:452] Shuffle buffer filled.\n"
          ]
        },
        {
          "name": "stdout",
          "output_type": "stream",
          "text": [
            "238/250 [===========================>..] - ETA: 4s - loss: 6.3601 - root_mean_squared_error: 2.5219"
          ]
        },
        {
          "name": "stderr",
          "output_type": "stream",
          "text": [
            "2023-12-08 20:15:56.657958: I tensorflow/core/kernels/data/shuffle_dataset_op.cc:422] ShuffleDatasetV3:35: Filling up shuffle buffer (this may take a while): 1923 of 2000\n"
          ]
        },
        {
          "name": "stdout",
          "output_type": "stream",
          "text": [
            "239/250 [===========================>..] - ETA: 4s - loss: 6.3597 - root_mean_squared_error: 2.5219"
          ]
        },
        {
          "name": "stderr",
          "output_type": "stream",
          "text": [
            "2023-12-08 20:15:57.060319: I tensorflow/core/kernels/data/shuffle_dataset_op.cc:452] Shuffle buffer filled.\n"
          ]
        },
        {
          "name": "stdout",
          "output_type": "stream",
          "text": [
            "250/250 [==============================] - ETA: 0s - loss: 6.3573 - root_mean_squared_error: 2.5214"
          ]
        },
        {
          "name": "stderr",
          "output_type": "stream",
          "text": [
            "2023-12-08 20:16:09.559795: I tensorflow/core/kernels/data/shuffle_dataset_op.cc:422] ShuffleDatasetV3:35: Filling up shuffle buffer (this may take a while): 1754 of 2000\n",
            "2023-12-08 20:16:10.971582: I tensorflow/core/kernels/data/shuffle_dataset_op.cc:452] Shuffle buffer filled.\n"
          ]
        },
        {
          "name": "stdout",
          "output_type": "stream",
          "text": [
            "250/250 [==============================] - 149s 598ms/step - loss: 6.3573 - root_mean_squared_error: 2.5214 - val_loss: 4.3872 - val_root_mean_squared_error: 2.0946\n",
            "Epoch 27/50\n",
            " 52/250 [=====>........................] - ETA: 1:20 - loss: 6.3759 - root_mean_squared_error: 2.5251"
          ]
        },
        {
          "name": "stderr",
          "output_type": "stream",
          "text": [
            "2023-12-08 20:17:11.081513: I tensorflow/core/kernels/data/shuffle_dataset_op.cc:422] ShuffleDatasetV3:35: Filling up shuffle buffer (this may take a while): 1938 of 2000\n"
          ]
        },
        {
          "name": "stdout",
          "output_type": "stream",
          "text": [
            " 53/250 [=====>........................] - ETA: 1:20 - loss: 6.4471 - root_mean_squared_error: 2.5391"
          ]
        },
        {
          "name": "stderr",
          "output_type": "stream",
          "text": [
            "2023-12-08 20:17:11.404697: I tensorflow/core/kernels/data/shuffle_dataset_op.cc:452] Shuffle buffer filled.\n"
          ]
        },
        {
          "name": "stdout",
          "output_type": "stream",
          "text": [
            " 84/250 [=========>....................] - ETA: 1:07 - loss: 6.3643 - root_mean_squared_error: 2.5227"
          ]
        },
        {
          "name": "stderr",
          "output_type": "stream",
          "text": [
            "2023-12-08 20:17:23.963715: I tensorflow/core/kernels/data/shuffle_dataset_op.cc:422] ShuffleDatasetV3:35: Filling up shuffle buffer (this may take a while): 1937 of 2000\n"
          ]
        },
        {
          "name": "stdout",
          "output_type": "stream",
          "text": [
            " 85/250 [=========>....................] - ETA: 1:06 - loss: 6.4126 - root_mean_squared_error: 2.5323"
          ]
        },
        {
          "name": "stderr",
          "output_type": "stream",
          "text": [
            "2023-12-08 20:17:24.293523: I tensorflow/core/kernels/data/shuffle_dataset_op.cc:452] Shuffle buffer filled.\n"
          ]
        },
        {
          "name": "stdout",
          "output_type": "stream",
          "text": [
            "116/250 [============>.................] - ETA: 54s - loss: 6.3401 - root_mean_squared_error: 2.5180"
          ]
        },
        {
          "name": "stderr",
          "output_type": "stream",
          "text": [
            "2023-12-08 20:17:36.822816: I tensorflow/core/kernels/data/shuffle_dataset_op.cc:422] ShuffleDatasetV3:35: Filling up shuffle buffer (this may take a while): 1931 of 2000\n"
          ]
        },
        {
          "name": "stdout",
          "output_type": "stream",
          "text": [
            "117/250 [=============>................] - ETA: 53s - loss: 6.3509 - root_mean_squared_error: 2.5201"
          ]
        },
        {
          "name": "stderr",
          "output_type": "stream",
          "text": [
            "2023-12-08 20:17:37.179411: I tensorflow/core/kernels/data/shuffle_dataset_op.cc:452] Shuffle buffer filled.\n"
          ]
        },
        {
          "name": "stdout",
          "output_type": "stream",
          "text": [
            "148/250 [================>.............] - ETA: 41s - loss: 6.2089 - root_mean_squared_error: 2.4918"
          ]
        },
        {
          "name": "stderr",
          "output_type": "stream",
          "text": [
            "2023-12-08 20:17:49.700153: I tensorflow/core/kernels/data/shuffle_dataset_op.cc:422] ShuffleDatasetV3:35: Filling up shuffle buffer (this may take a while): 1937 of 2000\n"
          ]
        },
        {
          "name": "stdout",
          "output_type": "stream",
          "text": [
            "149/250 [================>.............] - ETA: 40s - loss: 6.2188 - root_mean_squared_error: 2.4938"
          ]
        },
        {
          "name": "stderr",
          "output_type": "stream",
          "text": [
            "2023-12-08 20:17:50.028839: I tensorflow/core/kernels/data/shuffle_dataset_op.cc:452] Shuffle buffer filled.\n"
          ]
        },
        {
          "name": "stdout",
          "output_type": "stream",
          "text": [
            "180/250 [====================>.........] - ETA: 28s - loss: 6.3206 - root_mean_squared_error: 2.5141"
          ]
        },
        {
          "name": "stderr",
          "output_type": "stream",
          "text": [
            "2023-12-08 20:18:02.603851: I tensorflow/core/kernels/data/shuffle_dataset_op.cc:422] ShuffleDatasetV3:35: Filling up shuffle buffer (this may take a while): 1925 of 2000\n"
          ]
        },
        {
          "name": "stdout",
          "output_type": "stream",
          "text": [
            "181/250 [====================>.........] - ETA: 27s - loss: 6.3128 - root_mean_squared_error: 2.5125"
          ]
        },
        {
          "name": "stderr",
          "output_type": "stream",
          "text": [
            "2023-12-08 20:18:02.989219: I tensorflow/core/kernels/data/shuffle_dataset_op.cc:452] Shuffle buffer filled.\n"
          ]
        },
        {
          "name": "stdout",
          "output_type": "stream",
          "text": [
            "212/250 [========================>.....] - ETA: 15s - loss: 6.3441 - root_mean_squared_error: 2.5187"
          ]
        },
        {
          "name": "stderr",
          "output_type": "stream",
          "text": [
            "2023-12-08 20:18:15.520998: I tensorflow/core/kernels/data/shuffle_dataset_op.cc:422] ShuffleDatasetV3:35: Filling up shuffle buffer (this may take a while): 1943 of 2000\n"
          ]
        },
        {
          "name": "stdout",
          "output_type": "stream",
          "text": [
            "213/250 [========================>.....] - ETA: 14s - loss: 6.3562 - root_mean_squared_error: 2.5212"
          ]
        },
        {
          "name": "stderr",
          "output_type": "stream",
          "text": [
            "2023-12-08 20:18:15.818551: I tensorflow/core/kernels/data/shuffle_dataset_op.cc:452] Shuffle buffer filled.\n"
          ]
        },
        {
          "name": "stdout",
          "output_type": "stream",
          "text": [
            "244/250 [============================>.] - ETA: 2s - loss: 6.3776 - root_mean_squared_error: 2.5254"
          ]
        },
        {
          "name": "stderr",
          "output_type": "stream",
          "text": [
            "2023-12-08 20:18:28.401272: I tensorflow/core/kernels/data/shuffle_dataset_op.cc:422] ShuffleDatasetV3:35: Filling up shuffle buffer (this may take a while): 1943 of 2000\n"
          ]
        },
        {
          "name": "stdout",
          "output_type": "stream",
          "text": [
            "245/250 [============================>.] - ETA: 2s - loss: 6.3684 - root_mean_squared_error: 2.5236"
          ]
        },
        {
          "name": "stderr",
          "output_type": "stream",
          "text": [
            "2023-12-08 20:18:28.695882: I tensorflow/core/kernels/data/shuffle_dataset_op.cc:452] Shuffle buffer filled.\n"
          ]
        },
        {
          "name": "stdout",
          "output_type": "stream",
          "text": [
            "250/250 [==============================] - 149s 598ms/step - loss: 6.3507 - root_mean_squared_error: 2.5201 - val_loss: 4.3867 - val_root_mean_squared_error: 2.0944\n",
            "Epoch 28/50\n",
            " 26/250 [==>...........................] - ETA: 1:29 - loss: 6.0299 - root_mean_squared_error: 2.4556"
          ]
        },
        {
          "name": "stderr",
          "output_type": "stream",
          "text": [
            "2023-12-08 20:19:29.627725: I tensorflow/core/kernels/data/shuffle_dataset_op.cc:422] ShuffleDatasetV3:35: Filling up shuffle buffer (this may take a while): 1934 of 2000\n"
          ]
        },
        {
          "name": "stdout",
          "output_type": "stream",
          "text": [
            " 27/250 [==>...........................] - ETA: 1:29 - loss: 6.1591 - root_mean_squared_error: 2.4818"
          ]
        },
        {
          "name": "stderr",
          "output_type": "stream",
          "text": [
            "2023-12-08 20:19:29.967570: I tensorflow/core/kernels/data/shuffle_dataset_op.cc:452] Shuffle buffer filled.\n"
          ]
        },
        {
          "name": "stdout",
          "output_type": "stream",
          "text": [
            " 58/250 [=====>........................] - ETA: 1:16 - loss: 6.3070 - root_mean_squared_error: 2.5114"
          ]
        },
        {
          "name": "stderr",
          "output_type": "stream",
          "text": [
            "2023-12-08 20:19:42.506775: I tensorflow/core/kernels/data/shuffle_dataset_op.cc:422] ShuffleDatasetV3:35: Filling up shuffle buffer (this may take a while): 1950 of 2000\n"
          ]
        },
        {
          "name": "stdout",
          "output_type": "stream",
          "text": [
            " 59/250 [======>.......................] - ETA: 1:16 - loss: 6.3426 - root_mean_squared_error: 2.5185"
          ]
        },
        {
          "name": "stderr",
          "output_type": "stream",
          "text": [
            "2023-12-08 20:19:42.766683: I tensorflow/core/kernels/data/shuffle_dataset_op.cc:452] Shuffle buffer filled.\n"
          ]
        },
        {
          "name": "stdout",
          "output_type": "stream",
          "text": [
            " 90/250 [=========>....................] - ETA: 1:04 - loss: 6.5280 - root_mean_squared_error: 2.5550"
          ]
        },
        {
          "name": "stderr",
          "output_type": "stream",
          "text": [
            "2023-12-08 20:19:55.378679: I tensorflow/core/kernels/data/shuffle_dataset_op.cc:422] ShuffleDatasetV3:35: Filling up shuffle buffer (this may take a while): 1934 of 2000\n"
          ]
        },
        {
          "name": "stdout",
          "output_type": "stream",
          "text": [
            " 91/250 [=========>....................] - ETA: 1:03 - loss: 6.4730 - root_mean_squared_error: 2.5442"
          ]
        },
        {
          "name": "stderr",
          "output_type": "stream",
          "text": [
            "2023-12-08 20:19:55.719863: I tensorflow/core/kernels/data/shuffle_dataset_op.cc:452] Shuffle buffer filled.\n"
          ]
        },
        {
          "name": "stdout",
          "output_type": "stream",
          "text": [
            "122/250 [=============>................] - ETA: 51s - loss: 6.3134 - root_mean_squared_error: 2.5126"
          ]
        },
        {
          "name": "stderr",
          "output_type": "stream",
          "text": [
            "2023-12-08 20:20:08.244324: I tensorflow/core/kernels/data/shuffle_dataset_op.cc:422] ShuffleDatasetV3:35: Filling up shuffle buffer (this may take a while): 1898 of 2000\n"
          ]
        },
        {
          "name": "stdout",
          "output_type": "stream",
          "text": [
            "124/250 [=============>................] - ETA: 50s - loss: 6.2579 - root_mean_squared_error: 2.5016"
          ]
        },
        {
          "name": "stderr",
          "output_type": "stream",
          "text": [
            "2023-12-08 20:20:08.776166: I tensorflow/core/kernels/data/shuffle_dataset_op.cc:452] Shuffle buffer filled.\n"
          ]
        },
        {
          "name": "stdout",
          "output_type": "stream",
          "text": [
            "154/250 [=================>............] - ETA: 38s - loss: 6.3016 - root_mean_squared_error: 2.5103"
          ]
        },
        {
          "name": "stderr",
          "output_type": "stream",
          "text": [
            "2023-12-08 20:20:21.136838: I tensorflow/core/kernels/data/shuffle_dataset_op.cc:422] ShuffleDatasetV3:35: Filling up shuffle buffer (this may take a while): 1911 of 2000\n"
          ]
        },
        {
          "name": "stdout",
          "output_type": "stream",
          "text": [
            "155/250 [=================>............] - ETA: 38s - loss: 6.2844 - root_mean_squared_error: 2.5069"
          ]
        },
        {
          "name": "stderr",
          "output_type": "stream",
          "text": [
            "2023-12-08 20:20:21.594225: I tensorflow/core/kernels/data/shuffle_dataset_op.cc:452] Shuffle buffer filled.\n"
          ]
        },
        {
          "name": "stdout",
          "output_type": "stream",
          "text": [
            "186/250 [=====================>........] - ETA: 25s - loss: 6.3070 - root_mean_squared_error: 2.5114"
          ]
        },
        {
          "name": "stderr",
          "output_type": "stream",
          "text": [
            "2023-12-08 20:20:34.035913: I tensorflow/core/kernels/data/shuffle_dataset_op.cc:422] ShuffleDatasetV3:35: Filling up shuffle buffer (this may take a while): 1940 of 2000\n"
          ]
        },
        {
          "name": "stdout",
          "output_type": "stream",
          "text": [
            "187/250 [=====================>........] - ETA: 25s - loss: 6.3189 - root_mean_squared_error: 2.5137"
          ]
        },
        {
          "name": "stderr",
          "output_type": "stream",
          "text": [
            "2023-12-08 20:20:34.347266: I tensorflow/core/kernels/data/shuffle_dataset_op.cc:452] Shuffle buffer filled.\n"
          ]
        },
        {
          "name": "stdout",
          "output_type": "stream",
          "text": [
            "218/250 [=========================>....] - ETA: 12s - loss: 6.2910 - root_mean_squared_error: 2.5082"
          ]
        },
        {
          "name": "stderr",
          "output_type": "stream",
          "text": [
            "2023-12-08 20:20:46.936590: I tensorflow/core/kernels/data/shuffle_dataset_op.cc:422] ShuffleDatasetV3:35: Filling up shuffle buffer (this may take a while): 1941 of 2000\n"
          ]
        },
        {
          "name": "stdout",
          "output_type": "stream",
          "text": [
            "219/250 [=========================>....] - ETA: 12s - loss: 6.2897 - root_mean_squared_error: 2.5079"
          ]
        },
        {
          "name": "stderr",
          "output_type": "stream",
          "text": [
            "2023-12-08 20:20:47.241369: I tensorflow/core/kernels/data/shuffle_dataset_op.cc:452] Shuffle buffer filled.\n"
          ]
        },
        {
          "name": "stdout",
          "output_type": "stream",
          "text": [
            "250/250 [==============================] - ETA: 0s - loss: 6.3410 - root_mean_squared_error: 2.5181"
          ]
        },
        {
          "name": "stderr",
          "output_type": "stream",
          "text": [
            "2023-12-08 20:20:59.858776: I tensorflow/core/kernels/data/shuffle_dataset_op.cc:422] ShuffleDatasetV3:35: Filling up shuffle buffer (this may take a while): 1934 of 2000\n",
            "2023-12-08 20:21:00.240239: I tensorflow/core/kernels/data/shuffle_dataset_op.cc:452] Shuffle buffer filled.\n"
          ]
        },
        {
          "name": "stdout",
          "output_type": "stream",
          "text": [
            "250/250 [==============================] - 149s 597ms/step - loss: 6.3410 - root_mean_squared_error: 2.5181 - val_loss: 4.3863 - val_root_mean_squared_error: 2.0943\n",
            "Epoch 29/50\n",
            " 32/250 [==>...........................] - ETA: 1:27 - loss: 6.0029 - root_mean_squared_error: 2.4501"
          ]
        },
        {
          "name": "stderr",
          "output_type": "stream",
          "text": [
            "2023-12-08 20:22:01.217119: I tensorflow/core/kernels/data/shuffle_dataset_op.cc:422] ShuffleDatasetV3:35: Filling up shuffle buffer (this may take a while): 1931 of 2000\n"
          ]
        },
        {
          "name": "stdout",
          "output_type": "stream",
          "text": [
            " 33/250 [==>...........................] - ETA: 1:27 - loss: 6.0128 - root_mean_squared_error: 2.4521"
          ]
        },
        {
          "name": "stderr",
          "output_type": "stream",
          "text": [
            "2023-12-08 20:22:01.575132: I tensorflow/core/kernels/data/shuffle_dataset_op.cc:452] Shuffle buffer filled.\n"
          ]
        },
        {
          "name": "stdout",
          "output_type": "stream",
          "text": [
            " 64/250 [======>.......................] - ETA: 1:14 - loss: 6.0875 - root_mean_squared_error: 2.4673"
          ]
        },
        {
          "name": "stderr",
          "output_type": "stream",
          "text": [
            "2023-12-08 20:22:14.091663: I tensorflow/core/kernels/data/shuffle_dataset_op.cc:422] ShuffleDatasetV3:35: Filling up shuffle buffer (this may take a while): 1937 of 2000\n"
          ]
        },
        {
          "name": "stdout",
          "output_type": "stream",
          "text": [
            " 65/250 [======>.......................] - ETA: 1:14 - loss: 6.0099 - root_mean_squared_error: 2.4515"
          ]
        },
        {
          "name": "stderr",
          "output_type": "stream",
          "text": [
            "2023-12-08 20:22:14.417641: I tensorflow/core/kernels/data/shuffle_dataset_op.cc:452] Shuffle buffer filled.\n"
          ]
        },
        {
          "name": "stdout",
          "output_type": "stream",
          "text": [
            " 96/250 [==========>...................] - ETA: 1:01 - loss: 6.2662 - root_mean_squared_error: 2.5032"
          ]
        },
        {
          "name": "stderr",
          "output_type": "stream",
          "text": [
            "2023-12-08 20:22:26.951702: I tensorflow/core/kernels/data/shuffle_dataset_op.cc:422] ShuffleDatasetV3:35: Filling up shuffle buffer (this may take a while): 1906 of 2000\n"
          ]
        },
        {
          "name": "stdout",
          "output_type": "stream",
          "text": [
            " 97/250 [==========>...................] - ETA: 1:01 - loss: 6.2629 - root_mean_squared_error: 2.5026"
          ]
        },
        {
          "name": "stderr",
          "output_type": "stream",
          "text": [
            "2023-12-08 20:22:27.432437: I tensorflow/core/kernels/data/shuffle_dataset_op.cc:452] Shuffle buffer filled.\n"
          ]
        },
        {
          "name": "stdout",
          "output_type": "stream",
          "text": [
            "128/250 [==============>...............] - ETA: 49s - loss: 6.3525 - root_mean_squared_error: 2.5204"
          ]
        },
        {
          "name": "stderr",
          "output_type": "stream",
          "text": [
            "2023-12-08 20:22:39.882017: I tensorflow/core/kernels/data/shuffle_dataset_op.cc:422] ShuffleDatasetV3:35: Filling up shuffle buffer (this may take a while): 1932 of 2000\n"
          ]
        },
        {
          "name": "stdout",
          "output_type": "stream",
          "text": [
            "129/250 [==============>...............] - ETA: 48s - loss: 6.3247 - root_mean_squared_error: 2.5149"
          ]
        },
        {
          "name": "stderr",
          "output_type": "stream",
          "text": [
            "2023-12-08 20:22:40.232645: I tensorflow/core/kernels/data/shuffle_dataset_op.cc:452] Shuffle buffer filled.\n"
          ]
        },
        {
          "name": "stdout",
          "output_type": "stream",
          "text": [
            "160/250 [==================>...........] - ETA: 36s - loss: 6.2961 - root_mean_squared_error: 2.5092"
          ]
        },
        {
          "name": "stderr",
          "output_type": "stream",
          "text": [
            "2023-12-08 20:22:52.789027: I tensorflow/core/kernels/data/shuffle_dataset_op.cc:422] ShuffleDatasetV3:35: Filling up shuffle buffer (this may take a while): 1923 of 2000\n"
          ]
        },
        {
          "name": "stdout",
          "output_type": "stream",
          "text": [
            "161/250 [==================>...........] - ETA: 35s - loss: 6.2889 - root_mean_squared_error: 2.5078"
          ]
        },
        {
          "name": "stderr",
          "output_type": "stream",
          "text": [
            "2023-12-08 20:22:53.183610: I tensorflow/core/kernels/data/shuffle_dataset_op.cc:452] Shuffle buffer filled.\n"
          ]
        },
        {
          "name": "stdout",
          "output_type": "stream",
          "text": [
            "192/250 [======================>.......] - ETA: 23s - loss: 6.3053 - root_mean_squared_error: 2.5110"
          ]
        },
        {
          "name": "stderr",
          "output_type": "stream",
          "text": [
            "2023-12-08 20:23:05.694273: I tensorflow/core/kernels/data/shuffle_dataset_op.cc:422] ShuffleDatasetV3:35: Filling up shuffle buffer (this may take a while): 1923 of 2000\n"
          ]
        },
        {
          "name": "stdout",
          "output_type": "stream",
          "text": [
            "193/250 [======================>.......] - ETA: 22s - loss: 6.2876 - root_mean_squared_error: 2.5075"
          ]
        },
        {
          "name": "stderr",
          "output_type": "stream",
          "text": [
            "2023-12-08 20:23:06.095369: I tensorflow/core/kernels/data/shuffle_dataset_op.cc:452] Shuffle buffer filled.\n"
          ]
        },
        {
          "name": "stdout",
          "output_type": "stream",
          "text": [
            "224/250 [=========================>....] - ETA: 10s - loss: 6.3275 - root_mean_squared_error: 2.5154"
          ]
        },
        {
          "name": "stderr",
          "output_type": "stream",
          "text": [
            "2023-12-08 20:23:18.580349: I tensorflow/core/kernels/data/shuffle_dataset_op.cc:422] ShuffleDatasetV3:35: Filling up shuffle buffer (this may take a while): 1933 of 2000\n"
          ]
        },
        {
          "name": "stdout",
          "output_type": "stream",
          "text": [
            "225/250 [==========================>...] - ETA: 10s - loss: 6.3146 - root_mean_squared_error: 2.5129"
          ]
        },
        {
          "name": "stderr",
          "output_type": "stream",
          "text": [
            "2023-12-08 20:23:18.927131: I tensorflow/core/kernels/data/shuffle_dataset_op.cc:452] Shuffle buffer filled.\n"
          ]
        },
        {
          "name": "stdout",
          "output_type": "stream",
          "text": [
            "250/250 [==============================] - ETA: 0s - loss: 6.3298 - root_mean_squared_error: 2.5159"
          ]
        },
        {
          "name": "stderr",
          "output_type": "stream",
          "text": [
            "2023-12-08 20:23:31.483443: I tensorflow/core/kernels/data/shuffle_dataset_op.cc:422] ShuffleDatasetV3:35: Filling up shuffle buffer (this may take a while): 1887 of 2000\n",
            "2023-12-08 20:23:32.131288: I tensorflow/core/kernels/data/shuffle_dataset_op.cc:452] Shuffle buffer filled.\n"
          ]
        },
        {
          "name": "stdout",
          "output_type": "stream",
          "text": [
            "250/250 [==============================] - 149s 598ms/step - loss: 6.3298 - root_mean_squared_error: 2.5159 - val_loss: 4.3865 - val_root_mean_squared_error: 2.0944\n",
            "Epoch 30/50\n",
            " 38/250 [===>..........................] - ETA: 1:25 - loss: 6.0098 - root_mean_squared_error: 2.4515"
          ]
        },
        {
          "name": "stderr",
          "output_type": "stream",
          "text": [
            "2023-12-08 20:24:32.965899: I tensorflow/core/kernels/data/shuffle_dataset_op.cc:422] ShuffleDatasetV3:35: Filling up shuffle buffer (this may take a while): 1928 of 2000\n"
          ]
        },
        {
          "name": "stdout",
          "output_type": "stream",
          "text": [
            " 39/250 [===>..........................] - ETA: 1:25 - loss: 6.0689 - root_mean_squared_error: 2.4635"
          ]
        },
        {
          "name": "stderr",
          "output_type": "stream",
          "text": [
            "2023-12-08 20:24:33.339488: I tensorflow/core/kernels/data/shuffle_dataset_op.cc:452] Shuffle buffer filled.\n"
          ]
        },
        {
          "name": "stdout",
          "output_type": "stream",
          "text": [
            " 70/250 [=======>......................] - ETA: 1:12 - loss: 6.2655 - root_mean_squared_error: 2.5031"
          ]
        },
        {
          "name": "stderr",
          "output_type": "stream",
          "text": [
            "2023-12-08 20:24:45.848820: I tensorflow/core/kernels/data/shuffle_dataset_op.cc:422] ShuffleDatasetV3:35: Filling up shuffle buffer (this may take a while): 1943 of 2000\n"
          ]
        },
        {
          "name": "stdout",
          "output_type": "stream",
          "text": [
            " 71/250 [=======>......................] - ETA: 1:12 - loss: 6.2209 - root_mean_squared_error: 2.4942"
          ]
        },
        {
          "name": "stderr",
          "output_type": "stream",
          "text": [
            "2023-12-08 20:24:46.143136: I tensorflow/core/kernels/data/shuffle_dataset_op.cc:452] Shuffle buffer filled.\n"
          ]
        },
        {
          "name": "stdout",
          "output_type": "stream",
          "text": [
            "102/250 [===========>..................] - ETA: 59s - loss: 6.2316 - root_mean_squared_error: 2.4963 "
          ]
        },
        {
          "name": "stderr",
          "output_type": "stream",
          "text": [
            "2023-12-08 20:24:58.725124: I tensorflow/core/kernels/data/shuffle_dataset_op.cc:422] ShuffleDatasetV3:35: Filling up shuffle buffer (this may take a while): 1889 of 2000\n"
          ]
        },
        {
          "name": "stdout",
          "output_type": "stream",
          "text": [
            "104/250 [===========>..................] - ETA: 58s - loss: 6.2833 - root_mean_squared_error: 2.5066"
          ]
        },
        {
          "name": "stderr",
          "output_type": "stream",
          "text": [
            "2023-12-08 20:24:59.292885: I tensorflow/core/kernels/data/shuffle_dataset_op.cc:452] Shuffle buffer filled.\n"
          ]
        },
        {
          "name": "stdout",
          "output_type": "stream",
          "text": [
            "134/250 [===============>..............] - ETA: 46s - loss: 6.3288 - root_mean_squared_error: 2.5157"
          ]
        },
        {
          "name": "stderr",
          "output_type": "stream",
          "text": [
            "2023-12-08 20:25:11.643966: I tensorflow/core/kernels/data/shuffle_dataset_op.cc:422] ShuffleDatasetV3:35: Filling up shuffle buffer (this may take a while): 1934 of 2000\n"
          ]
        },
        {
          "name": "stdout",
          "output_type": "stream",
          "text": [
            "135/250 [===============>..............] - ETA: 46s - loss: 6.3158 - root_mean_squared_error: 2.5131"
          ]
        },
        {
          "name": "stderr",
          "output_type": "stream",
          "text": [
            "2023-12-08 20:25:11.982303: I tensorflow/core/kernels/data/shuffle_dataset_op.cc:452] Shuffle buffer filled.\n"
          ]
        },
        {
          "name": "stdout",
          "output_type": "stream",
          "text": [
            "166/250 [==================>...........] - ETA: 33s - loss: 6.2033 - root_mean_squared_error: 2.4906"
          ]
        },
        {
          "name": "stderr",
          "output_type": "stream",
          "text": [
            "2023-12-08 20:25:24.517946: I tensorflow/core/kernels/data/shuffle_dataset_op.cc:422] ShuffleDatasetV3:35: Filling up shuffle buffer (this may take a while): 1919 of 2000\n"
          ]
        },
        {
          "name": "stdout",
          "output_type": "stream",
          "text": [
            "167/250 [===================>..........] - ETA: 33s - loss: 6.2699 - root_mean_squared_error: 2.5040"
          ]
        },
        {
          "name": "stderr",
          "output_type": "stream",
          "text": [
            "2023-12-08 20:25:24.936424: I tensorflow/core/kernels/data/shuffle_dataset_op.cc:452] Shuffle buffer filled.\n"
          ]
        },
        {
          "name": "stdout",
          "output_type": "stream",
          "text": [
            "198/250 [======================>.......] - ETA: 20s - loss: 6.2316 - root_mean_squared_error: 2.4963"
          ]
        },
        {
          "name": "stderr",
          "output_type": "stream",
          "text": [
            "2023-12-08 20:25:37.433579: I tensorflow/core/kernels/data/shuffle_dataset_op.cc:422] ShuffleDatasetV3:35: Filling up shuffle buffer (this may take a while): 1918 of 2000\n"
          ]
        },
        {
          "name": "stdout",
          "output_type": "stream",
          "text": [
            "199/250 [======================>.......] - ETA: 20s - loss: 6.2795 - root_mean_squared_error: 2.5059"
          ]
        },
        {
          "name": "stderr",
          "output_type": "stream",
          "text": [
            "2023-12-08 20:25:37.852794: I tensorflow/core/kernels/data/shuffle_dataset_op.cc:452] Shuffle buffer filled.\n"
          ]
        },
        {
          "name": "stdout",
          "output_type": "stream",
          "text": [
            "230/250 [==========================>...] - ETA: 8s - loss: 6.3341 - root_mean_squared_error: 2.5168"
          ]
        },
        {
          "name": "stderr",
          "output_type": "stream",
          "text": [
            "2023-12-08 20:25:50.345833: I tensorflow/core/kernels/data/shuffle_dataset_op.cc:422] ShuffleDatasetV3:35: Filling up shuffle buffer (this may take a while): 1907 of 2000\n"
          ]
        },
        {
          "name": "stdout",
          "output_type": "stream",
          "text": [
            "231/250 [==========================>...] - ETA: 7s - loss: 6.3171 - root_mean_squared_error: 2.5134"
          ]
        },
        {
          "name": "stderr",
          "output_type": "stream",
          "text": [
            "2023-12-08 20:25:50.825499: I tensorflow/core/kernels/data/shuffle_dataset_op.cc:452] Shuffle buffer filled.\n"
          ]
        },
        {
          "name": "stdout",
          "output_type": "stream",
          "text": [
            "250/250 [==============================] - ETA: 0s - loss: 6.2986 - root_mean_squared_error: 2.5097"
          ]
        },
        {
          "name": "stderr",
          "output_type": "stream",
          "text": [
            "2023-12-08 20:26:03.291841: I tensorflow/core/kernels/data/shuffle_dataset_op.cc:422] ShuffleDatasetV3:35: Filling up shuffle buffer (this may take a while): 1830 of 2000\n",
            "2023-12-08 20:26:04.266989: I tensorflow/core/kernels/data/shuffle_dataset_op.cc:452] Shuffle buffer filled.\n"
          ]
        },
        {
          "name": "stdout",
          "output_type": "stream",
          "text": [
            "250/250 [==============================] - 150s 599ms/step - loss: 6.2986 - root_mean_squared_error: 2.5097 - val_loss: 4.3861 - val_root_mean_squared_error: 2.0943\n",
            "Epoch 31/50\n",
            " 44/250 [====>.........................] - ETA: 1:23 - loss: 6.0804 - root_mean_squared_error: 2.4658"
          ]
        },
        {
          "name": "stderr",
          "output_type": "stream",
          "text": [
            "2023-12-08 20:27:04.967185: I tensorflow/core/kernels/data/shuffle_dataset_op.cc:422] ShuffleDatasetV3:35: Filling up shuffle buffer (this may take a while): 1906 of 2000\n"
          ]
        },
        {
          "name": "stdout",
          "output_type": "stream",
          "text": [
            " 46/250 [====>.........................] - ETA: 1:22 - loss: 6.4600 - root_mean_squared_error: 2.5416"
          ]
        },
        {
          "name": "stderr",
          "output_type": "stream",
          "text": [
            "2023-12-08 20:27:05.456929: I tensorflow/core/kernels/data/shuffle_dataset_op.cc:452] Shuffle buffer filled.\n"
          ]
        },
        {
          "name": "stdout",
          "output_type": "stream",
          "text": [
            " 76/250 [========>.....................] - ETA: 1:10 - loss: 6.1942 - root_mean_squared_error: 2.4888"
          ]
        },
        {
          "name": "stderr",
          "output_type": "stream",
          "text": [
            "2023-12-08 20:27:17.816920: I tensorflow/core/kernels/data/shuffle_dataset_op.cc:422] ShuffleDatasetV3:35: Filling up shuffle buffer (this may take a while): 1916 of 2000\n"
          ]
        },
        {
          "name": "stdout",
          "output_type": "stream",
          "text": [
            " 77/250 [========>.....................] - ETA: 1:09 - loss: 6.2405 - root_mean_squared_error: 2.4981"
          ]
        },
        {
          "name": "stderr",
          "output_type": "stream",
          "text": [
            "2023-12-08 20:27:18.254834: I tensorflow/core/kernels/data/shuffle_dataset_op.cc:452] Shuffle buffer filled.\n"
          ]
        },
        {
          "name": "stdout",
          "output_type": "stream",
          "text": [
            "108/250 [===========>..................] - ETA: 57s - loss: 6.3647 - root_mean_squared_error: 2.5228"
          ]
        },
        {
          "name": "stderr",
          "output_type": "stream",
          "text": [
            "2023-12-08 20:27:30.685560: I tensorflow/core/kernels/data/shuffle_dataset_op.cc:422] ShuffleDatasetV3:35: Filling up shuffle buffer (this may take a while): 1937 of 2000\n"
          ]
        },
        {
          "name": "stdout",
          "output_type": "stream",
          "text": [
            "109/250 [============>.................] - ETA: 56s - loss: 6.3355 - root_mean_squared_error: 2.5170"
          ]
        },
        {
          "name": "stderr",
          "output_type": "stream",
          "text": [
            "2023-12-08 20:27:31.015957: I tensorflow/core/kernels/data/shuffle_dataset_op.cc:452] Shuffle buffer filled.\n"
          ]
        },
        {
          "name": "stdout",
          "output_type": "stream",
          "text": [
            "140/250 [===============>..............] - ETA: 44s - loss: 6.2803 - root_mean_squared_error: 2.5061"
          ]
        },
        {
          "name": "stderr",
          "output_type": "stream",
          "text": [
            "2023-12-08 20:27:43.553100: I tensorflow/core/kernels/data/shuffle_dataset_op.cc:422] ShuffleDatasetV3:35: Filling up shuffle buffer (this may take a while): 1892 of 2000\n"
          ]
        },
        {
          "name": "stdout",
          "output_type": "stream",
          "text": [
            "142/250 [================>.............] - ETA: 43s - loss: 6.2951 - root_mean_squared_error: 2.5090"
          ]
        },
        {
          "name": "stderr",
          "output_type": "stream",
          "text": [
            "2023-12-08 20:27:44.113093: I tensorflow/core/kernels/data/shuffle_dataset_op.cc:452] Shuffle buffer filled.\n"
          ]
        },
        {
          "name": "stdout",
          "output_type": "stream",
          "text": [
            "172/250 [===================>..........] - ETA: 31s - loss: 6.2928 - root_mean_squared_error: 2.5085"
          ]
        },
        {
          "name": "stderr",
          "output_type": "stream",
          "text": [
            "2023-12-08 20:27:56.468117: I tensorflow/core/kernels/data/shuffle_dataset_op.cc:422] ShuffleDatasetV3:35: Filling up shuffle buffer (this may take a while): 1921 of 2000\n"
          ]
        },
        {
          "name": "stdout",
          "output_type": "stream",
          "text": [
            "173/250 [===================>..........] - ETA: 31s - loss: 6.3201 - root_mean_squared_error: 2.5140"
          ]
        },
        {
          "name": "stderr",
          "output_type": "stream",
          "text": [
            "2023-12-08 20:27:56.876907: I tensorflow/core/kernels/data/shuffle_dataset_op.cc:452] Shuffle buffer filled.\n"
          ]
        },
        {
          "name": "stdout",
          "output_type": "stream",
          "text": [
            "204/250 [=======================>......] - ETA: 18s - loss: 6.3593 - root_mean_squared_error: 2.5218"
          ]
        },
        {
          "name": "stderr",
          "output_type": "stream",
          "text": [
            "2023-12-08 20:28:09.355054: I tensorflow/core/kernels/data/shuffle_dataset_op.cc:422] ShuffleDatasetV3:35: Filling up shuffle buffer (this may take a while): 1916 of 2000\n"
          ]
        },
        {
          "name": "stdout",
          "output_type": "stream",
          "text": [
            "205/250 [=======================>......] - ETA: 18s - loss: 6.3446 - root_mean_squared_error: 2.5189"
          ]
        },
        {
          "name": "stderr",
          "output_type": "stream",
          "text": [
            "2023-12-08 20:28:09.793775: I tensorflow/core/kernels/data/shuffle_dataset_op.cc:452] Shuffle buffer filled.\n"
          ]
        },
        {
          "name": "stdout",
          "output_type": "stream",
          "text": [
            "236/250 [===========================>..] - ETA: 5s - loss: 6.3510 - root_mean_squared_error: 2.5201"
          ]
        },
        {
          "name": "stderr",
          "output_type": "stream",
          "text": [
            "2023-12-08 20:28:22.269383: I tensorflow/core/kernels/data/shuffle_dataset_op.cc:422] ShuffleDatasetV3:35: Filling up shuffle buffer (this may take a while): 1910 of 2000\n"
          ]
        },
        {
          "name": "stdout",
          "output_type": "stream",
          "text": [
            "237/250 [===========================>..] - ETA: 5s - loss: 6.3450 - root_mean_squared_error: 2.5189"
          ]
        },
        {
          "name": "stderr",
          "output_type": "stream",
          "text": [
            "2023-12-08 20:28:22.739704: I tensorflow/core/kernels/data/shuffle_dataset_op.cc:452] Shuffle buffer filled.\n"
          ]
        },
        {
          "name": "stdout",
          "output_type": "stream",
          "text": [
            "250/250 [==============================] - ETA: 0s - loss: 6.2816 - root_mean_squared_error: 2.5063"
          ]
        },
        {
          "name": "stderr",
          "output_type": "stream",
          "text": [
            "2023-12-08 20:28:35.171203: I tensorflow/core/kernels/data/shuffle_dataset_op.cc:422] ShuffleDatasetV3:35: Filling up shuffle buffer (this may take a while): 1775 of 2000\n",
            "2023-12-08 20:28:36.465520: I tensorflow/core/kernels/data/shuffle_dataset_op.cc:452] Shuffle buffer filled.\n"
          ]
        },
        {
          "name": "stdout",
          "output_type": "stream",
          "text": [
            "250/250 [==============================] - 149s 596ms/step - loss: 6.2816 - root_mean_squared_error: 2.5063 - val_loss: 4.3845 - val_root_mean_squared_error: 2.0939\n",
            "Epoch 32/50\n",
            " 50/250 [=====>........................] - ETA: 1:21 - loss: 6.6707 - root_mean_squared_error: 2.5828"
          ]
        },
        {
          "name": "stderr",
          "output_type": "stream",
          "text": [
            "2023-12-08 20:29:36.392446: I tensorflow/core/kernels/data/shuffle_dataset_op.cc:422] ShuffleDatasetV3:35: Filling up shuffle buffer (this may take a while): 1912 of 2000\n"
          ]
        },
        {
          "name": "stdout",
          "output_type": "stream",
          "text": [
            " 51/250 [=====>........................] - ETA: 1:20 - loss: 6.7209 - root_mean_squared_error: 2.5925"
          ]
        },
        {
          "name": "stderr",
          "output_type": "stream",
          "text": [
            "2023-12-08 20:29:36.851432: I tensorflow/core/kernels/data/shuffle_dataset_op.cc:452] Shuffle buffer filled.\n"
          ]
        },
        {
          "name": "stdout",
          "output_type": "stream",
          "text": [
            " 82/250 [========>.....................] - ETA: 1:07 - loss: 6.4572 - root_mean_squared_error: 2.5411"
          ]
        },
        {
          "name": "stderr",
          "output_type": "stream",
          "text": [
            "2023-12-08 20:29:49.256620: I tensorflow/core/kernels/data/shuffle_dataset_op.cc:422] ShuffleDatasetV3:35: Filling up shuffle buffer (this may take a while): 1910 of 2000\n"
          ]
        },
        {
          "name": "stdout",
          "output_type": "stream",
          "text": [
            " 83/250 [========>.....................] - ETA: 1:07 - loss: 6.4395 - root_mean_squared_error: 2.5376"
          ]
        },
        {
          "name": "stderr",
          "output_type": "stream",
          "text": [
            "2023-12-08 20:29:49.729348: I tensorflow/core/kernels/data/shuffle_dataset_op.cc:452] Shuffle buffer filled.\n"
          ]
        },
        {
          "name": "stdout",
          "output_type": "stream",
          "text": [
            "114/250 [============>.................] - ETA: 54s - loss: 6.4091 - root_mean_squared_error: 2.5316"
          ]
        },
        {
          "name": "stderr",
          "output_type": "stream",
          "text": [
            "2023-12-08 20:30:02.132023: I tensorflow/core/kernels/data/shuffle_dataset_op.cc:422] ShuffleDatasetV3:35: Filling up shuffle buffer (this may take a while): 1942 of 2000\n"
          ]
        },
        {
          "name": "stdout",
          "output_type": "stream",
          "text": [
            "115/250 [============>.................] - ETA: 54s - loss: 6.3966 - root_mean_squared_error: 2.5292"
          ]
        },
        {
          "name": "stderr",
          "output_type": "stream",
          "text": [
            "2023-12-08 20:30:02.433480: I tensorflow/core/kernels/data/shuffle_dataset_op.cc:452] Shuffle buffer filled.\n"
          ]
        },
        {
          "name": "stdout",
          "output_type": "stream",
          "text": [
            "146/250 [================>.............] - ETA: 41s - loss: 6.4525 - root_mean_squared_error: 2.5402"
          ]
        },
        {
          "name": "stderr",
          "output_type": "stream",
          "text": [
            "2023-12-08 20:30:15.006991: I tensorflow/core/kernels/data/shuffle_dataset_op.cc:422] ShuffleDatasetV3:35: Filling up shuffle buffer (this may take a while): 1917 of 2000\n"
          ]
        },
        {
          "name": "stdout",
          "output_type": "stream",
          "text": [
            "147/250 [================>.............] - ETA: 41s - loss: 6.4275 - root_mean_squared_error: 2.5352"
          ]
        },
        {
          "name": "stderr",
          "output_type": "stream",
          "text": [
            "2023-12-08 20:30:15.436079: I tensorflow/core/kernels/data/shuffle_dataset_op.cc:452] Shuffle buffer filled.\n"
          ]
        },
        {
          "name": "stdout",
          "output_type": "stream",
          "text": [
            "178/250 [====================>.........] - ETA: 29s - loss: 6.4180 - root_mean_squared_error: 2.5334"
          ]
        },
        {
          "name": "stderr",
          "output_type": "stream",
          "text": [
            "2023-12-08 20:30:27.892379: I tensorflow/core/kernels/data/shuffle_dataset_op.cc:422] ShuffleDatasetV3:35: Filling up shuffle buffer (this may take a while): 1905 of 2000\n"
          ]
        },
        {
          "name": "stdout",
          "output_type": "stream",
          "text": [
            "180/250 [====================>.........] - ETA: 28s - loss: 6.4425 - root_mean_squared_error: 2.5382"
          ]
        },
        {
          "name": "stderr",
          "output_type": "stream",
          "text": [
            "2023-12-08 20:30:28.388284: I tensorflow/core/kernels/data/shuffle_dataset_op.cc:452] Shuffle buffer filled.\n"
          ]
        },
        {
          "name": "stdout",
          "output_type": "stream",
          "text": [
            "210/250 [========================>.....] - ETA: 16s - loss: 6.4430 - root_mean_squared_error: 2.5383"
          ]
        },
        {
          "name": "stderr",
          "output_type": "stream",
          "text": [
            "2023-12-08 20:30:40.766972: I tensorflow/core/kernels/data/shuffle_dataset_op.cc:422] ShuffleDatasetV3:35: Filling up shuffle buffer (this may take a while): 1943 of 2000\n"
          ]
        },
        {
          "name": "stdout",
          "output_type": "stream",
          "text": [
            "211/250 [========================>.....] - ETA: 15s - loss: 6.4283 - root_mean_squared_error: 2.5354"
          ]
        },
        {
          "name": "stderr",
          "output_type": "stream",
          "text": [
            "2023-12-08 20:30:41.060964: I tensorflow/core/kernels/data/shuffle_dataset_op.cc:452] Shuffle buffer filled.\n"
          ]
        },
        {
          "name": "stdout",
          "output_type": "stream",
          "text": [
            "242/250 [============================>.] - ETA: 3s - loss: 6.3851 - root_mean_squared_error: 2.5269"
          ]
        },
        {
          "name": "stderr",
          "output_type": "stream",
          "text": [
            "2023-12-08 20:30:53.649528: I tensorflow/core/kernels/data/shuffle_dataset_op.cc:422] ShuffleDatasetV3:35: Filling up shuffle buffer (this may take a while): 1909 of 2000\n"
          ]
        },
        {
          "name": "stdout",
          "output_type": "stream",
          "text": [
            "243/250 [============================>.] - ETA: 2s - loss: 6.3656 - root_mean_squared_error: 2.5230"
          ]
        },
        {
          "name": "stderr",
          "output_type": "stream",
          "text": [
            "2023-12-08 20:30:54.125163: I tensorflow/core/kernels/data/shuffle_dataset_op.cc:452] Shuffle buffer filled.\n"
          ]
        },
        {
          "name": "stdout",
          "output_type": "stream",
          "text": [
            "250/250 [==============================] - 149s 596ms/step - loss: 6.3812 - root_mean_squared_error: 2.5261 - val_loss: 4.3849 - val_root_mean_squared_error: 2.0940\n",
            "Epoch 33/50\n",
            " 24/250 [=>............................] - ETA: 1:33 - loss: 6.4673 - root_mean_squared_error: 2.5431"
          ]
        },
        {
          "name": "stderr",
          "output_type": "stream",
          "text": [
            "2023-12-08 20:31:54.847521: I tensorflow/core/kernels/data/shuffle_dataset_op.cc:422] ShuffleDatasetV3:35: Filling up shuffle buffer (this may take a while): 1879 of 2000\n"
          ]
        },
        {
          "name": "stdout",
          "output_type": "stream",
          "text": [
            " 26/250 [==>...........................] - ETA: 1:32 - loss: 6.6912 - root_mean_squared_error: 2.5867"
          ]
        },
        {
          "name": "stderr",
          "output_type": "stream",
          "text": [
            "2023-12-08 20:31:55.473038: I tensorflow/core/kernels/data/shuffle_dataset_op.cc:452] Shuffle buffer filled.\n"
          ]
        },
        {
          "name": "stdout",
          "output_type": "stream",
          "text": [
            " 56/250 [=====>........................] - ETA: 1:18 - loss: 6.3548 - root_mean_squared_error: 2.5209"
          ]
        },
        {
          "name": "stderr",
          "output_type": "stream",
          "text": [
            "2023-12-08 20:32:07.777650: I tensorflow/core/kernels/data/shuffle_dataset_op.cc:422] ShuffleDatasetV3:35: Filling up shuffle buffer (this may take a while): 1910 of 2000\n"
          ]
        },
        {
          "name": "stdout",
          "output_type": "stream",
          "text": [
            " 57/250 [=====>........................] - ETA: 1:18 - loss: 6.3575 - root_mean_squared_error: 2.5214"
          ]
        },
        {
          "name": "stderr",
          "output_type": "stream",
          "text": [
            "2023-12-08 20:32:08.246246: I tensorflow/core/kernels/data/shuffle_dataset_op.cc:452] Shuffle buffer filled.\n"
          ]
        },
        {
          "name": "stdout",
          "output_type": "stream",
          "text": [
            " 88/250 [=========>....................] - ETA: 1:05 - loss: 6.3239 - root_mean_squared_error: 2.5147"
          ]
        },
        {
          "name": "stderr",
          "output_type": "stream",
          "text": [
            "2023-12-08 20:32:20.650689: I tensorflow/core/kernels/data/shuffle_dataset_op.cc:422] ShuffleDatasetV3:35: Filling up shuffle buffer (this may take a while): 1894 of 2000\n"
          ]
        },
        {
          "name": "stdout",
          "output_type": "stream",
          "text": [
            " 90/250 [=========>....................] - ETA: 1:04 - loss: 6.3544 - root_mean_squared_error: 2.5208"
          ]
        },
        {
          "name": "stderr",
          "output_type": "stream",
          "text": [
            "2023-12-08 20:32:21.205609: I tensorflow/core/kernels/data/shuffle_dataset_op.cc:452] Shuffle buffer filled.\n"
          ]
        },
        {
          "name": "stdout",
          "output_type": "stream",
          "text": [
            "120/250 [=============>................] - ETA: 52s - loss: 6.4221 - root_mean_squared_error: 2.5342"
          ]
        },
        {
          "name": "stderr",
          "output_type": "stream",
          "text": [
            "2023-12-08 20:32:33.531972: I tensorflow/core/kernels/data/shuffle_dataset_op.cc:422] ShuffleDatasetV3:35: Filling up shuffle buffer (this may take a while): 1890 of 2000\n"
          ]
        },
        {
          "name": "stdout",
          "output_type": "stream",
          "text": [
            "122/250 [=============>................] - ETA: 51s - loss: 6.4007 - root_mean_squared_error: 2.5300"
          ]
        },
        {
          "name": "stderr",
          "output_type": "stream",
          "text": [
            "2023-12-08 20:32:34.108728: I tensorflow/core/kernels/data/shuffle_dataset_op.cc:452] Shuffle buffer filled.\n"
          ]
        },
        {
          "name": "stdout",
          "output_type": "stream",
          "text": [
            "152/250 [=================>............] - ETA: 39s - loss: 6.2811 - root_mean_squared_error: 2.5062"
          ]
        },
        {
          "name": "stderr",
          "output_type": "stream",
          "text": [
            "2023-12-08 20:32:46.448048: I tensorflow/core/kernels/data/shuffle_dataset_op.cc:422] ShuffleDatasetV3:35: Filling up shuffle buffer (this may take a while): 1895 of 2000\n"
          ]
        },
        {
          "name": "stdout",
          "output_type": "stream",
          "text": [
            "154/250 [=================>............] - ETA: 38s - loss: 6.2712 - root_mean_squared_error: 2.5042"
          ]
        },
        {
          "name": "stderr",
          "output_type": "stream",
          "text": [
            "2023-12-08 20:32:47.004891: I tensorflow/core/kernels/data/shuffle_dataset_op.cc:452] Shuffle buffer filled.\n"
          ]
        },
        {
          "name": "stdout",
          "output_type": "stream",
          "text": [
            "184/250 [=====================>........] - ETA: 26s - loss: 6.3550 - root_mean_squared_error: 2.5209"
          ]
        },
        {
          "name": "stderr",
          "output_type": "stream",
          "text": [
            "2023-12-08 20:32:59.347587: I tensorflow/core/kernels/data/shuffle_dataset_op.cc:422] ShuffleDatasetV3:35: Filling up shuffle buffer (this may take a while): 1871 of 2000\n"
          ]
        },
        {
          "name": "stdout",
          "output_type": "stream",
          "text": [
            "186/250 [=====================>........] - ETA: 25s - loss: 6.3539 - root_mean_squared_error: 2.5207"
          ]
        },
        {
          "name": "stderr",
          "output_type": "stream",
          "text": [
            "2023-12-08 20:33:00.023244: I tensorflow/core/kernels/data/shuffle_dataset_op.cc:452] Shuffle buffer filled.\n"
          ]
        },
        {
          "name": "stdout",
          "output_type": "stream",
          "text": [
            "216/250 [========================>.....] - ETA: 13s - loss: 6.3241 - root_mean_squared_error: 2.5148"
          ]
        },
        {
          "name": "stderr",
          "output_type": "stream",
          "text": [
            "2023-12-08 20:33:12.274654: I tensorflow/core/kernels/data/shuffle_dataset_op.cc:422] ShuffleDatasetV3:35: Filling up shuffle buffer (this may take a while): 1866 of 2000\n"
          ]
        },
        {
          "name": "stdout",
          "output_type": "stream",
          "text": [
            "218/250 [=========================>....] - ETA: 12s - loss: 6.3610 - root_mean_squared_error: 2.5221"
          ]
        },
        {
          "name": "stderr",
          "output_type": "stream",
          "text": [
            "2023-12-08 20:33:12.976757: I tensorflow/core/kernels/data/shuffle_dataset_op.cc:452] Shuffle buffer filled.\n"
          ]
        },
        {
          "name": "stdout",
          "output_type": "stream",
          "text": [
            "248/250 [============================>.] - ETA: 0s - loss: 6.3770 - root_mean_squared_error: 2.5253"
          ]
        },
        {
          "name": "stderr",
          "output_type": "stream",
          "text": [
            "2023-12-08 20:33:25.231958: I tensorflow/core/kernels/data/shuffle_dataset_op.cc:422] ShuffleDatasetV3:35: Filling up shuffle buffer (this may take a while): 1893 of 2000\n"
          ]
        },
        {
          "name": "stdout",
          "output_type": "stream",
          "text": [
            "250/250 [==============================] - ETA: 0s - loss: 6.3652 - root_mean_squared_error: 2.5229"
          ]
        },
        {
          "name": "stderr",
          "output_type": "stream",
          "text": [
            "2023-12-08 20:33:25.792901: I tensorflow/core/kernels/data/shuffle_dataset_op.cc:452] Shuffle buffer filled.\n"
          ]
        },
        {
          "name": "stdout",
          "output_type": "stream",
          "text": [
            "250/250 [==============================] - 150s 599ms/step - loss: 6.3652 - root_mean_squared_error: 2.5229 - val_loss: 4.3834 - val_root_mean_squared_error: 2.0936\n",
            "Epoch 34/50\n",
            " 30/250 [==>...........................] - ETA: 1:28 - loss: 6.5432 - root_mean_squared_error: 2.5580"
          ]
        },
        {
          "name": "stderr",
          "output_type": "stream",
          "text": [
            "2023-12-08 20:34:26.558520: I tensorflow/core/kernels/data/shuffle_dataset_op.cc:422] ShuffleDatasetV3:35: Filling up shuffle buffer (this may take a while): 1913 of 2000\n"
          ]
        },
        {
          "name": "stdout",
          "output_type": "stream",
          "text": [
            " 31/250 [==>...........................] - ETA: 1:27 - loss: 6.4023 - root_mean_squared_error: 2.5303"
          ]
        },
        {
          "name": "stderr",
          "output_type": "stream",
          "text": [
            "2023-12-08 20:34:27.005274: I tensorflow/core/kernels/data/shuffle_dataset_op.cc:452] Shuffle buffer filled.\n"
          ]
        },
        {
          "name": "stdout",
          "output_type": "stream",
          "text": [
            " 62/250 [======>.......................] - ETA: 1:15 - loss: 6.3206 - root_mean_squared_error: 2.5141"
          ]
        },
        {
          "name": "stderr",
          "output_type": "stream",
          "text": [
            "2023-12-08 20:34:39.450700: I tensorflow/core/kernels/data/shuffle_dataset_op.cc:422] ShuffleDatasetV3:35: Filling up shuffle buffer (this may take a while): 1916 of 2000\n"
          ]
        },
        {
          "name": "stdout",
          "output_type": "stream",
          "text": [
            " 63/250 [======>.......................] - ETA: 1:15 - loss: 6.2980 - root_mean_squared_error: 2.5096"
          ]
        },
        {
          "name": "stderr",
          "output_type": "stream",
          "text": [
            "2023-12-08 20:34:39.888731: I tensorflow/core/kernels/data/shuffle_dataset_op.cc:452] Shuffle buffer filled.\n"
          ]
        },
        {
          "name": "stdout",
          "output_type": "stream",
          "text": [
            " 94/250 [==========>...................] - ETA: 1:02 - loss: 6.1837 - root_mean_squared_error: 2.4867"
          ]
        },
        {
          "name": "stderr",
          "output_type": "stream",
          "text": [
            "2023-12-08 20:34:52.312635: I tensorflow/core/kernels/data/shuffle_dataset_op.cc:422] ShuffleDatasetV3:35: Filling up shuffle buffer (this may take a while): 1902 of 2000\n"
          ]
        },
        {
          "name": "stdout",
          "output_type": "stream",
          "text": [
            " 96/250 [==========>...................] - ETA: 1:01 - loss: 6.2190 - root_mean_squared_error: 2.4938"
          ]
        },
        {
          "name": "stderr",
          "output_type": "stream",
          "text": [
            "2023-12-08 20:34:52.825747: I tensorflow/core/kernels/data/shuffle_dataset_op.cc:452] Shuffle buffer filled.\n"
          ]
        },
        {
          "name": "stdout",
          "output_type": "stream",
          "text": [
            "126/250 [==============>...............] - ETA: 49s - loss: 6.2436 - root_mean_squared_error: 2.4987"
          ]
        },
        {
          "name": "stderr",
          "output_type": "stream",
          "text": [
            "2023-12-08 20:35:05.181700: I tensorflow/core/kernels/data/shuffle_dataset_op.cc:422] ShuffleDatasetV3:35: Filling up shuffle buffer (this may take a while): 1906 of 2000\n"
          ]
        },
        {
          "name": "stdout",
          "output_type": "stream",
          "text": [
            "127/250 [==============>...............] - ETA: 49s - loss: 6.2527 - root_mean_squared_error: 2.5005"
          ]
        },
        {
          "name": "stderr",
          "output_type": "stream",
          "text": [
            "2023-12-08 20:35:05.664132: I tensorflow/core/kernels/data/shuffle_dataset_op.cc:452] Shuffle buffer filled.\n"
          ]
        },
        {
          "name": "stdout",
          "output_type": "stream",
          "text": [
            "158/250 [=================>............] - ETA: 37s - loss: 6.2220 - root_mean_squared_error: 2.4944"
          ]
        },
        {
          "name": "stderr",
          "output_type": "stream",
          "text": [
            "2023-12-08 20:35:18.091991: I tensorflow/core/kernels/data/shuffle_dataset_op.cc:422] ShuffleDatasetV3:35: Filling up shuffle buffer (this may take a while): 1864 of 2000\n"
          ]
        },
        {
          "name": "stdout",
          "output_type": "stream",
          "text": [
            "160/250 [==================>...........] - ETA: 36s - loss: 6.2464 - root_mean_squared_error: 2.4993"
          ]
        },
        {
          "name": "stderr",
          "output_type": "stream",
          "text": [
            "2023-12-08 20:35:18.804125: I tensorflow/core/kernels/data/shuffle_dataset_op.cc:452] Shuffle buffer filled.\n"
          ]
        },
        {
          "name": "stdout",
          "output_type": "stream",
          "text": [
            "190/250 [=====================>........] - ETA: 24s - loss: 6.2676 - root_mean_squared_error: 2.5035"
          ]
        },
        {
          "name": "stderr",
          "output_type": "stream",
          "text": [
            "2023-12-08 20:35:31.035323: I tensorflow/core/kernels/data/shuffle_dataset_op.cc:422] ShuffleDatasetV3:35: Filling up shuffle buffer (this may take a while): 1948 of 2000\n"
          ]
        },
        {
          "name": "stdout",
          "output_type": "stream",
          "text": [
            "191/250 [=====================>........] - ETA: 23s - loss: 6.2822 - root_mean_squared_error: 2.5064"
          ]
        },
        {
          "name": "stderr",
          "output_type": "stream",
          "text": [
            "2023-12-08 20:35:31.301004: I tensorflow/core/kernels/data/shuffle_dataset_op.cc:452] Shuffle buffer filled.\n"
          ]
        },
        {
          "name": "stdout",
          "output_type": "stream",
          "text": [
            "222/250 [=========================>....] - ETA: 11s - loss: 6.3106 - root_mean_squared_error: 2.5121"
          ]
        },
        {
          "name": "stderr",
          "output_type": "stream",
          "text": [
            "2023-12-08 20:35:43.943920: I tensorflow/core/kernels/data/shuffle_dataset_op.cc:422] ShuffleDatasetV3:35: Filling up shuffle buffer (this may take a while): 1900 of 2000\n"
          ]
        },
        {
          "name": "stdout",
          "output_type": "stream",
          "text": [
            "224/250 [=========================>....] - ETA: 10s - loss: 6.2621 - root_mean_squared_error: 2.5024"
          ]
        },
        {
          "name": "stderr",
          "output_type": "stream",
          "text": [
            "2023-12-08 20:35:44.462761: I tensorflow/core/kernels/data/shuffle_dataset_op.cc:452] Shuffle buffer filled.\n"
          ]
        },
        {
          "name": "stdout",
          "output_type": "stream",
          "text": [
            "250/250 [==============================] - ETA: 0s - loss: 6.2978 - root_mean_squared_error: 2.5095"
          ]
        },
        {
          "name": "stderr",
          "output_type": "stream",
          "text": [
            "2023-12-08 20:35:56.854129: I tensorflow/core/kernels/data/shuffle_dataset_op.cc:422] ShuffleDatasetV3:35: Filling up shuffle buffer (this may take a while): 1847 of 2000\n",
            "2023-12-08 20:35:57.731509: I tensorflow/core/kernels/data/shuffle_dataset_op.cc:452] Shuffle buffer filled.\n"
          ]
        },
        {
          "name": "stdout",
          "output_type": "stream",
          "text": [
            "250/250 [==============================] - 149s 598ms/step - loss: 6.2978 - root_mean_squared_error: 2.5095 - val_loss: 4.3851 - val_root_mean_squared_error: 2.0941\n",
            "Epoch 35/50\n",
            " 36/250 [===>..........................] - ETA: 1:26 - loss: 6.6357 - root_mean_squared_error: 2.5760"
          ]
        },
        {
          "name": "stderr",
          "output_type": "stream",
          "text": [
            "2023-12-08 20:36:58.352124: I tensorflow/core/kernels/data/shuffle_dataset_op.cc:422] ShuffleDatasetV3:35: Filling up shuffle buffer (this may take a while): 1910 of 2000\n"
          ]
        },
        {
          "name": "stdout",
          "output_type": "stream",
          "text": [
            " 37/250 [===>..........................] - ETA: 1:26 - loss: 6.5489 - root_mean_squared_error: 2.5591"
          ]
        },
        {
          "name": "stderr",
          "output_type": "stream",
          "text": [
            "2023-12-08 20:36:58.816697: I tensorflow/core/kernels/data/shuffle_dataset_op.cc:452] Shuffle buffer filled.\n"
          ]
        },
        {
          "name": "stdout",
          "output_type": "stream",
          "text": [
            " 68/250 [=======>......................] - ETA: 1:13 - loss: 6.5020 - root_mean_squared_error: 2.5499"
          ]
        },
        {
          "name": "stderr",
          "output_type": "stream",
          "text": [
            "2023-12-08 20:37:11.216452: I tensorflow/core/kernels/data/shuffle_dataset_op.cc:422] ShuffleDatasetV3:35: Filling up shuffle buffer (this may take a while): 1876 of 2000\n"
          ]
        },
        {
          "name": "stdout",
          "output_type": "stream",
          "text": [
            " 70/250 [=======>......................] - ETA: 1:12 - loss: 6.4279 - root_mean_squared_error: 2.5353"
          ]
        },
        {
          "name": "stderr",
          "output_type": "stream",
          "text": [
            "2023-12-08 20:37:11.858687: I tensorflow/core/kernels/data/shuffle_dataset_op.cc:452] Shuffle buffer filled.\n"
          ]
        },
        {
          "name": "stdout",
          "output_type": "stream",
          "text": [
            "100/250 [===========>..................] - ETA: 1:00 - loss: 6.3443 - root_mean_squared_error: 2.5188"
          ]
        },
        {
          "name": "stderr",
          "output_type": "stream",
          "text": [
            "2023-12-08 20:37:24.158585: I tensorflow/core/kernels/data/shuffle_dataset_op.cc:422] ShuffleDatasetV3:35: Filling up shuffle buffer (this may take a while): 1902 of 2000\n"
          ]
        },
        {
          "name": "stdout",
          "output_type": "stream",
          "text": [
            "102/250 [===========>..................] - ETA: 59s - loss: 6.2909 - root_mean_squared_error: 2.5082 "
          ]
        },
        {
          "name": "stderr",
          "output_type": "stream",
          "text": [
            "2023-12-08 20:37:24.667545: I tensorflow/core/kernels/data/shuffle_dataset_op.cc:452] Shuffle buffer filled.\n"
          ]
        },
        {
          "name": "stdout",
          "output_type": "stream",
          "text": [
            "132/250 [==============>...............] - ETA: 47s - loss: 6.2554 - root_mean_squared_error: 2.5011"
          ]
        },
        {
          "name": "stderr",
          "output_type": "stream",
          "text": [
            "2023-12-08 20:37:37.027299: I tensorflow/core/kernels/data/shuffle_dataset_op.cc:422] ShuffleDatasetV3:35: Filling up shuffle buffer (this may take a while): 1906 of 2000\n"
          ]
        },
        {
          "name": "stdout",
          "output_type": "stream",
          "text": [
            "134/250 [===============>..............] - ETA: 46s - loss: 6.3112 - root_mean_squared_error: 2.5122"
          ]
        },
        {
          "name": "stderr",
          "output_type": "stream",
          "text": [
            "2023-12-08 20:37:37.517279: I tensorflow/core/kernels/data/shuffle_dataset_op.cc:452] Shuffle buffer filled.\n"
          ]
        },
        {
          "name": "stdout",
          "output_type": "stream",
          "text": [
            "164/250 [==================>...........] - ETA: 34s - loss: 6.3801 - root_mean_squared_error: 2.5259"
          ]
        },
        {
          "name": "stderr",
          "output_type": "stream",
          "text": [
            "2023-12-08 20:37:49.903431: I tensorflow/core/kernels/data/shuffle_dataset_op.cc:422] ShuffleDatasetV3:35: Filling up shuffle buffer (this may take a while): 1862 of 2000\n"
          ]
        },
        {
          "name": "stdout",
          "output_type": "stream",
          "text": [
            "166/250 [==================>...........] - ETA: 33s - loss: 6.3368 - root_mean_squared_error: 2.5173"
          ]
        },
        {
          "name": "stderr",
          "output_type": "stream",
          "text": [
            "2023-12-08 20:37:50.614226: I tensorflow/core/kernels/data/shuffle_dataset_op.cc:452] Shuffle buffer filled.\n"
          ]
        },
        {
          "name": "stdout",
          "output_type": "stream",
          "text": [
            "196/250 [======================>.......] - ETA: 21s - loss: 6.3167 - root_mean_squared_error: 2.5133"
          ]
        },
        {
          "name": "stderr",
          "output_type": "stream",
          "text": [
            "2023-12-08 20:38:02.839321: I tensorflow/core/kernels/data/shuffle_dataset_op.cc:422] ShuffleDatasetV3:35: Filling up shuffle buffer (this may take a while): 1914 of 2000\n"
          ]
        },
        {
          "name": "stdout",
          "output_type": "stream",
          "text": [
            "197/250 [======================>.......] - ETA: 21s - loss: 6.3030 - root_mean_squared_error: 2.5106"
          ]
        },
        {
          "name": "stderr",
          "output_type": "stream",
          "text": [
            "2023-12-08 20:38:03.279085: I tensorflow/core/kernels/data/shuffle_dataset_op.cc:452] Shuffle buffer filled.\n"
          ]
        },
        {
          "name": "stdout",
          "output_type": "stream",
          "text": [
            "228/250 [==========================>...] - ETA: 8s - loss: 6.3690 - root_mean_squared_error: 2.5237"
          ]
        },
        {
          "name": "stderr",
          "output_type": "stream",
          "text": [
            "2023-12-08 20:38:15.773396: I tensorflow/core/kernels/data/shuffle_dataset_op.cc:422] ShuffleDatasetV3:35: Filling up shuffle buffer (this may take a while): 1920 of 2000\n"
          ]
        },
        {
          "name": "stdout",
          "output_type": "stream",
          "text": [
            "229/250 [==========================>...] - ETA: 8s - loss: 6.3480 - root_mean_squared_error: 2.5195"
          ]
        },
        {
          "name": "stderr",
          "output_type": "stream",
          "text": [
            "2023-12-08 20:38:16.191179: I tensorflow/core/kernels/data/shuffle_dataset_op.cc:452] Shuffle buffer filled.\n"
          ]
        },
        {
          "name": "stdout",
          "output_type": "stream",
          "text": [
            "250/250 [==============================] - ETA: 0s - loss: 6.3498 - root_mean_squared_error: 2.5199"
          ]
        },
        {
          "name": "stderr",
          "output_type": "stream",
          "text": [
            "2023-12-08 20:38:28.669010: I tensorflow/core/kernels/data/shuffle_dataset_op.cc:422] ShuffleDatasetV3:35: Filling up shuffle buffer (this may take a while): 1831 of 2000\n",
            "2023-12-08 20:38:29.652123: I tensorflow/core/kernels/data/shuffle_dataset_op.cc:452] Shuffle buffer filled.\n"
          ]
        },
        {
          "name": "stdout",
          "output_type": "stream",
          "text": [
            "250/250 [==============================] - 149s 597ms/step - loss: 6.3498 - root_mean_squared_error: 2.5199 - val_loss: 4.3835 - val_root_mean_squared_error: 2.0937\n",
            "Epoch 36/50\n",
            " 42/250 [====>.........................] - ETA: 1:24 - loss: 6.1212 - root_mean_squared_error: 2.4741"
          ]
        },
        {
          "name": "stderr",
          "output_type": "stream",
          "text": [
            "2023-12-08 20:39:29.910544: I tensorflow/core/kernels/data/shuffle_dataset_op.cc:422] ShuffleDatasetV3:35: Filling up shuffle buffer (this may take a while): 1913 of 2000\n"
          ]
        },
        {
          "name": "stdout",
          "output_type": "stream",
          "text": [
            " 43/250 [====>.........................] - ETA: 1:23 - loss: 6.0864 - root_mean_squared_error: 2.4671"
          ]
        },
        {
          "name": "stderr",
          "output_type": "stream",
          "text": [
            "2023-12-08 20:39:30.363993: I tensorflow/core/kernels/data/shuffle_dataset_op.cc:452] Shuffle buffer filled.\n"
          ]
        },
        {
          "name": "stdout",
          "output_type": "stream",
          "text": [
            " 74/250 [=======>......................] - ETA: 1:11 - loss: 6.2796 - root_mean_squared_error: 2.5059"
          ]
        },
        {
          "name": "stderr",
          "output_type": "stream",
          "text": [
            "2023-12-08 20:39:42.771085: I tensorflow/core/kernels/data/shuffle_dataset_op.cc:422] ShuffleDatasetV3:35: Filling up shuffle buffer (this may take a while): 1931 of 2000\n"
          ]
        },
        {
          "name": "stdout",
          "output_type": "stream",
          "text": [
            " 75/250 [========>.....................] - ETA: 1:10 - loss: 6.3436 - root_mean_squared_error: 2.5186"
          ]
        },
        {
          "name": "stderr",
          "output_type": "stream",
          "text": [
            "2023-12-08 20:39:43.127982: I tensorflow/core/kernels/data/shuffle_dataset_op.cc:452] Shuffle buffer filled.\n"
          ]
        },
        {
          "name": "stdout",
          "output_type": "stream",
          "text": [
            "106/250 [===========>..................] - ETA: 58s - loss: 6.2141 - root_mean_squared_error: 2.4928"
          ]
        },
        {
          "name": "stderr",
          "output_type": "stream",
          "text": [
            "2023-12-08 20:39:55.664904: I tensorflow/core/kernels/data/shuffle_dataset_op.cc:422] ShuffleDatasetV3:35: Filling up shuffle buffer (this may take a while): 1911 of 2000\n"
          ]
        },
        {
          "name": "stdout",
          "output_type": "stream",
          "text": [
            "107/250 [===========>..................] - ETA: 57s - loss: 6.1961 - root_mean_squared_error: 2.4892"
          ]
        },
        {
          "name": "stderr",
          "output_type": "stream",
          "text": [
            "2023-12-08 20:39:56.125233: I tensorflow/core/kernels/data/shuffle_dataset_op.cc:452] Shuffle buffer filled.\n"
          ]
        },
        {
          "name": "stdout",
          "output_type": "stream",
          "text": [
            "138/250 [===============>..............] - ETA: 45s - loss: 6.1903 - root_mean_squared_error: 2.4880"
          ]
        },
        {
          "name": "stderr",
          "output_type": "stream",
          "text": [
            "2023-12-08 20:40:08.584064: I tensorflow/core/kernels/data/shuffle_dataset_op.cc:422] ShuffleDatasetV3:35: Filling up shuffle buffer (this may take a while): 1920 of 2000\n"
          ]
        },
        {
          "name": "stdout",
          "output_type": "stream",
          "text": [
            "139/250 [===============>..............] - ETA: 44s - loss: 6.1774 - root_mean_squared_error: 2.4854"
          ]
        },
        {
          "name": "stderr",
          "output_type": "stream",
          "text": [
            "2023-12-08 20:40:09.001725: I tensorflow/core/kernels/data/shuffle_dataset_op.cc:452] Shuffle buffer filled.\n"
          ]
        },
        {
          "name": "stdout",
          "output_type": "stream",
          "text": [
            "170/250 [===================>..........] - ETA: 32s - loss: 6.2036 - root_mean_squared_error: 2.4907"
          ]
        },
        {
          "name": "stderr",
          "output_type": "stream",
          "text": [
            "2023-12-08 20:40:21.470771: I tensorflow/core/kernels/data/shuffle_dataset_op.cc:422] ShuffleDatasetV3:35: Filling up shuffle buffer (this may take a while): 1931 of 2000\n"
          ]
        },
        {
          "name": "stdout",
          "output_type": "stream",
          "text": [
            "171/250 [===================>..........] - ETA: 31s - loss: 6.1984 - root_mean_squared_error: 2.4897"
          ]
        },
        {
          "name": "stderr",
          "output_type": "stream",
          "text": [
            "2023-12-08 20:40:21.826706: I tensorflow/core/kernels/data/shuffle_dataset_op.cc:452] Shuffle buffer filled.\n"
          ]
        },
        {
          "name": "stdout",
          "output_type": "stream",
          "text": [
            "202/250 [=======================>......] - ETA: 19s - loss: 6.3438 - root_mean_squared_error: 2.5187"
          ]
        },
        {
          "name": "stderr",
          "output_type": "stream",
          "text": [
            "2023-12-08 20:40:34.370414: I tensorflow/core/kernels/data/shuffle_dataset_op.cc:422] ShuffleDatasetV3:35: Filling up shuffle buffer (this may take a while): 1926 of 2000\n"
          ]
        },
        {
          "name": "stdout",
          "output_type": "stream",
          "text": [
            "203/250 [=======================>......] - ETA: 18s - loss: 6.3312 - root_mean_squared_error: 2.5162"
          ]
        },
        {
          "name": "stderr",
          "output_type": "stream",
          "text": [
            "2023-12-08 20:40:34.756683: I tensorflow/core/kernels/data/shuffle_dataset_op.cc:452] Shuffle buffer filled.\n"
          ]
        },
        {
          "name": "stdout",
          "output_type": "stream",
          "text": [
            "234/250 [===========================>..] - ETA: 6s - loss: 6.3003 - root_mean_squared_error: 2.5100"
          ]
        },
        {
          "name": "stderr",
          "output_type": "stream",
          "text": [
            "2023-12-08 20:40:47.269101: I tensorflow/core/kernels/data/shuffle_dataset_op.cc:422] ShuffleDatasetV3:35: Filling up shuffle buffer (this may take a while): 1913 of 2000\n"
          ]
        },
        {
          "name": "stdout",
          "output_type": "stream",
          "text": [
            "235/250 [===========================>..] - ETA: 6s - loss: 6.3219 - root_mean_squared_error: 2.5143"
          ]
        },
        {
          "name": "stderr",
          "output_type": "stream",
          "text": [
            "2023-12-08 20:40:47.721634: I tensorflow/core/kernels/data/shuffle_dataset_op.cc:452] Shuffle buffer filled.\n"
          ]
        },
        {
          "name": "stdout",
          "output_type": "stream",
          "text": [
            "250/250 [==============================] - ETA: 0s - loss: 6.2897 - root_mean_squared_error: 2.5079"
          ]
        },
        {
          "name": "stderr",
          "output_type": "stream",
          "text": [
            "2023-12-08 20:41:00.192192: I tensorflow/core/kernels/data/shuffle_dataset_op.cc:422] ShuffleDatasetV3:35: Filling up shuffle buffer (this may take a while): 1782 of 2000\n",
            "2023-12-08 20:41:01.401800: I tensorflow/core/kernels/data/shuffle_dataset_op.cc:452] Shuffle buffer filled.\n"
          ]
        },
        {
          "name": "stdout",
          "output_type": "stream",
          "text": [
            "250/250 [==============================] - 150s 600ms/step - loss: 6.2897 - root_mean_squared_error: 2.5079 - val_loss: 4.3833 - val_root_mean_squared_error: 2.0936\n",
            "Epoch 37/50\n",
            " 48/250 [====>.........................] - ETA: 1:22 - loss: 6.6114 - root_mean_squared_error: 2.5713"
          ]
        },
        {
          "name": "stderr",
          "output_type": "stream",
          "text": [
            "2023-12-08 20:42:02.307273: I tensorflow/core/kernels/data/shuffle_dataset_op.cc:422] ShuffleDatasetV3:35: Filling up shuffle buffer (this may take a while): 1928 of 2000\n"
          ]
        },
        {
          "name": "stdout",
          "output_type": "stream",
          "text": [
            " 49/250 [====>.........................] - ETA: 1:21 - loss: 6.5126 - root_mean_squared_error: 2.5520"
          ]
        },
        {
          "name": "stderr",
          "output_type": "stream",
          "text": [
            "2023-12-08 20:42:02.676230: I tensorflow/core/kernels/data/shuffle_dataset_op.cc:452] Shuffle buffer filled.\n"
          ]
        },
        {
          "name": "stdout",
          "output_type": "stream",
          "text": [
            " 80/250 [========>.....................] - ETA: 1:08 - loss: 6.3071 - root_mean_squared_error: 2.5114"
          ]
        },
        {
          "name": "stderr",
          "output_type": "stream",
          "text": [
            "2023-12-08 20:42:15.163320: I tensorflow/core/kernels/data/shuffle_dataset_op.cc:422] ShuffleDatasetV3:35: Filling up shuffle buffer (this may take a while): 1877 of 2000\n"
          ]
        },
        {
          "name": "stdout",
          "output_type": "stream",
          "text": [
            " 82/250 [========>.....................] - ETA: 1:07 - loss: 6.3051 - root_mean_squared_error: 2.5110"
          ]
        },
        {
          "name": "stderr",
          "output_type": "stream",
          "text": [
            "2023-12-08 20:42:15.807472: I tensorflow/core/kernels/data/shuffle_dataset_op.cc:452] Shuffle buffer filled.\n"
          ]
        },
        {
          "name": "stdout",
          "output_type": "stream",
          "text": [
            "112/250 [============>.................] - ETA: 55s - loss: 6.3786 - root_mean_squared_error: 2.5256"
          ]
        },
        {
          "name": "stderr",
          "output_type": "stream",
          "text": [
            "2023-12-08 20:42:28.054868: I tensorflow/core/kernels/data/shuffle_dataset_op.cc:422] ShuffleDatasetV3:35: Filling up shuffle buffer (this may take a while): 1915 of 2000\n"
          ]
        },
        {
          "name": "stdout",
          "output_type": "stream",
          "text": [
            "113/250 [============>.................] - ETA: 55s - loss: 6.4718 - root_mean_squared_error: 2.5440"
          ]
        },
        {
          "name": "stderr",
          "output_type": "stream",
          "text": [
            "2023-12-08 20:42:28.498747: I tensorflow/core/kernels/data/shuffle_dataset_op.cc:452] Shuffle buffer filled.\n"
          ]
        },
        {
          "name": "stdout",
          "output_type": "stream",
          "text": [
            "144/250 [================>.............] - ETA: 42s - loss: 6.3620 - root_mean_squared_error: 2.5223"
          ]
        },
        {
          "name": "stderr",
          "output_type": "stream",
          "text": [
            "2023-12-08 20:42:40.956619: I tensorflow/core/kernels/data/shuffle_dataset_op.cc:422] ShuffleDatasetV3:35: Filling up shuffle buffer (this may take a while): 1912 of 2000\n"
          ]
        },
        {
          "name": "stdout",
          "output_type": "stream",
          "text": [
            "145/250 [================>.............] - ETA: 42s - loss: 6.3364 - root_mean_squared_error: 2.5172"
          ]
        },
        {
          "name": "stderr",
          "output_type": "stream",
          "text": [
            "2023-12-08 20:42:41.415386: I tensorflow/core/kernels/data/shuffle_dataset_op.cc:452] Shuffle buffer filled.\n"
          ]
        },
        {
          "name": "stdout",
          "output_type": "stream",
          "text": [
            "176/250 [====================>.........] - ETA: 29s - loss: 6.3603 - root_mean_squared_error: 2.5220"
          ]
        },
        {
          "name": "stderr",
          "output_type": "stream",
          "text": [
            "2023-12-08 20:42:53.845601: I tensorflow/core/kernels/data/shuffle_dataset_op.cc:422] ShuffleDatasetV3:35: Filling up shuffle buffer (this may take a while): 1904 of 2000\n"
          ]
        },
        {
          "name": "stdout",
          "output_type": "stream",
          "text": [
            "177/250 [====================>.........] - ETA: 29s - loss: 6.3523 - root_mean_squared_error: 2.5204"
          ]
        },
        {
          "name": "stderr",
          "output_type": "stream",
          "text": [
            "2023-12-08 20:42:54.340444: I tensorflow/core/kernels/data/shuffle_dataset_op.cc:452] Shuffle buffer filled.\n"
          ]
        },
        {
          "name": "stdout",
          "output_type": "stream",
          "text": [
            "208/250 [=======================>......] - ETA: 16s - loss: 6.3505 - root_mean_squared_error: 2.5200"
          ]
        },
        {
          "name": "stderr",
          "output_type": "stream",
          "text": [
            "2023-12-08 20:43:06.764138: I tensorflow/core/kernels/data/shuffle_dataset_op.cc:422] ShuffleDatasetV3:35: Filling up shuffle buffer (this may take a while): 1925 of 2000\n"
          ]
        },
        {
          "name": "stdout",
          "output_type": "stream",
          "text": [
            "209/250 [========================>.....] - ETA: 16s - loss: 6.3499 - root_mean_squared_error: 2.5199"
          ]
        },
        {
          "name": "stderr",
          "output_type": "stream",
          "text": [
            "2023-12-08 20:43:07.152631: I tensorflow/core/kernels/data/shuffle_dataset_op.cc:452] Shuffle buffer filled.\n"
          ]
        },
        {
          "name": "stdout",
          "output_type": "stream",
          "text": [
            "240/250 [===========================>..] - ETA: 4s - loss: 6.3504 - root_mean_squared_error: 2.5200"
          ]
        },
        {
          "name": "stderr",
          "output_type": "stream",
          "text": [
            "2023-12-08 20:43:19.662508: I tensorflow/core/kernels/data/shuffle_dataset_op.cc:422] ShuffleDatasetV3:35: Filling up shuffle buffer (this may take a while): 1917 of 2000\n"
          ]
        },
        {
          "name": "stdout",
          "output_type": "stream",
          "text": [
            "241/250 [===========================>..] - ETA: 3s - loss: 6.3336 - root_mean_squared_error: 2.5167"
          ]
        },
        {
          "name": "stderr",
          "output_type": "stream",
          "text": [
            "2023-12-08 20:43:20.094429: I tensorflow/core/kernels/data/shuffle_dataset_op.cc:452] Shuffle buffer filled.\n"
          ]
        },
        {
          "name": "stdout",
          "output_type": "stream",
          "text": [
            "250/250 [==============================] - ETA: 0s - loss: 6.3533 - root_mean_squared_error: 2.5206"
          ]
        },
        {
          "name": "stderr",
          "output_type": "stream",
          "text": [
            "2023-12-08 20:43:32.569118: I tensorflow/core/kernels/data/shuffle_dataset_op.cc:422] ShuffleDatasetV3:35: Filling up shuffle buffer (this may take a while): 1750 of 2000\n",
            "2023-12-08 20:43:34.005457: I tensorflow/core/kernels/data/shuffle_dataset_op.cc:452] Shuffle buffer filled.\n"
          ]
        },
        {
          "name": "stdout",
          "output_type": "stream",
          "text": [
            "250/250 [==============================] - 150s 600ms/step - loss: 6.3533 - root_mean_squared_error: 2.5206 - val_loss: 4.3837 - val_root_mean_squared_error: 2.0937\n",
            "Epoch 38/50\n",
            " 54/250 [=====>........................] - ETA: 1:19 - loss: 6.4515 - root_mean_squared_error: 2.5400"
          ]
        },
        {
          "name": "stderr",
          "output_type": "stream",
          "text": [
            "2023-12-08 20:44:34.597968: I tensorflow/core/kernels/data/shuffle_dataset_op.cc:422] ShuffleDatasetV3:35: Filling up shuffle buffer (this may take a while): 1930 of 2000\n"
          ]
        },
        {
          "name": "stdout",
          "output_type": "stream",
          "text": [
            " 55/250 [=====>........................] - ETA: 1:19 - loss: 6.3938 - root_mean_squared_error: 2.5286"
          ]
        },
        {
          "name": "stderr",
          "output_type": "stream",
          "text": [
            "2023-12-08 20:44:34.958479: I tensorflow/core/kernels/data/shuffle_dataset_op.cc:452] Shuffle buffer filled.\n"
          ]
        },
        {
          "name": "stdout",
          "output_type": "stream",
          "text": [
            " 86/250 [=========>....................] - ETA: 1:06 - loss: 6.4131 - root_mean_squared_error: 2.5324"
          ]
        },
        {
          "name": "stderr",
          "output_type": "stream",
          "text": [
            "2023-12-08 20:44:47.465872: I tensorflow/core/kernels/data/shuffle_dataset_op.cc:422] ShuffleDatasetV3:35: Filling up shuffle buffer (this may take a while): 1910 of 2000\n"
          ]
        },
        {
          "name": "stdout",
          "output_type": "stream",
          "text": [
            " 87/250 [=========>....................] - ETA: 1:06 - loss: 6.3837 - root_mean_squared_error: 2.5266"
          ]
        },
        {
          "name": "stderr",
          "output_type": "stream",
          "text": [
            "2023-12-08 20:44:47.935749: I tensorflow/core/kernels/data/shuffle_dataset_op.cc:452] Shuffle buffer filled.\n"
          ]
        },
        {
          "name": "stdout",
          "output_type": "stream",
          "text": [
            "118/250 [=============>................] - ETA: 53s - loss: 6.2270 - root_mean_squared_error: 2.4954"
          ]
        },
        {
          "name": "stderr",
          "output_type": "stream",
          "text": [
            "2023-12-08 20:45:00.338908: I tensorflow/core/kernels/data/shuffle_dataset_op.cc:422] ShuffleDatasetV3:35: Filling up shuffle buffer (this may take a while): 1916 of 2000\n"
          ]
        },
        {
          "name": "stdout",
          "output_type": "stream",
          "text": [
            "119/250 [=============>................] - ETA: 52s - loss: 6.1969 - root_mean_squared_error: 2.4894"
          ]
        },
        {
          "name": "stderr",
          "output_type": "stream",
          "text": [
            "2023-12-08 20:45:00.778487: I tensorflow/core/kernels/data/shuffle_dataset_op.cc:452] Shuffle buffer filled.\n"
          ]
        },
        {
          "name": "stdout",
          "output_type": "stream",
          "text": [
            "150/250 [=================>............] - ETA: 40s - loss: 6.3312 - root_mean_squared_error: 2.5162"
          ]
        },
        {
          "name": "stderr",
          "output_type": "stream",
          "text": [
            "2023-12-08 20:45:13.214887: I tensorflow/core/kernels/data/shuffle_dataset_op.cc:422] ShuffleDatasetV3:35: Filling up shuffle buffer (this may take a while): 1897 of 2000\n"
          ]
        },
        {
          "name": "stdout",
          "output_type": "stream",
          "text": [
            "152/250 [=================>............] - ETA: 39s - loss: 6.3045 - root_mean_squared_error: 2.5109"
          ]
        },
        {
          "name": "stderr",
          "output_type": "stream",
          "text": [
            "2023-12-08 20:45:13.752196: I tensorflow/core/kernels/data/shuffle_dataset_op.cc:452] Shuffle buffer filled.\n"
          ]
        },
        {
          "name": "stdout",
          "output_type": "stream",
          "text": [
            "182/250 [====================>.........] - ETA: 27s - loss: 6.3084 - root_mean_squared_error: 2.5117"
          ]
        },
        {
          "name": "stderr",
          "output_type": "stream",
          "text": [
            "2023-12-08 20:45:26.091984: I tensorflow/core/kernels/data/shuffle_dataset_op.cc:422] ShuffleDatasetV3:35: Filling up shuffle buffer (this may take a while): 1913 of 2000\n"
          ]
        },
        {
          "name": "stdout",
          "output_type": "stream",
          "text": [
            "183/250 [====================>.........] - ETA: 27s - loss: 6.3044 - root_mean_squared_error: 2.5108"
          ]
        },
        {
          "name": "stderr",
          "output_type": "stream",
          "text": [
            "2023-12-08 20:45:26.543571: I tensorflow/core/kernels/data/shuffle_dataset_op.cc:452] Shuffle buffer filled.\n"
          ]
        },
        {
          "name": "stdout",
          "output_type": "stream",
          "text": [
            "214/250 [========================>.....] - ETA: 14s - loss: 6.2972 - root_mean_squared_error: 2.5094"
          ]
        },
        {
          "name": "stderr",
          "output_type": "stream",
          "text": [
            "2023-12-08 20:45:38.975903: I tensorflow/core/kernels/data/shuffle_dataset_op.cc:422] ShuffleDatasetV3:35: Filling up shuffle buffer (this may take a while): 1896 of 2000\n"
          ]
        },
        {
          "name": "stdout",
          "output_type": "stream",
          "text": [
            "216/250 [========================>.....] - ETA: 13s - loss: 6.2736 - root_mean_squared_error: 2.5047"
          ]
        },
        {
          "name": "stderr",
          "output_type": "stream",
          "text": [
            "2023-12-08 20:45:39.521842: I tensorflow/core/kernels/data/shuffle_dataset_op.cc:452] Shuffle buffer filled.\n"
          ]
        },
        {
          "name": "stdout",
          "output_type": "stream",
          "text": [
            "246/250 [============================>.] - ETA: 1s - loss: 6.3439 - root_mean_squared_error: 2.5187"
          ]
        },
        {
          "name": "stderr",
          "output_type": "stream",
          "text": [
            "2023-12-08 20:45:51.869572: I tensorflow/core/kernels/data/shuffle_dataset_op.cc:422] ShuffleDatasetV3:35: Filling up shuffle buffer (this may take a while): 1897 of 2000\n"
          ]
        },
        {
          "name": "stdout",
          "output_type": "stream",
          "text": [
            "248/250 [============================>.] - ETA: 0s - loss: 6.3368 - root_mean_squared_error: 2.5173"
          ]
        },
        {
          "name": "stderr",
          "output_type": "stream",
          "text": [
            "2023-12-08 20:45:52.404726: I tensorflow/core/kernels/data/shuffle_dataset_op.cc:452] Shuffle buffer filled.\n"
          ]
        },
        {
          "name": "stdout",
          "output_type": "stream",
          "text": [
            "250/250 [==============================] - 149s 599ms/step - loss: 6.3150 - root_mean_squared_error: 2.5130 - val_loss: 4.3847 - val_root_mean_squared_error: 2.0940\n",
            "Epoch 39/50\n",
            " 28/250 [==>...........................] - ETA: 1:28 - loss: 6.5898 - root_mean_squared_error: 2.5671"
          ]
        },
        {
          "name": "stderr",
          "output_type": "stream",
          "text": [
            "2023-12-08 20:46:53.343164: I tensorflow/core/kernels/data/shuffle_dataset_op.cc:422] ShuffleDatasetV3:35: Filling up shuffle buffer (this may take a while): 1932 of 2000\n"
          ]
        },
        {
          "name": "stdout",
          "output_type": "stream",
          "text": [
            " 29/250 [==>...........................] - ETA: 1:28 - loss: 6.4364 - root_mean_squared_error: 2.5370"
          ]
        },
        {
          "name": "stderr",
          "output_type": "stream",
          "text": [
            "2023-12-08 20:46:53.695426: I tensorflow/core/kernels/data/shuffle_dataset_op.cc:452] Shuffle buffer filled.\n"
          ]
        },
        {
          "name": "stdout",
          "output_type": "stream",
          "text": [
            " 60/250 [======>.......................] - ETA: 1:16 - loss: 6.2985 - root_mean_squared_error: 2.5097"
          ]
        },
        {
          "name": "stderr",
          "output_type": "stream",
          "text": [
            "2023-12-08 20:47:06.203015: I tensorflow/core/kernels/data/shuffle_dataset_op.cc:422] ShuffleDatasetV3:35: Filling up shuffle buffer (this may take a while): 1929 of 2000\n"
          ]
        },
        {
          "name": "stdout",
          "output_type": "stream",
          "text": [
            " 61/250 [======>.......................] - ETA: 1:15 - loss: 6.3327 - root_mean_squared_error: 2.5165"
          ]
        },
        {
          "name": "stderr",
          "output_type": "stream",
          "text": [
            "2023-12-08 20:47:06.570287: I tensorflow/core/kernels/data/shuffle_dataset_op.cc:452] Shuffle buffer filled.\n"
          ]
        },
        {
          "name": "stdout",
          "output_type": "stream",
          "text": [
            " 92/250 [==========>...................] - ETA: 1:03 - loss: 6.1825 - root_mean_squared_error: 2.4865"
          ]
        },
        {
          "name": "stderr",
          "output_type": "stream",
          "text": [
            "2023-12-08 20:47:19.081419: I tensorflow/core/kernels/data/shuffle_dataset_op.cc:422] ShuffleDatasetV3:35: Filling up shuffle buffer (this may take a while): 1927 of 2000\n"
          ]
        },
        {
          "name": "stdout",
          "output_type": "stream",
          "text": [
            " 93/250 [==========>...................] - ETA: 1:03 - loss: 6.1355 - root_mean_squared_error: 2.4770"
          ]
        },
        {
          "name": "stderr",
          "output_type": "stream",
          "text": [
            "2023-12-08 20:47:19.456371: I tensorflow/core/kernels/data/shuffle_dataset_op.cc:452] Shuffle buffer filled.\n"
          ]
        },
        {
          "name": "stdout",
          "output_type": "stream",
          "text": [
            "124/250 [=============>................] - ETA: 50s - loss: 6.3187 - root_mean_squared_error: 2.5137"
          ]
        },
        {
          "name": "stderr",
          "output_type": "stream",
          "text": [
            "2023-12-08 20:47:31.959384: I tensorflow/core/kernels/data/shuffle_dataset_op.cc:422] ShuffleDatasetV3:35: Filling up shuffle buffer (this may take a while): 1933 of 2000\n"
          ]
        },
        {
          "name": "stdout",
          "output_type": "stream",
          "text": [
            "125/250 [==============>...............] - ETA: 50s - loss: 6.3426 - root_mean_squared_error: 2.5185"
          ]
        },
        {
          "name": "stderr",
          "output_type": "stream",
          "text": [
            "2023-12-08 20:47:32.305032: I tensorflow/core/kernels/data/shuffle_dataset_op.cc:452] Shuffle buffer filled.\n"
          ]
        },
        {
          "name": "stdout",
          "output_type": "stream",
          "text": [
            "156/250 [=================>............] - ETA: 37s - loss: 6.3403 - root_mean_squared_error: 2.5180"
          ]
        },
        {
          "name": "stderr",
          "output_type": "stream",
          "text": [
            "2023-12-08 20:47:44.849709: I tensorflow/core/kernels/data/shuffle_dataset_op.cc:422] ShuffleDatasetV3:35: Filling up shuffle buffer (this may take a while): 1902 of 2000\n"
          ]
        },
        {
          "name": "stdout",
          "output_type": "stream",
          "text": [
            "158/250 [=================>............] - ETA: 37s - loss: 6.3552 - root_mean_squared_error: 2.5209"
          ]
        },
        {
          "name": "stderr",
          "output_type": "stream",
          "text": [
            "2023-12-08 20:47:45.393941: I tensorflow/core/kernels/data/shuffle_dataset_op.cc:452] Shuffle buffer filled.\n"
          ]
        },
        {
          "name": "stdout",
          "output_type": "stream",
          "text": [
            "188/250 [=====================>........] - ETA: 24s - loss: 6.2729 - root_mean_squared_error: 2.5046"
          ]
        },
        {
          "name": "stderr",
          "output_type": "stream",
          "text": [
            "2023-12-08 20:47:57.744921: I tensorflow/core/kernels/data/shuffle_dataset_op.cc:422] ShuffleDatasetV3:35: Filling up shuffle buffer (this may take a while): 1926 of 2000\n"
          ]
        },
        {
          "name": "stdout",
          "output_type": "stream",
          "text": [
            "189/250 [=====================>........] - ETA: 24s - loss: 6.2645 - root_mean_squared_error: 2.5029"
          ]
        },
        {
          "name": "stderr",
          "output_type": "stream",
          "text": [
            "2023-12-08 20:47:58.129907: I tensorflow/core/kernels/data/shuffle_dataset_op.cc:452] Shuffle buffer filled.\n"
          ]
        },
        {
          "name": "stdout",
          "output_type": "stream",
          "text": [
            "220/250 [=========================>....] - ETA: 12s - loss: 6.3275 - root_mean_squared_error: 2.5155"
          ]
        },
        {
          "name": "stderr",
          "output_type": "stream",
          "text": [
            "2023-12-08 20:48:10.652707: I tensorflow/core/kernels/data/shuffle_dataset_op.cc:422] ShuffleDatasetV3:35: Filling up shuffle buffer (this may take a while): 1894 of 2000\n"
          ]
        },
        {
          "name": "stdout",
          "output_type": "stream",
          "text": [
            "222/250 [=========================>....] - ETA: 11s - loss: 6.3598 - root_mean_squared_error: 2.5219"
          ]
        },
        {
          "name": "stderr",
          "output_type": "stream",
          "text": [
            "2023-12-08 20:48:11.206690: I tensorflow/core/kernels/data/shuffle_dataset_op.cc:452] Shuffle buffer filled.\n"
          ]
        },
        {
          "name": "stdout",
          "output_type": "stream",
          "text": [
            "250/250 [==============================] - ETA: 0s - loss: 6.3902 - root_mean_squared_error: 2.5279"
          ]
        },
        {
          "name": "stderr",
          "output_type": "stream",
          "text": [
            "2023-12-08 20:48:23.562549: I tensorflow/core/kernels/data/shuffle_dataset_op.cc:422] ShuffleDatasetV3:35: Filling up shuffle buffer (this may take a while): 1898 of 2000\n",
            "2023-12-08 20:48:24.147860: I tensorflow/core/kernels/data/shuffle_dataset_op.cc:452] Shuffle buffer filled.\n"
          ]
        },
        {
          "name": "stdout",
          "output_type": "stream",
          "text": [
            "250/250 [==============================] - 149s 597ms/step - loss: 6.3902 - root_mean_squared_error: 2.5279 - val_loss: 4.3898 - val_root_mean_squared_error: 2.0952\n",
            "Epoch 40/50\n",
            " 34/250 [===>..........................] - ETA: 1:26 - loss: 5.4180 - root_mean_squared_error: 2.3277"
          ]
        },
        {
          "name": "stderr",
          "output_type": "stream",
          "text": [
            "2023-12-08 20:49:24.882366: I tensorflow/core/kernels/data/shuffle_dataset_op.cc:422] ShuffleDatasetV3:35: Filling up shuffle buffer (this may take a while): 1905 of 2000\n"
          ]
        },
        {
          "name": "stdout",
          "output_type": "stream",
          "text": [
            " 36/250 [===>..........................] - ETA: 1:26 - loss: 5.5435 - root_mean_squared_error: 2.3545"
          ]
        },
        {
          "name": "stderr",
          "output_type": "stream",
          "text": [
            "2023-12-08 20:49:25.376582: I tensorflow/core/kernels/data/shuffle_dataset_op.cc:452] Shuffle buffer filled.\n"
          ]
        },
        {
          "name": "stdout",
          "output_type": "stream",
          "text": [
            " 66/250 [======>.......................] - ETA: 1:14 - loss: 6.3268 - root_mean_squared_error: 2.5153"
          ]
        },
        {
          "name": "stderr",
          "output_type": "stream",
          "text": [
            "2023-12-08 20:49:37.746456: I tensorflow/core/kernels/data/shuffle_dataset_op.cc:422] ShuffleDatasetV3:35: Filling up shuffle buffer (this may take a while): 1918 of 2000\n"
          ]
        },
        {
          "name": "stdout",
          "output_type": "stream",
          "text": [
            " 67/250 [=======>......................] - ETA: 1:13 - loss: 6.2859 - root_mean_squared_error: 2.5072"
          ]
        },
        {
          "name": "stderr",
          "output_type": "stream",
          "text": [
            "2023-12-08 20:49:38.170461: I tensorflow/core/kernels/data/shuffle_dataset_op.cc:452] Shuffle buffer filled.\n"
          ]
        },
        {
          "name": "stdout",
          "output_type": "stream",
          "text": [
            " 98/250 [==========>...................] - ETA: 1:01 - loss: 6.2768 - root_mean_squared_error: 2.5053"
          ]
        },
        {
          "name": "stderr",
          "output_type": "stream",
          "text": [
            "2023-12-08 20:49:50.610232: I tensorflow/core/kernels/data/shuffle_dataset_op.cc:422] ShuffleDatasetV3:35: Filling up shuffle buffer (this may take a while): 1919 of 2000\n"
          ]
        },
        {
          "name": "stdout",
          "output_type": "stream",
          "text": [
            " 99/250 [==========>...................] - ETA: 1:00 - loss: 6.2958 - root_mean_squared_error: 2.5091"
          ]
        },
        {
          "name": "stderr",
          "output_type": "stream",
          "text": [
            "2023-12-08 20:49:51.033878: I tensorflow/core/kernels/data/shuffle_dataset_op.cc:452] Shuffle buffer filled.\n"
          ]
        },
        {
          "name": "stdout",
          "output_type": "stream",
          "text": [
            "130/250 [==============>...............] - ETA: 48s - loss: 6.2044 - root_mean_squared_error: 2.4909"
          ]
        },
        {
          "name": "stderr",
          "output_type": "stream",
          "text": [
            "2023-12-08 20:50:03.486306: I tensorflow/core/kernels/data/shuffle_dataset_op.cc:422] ShuffleDatasetV3:35: Filling up shuffle buffer (this may take a while): 1941 of 2000\n"
          ]
        },
        {
          "name": "stdout",
          "output_type": "stream",
          "text": [
            "131/250 [==============>...............] - ETA: 47s - loss: 6.1841 - root_mean_squared_error: 2.4868"
          ]
        },
        {
          "name": "stderr",
          "output_type": "stream",
          "text": [
            "2023-12-08 20:50:03.793249: I tensorflow/core/kernels/data/shuffle_dataset_op.cc:452] Shuffle buffer filled.\n"
          ]
        },
        {
          "name": "stdout",
          "output_type": "stream",
          "text": [
            "162/250 [==================>...........] - ETA: 35s - loss: 6.2820 - root_mean_squared_error: 2.5064"
          ]
        },
        {
          "name": "stderr",
          "output_type": "stream",
          "text": [
            "2023-12-08 20:50:16.364811: I tensorflow/core/kernels/data/shuffle_dataset_op.cc:422] ShuffleDatasetV3:35: Filling up shuffle buffer (this may take a while): 1940 of 2000\n"
          ]
        },
        {
          "name": "stdout",
          "output_type": "stream",
          "text": [
            "163/250 [==================>...........] - ETA: 35s - loss: 6.2476 - root_mean_squared_error: 2.4995"
          ]
        },
        {
          "name": "stderr",
          "output_type": "stream",
          "text": [
            "2023-12-08 20:50:16.674278: I tensorflow/core/kernels/data/shuffle_dataset_op.cc:452] Shuffle buffer filled.\n"
          ]
        },
        {
          "name": "stdout",
          "output_type": "stream",
          "text": [
            "194/250 [======================>.......] - ETA: 22s - loss: 6.2984 - root_mean_squared_error: 2.5097"
          ]
        },
        {
          "name": "stderr",
          "output_type": "stream",
          "text": [
            "2023-12-08 20:50:29.266500: I tensorflow/core/kernels/data/shuffle_dataset_op.cc:422] ShuffleDatasetV3:35: Filling up shuffle buffer (this may take a while): 1918 of 2000\n"
          ]
        },
        {
          "name": "stdout",
          "output_type": "stream",
          "text": [
            "195/250 [======================>.......] - ETA: 22s - loss: 6.2724 - root_mean_squared_error: 2.5045"
          ]
        },
        {
          "name": "stderr",
          "output_type": "stream",
          "text": [
            "2023-12-08 20:50:29.693833: I tensorflow/core/kernels/data/shuffle_dataset_op.cc:452] Shuffle buffer filled.\n"
          ]
        },
        {
          "name": "stdout",
          "output_type": "stream",
          "text": [
            "226/250 [==========================>...] - ETA: 9s - loss: 6.1879 - root_mean_squared_error: 2.4875 "
          ]
        },
        {
          "name": "stderr",
          "output_type": "stream",
          "text": [
            "2023-12-08 20:50:42.151922: I tensorflow/core/kernels/data/shuffle_dataset_op.cc:422] ShuffleDatasetV3:35: Filling up shuffle buffer (this may take a while): 1911 of 2000\n"
          ]
        },
        {
          "name": "stdout",
          "output_type": "stream",
          "text": [
            "227/250 [==========================>...] - ETA: 9s - loss: 6.2100 - root_mean_squared_error: 2.4920"
          ]
        },
        {
          "name": "stderr",
          "output_type": "stream",
          "text": [
            "2023-12-08 20:50:42.615839: I tensorflow/core/kernels/data/shuffle_dataset_op.cc:452] Shuffle buffer filled.\n"
          ]
        },
        {
          "name": "stdout",
          "output_type": "stream",
          "text": [
            "250/250 [==============================] - ETA: 0s - loss: 6.2305 - root_mean_squared_error: 2.4961"
          ]
        },
        {
          "name": "stderr",
          "output_type": "stream",
          "text": [
            "2023-12-08 20:50:55.048157: I tensorflow/core/kernels/data/shuffle_dataset_op.cc:422] ShuffleDatasetV3:35: Filling up shuffle buffer (this may take a while): 1863 of 2000\n",
            "2023-12-08 20:50:55.834750: I tensorflow/core/kernels/data/shuffle_dataset_op.cc:452] Shuffle buffer filled.\n"
          ]
        },
        {
          "name": "stdout",
          "output_type": "stream",
          "text": [
            "250/250 [==============================] - 149s 598ms/step - loss: 6.2305 - root_mean_squared_error: 2.4961 - val_loss: 4.3841 - val_root_mean_squared_error: 2.0938\n",
            "Epoch 41/50\n",
            " 40/250 [===>..........................] - ETA: 1:24 - loss: 6.4299 - root_mean_squared_error: 2.5357"
          ]
        },
        {
          "name": "stderr",
          "output_type": "stream",
          "text": [
            "2023-12-08 20:51:56.580343: I tensorflow/core/kernels/data/shuffle_dataset_op.cc:422] ShuffleDatasetV3:35: Filling up shuffle buffer (this may take a while): 1909 of 2000\n"
          ]
        },
        {
          "name": "stdout",
          "output_type": "stream",
          "text": [
            " 42/250 [====>.........................] - ETA: 1:24 - loss: 6.6377 - root_mean_squared_error: 2.5764"
          ]
        },
        {
          "name": "stderr",
          "output_type": "stream",
          "text": [
            "2023-12-08 20:51:57.056892: I tensorflow/core/kernels/data/shuffle_dataset_op.cc:452] Shuffle buffer filled.\n"
          ]
        },
        {
          "name": "stdout",
          "output_type": "stream",
          "text": [
            " 72/250 [=======>......................] - ETA: 1:11 - loss: 6.5110 - root_mean_squared_error: 2.5517"
          ]
        },
        {
          "name": "stderr",
          "output_type": "stream",
          "text": [
            "2023-12-08 20:52:09.444091: I tensorflow/core/kernels/data/shuffle_dataset_op.cc:422] ShuffleDatasetV3:35: Filling up shuffle buffer (this may take a while): 1930 of 2000\n"
          ]
        },
        {
          "name": "stdout",
          "output_type": "stream",
          "text": [
            " 73/250 [=======>......................] - ETA: 1:11 - loss: 6.5117 - root_mean_squared_error: 2.5518"
          ]
        },
        {
          "name": "stderr",
          "output_type": "stream",
          "text": [
            "2023-12-08 20:52:09.806864: I tensorflow/core/kernels/data/shuffle_dataset_op.cc:452] Shuffle buffer filled.\n"
          ]
        },
        {
          "name": "stdout",
          "output_type": "stream",
          "text": [
            "104/250 [===========>..................] - ETA: 58s - loss: 6.4421 - root_mean_squared_error: 2.5381"
          ]
        },
        {
          "name": "stderr",
          "output_type": "stream",
          "text": [
            "2023-12-08 20:52:22.320845: I tensorflow/core/kernels/data/shuffle_dataset_op.cc:422] ShuffleDatasetV3:35: Filling up shuffle buffer (this may take a while): 1874 of 2000\n"
          ]
        },
        {
          "name": "stdout",
          "output_type": "stream",
          "text": [
            "106/250 [===========>..................] - ETA: 58s - loss: 6.3822 - root_mean_squared_error: 2.5263"
          ]
        },
        {
          "name": "stderr",
          "output_type": "stream",
          "text": [
            "2023-12-08 20:52:22.977858: I tensorflow/core/kernels/data/shuffle_dataset_op.cc:452] Shuffle buffer filled.\n"
          ]
        },
        {
          "name": "stdout",
          "output_type": "stream",
          "text": [
            "136/250 [===============>..............] - ETA: 45s - loss: 6.4398 - root_mean_squared_error: 2.5377"
          ]
        },
        {
          "name": "stderr",
          "output_type": "stream",
          "text": [
            "2023-12-08 20:52:35.257081: I tensorflow/core/kernels/data/shuffle_dataset_op.cc:422] ShuffleDatasetV3:35: Filling up shuffle buffer (this may take a while): 1935 of 2000\n"
          ]
        },
        {
          "name": "stdout",
          "output_type": "stream",
          "text": [
            "137/250 [===============>..............] - ETA: 45s - loss: 6.4247 - root_mean_squared_error: 2.5347"
          ]
        },
        {
          "name": "stderr",
          "output_type": "stream",
          "text": [
            "2023-12-08 20:52:35.593762: I tensorflow/core/kernels/data/shuffle_dataset_op.cc:452] Shuffle buffer filled.\n"
          ]
        },
        {
          "name": "stdout",
          "output_type": "stream",
          "text": [
            "168/250 [===================>..........] - ETA: 33s - loss: 6.3436 - root_mean_squared_error: 2.5186"
          ]
        },
        {
          "name": "stderr",
          "output_type": "stream",
          "text": [
            "2023-12-08 20:52:48.156745: I tensorflow/core/kernels/data/shuffle_dataset_op.cc:422] ShuffleDatasetV3:35: Filling up shuffle buffer (this may take a while): 1902 of 2000\n"
          ]
        },
        {
          "name": "stdout",
          "output_type": "stream",
          "text": [
            "169/250 [===================>..........] - ETA: 32s - loss: 6.3408 - root_mean_squared_error: 2.5181"
          ]
        },
        {
          "name": "stderr",
          "output_type": "stream",
          "text": [
            "2023-12-08 20:52:48.670336: I tensorflow/core/kernels/data/shuffle_dataset_op.cc:452] Shuffle buffer filled.\n"
          ]
        },
        {
          "name": "stdout",
          "output_type": "stream",
          "text": [
            "200/250 [=======================>......] - ETA: 20s - loss: 6.4018 - root_mean_squared_error: 2.5302"
          ]
        },
        {
          "name": "stderr",
          "output_type": "stream",
          "text": [
            "2023-12-08 20:53:01.077306: I tensorflow/core/kernels/data/shuffle_dataset_op.cc:422] ShuffleDatasetV3:35: Filling up shuffle buffer (this may take a while): 1908 of 2000\n"
          ]
        },
        {
          "name": "stdout",
          "output_type": "stream",
          "text": [
            "201/250 [=======================>......] - ETA: 19s - loss: 6.3939 - root_mean_squared_error: 2.5286"
          ]
        },
        {
          "name": "stderr",
          "output_type": "stream",
          "text": [
            "2023-12-08 20:53:01.550134: I tensorflow/core/kernels/data/shuffle_dataset_op.cc:452] Shuffle buffer filled.\n"
          ]
        },
        {
          "name": "stdout",
          "output_type": "stream",
          "text": [
            "232/250 [==========================>...] - ETA: 7s - loss: 6.3122 - root_mean_squared_error: 2.5124"
          ]
        },
        {
          "name": "stderr",
          "output_type": "stream",
          "text": [
            "2023-12-08 20:53:14.033641: I tensorflow/core/kernels/data/shuffle_dataset_op.cc:422] ShuffleDatasetV3:35: Filling up shuffle buffer (this may take a while): 1894 of 2000\n"
          ]
        },
        {
          "name": "stdout",
          "output_type": "stream",
          "text": [
            "234/250 [===========================>..] - ETA: 6s - loss: 6.3115 - root_mean_squared_error: 2.5123"
          ]
        },
        {
          "name": "stderr",
          "output_type": "stream",
          "text": [
            "2023-12-08 20:53:14.587514: I tensorflow/core/kernels/data/shuffle_dataset_op.cc:452] Shuffle buffer filled.\n"
          ]
        },
        {
          "name": "stdout",
          "output_type": "stream",
          "text": [
            "250/250 [==============================] - ETA: 0s - loss: 6.4114 - root_mean_squared_error: 2.5321"
          ]
        },
        {
          "name": "stderr",
          "output_type": "stream",
          "text": [
            "2023-12-08 20:53:26.970649: I tensorflow/core/kernels/data/shuffle_dataset_op.cc:422] ShuffleDatasetV3:35: Filling up shuffle buffer (this may take a while): 1818 of 2000\n",
            "2023-12-08 20:53:28.013536: I tensorflow/core/kernels/data/shuffle_dataset_op.cc:452] Shuffle buffer filled.\n"
          ]
        },
        {
          "name": "stdout",
          "output_type": "stream",
          "text": [
            "250/250 [==============================] - 149s 598ms/step - loss: 6.4114 - root_mean_squared_error: 2.5321 - val_loss: 4.3822 - val_root_mean_squared_error: 2.0934\n",
            "Epoch 42/50\n",
            " 46/250 [====>.........................] - ETA: 1:22 - loss: 6.2353 - root_mean_squared_error: 2.4971"
          ]
        },
        {
          "name": "stderr",
          "output_type": "stream",
          "text": [
            "2023-12-08 20:54:28.342290: I tensorflow/core/kernels/data/shuffle_dataset_op.cc:422] ShuffleDatasetV3:35: Filling up shuffle buffer (this may take a while): 1937 of 2000\n"
          ]
        },
        {
          "name": "stdout",
          "output_type": "stream",
          "text": [
            " 47/250 [====>.........................] - ETA: 1:22 - loss: 6.3026 - root_mean_squared_error: 2.5105"
          ]
        },
        {
          "name": "stderr",
          "output_type": "stream",
          "text": [
            "2023-12-08 20:54:28.669951: I tensorflow/core/kernels/data/shuffle_dataset_op.cc:452] Shuffle buffer filled.\n"
          ]
        },
        {
          "name": "stdout",
          "output_type": "stream",
          "text": [
            " 78/250 [========>.....................] - ETA: 1:09 - loss: 6.1212 - root_mean_squared_error: 2.4741"
          ]
        },
        {
          "name": "stderr",
          "output_type": "stream",
          "text": [
            "2023-12-08 20:54:41.202140: I tensorflow/core/kernels/data/shuffle_dataset_op.cc:422] ShuffleDatasetV3:35: Filling up shuffle buffer (this may take a while): 1949 of 2000\n"
          ]
        },
        {
          "name": "stdout",
          "output_type": "stream",
          "text": [
            " 79/250 [========>.....................] - ETA: 1:09 - loss: 6.1447 - root_mean_squared_error: 2.4789"
          ]
        },
        {
          "name": "stderr",
          "output_type": "stream",
          "text": [
            "2023-12-08 20:54:41.464498: I tensorflow/core/kernels/data/shuffle_dataset_op.cc:452] Shuffle buffer filled.\n"
          ]
        },
        {
          "name": "stdout",
          "output_type": "stream",
          "text": [
            "110/250 [============>.................] - ETA: 56s - loss: 6.2505 - root_mean_squared_error: 2.5001"
          ]
        },
        {
          "name": "stderr",
          "output_type": "stream",
          "text": [
            "2023-12-08 20:54:54.090767: I tensorflow/core/kernels/data/shuffle_dataset_op.cc:422] ShuffleDatasetV3:35: Filling up shuffle buffer (this may take a while): 1942 of 2000\n"
          ]
        },
        {
          "name": "stdout",
          "output_type": "stream",
          "text": [
            "111/250 [============>.................] - ETA: 56s - loss: 6.2778 - root_mean_squared_error: 2.5055"
          ]
        },
        {
          "name": "stderr",
          "output_type": "stream",
          "text": [
            "2023-12-08 20:54:54.393659: I tensorflow/core/kernels/data/shuffle_dataset_op.cc:452] Shuffle buffer filled.\n"
          ]
        },
        {
          "name": "stdout",
          "output_type": "stream",
          "text": [
            "142/250 [================>.............] - ETA: 43s - loss: 6.2220 - root_mean_squared_error: 2.4944"
          ]
        },
        {
          "name": "stderr",
          "output_type": "stream",
          "text": [
            "2023-12-08 20:55:06.962853: I tensorflow/core/kernels/data/shuffle_dataset_op.cc:422] ShuffleDatasetV3:35: Filling up shuffle buffer (this may take a while): 1917 of 2000\n"
          ]
        },
        {
          "name": "stdout",
          "output_type": "stream",
          "text": [
            "143/250 [================>.............] - ETA: 43s - loss: 6.2069 - root_mean_squared_error: 2.4914"
          ]
        },
        {
          "name": "stderr",
          "output_type": "stream",
          "text": [
            "2023-12-08 20:55:07.393795: I tensorflow/core/kernels/data/shuffle_dataset_op.cc:452] Shuffle buffer filled.\n"
          ]
        },
        {
          "name": "stdout",
          "output_type": "stream",
          "text": [
            "174/250 [===================>..........] - ETA: 30s - loss: 6.2630 - root_mean_squared_error: 2.5026"
          ]
        },
        {
          "name": "stderr",
          "output_type": "stream",
          "text": [
            "2023-12-08 20:55:19.848567: I tensorflow/core/kernels/data/shuffle_dataset_op.cc:422] ShuffleDatasetV3:35: Filling up shuffle buffer (this may take a while): 1891 of 2000\n"
          ]
        },
        {
          "name": "stdout",
          "output_type": "stream",
          "text": [
            "176/250 [====================>.........] - ETA: 29s - loss: 6.2273 - root_mean_squared_error: 2.4954"
          ]
        },
        {
          "name": "stderr",
          "output_type": "stream",
          "text": [
            "2023-12-08 20:55:20.412708: I tensorflow/core/kernels/data/shuffle_dataset_op.cc:452] Shuffle buffer filled.\n"
          ]
        },
        {
          "name": "stdout",
          "output_type": "stream",
          "text": [
            "206/250 [=======================>......] - ETA: 17s - loss: 6.2714 - root_mean_squared_error: 2.5043"
          ]
        },
        {
          "name": "stderr",
          "output_type": "stream",
          "text": [
            "2023-12-08 20:55:32.772812: I tensorflow/core/kernels/data/shuffle_dataset_op.cc:422] ShuffleDatasetV3:35: Filling up shuffle buffer (this may take a while): 1904 of 2000\n"
          ]
        },
        {
          "name": "stdout",
          "output_type": "stream",
          "text": [
            "207/250 [=======================>......] - ETA: 17s - loss: 6.2722 - root_mean_squared_error: 2.5044"
          ]
        },
        {
          "name": "stderr",
          "output_type": "stream",
          "text": [
            "2023-12-08 20:55:33.267970: I tensorflow/core/kernels/data/shuffle_dataset_op.cc:452] Shuffle buffer filled.\n"
          ]
        },
        {
          "name": "stdout",
          "output_type": "stream",
          "text": [
            "238/250 [===========================>..] - ETA: 4s - loss: 6.2617 - root_mean_squared_error: 2.5023"
          ]
        },
        {
          "name": "stderr",
          "output_type": "stream",
          "text": [
            "2023-12-08 20:55:45.694414: I tensorflow/core/kernels/data/shuffle_dataset_op.cc:422] ShuffleDatasetV3:35: Filling up shuffle buffer (this may take a while): 1879 of 2000\n"
          ]
        },
        {
          "name": "stdout",
          "output_type": "stream",
          "text": [
            "240/250 [===========================>..] - ETA: 4s - loss: 6.2986 - root_mean_squared_error: 2.5097"
          ]
        },
        {
          "name": "stderr",
          "output_type": "stream",
          "text": [
            "2023-12-08 20:55:46.319929: I tensorflow/core/kernels/data/shuffle_dataset_op.cc:452] Shuffle buffer filled.\n"
          ]
        },
        {
          "name": "stdout",
          "output_type": "stream",
          "text": [
            "250/250 [==============================] - ETA: 0s - loss: 6.2709 - root_mean_squared_error: 2.5042"
          ]
        },
        {
          "name": "stderr",
          "output_type": "stream",
          "text": [
            "2023-12-08 20:55:58.658122: I tensorflow/core/kernels/data/shuffle_dataset_op.cc:422] ShuffleDatasetV3:35: Filling up shuffle buffer (this may take a while): 1739 of 2000\n",
            "2023-12-08 20:56:00.160622: I tensorflow/core/kernels/data/shuffle_dataset_op.cc:452] Shuffle buffer filled.\n"
          ]
        },
        {
          "name": "stdout",
          "output_type": "stream",
          "text": [
            "250/250 [==============================] - 149s 599ms/step - loss: 6.2709 - root_mean_squared_error: 2.5042 - val_loss: 4.3834 - val_root_mean_squared_error: 2.0937\n",
            "Epoch 43/50\n",
            " 52/250 [=====>........................] - ETA: 1:20 - loss: 6.5202 - root_mean_squared_error: 2.5535"
          ]
        },
        {
          "name": "stderr",
          "output_type": "stream",
          "text": [
            "2023-12-08 20:57:00.321412: I tensorflow/core/kernels/data/shuffle_dataset_op.cc:422] ShuffleDatasetV3:35: Filling up shuffle buffer (this may take a while): 1905 of 2000\n"
          ]
        },
        {
          "name": "stdout",
          "output_type": "stream",
          "text": [
            " 54/250 [=====>........................] - ETA: 1:19 - loss: 6.4215 - root_mean_squared_error: 2.5341"
          ]
        },
        {
          "name": "stderr",
          "output_type": "stream",
          "text": [
            "2023-12-08 20:57:00.817221: I tensorflow/core/kernels/data/shuffle_dataset_op.cc:452] Shuffle buffer filled.\n"
          ]
        },
        {
          "name": "stdout",
          "output_type": "stream",
          "text": [
            " 84/250 [=========>....................] - ETA: 1:07 - loss: 6.3005 - root_mean_squared_error: 2.5101"
          ]
        },
        {
          "name": "stderr",
          "output_type": "stream",
          "text": [
            "2023-12-08 20:57:13.196228: I tensorflow/core/kernels/data/shuffle_dataset_op.cc:422] ShuffleDatasetV3:35: Filling up shuffle buffer (this may take a while): 1915 of 2000\n"
          ]
        },
        {
          "name": "stdout",
          "output_type": "stream",
          "text": [
            " 85/250 [=========>....................] - ETA: 1:06 - loss: 6.2431 - root_mean_squared_error: 2.4986"
          ]
        },
        {
          "name": "stderr",
          "output_type": "stream",
          "text": [
            "2023-12-08 20:57:13.652619: I tensorflow/core/kernels/data/shuffle_dataset_op.cc:452] Shuffle buffer filled.\n"
          ]
        },
        {
          "name": "stdout",
          "output_type": "stream",
          "text": [
            "116/250 [============>.................] - ETA: 54s - loss: 6.2340 - root_mean_squared_error: 2.4968"
          ]
        },
        {
          "name": "stderr",
          "output_type": "stream",
          "text": [
            "2023-12-08 20:57:26.063240: I tensorflow/core/kernels/data/shuffle_dataset_op.cc:422] ShuffleDatasetV3:35: Filling up shuffle buffer (this may take a while): 1914 of 2000\n"
          ]
        },
        {
          "name": "stdout",
          "output_type": "stream",
          "text": [
            "117/250 [=============>................] - ETA: 53s - loss: 6.2136 - root_mean_squared_error: 2.4927"
          ]
        },
        {
          "name": "stderr",
          "output_type": "stream",
          "text": [
            "2023-12-08 20:57:26.505941: I tensorflow/core/kernels/data/shuffle_dataset_op.cc:452] Shuffle buffer filled.\n"
          ]
        },
        {
          "name": "stdout",
          "output_type": "stream",
          "text": [
            "148/250 [================>.............] - ETA: 41s - loss: 6.3611 - root_mean_squared_error: 2.5221"
          ]
        },
        {
          "name": "stderr",
          "output_type": "stream",
          "text": [
            "2023-12-08 20:57:38.972924: I tensorflow/core/kernels/data/shuffle_dataset_op.cc:422] ShuffleDatasetV3:35: Filling up shuffle buffer (this may take a while): 1908 of 2000\n"
          ]
        },
        {
          "name": "stdout",
          "output_type": "stream",
          "text": [
            "149/250 [================>.............] - ETA: 40s - loss: 6.3391 - root_mean_squared_error: 2.5178"
          ]
        },
        {
          "name": "stderr",
          "output_type": "stream",
          "text": [
            "2023-12-08 20:57:39.455933: I tensorflow/core/kernels/data/shuffle_dataset_op.cc:452] Shuffle buffer filled.\n"
          ]
        },
        {
          "name": "stdout",
          "output_type": "stream",
          "text": [
            "180/250 [====================>.........] - ETA: 28s - loss: 6.3293 - root_mean_squared_error: 2.5158"
          ]
        },
        {
          "name": "stderr",
          "output_type": "stream",
          "text": [
            "2023-12-08 20:57:51.864938: I tensorflow/core/kernels/data/shuffle_dataset_op.cc:422] ShuffleDatasetV3:35: Filling up shuffle buffer (this may take a while): 1896 of 2000\n"
          ]
        },
        {
          "name": "stdout",
          "output_type": "stream",
          "text": [
            "182/250 [====================>.........] - ETA: 27s - loss: 6.3198 - root_mean_squared_error: 2.5139"
          ]
        },
        {
          "name": "stderr",
          "output_type": "stream",
          "text": [
            "2023-12-08 20:57:52.405641: I tensorflow/core/kernels/data/shuffle_dataset_op.cc:452] Shuffle buffer filled.\n"
          ]
        },
        {
          "name": "stdout",
          "output_type": "stream",
          "text": [
            "212/250 [========================>.....] - ETA: 15s - loss: 6.3764 - root_mean_squared_error: 2.5251"
          ]
        },
        {
          "name": "stderr",
          "output_type": "stream",
          "text": [
            "2023-12-08 20:58:04.779186: I tensorflow/core/kernels/data/shuffle_dataset_op.cc:422] ShuffleDatasetV3:35: Filling up shuffle buffer (this may take a while): 1867 of 2000\n"
          ]
        },
        {
          "name": "stdout",
          "output_type": "stream",
          "text": [
            "214/250 [========================>.....] - ETA: 14s - loss: 6.3788 - root_mean_squared_error: 2.5256"
          ]
        },
        {
          "name": "stderr",
          "output_type": "stream",
          "text": [
            "2023-12-08 20:58:05.465649: I tensorflow/core/kernels/data/shuffle_dataset_op.cc:452] Shuffle buffer filled.\n"
          ]
        },
        {
          "name": "stdout",
          "output_type": "stream",
          "text": [
            "244/250 [============================>.] - ETA: 2s - loss: 6.3100 - root_mean_squared_error: 2.5120"
          ]
        },
        {
          "name": "stderr",
          "output_type": "stream",
          "text": [
            "2023-12-08 20:58:17.752805: I tensorflow/core/kernels/data/shuffle_dataset_op.cc:422] ShuffleDatasetV3:35: Filling up shuffle buffer (this may take a while): 1917 of 2000\n"
          ]
        },
        {
          "name": "stdout",
          "output_type": "stream",
          "text": [
            "245/250 [============================>.] - ETA: 2s - loss: 6.3086 - root_mean_squared_error: 2.5117"
          ]
        },
        {
          "name": "stderr",
          "output_type": "stream",
          "text": [
            "2023-12-08 20:58:18.183560: I tensorflow/core/kernels/data/shuffle_dataset_op.cc:452] Shuffle buffer filled.\n"
          ]
        },
        {
          "name": "stdout",
          "output_type": "stream",
          "text": [
            "250/250 [==============================] - 149s 599ms/step - loss: 6.3385 - root_mean_squared_error: 2.5176 - val_loss: 4.3843 - val_root_mean_squared_error: 2.0939\n",
            "Epoch 44/50\n",
            " 26/250 [==>...........................] - ETA: 1:29 - loss: 6.5197 - root_mean_squared_error: 2.5534"
          ]
        },
        {
          "name": "stderr",
          "output_type": "stream",
          "text": [
            "2023-12-08 20:59:19.043842: I tensorflow/core/kernels/data/shuffle_dataset_op.cc:422] ShuffleDatasetV3:35: Filling up shuffle buffer (this may take a while): 1889 of 2000\n"
          ]
        },
        {
          "name": "stdout",
          "output_type": "stream",
          "text": [
            " 28/250 [==>...........................] - ETA: 1:28 - loss: 6.4236 - root_mean_squared_error: 2.5345"
          ]
        },
        {
          "name": "stderr",
          "output_type": "stream",
          "text": [
            "2023-12-08 20:59:19.619038: I tensorflow/core/kernels/data/shuffle_dataset_op.cc:452] Shuffle buffer filled.\n"
          ]
        },
        {
          "name": "stdout",
          "output_type": "stream",
          "text": [
            " 58/250 [=====>........................] - ETA: 1:17 - loss: 6.3076 - root_mean_squared_error: 2.5115"
          ]
        },
        {
          "name": "stderr",
          "output_type": "stream",
          "text": [
            "2023-12-08 20:59:31.935603: I tensorflow/core/kernels/data/shuffle_dataset_op.cc:422] ShuffleDatasetV3:35: Filling up shuffle buffer (this may take a while): 1897 of 2000\n"
          ]
        },
        {
          "name": "stdout",
          "output_type": "stream",
          "text": [
            " 60/250 [======>.......................] - ETA: 1:16 - loss: 6.2942 - root_mean_squared_error: 2.5088"
          ]
        },
        {
          "name": "stderr",
          "output_type": "stream",
          "text": [
            "2023-12-08 20:59:32.472082: I tensorflow/core/kernels/data/shuffle_dataset_op.cc:452] Shuffle buffer filled.\n"
          ]
        },
        {
          "name": "stdout",
          "output_type": "stream",
          "text": [
            " 90/250 [=========>....................] - ETA: 1:04 - loss: 6.1383 - root_mean_squared_error: 2.4776"
          ]
        },
        {
          "name": "stderr",
          "output_type": "stream",
          "text": [
            "2023-12-08 20:59:44.814619: I tensorflow/core/kernels/data/shuffle_dataset_op.cc:422] ShuffleDatasetV3:35: Filling up shuffle buffer (this may take a while): 1911 of 2000\n"
          ]
        },
        {
          "name": "stdout",
          "output_type": "stream",
          "text": [
            " 91/250 [=========>....................] - ETA: 1:03 - loss: 6.1614 - root_mean_squared_error: 2.4822"
          ]
        },
        {
          "name": "stderr",
          "output_type": "stream",
          "text": [
            "2023-12-08 20:59:45.292908: I tensorflow/core/kernels/data/shuffle_dataset_op.cc:452] Shuffle buffer filled.\n"
          ]
        },
        {
          "name": "stdout",
          "output_type": "stream",
          "text": [
            "122/250 [=============>................] - ETA: 51s - loss: 6.3621 - root_mean_squared_error: 2.5223"
          ]
        },
        {
          "name": "stderr",
          "output_type": "stream",
          "text": [
            "2023-12-08 20:59:57.698407: I tensorflow/core/kernels/data/shuffle_dataset_op.cc:422] ShuffleDatasetV3:35: Filling up shuffle buffer (this may take a while): 1934 of 2000\n"
          ]
        },
        {
          "name": "stdout",
          "output_type": "stream",
          "text": [
            "123/250 [=============>................] - ETA: 51s - loss: 6.4205 - root_mean_squared_error: 2.5339"
          ]
        },
        {
          "name": "stderr",
          "output_type": "stream",
          "text": [
            "2023-12-08 20:59:58.039370: I tensorflow/core/kernels/data/shuffle_dataset_op.cc:452] Shuffle buffer filled.\n"
          ]
        },
        {
          "name": "stdout",
          "output_type": "stream",
          "text": [
            "154/250 [=================>............] - ETA: 38s - loss: 6.4246 - root_mean_squared_error: 2.5347"
          ]
        },
        {
          "name": "stderr",
          "output_type": "stream",
          "text": [
            "2023-12-08 21:00:10.589303: I tensorflow/core/kernels/data/shuffle_dataset_op.cc:422] ShuffleDatasetV3:35: Filling up shuffle buffer (this may take a while): 1858 of 2000\n"
          ]
        },
        {
          "name": "stdout",
          "output_type": "stream",
          "text": [
            "156/250 [=================>............] - ETA: 37s - loss: 6.4095 - root_mean_squared_error: 2.5317"
          ]
        },
        {
          "name": "stderr",
          "output_type": "stream",
          "text": [
            "2023-12-08 21:00:11.336404: I tensorflow/core/kernels/data/shuffle_dataset_op.cc:452] Shuffle buffer filled.\n"
          ]
        },
        {
          "name": "stdout",
          "output_type": "stream",
          "text": [
            "186/250 [=====================>........] - ETA: 25s - loss: 6.3568 - root_mean_squared_error: 2.5213"
          ]
        },
        {
          "name": "stderr",
          "output_type": "stream",
          "text": [
            "2023-12-08 21:00:23.518489: I tensorflow/core/kernels/data/shuffle_dataset_op.cc:422] ShuffleDatasetV3:35: Filling up shuffle buffer (this may take a while): 1933 of 2000\n"
          ]
        },
        {
          "name": "stdout",
          "output_type": "stream",
          "text": [
            "187/250 [=====================>........] - ETA: 25s - loss: 6.3448 - root_mean_squared_error: 2.5189"
          ]
        },
        {
          "name": "stderr",
          "output_type": "stream",
          "text": [
            "2023-12-08 21:00:23.862930: I tensorflow/core/kernels/data/shuffle_dataset_op.cc:452] Shuffle buffer filled.\n"
          ]
        },
        {
          "name": "stdout",
          "output_type": "stream",
          "text": [
            "218/250 [=========================>....] - ETA: 12s - loss: 6.3602 - root_mean_squared_error: 2.5219"
          ]
        },
        {
          "name": "stderr",
          "output_type": "stream",
          "text": [
            "2023-12-08 21:00:36.452683: I tensorflow/core/kernels/data/shuffle_dataset_op.cc:422] ShuffleDatasetV3:35: Filling up shuffle buffer (this may take a while): 1892 of 2000\n"
          ]
        },
        {
          "name": "stdout",
          "output_type": "stream",
          "text": [
            "220/250 [=========================>....] - ETA: 12s - loss: 6.3364 - root_mean_squared_error: 2.5172"
          ]
        },
        {
          "name": "stderr",
          "output_type": "stream",
          "text": [
            "2023-12-08 21:00:37.012415: I tensorflow/core/kernels/data/shuffle_dataset_op.cc:452] Shuffle buffer filled.\n"
          ]
        },
        {
          "name": "stdout",
          "output_type": "stream",
          "text": [
            "250/250 [==============================] - ETA: 0s - loss: 6.4027 - root_mean_squared_error: 2.5303"
          ]
        },
        {
          "name": "stderr",
          "output_type": "stream",
          "text": [
            "2023-12-08 21:00:49.393083: I tensorflow/core/kernels/data/shuffle_dataset_op.cc:422] ShuffleDatasetV3:35: Filling up shuffle buffer (this may take a while): 1924 of 2000\n",
            "2023-12-08 21:00:49.831048: I tensorflow/core/kernels/data/shuffle_dataset_op.cc:452] Shuffle buffer filled.\n"
          ]
        },
        {
          "name": "stdout",
          "output_type": "stream",
          "text": [
            "250/250 [==============================] - 149s 598ms/step - loss: 6.4027 - root_mean_squared_error: 2.5303 - val_loss: 4.3834 - val_root_mean_squared_error: 2.0937\n",
            "Epoch 45/50\n",
            " 32/250 [==>...........................] - ETA: 1:27 - loss: 5.4235 - root_mean_squared_error: 2.3288"
          ]
        },
        {
          "name": "stderr",
          "output_type": "stream",
          "text": [
            "2023-12-08 21:01:50.873463: I tensorflow/core/kernels/data/shuffle_dataset_op.cc:422] ShuffleDatasetV3:35: Filling up shuffle buffer (this may take a while): 1894 of 2000\n"
          ]
        },
        {
          "name": "stdout",
          "output_type": "stream",
          "text": [
            " 34/250 [===>..........................] - ETA: 1:26 - loss: 5.4224 - root_mean_squared_error: 2.3286"
          ]
        },
        {
          "name": "stderr",
          "output_type": "stream",
          "text": [
            "2023-12-08 21:01:51.425501: I tensorflow/core/kernels/data/shuffle_dataset_op.cc:452] Shuffle buffer filled.\n"
          ]
        },
        {
          "name": "stdout",
          "output_type": "stream",
          "text": [
            " 64/250 [======>.......................] - ETA: 1:14 - loss: 6.0632 - root_mean_squared_error: 2.4624"
          ]
        },
        {
          "name": "stderr",
          "output_type": "stream",
          "text": [
            "2023-12-08 21:02:03.776521: I tensorflow/core/kernels/data/shuffle_dataset_op.cc:422] ShuffleDatasetV3:35: Filling up shuffle buffer (this may take a while): 1904 of 2000\n"
          ]
        },
        {
          "name": "stdout",
          "output_type": "stream",
          "text": [
            " 66/250 [======>.......................] - ETA: 1:14 - loss: 6.0290 - root_mean_squared_error: 2.4554"
          ]
        },
        {
          "name": "stderr",
          "output_type": "stream",
          "text": [
            "2023-12-08 21:02:04.278356: I tensorflow/core/kernels/data/shuffle_dataset_op.cc:452] Shuffle buffer filled.\n"
          ]
        },
        {
          "name": "stdout",
          "output_type": "stream",
          "text": [
            " 96/250 [==========>...................] - ETA: 1:01 - loss: 6.2418 - root_mean_squared_error: 2.4984"
          ]
        },
        {
          "name": "stderr",
          "output_type": "stream",
          "text": [
            "2023-12-08 21:02:16.642391: I tensorflow/core/kernels/data/shuffle_dataset_op.cc:422] ShuffleDatasetV3:35: Filling up shuffle buffer (this may take a while): 1878 of 2000\n"
          ]
        },
        {
          "name": "stdout",
          "output_type": "stream",
          "text": [
            " 98/250 [==========>...................] - ETA: 1:01 - loss: 6.2127 - root_mean_squared_error: 2.4925"
          ]
        },
        {
          "name": "stderr",
          "output_type": "stream",
          "text": [
            "2023-12-08 21:02:17.273723: I tensorflow/core/kernels/data/shuffle_dataset_op.cc:452] Shuffle buffer filled.\n"
          ]
        },
        {
          "name": "stdout",
          "output_type": "stream",
          "text": [
            "128/250 [==============>...............] - ETA: 49s - loss: 6.2638 - root_mean_squared_error: 2.5028"
          ]
        },
        {
          "name": "stderr",
          "output_type": "stream",
          "text": [
            "2023-12-08 21:02:29.593793: I tensorflow/core/kernels/data/shuffle_dataset_op.cc:422] ShuffleDatasetV3:35: Filling up shuffle buffer (this may take a while): 1901 of 2000\n"
          ]
        },
        {
          "name": "stdout",
          "output_type": "stream",
          "text": [
            "130/250 [==============>...............] - ETA: 48s - loss: 6.2501 - root_mean_squared_error: 2.5000"
          ]
        },
        {
          "name": "stderr",
          "output_type": "stream",
          "text": [
            "2023-12-08 21:02:30.108684: I tensorflow/core/kernels/data/shuffle_dataset_op.cc:452] Shuffle buffer filled.\n"
          ]
        },
        {
          "name": "stdout",
          "output_type": "stream",
          "text": [
            "160/250 [==================>...........] - ETA: 36s - loss: 6.2906 - root_mean_squared_error: 2.5081"
          ]
        },
        {
          "name": "stderr",
          "output_type": "stream",
          "text": [
            "2023-12-08 21:02:42.886224: I tensorflow/core/kernels/data/shuffle_dataset_op.cc:422] ShuffleDatasetV3:35: Filling up shuffle buffer (this may take a while): 1910 of 2000\n"
          ]
        },
        {
          "name": "stdout",
          "output_type": "stream",
          "text": [
            "161/250 [==================>...........] - ETA: 36s - loss: 6.2729 - root_mean_squared_error: 2.5046"
          ]
        },
        {
          "name": "stderr",
          "output_type": "stream",
          "text": [
            "2023-12-08 21:02:43.355497: I tensorflow/core/kernels/data/shuffle_dataset_op.cc:452] Shuffle buffer filled.\n"
          ]
        },
        {
          "name": "stdout",
          "output_type": "stream",
          "text": [
            "192/250 [======================>.......] - ETA: 23s - loss: 6.1958 - root_mean_squared_error: 2.4891"
          ]
        },
        {
          "name": "stderr",
          "output_type": "stream",
          "text": [
            "2023-12-08 21:02:55.834860: I tensorflow/core/kernels/data/shuffle_dataset_op.cc:422] ShuffleDatasetV3:35: Filling up shuffle buffer (this may take a while): 1935 of 2000\n"
          ]
        },
        {
          "name": "stdout",
          "output_type": "stream",
          "text": [
            "193/250 [======================>.......] - ETA: 23s - loss: 6.2293 - root_mean_squared_error: 2.4958"
          ]
        },
        {
          "name": "stderr",
          "output_type": "stream",
          "text": [
            "2023-12-08 21:02:56.169917: I tensorflow/core/kernels/data/shuffle_dataset_op.cc:452] Shuffle buffer filled.\n"
          ]
        },
        {
          "name": "stdout",
          "output_type": "stream",
          "text": [
            "224/250 [=========================>....] - ETA: 10s - loss: 6.2646 - root_mean_squared_error: 2.5029"
          ]
        },
        {
          "name": "stderr",
          "output_type": "stream",
          "text": [
            "2023-12-08 21:03:08.794683: I tensorflow/core/kernels/data/shuffle_dataset_op.cc:422] ShuffleDatasetV3:35: Filling up shuffle buffer (this may take a while): 1915 of 2000\n"
          ]
        },
        {
          "name": "stdout",
          "output_type": "stream",
          "text": [
            "225/250 [==========================>...] - ETA: 10s - loss: 6.2722 - root_mean_squared_error: 2.5044"
          ]
        },
        {
          "name": "stderr",
          "output_type": "stream",
          "text": [
            "2023-12-08 21:03:09.238930: I tensorflow/core/kernels/data/shuffle_dataset_op.cc:452] Shuffle buffer filled.\n"
          ]
        },
        {
          "name": "stdout",
          "output_type": "stream",
          "text": [
            "250/250 [==============================] - ETA: 0s - loss: 6.2691 - root_mean_squared_error: 2.5038"
          ]
        },
        {
          "name": "stderr",
          "output_type": "stream",
          "text": [
            "2023-12-08 21:03:21.718596: I tensorflow/core/kernels/data/shuffle_dataset_op.cc:422] ShuffleDatasetV3:35: Filling up shuffle buffer (this may take a while): 1860 of 2000\n",
            "2023-12-08 21:03:22.522406: I tensorflow/core/kernels/data/shuffle_dataset_op.cc:452] Shuffle buffer filled.\n"
          ]
        },
        {
          "name": "stdout",
          "output_type": "stream",
          "text": [
            "250/250 [==============================] - 150s 601ms/step - loss: 6.2691 - root_mean_squared_error: 2.5038 - val_loss: 4.3835 - val_root_mean_squared_error: 2.0937\n",
            "Epoch 46/50\n",
            " 38/250 [===>..........................] - ETA: 1:25 - loss: 6.4726 - root_mean_squared_error: 2.5441"
          ]
        },
        {
          "name": "stderr",
          "output_type": "stream",
          "text": [
            "2023-12-08 21:04:23.321363: I tensorflow/core/kernels/data/shuffle_dataset_op.cc:422] ShuffleDatasetV3:35: Filling up shuffle buffer (this may take a while): 1907 of 2000\n"
          ]
        },
        {
          "name": "stdout",
          "output_type": "stream",
          "text": [
            " 39/250 [===>..........................] - ETA: 1:25 - loss: 6.5379 - root_mean_squared_error: 2.5569"
          ]
        },
        {
          "name": "stderr",
          "output_type": "stream",
          "text": [
            "2023-12-08 21:04:23.808822: I tensorflow/core/kernels/data/shuffle_dataset_op.cc:452] Shuffle buffer filled.\n"
          ]
        },
        {
          "name": "stdout",
          "output_type": "stream",
          "text": [
            " 70/250 [=======>......................] - ETA: 1:12 - loss: 6.1068 - root_mean_squared_error: 2.4712"
          ]
        },
        {
          "name": "stderr",
          "output_type": "stream",
          "text": [
            "2023-12-08 21:04:36.202987: I tensorflow/core/kernels/data/shuffle_dataset_op.cc:422] ShuffleDatasetV3:35: Filling up shuffle buffer (this may take a while): 1908 of 2000\n"
          ]
        },
        {
          "name": "stdout",
          "output_type": "stream",
          "text": [
            " 71/250 [=======>......................] - ETA: 1:12 - loss: 6.0686 - root_mean_squared_error: 2.4635"
          ]
        },
        {
          "name": "stderr",
          "output_type": "stream",
          "text": [
            "2023-12-08 21:04:36.684834: I tensorflow/core/kernels/data/shuffle_dataset_op.cc:452] Shuffle buffer filled.\n"
          ]
        },
        {
          "name": "stdout",
          "output_type": "stream",
          "text": [
            "102/250 [===========>..................] - ETA: 59s - loss: 6.3146 - root_mean_squared_error: 2.5129 "
          ]
        },
        {
          "name": "stderr",
          "output_type": "stream",
          "text": [
            "2023-12-08 21:04:49.082382: I tensorflow/core/kernels/data/shuffle_dataset_op.cc:422] ShuffleDatasetV3:35: Filling up shuffle buffer (this may take a while): 1895 of 2000\n"
          ]
        },
        {
          "name": "stdout",
          "output_type": "stream",
          "text": [
            "104/250 [===========>..................] - ETA: 58s - loss: 6.3384 - root_mean_squared_error: 2.5176"
          ]
        },
        {
          "name": "stderr",
          "output_type": "stream",
          "text": [
            "2023-12-08 21:04:49.629822: I tensorflow/core/kernels/data/shuffle_dataset_op.cc:452] Shuffle buffer filled.\n"
          ]
        },
        {
          "name": "stdout",
          "output_type": "stream",
          "text": [
            "134/250 [===============>..............] - ETA: 46s - loss: 6.3112 - root_mean_squared_error: 2.5122"
          ]
        },
        {
          "name": "stderr",
          "output_type": "stream",
          "text": [
            "2023-12-08 21:05:02.006832: I tensorflow/core/kernels/data/shuffle_dataset_op.cc:422] ShuffleDatasetV3:35: Filling up shuffle buffer (this may take a while): 1922 of 2000\n"
          ]
        },
        {
          "name": "stdout",
          "output_type": "stream",
          "text": [
            "135/250 [===============>..............] - ETA: 46s - loss: 6.2958 - root_mean_squared_error: 2.5091"
          ]
        },
        {
          "name": "stderr",
          "output_type": "stream",
          "text": [
            "2023-12-08 21:05:02.410229: I tensorflow/core/kernels/data/shuffle_dataset_op.cc:452] Shuffle buffer filled.\n"
          ]
        },
        {
          "name": "stdout",
          "output_type": "stream",
          "text": [
            "166/250 [==================>...........] - ETA: 33s - loss: 6.3048 - root_mean_squared_error: 2.5109"
          ]
        },
        {
          "name": "stderr",
          "output_type": "stream",
          "text": [
            "2023-12-08 21:05:14.934098: I tensorflow/core/kernels/data/shuffle_dataset_op.cc:422] ShuffleDatasetV3:35: Filling up shuffle buffer (this may take a while): 1917 of 2000\n"
          ]
        },
        {
          "name": "stdout",
          "output_type": "stream",
          "text": [
            "167/250 [===================>..........] - ETA: 33s - loss: 6.2852 - root_mean_squared_error: 2.5070"
          ]
        },
        {
          "name": "stderr",
          "output_type": "stream",
          "text": [
            "2023-12-08 21:05:15.360556: I tensorflow/core/kernels/data/shuffle_dataset_op.cc:452] Shuffle buffer filled.\n"
          ]
        },
        {
          "name": "stdout",
          "output_type": "stream",
          "text": [
            "198/250 [======================>.......] - ETA: 20s - loss: 6.3723 - root_mean_squared_error: 2.5243"
          ]
        },
        {
          "name": "stderr",
          "output_type": "stream",
          "text": [
            "2023-12-08 21:05:27.856840: I tensorflow/core/kernels/data/shuffle_dataset_op.cc:422] ShuffleDatasetV3:35: Filling up shuffle buffer (this may take a while): 1916 of 2000\n"
          ]
        },
        {
          "name": "stdout",
          "output_type": "stream",
          "text": [
            "199/250 [======================>.......] - ETA: 20s - loss: 6.3593 - root_mean_squared_error: 2.5218"
          ]
        },
        {
          "name": "stderr",
          "output_type": "stream",
          "text": [
            "2023-12-08 21:05:28.294527: I tensorflow/core/kernels/data/shuffle_dataset_op.cc:452] Shuffle buffer filled.\n"
          ]
        },
        {
          "name": "stdout",
          "output_type": "stream",
          "text": [
            "230/250 [==========================>...] - ETA: 8s - loss: 6.3161 - root_mean_squared_error: 2.5132"
          ]
        },
        {
          "name": "stderr",
          "output_type": "stream",
          "text": [
            "2023-12-08 21:05:40.783235: I tensorflow/core/kernels/data/shuffle_dataset_op.cc:422] ShuffleDatasetV3:35: Filling up shuffle buffer (this may take a while): 1948 of 2000\n"
          ]
        },
        {
          "name": "stdout",
          "output_type": "stream",
          "text": [
            "231/250 [==========================>...] - ETA: 7s - loss: 6.3317 - root_mean_squared_error: 2.5163"
          ]
        },
        {
          "name": "stderr",
          "output_type": "stream",
          "text": [
            "2023-12-08 21:05:41.053325: I tensorflow/core/kernels/data/shuffle_dataset_op.cc:452] Shuffle buffer filled.\n"
          ]
        },
        {
          "name": "stdout",
          "output_type": "stream",
          "text": [
            "250/250 [==============================] - ETA: 0s - loss: 6.3426 - root_mean_squared_error: 2.5184"
          ]
        },
        {
          "name": "stderr",
          "output_type": "stream",
          "text": [
            "2023-12-08 21:05:53.717913: I tensorflow/core/kernels/data/shuffle_dataset_op.cc:422] ShuffleDatasetV3:35: Filling up shuffle buffer (this may take a while): 1789 of 2000\n",
            "2023-12-08 21:05:54.950626: I tensorflow/core/kernels/data/shuffle_dataset_op.cc:452] Shuffle buffer filled.\n"
          ]
        },
        {
          "name": "stdout",
          "output_type": "stream",
          "text": [
            "250/250 [==============================] - 150s 599ms/step - loss: 6.3426 - root_mean_squared_error: 2.5184 - val_loss: 4.3810 - val_root_mean_squared_error: 2.0931\n",
            "Epoch 47/50\n",
            " 44/250 [====>.........................] - ETA: 1:23 - loss: 6.0624 - root_mean_squared_error: 2.4622"
          ]
        },
        {
          "name": "stderr",
          "output_type": "stream",
          "text": [
            "2023-12-08 21:06:55.382861: I tensorflow/core/kernels/data/shuffle_dataset_op.cc:422] ShuffleDatasetV3:35: Filling up shuffle buffer (this may take a while): 1912 of 2000\n"
          ]
        },
        {
          "name": "stdout",
          "output_type": "stream",
          "text": [
            " 45/250 [====>.........................] - ETA: 1:23 - loss: 6.0975 - root_mean_squared_error: 2.4693"
          ]
        },
        {
          "name": "stderr",
          "output_type": "stream",
          "text": [
            "2023-12-08 21:06:55.838598: I tensorflow/core/kernels/data/shuffle_dataset_op.cc:452] Shuffle buffer filled.\n"
          ]
        },
        {
          "name": "stdout",
          "output_type": "stream",
          "text": [
            " 76/250 [========>.....................] - ETA: 1:10 - loss: 6.1079 - root_mean_squared_error: 2.4714"
          ]
        },
        {
          "name": "stderr",
          "output_type": "stream",
          "text": [
            "2023-12-08 21:07:08.258625: I tensorflow/core/kernels/data/shuffle_dataset_op.cc:422] ShuffleDatasetV3:35: Filling up shuffle buffer (this may take a while): 1910 of 2000\n"
          ]
        },
        {
          "name": "stdout",
          "output_type": "stream",
          "text": [
            " 77/250 [========>.....................] - ETA: 1:09 - loss: 6.1740 - root_mean_squared_error: 2.4848"
          ]
        },
        {
          "name": "stderr",
          "output_type": "stream",
          "text": [
            "2023-12-08 21:07:08.731448: I tensorflow/core/kernels/data/shuffle_dataset_op.cc:452] Shuffle buffer filled.\n"
          ]
        },
        {
          "name": "stdout",
          "output_type": "stream",
          "text": [
            "108/250 [===========>..................] - ETA: 57s - loss: 6.1973 - root_mean_squared_error: 2.4894"
          ]
        },
        {
          "name": "stderr",
          "output_type": "stream",
          "text": [
            "2023-12-08 21:07:21.157309: I tensorflow/core/kernels/data/shuffle_dataset_op.cc:422] ShuffleDatasetV3:35: Filling up shuffle buffer (this may take a while): 1920 of 2000\n"
          ]
        },
        {
          "name": "stdout",
          "output_type": "stream",
          "text": [
            "109/250 [============>.................] - ETA: 56s - loss: 6.2208 - root_mean_squared_error: 2.4941"
          ]
        },
        {
          "name": "stderr",
          "output_type": "stream",
          "text": [
            "2023-12-08 21:07:21.574173: I tensorflow/core/kernels/data/shuffle_dataset_op.cc:452] Shuffle buffer filled.\n"
          ]
        },
        {
          "name": "stdout",
          "output_type": "stream",
          "text": [
            "140/250 [===============>..............] - ETA: 44s - loss: 6.3272 - root_mean_squared_error: 2.5154"
          ]
        },
        {
          "name": "stderr",
          "output_type": "stream",
          "text": [
            "2023-12-08 21:07:34.059871: I tensorflow/core/kernels/data/shuffle_dataset_op.cc:422] ShuffleDatasetV3:35: Filling up shuffle buffer (this may take a while): 1918 of 2000\n"
          ]
        },
        {
          "name": "stdout",
          "output_type": "stream",
          "text": [
            "141/250 [===============>..............] - ETA: 44s - loss: 6.3356 - root_mean_squared_error: 2.5171"
          ]
        },
        {
          "name": "stderr",
          "output_type": "stream",
          "text": [
            "2023-12-08 21:07:34.483621: I tensorflow/core/kernels/data/shuffle_dataset_op.cc:452] Shuffle buffer filled.\n"
          ]
        },
        {
          "name": "stdout",
          "output_type": "stream",
          "text": [
            "172/250 [===================>..........] - ETA: 31s - loss: 6.2897 - root_mean_squared_error: 2.5079"
          ]
        },
        {
          "name": "stderr",
          "output_type": "stream",
          "text": [
            "2023-12-08 21:07:46.977240: I tensorflow/core/kernels/data/shuffle_dataset_op.cc:422] ShuffleDatasetV3:35: Filling up shuffle buffer (this may take a while): 1906 of 2000\n"
          ]
        },
        {
          "name": "stdout",
          "output_type": "stream",
          "text": [
            "173/250 [===================>..........] - ETA: 31s - loss: 6.2732 - root_mean_squared_error: 2.5046"
          ]
        },
        {
          "name": "stderr",
          "output_type": "stream",
          "text": [
            "2023-12-08 21:07:47.466364: I tensorflow/core/kernels/data/shuffle_dataset_op.cc:452] Shuffle buffer filled.\n"
          ]
        },
        {
          "name": "stdout",
          "output_type": "stream",
          "text": [
            "204/250 [=======================>......] - ETA: 18s - loss: 6.2519 - root_mean_squared_error: 2.5004"
          ]
        },
        {
          "name": "stderr",
          "output_type": "stream",
          "text": [
            "2023-12-08 21:07:59.884011: I tensorflow/core/kernels/data/shuffle_dataset_op.cc:422] ShuffleDatasetV3:35: Filling up shuffle buffer (this may take a while): 1924 of 2000\n"
          ]
        },
        {
          "name": "stdout",
          "output_type": "stream",
          "text": [
            "205/250 [=======================>......] - ETA: 18s - loss: 6.2619 - root_mean_squared_error: 2.5024"
          ]
        },
        {
          "name": "stderr",
          "output_type": "stream",
          "text": [
            "2023-12-08 21:08:00.278047: I tensorflow/core/kernels/data/shuffle_dataset_op.cc:452] Shuffle buffer filled.\n"
          ]
        },
        {
          "name": "stdout",
          "output_type": "stream",
          "text": [
            "236/250 [===========================>..] - ETA: 5s - loss: 6.3087 - root_mean_squared_error: 2.5117"
          ]
        },
        {
          "name": "stderr",
          "output_type": "stream",
          "text": [
            "2023-12-08 21:08:12.792364: I tensorflow/core/kernels/data/shuffle_dataset_op.cc:422] ShuffleDatasetV3:35: Filling up shuffle buffer (this may take a while): 1931 of 2000\n"
          ]
        },
        {
          "name": "stdout",
          "output_type": "stream",
          "text": [
            "237/250 [===========================>..] - ETA: 5s - loss: 6.3096 - root_mean_squared_error: 2.5119"
          ]
        },
        {
          "name": "stderr",
          "output_type": "stream",
          "text": [
            "2023-12-08 21:08:13.150197: I tensorflow/core/kernels/data/shuffle_dataset_op.cc:452] Shuffle buffer filled.\n"
          ]
        },
        {
          "name": "stdout",
          "output_type": "stream",
          "text": [
            "250/250 [==============================] - ETA: 0s - loss: 6.2724 - root_mean_squared_error: 2.5045"
          ]
        },
        {
          "name": "stderr",
          "output_type": "stream",
          "text": [
            "2023-12-08 21:08:25.729040: I tensorflow/core/kernels/data/shuffle_dataset_op.cc:422] ShuffleDatasetV3:35: Filling up shuffle buffer (this may take a while): 1758 of 2000\n",
            "2023-12-08 21:08:27.136760: I tensorflow/core/kernels/data/shuffle_dataset_op.cc:452] Shuffle buffer filled.\n"
          ]
        },
        {
          "name": "stdout",
          "output_type": "stream",
          "text": [
            "250/250 [==============================] - 149s 598ms/step - loss: 6.2724 - root_mean_squared_error: 2.5045 - val_loss: 4.3835 - val_root_mean_squared_error: 2.0937\n",
            "Epoch 48/50\n",
            " 50/250 [=====>........................] - ETA: 1:21 - loss: 6.4630 - root_mean_squared_error: 2.5422"
          ]
        },
        {
          "name": "stderr",
          "output_type": "stream",
          "text": [
            "2023-12-08 21:09:27.242174: I tensorflow/core/kernels/data/shuffle_dataset_op.cc:422] ShuffleDatasetV3:35: Filling up shuffle buffer (this may take a while): 1892 of 2000\n"
          ]
        },
        {
          "name": "stdout",
          "output_type": "stream",
          "text": [
            " 52/250 [=====>........................] - ETA: 1:20 - loss: 6.4339 - root_mean_squared_error: 2.5365"
          ]
        },
        {
          "name": "stderr",
          "output_type": "stream",
          "text": [
            "2023-12-08 21:09:27.809792: I tensorflow/core/kernels/data/shuffle_dataset_op.cc:452] Shuffle buffer filled.\n"
          ]
        },
        {
          "name": "stdout",
          "output_type": "stream",
          "text": [
            " 82/250 [========>.....................] - ETA: 1:08 - loss: 6.4478 - root_mean_squared_error: 2.5392"
          ]
        },
        {
          "name": "stderr",
          "output_type": "stream",
          "text": [
            "2023-12-08 21:09:40.141151: I tensorflow/core/kernels/data/shuffle_dataset_op.cc:422] ShuffleDatasetV3:35: Filling up shuffle buffer (this may take a while): 1922 of 2000\n"
          ]
        },
        {
          "name": "stdout",
          "output_type": "stream",
          "text": [
            " 83/250 [========>.....................] - ETA: 1:07 - loss: 6.4117 - root_mean_squared_error: 2.5321"
          ]
        },
        {
          "name": "stderr",
          "output_type": "stream",
          "text": [
            "2023-12-08 21:09:40.548144: I tensorflow/core/kernels/data/shuffle_dataset_op.cc:452] Shuffle buffer filled.\n"
          ]
        },
        {
          "name": "stdout",
          "output_type": "stream",
          "text": [
            "114/250 [============>.................] - ETA: 54s - loss: 6.3131 - root_mean_squared_error: 2.5126"
          ]
        },
        {
          "name": "stderr",
          "output_type": "stream",
          "text": [
            "2023-12-08 21:09:53.017018: I tensorflow/core/kernels/data/shuffle_dataset_op.cc:422] ShuffleDatasetV3:35: Filling up shuffle buffer (this may take a while): 1915 of 2000\n"
          ]
        },
        {
          "name": "stdout",
          "output_type": "stream",
          "text": [
            "115/250 [============>.................] - ETA: 54s - loss: 6.3479 - root_mean_squared_error: 2.5195"
          ]
        },
        {
          "name": "stderr",
          "output_type": "stream",
          "text": [
            "2023-12-08 21:09:53.459189: I tensorflow/core/kernels/data/shuffle_dataset_op.cc:452] Shuffle buffer filled.\n"
          ]
        },
        {
          "name": "stdout",
          "output_type": "stream",
          "text": [
            "146/250 [================>.............] - ETA: 42s - loss: 6.3783 - root_mean_squared_error: 2.5255"
          ]
        },
        {
          "name": "stderr",
          "output_type": "stream",
          "text": [
            "2023-12-08 21:10:05.897478: I tensorflow/core/kernels/data/shuffle_dataset_op.cc:422] ShuffleDatasetV3:35: Filling up shuffle buffer (this may take a while): 1901 of 2000\n"
          ]
        },
        {
          "name": "stdout",
          "output_type": "stream",
          "text": [
            "148/250 [================>.............] - ETA: 41s - loss: 6.3522 - root_mean_squared_error: 2.5203"
          ]
        },
        {
          "name": "stderr",
          "output_type": "stream",
          "text": [
            "2023-12-08 21:10:06.415080: I tensorflow/core/kernels/data/shuffle_dataset_op.cc:452] Shuffle buffer filled.\n"
          ]
        },
        {
          "name": "stdout",
          "output_type": "stream",
          "text": [
            "178/250 [====================>.........] - ETA: 29s - loss: 6.4430 - root_mean_squared_error: 2.5383"
          ]
        },
        {
          "name": "stderr",
          "output_type": "stream",
          "text": [
            "2023-12-08 21:10:18.798571: I tensorflow/core/kernels/data/shuffle_dataset_op.cc:422] ShuffleDatasetV3:35: Filling up shuffle buffer (this may take a while): 1923 of 2000\n"
          ]
        },
        {
          "name": "stdout",
          "output_type": "stream",
          "text": [
            "179/250 [====================>.........] - ETA: 28s - loss: 6.4294 - root_mean_squared_error: 2.5356"
          ]
        },
        {
          "name": "stderr",
          "output_type": "stream",
          "text": [
            "2023-12-08 21:10:19.196895: I tensorflow/core/kernels/data/shuffle_dataset_op.cc:452] Shuffle buffer filled.\n"
          ]
        },
        {
          "name": "stdout",
          "output_type": "stream",
          "text": [
            "210/250 [========================>.....] - ETA: 16s - loss: 6.4025 - root_mean_squared_error: 2.5303"
          ]
        },
        {
          "name": "stderr",
          "output_type": "stream",
          "text": [
            "2023-12-08 21:10:31.697305: I tensorflow/core/kernels/data/shuffle_dataset_op.cc:422] ShuffleDatasetV3:35: Filling up shuffle buffer (this may take a while): 1922 of 2000\n"
          ]
        },
        {
          "name": "stdout",
          "output_type": "stream",
          "text": [
            "211/250 [========================>.....] - ETA: 15s - loss: 6.4090 - root_mean_squared_error: 2.5316"
          ]
        },
        {
          "name": "stderr",
          "output_type": "stream",
          "text": [
            "2023-12-08 21:10:32.100429: I tensorflow/core/kernels/data/shuffle_dataset_op.cc:452] Shuffle buffer filled.\n"
          ]
        },
        {
          "name": "stdout",
          "output_type": "stream",
          "text": [
            "242/250 [============================>.] - ETA: 3s - loss: 6.3907 - root_mean_squared_error: 2.5280"
          ]
        },
        {
          "name": "stderr",
          "output_type": "stream",
          "text": [
            "2023-12-08 21:10:44.603111: I tensorflow/core/kernels/data/shuffle_dataset_op.cc:422] ShuffleDatasetV3:35: Filling up shuffle buffer (this may take a while): 1896 of 2000\n"
          ]
        },
        {
          "name": "stdout",
          "output_type": "stream",
          "text": [
            "244/250 [============================>.] - ETA: 2s - loss: 6.3639 - root_mean_squared_error: 2.5227"
          ]
        },
        {
          "name": "stderr",
          "output_type": "stream",
          "text": [
            "2023-12-08 21:10:45.165761: I tensorflow/core/kernels/data/shuffle_dataset_op.cc:452] Shuffle buffer filled.\n"
          ]
        },
        {
          "name": "stdout",
          "output_type": "stream",
          "text": [
            "250/250 [==============================] - 149s 598ms/step - loss: 6.3531 - root_mean_squared_error: 2.5205 - val_loss: 4.3827 - val_root_mean_squared_error: 2.0935\n",
            "Epoch 49/50\n",
            " 24/250 [=>............................] - ETA: 1:32 - loss: 6.3402 - root_mean_squared_error: 2.5180"
          ]
        },
        {
          "name": "stderr",
          "output_type": "stream",
          "text": [
            "2023-12-08 21:11:46.137045: I tensorflow/core/kernels/data/shuffle_dataset_op.cc:422] ShuffleDatasetV3:35: Filling up shuffle buffer (this may take a while): 1889 of 2000\n"
          ]
        },
        {
          "name": "stdout",
          "output_type": "stream",
          "text": [
            " 26/250 [==>...........................] - ETA: 1:32 - loss: 6.5880 - root_mean_squared_error: 2.5667"
          ]
        },
        {
          "name": "stderr",
          "output_type": "stream",
          "text": [
            "2023-12-08 21:11:46.720561: I tensorflow/core/kernels/data/shuffle_dataset_op.cc:452] Shuffle buffer filled.\n"
          ]
        },
        {
          "name": "stdout",
          "output_type": "stream",
          "text": [
            " 56/250 [=====>........................] - ETA: 1:18 - loss: 6.2867 - root_mean_squared_error: 2.5073"
          ]
        },
        {
          "name": "stderr",
          "output_type": "stream",
          "text": [
            "2023-12-08 21:11:59.017344: I tensorflow/core/kernels/data/shuffle_dataset_op.cc:422] ShuffleDatasetV3:35: Filling up shuffle buffer (this may take a while): 1912 of 2000\n"
          ]
        },
        {
          "name": "stdout",
          "output_type": "stream",
          "text": [
            " 57/250 [=====>........................] - ETA: 1:18 - loss: 6.3616 - root_mean_squared_error: 2.5222"
          ]
        },
        {
          "name": "stderr",
          "output_type": "stream",
          "text": [
            "2023-12-08 21:11:59.476228: I tensorflow/core/kernels/data/shuffle_dataset_op.cc:452] Shuffle buffer filled.\n"
          ]
        },
        {
          "name": "stdout",
          "output_type": "stream",
          "text": [
            " 88/250 [=========>....................] - ETA: 1:05 - loss: 6.3927 - root_mean_squared_error: 2.5284"
          ]
        },
        {
          "name": "stderr",
          "output_type": "stream",
          "text": [
            "2023-12-08 21:12:11.881853: I tensorflow/core/kernels/data/shuffle_dataset_op.cc:422] ShuffleDatasetV3:35: Filling up shuffle buffer (this may take a while): 1922 of 2000\n"
          ]
        },
        {
          "name": "stdout",
          "output_type": "stream",
          "text": [
            " 89/250 [=========>....................] - ETA: 1:05 - loss: 6.3316 - root_mean_squared_error: 2.5163"
          ]
        },
        {
          "name": "stderr",
          "output_type": "stream",
          "text": [
            "2023-12-08 21:12:12.285795: I tensorflow/core/kernels/data/shuffle_dataset_op.cc:452] Shuffle buffer filled.\n"
          ]
        },
        {
          "name": "stdout",
          "output_type": "stream",
          "text": [
            "120/250 [=============>................] - ETA: 52s - loss: 6.3106 - root_mean_squared_error: 2.5121"
          ]
        },
        {
          "name": "stderr",
          "output_type": "stream",
          "text": [
            "2023-12-08 21:12:24.747592: I tensorflow/core/kernels/data/shuffle_dataset_op.cc:422] ShuffleDatasetV3:35: Filling up shuffle buffer (this may take a while): 1905 of 2000\n"
          ]
        },
        {
          "name": "stdout",
          "output_type": "stream",
          "text": [
            "121/250 [=============>................] - ETA: 52s - loss: 6.3020 - root_mean_squared_error: 2.5104"
          ]
        },
        {
          "name": "stderr",
          "output_type": "stream",
          "text": [
            "2023-12-08 21:12:25.244365: I tensorflow/core/kernels/data/shuffle_dataset_op.cc:452] Shuffle buffer filled.\n"
          ]
        },
        {
          "name": "stdout",
          "output_type": "stream",
          "text": [
            "152/250 [=================>............] - ETA: 39s - loss: 6.3806 - root_mean_squared_error: 2.5260"
          ]
        },
        {
          "name": "stderr",
          "output_type": "stream",
          "text": [
            "2023-12-08 21:12:37.631196: I tensorflow/core/kernels/data/shuffle_dataset_op.cc:422] ShuffleDatasetV3:35: Filling up shuffle buffer (this may take a while): 1924 of 2000\n"
          ]
        },
        {
          "name": "stdout",
          "output_type": "stream",
          "text": [
            "153/250 [=================>............] - ETA: 39s - loss: 6.4153 - root_mean_squared_error: 2.5328"
          ]
        },
        {
          "name": "stderr",
          "output_type": "stream",
          "text": [
            "2023-12-08 21:12:38.026045: I tensorflow/core/kernels/data/shuffle_dataset_op.cc:452] Shuffle buffer filled.\n"
          ]
        },
        {
          "name": "stdout",
          "output_type": "stream",
          "text": [
            "184/250 [=====================>........] - ETA: 26s - loss: 6.3629 - root_mean_squared_error: 2.5225"
          ]
        },
        {
          "name": "stderr",
          "output_type": "stream",
          "text": [
            "2023-12-08 21:12:50.513803: I tensorflow/core/kernels/data/shuffle_dataset_op.cc:422] ShuffleDatasetV3:35: Filling up shuffle buffer (this may take a while): 1925 of 2000\n"
          ]
        },
        {
          "name": "stdout",
          "output_type": "stream",
          "text": [
            "185/250 [=====================>........] - ETA: 26s - loss: 6.3419 - root_mean_squared_error: 2.5183"
          ]
        },
        {
          "name": "stderr",
          "output_type": "stream",
          "text": [
            "2023-12-08 21:12:50.901655: I tensorflow/core/kernels/data/shuffle_dataset_op.cc:452] Shuffle buffer filled.\n"
          ]
        },
        {
          "name": "stdout",
          "output_type": "stream",
          "text": [
            "216/250 [========================>.....] - ETA: 13s - loss: 6.2990 - root_mean_squared_error: 2.5098"
          ]
        },
        {
          "name": "stderr",
          "output_type": "stream",
          "text": [
            "2023-12-08 21:13:03.418447: I tensorflow/core/kernels/data/shuffle_dataset_op.cc:422] ShuffleDatasetV3:35: Filling up shuffle buffer (this may take a while): 1909 of 2000\n"
          ]
        },
        {
          "name": "stdout",
          "output_type": "stream",
          "text": [
            "217/250 [=========================>....] - ETA: 13s - loss: 6.2979 - root_mean_squared_error: 2.5096"
          ]
        },
        {
          "name": "stderr",
          "output_type": "stream",
          "text": [
            "2023-12-08 21:13:03.894687: I tensorflow/core/kernels/data/shuffle_dataset_op.cc:452] Shuffle buffer filled.\n"
          ]
        },
        {
          "name": "stdout",
          "output_type": "stream",
          "text": [
            "248/250 [============================>.] - ETA: 0s - loss: 6.3101 - root_mean_squared_error: 2.5120"
          ]
        },
        {
          "name": "stderr",
          "output_type": "stream",
          "text": [
            "2023-12-08 21:13:16.322780: I tensorflow/core/kernels/data/shuffle_dataset_op.cc:422] ShuffleDatasetV3:35: Filling up shuffle buffer (this may take a while): 1929 of 2000\n"
          ]
        },
        {
          "name": "stdout",
          "output_type": "stream",
          "text": [
            "249/250 [============================>.] - ETA: 0s - loss: 6.2976 - root_mean_squared_error: 2.5095"
          ]
        },
        {
          "name": "stderr",
          "output_type": "stream",
          "text": [
            "2023-12-08 21:13:16.689735: I tensorflow/core/kernels/data/shuffle_dataset_op.cc:452] Shuffle buffer filled.\n"
          ]
        },
        {
          "name": "stdout",
          "output_type": "stream",
          "text": [
            "250/250 [==============================] - 149s 598ms/step - loss: 6.2876 - root_mean_squared_error: 2.5075 - val_loss: 4.3810 - val_root_mean_squared_error: 2.0931\n",
            "Epoch 50/50\n",
            " 30/250 [==>...........................] - ETA: 1:28 - loss: 6.9297 - root_mean_squared_error: 2.6324"
          ]
        },
        {
          "name": "stderr",
          "output_type": "stream",
          "text": [
            "2023-12-08 21:14:17.555424: I tensorflow/core/kernels/data/shuffle_dataset_op.cc:422] ShuffleDatasetV3:35: Filling up shuffle buffer (this may take a while): 1907 of 2000\n"
          ]
        },
        {
          "name": "stdout",
          "output_type": "stream",
          "text": [
            " 32/250 [==>...........................] - ETA: 1:27 - loss: 6.7801 - root_mean_squared_error: 2.6039"
          ]
        },
        {
          "name": "stderr",
          "output_type": "stream",
          "text": [
            "2023-12-08 21:14:18.042226: I tensorflow/core/kernels/data/shuffle_dataset_op.cc:452] Shuffle buffer filled.\n"
          ]
        },
        {
          "name": "stdout",
          "output_type": "stream",
          "text": [
            " 62/250 [======>.......................] - ETA: 1:15 - loss: 6.4139 - root_mean_squared_error: 2.5326"
          ]
        },
        {
          "name": "stderr",
          "output_type": "stream",
          "text": [
            "2023-12-08 21:14:30.415228: I tensorflow/core/kernels/data/shuffle_dataset_op.cc:422] ShuffleDatasetV3:35: Filling up shuffle buffer (this may take a while): 1942 of 2000\n"
          ]
        },
        {
          "name": "stdout",
          "output_type": "stream",
          "text": [
            " 63/250 [======>.......................] - ETA: 1:15 - loss: 6.3942 - root_mean_squared_error: 2.5287"
          ]
        },
        {
          "name": "stderr",
          "output_type": "stream",
          "text": [
            "2023-12-08 21:14:30.715294: I tensorflow/core/kernels/data/shuffle_dataset_op.cc:452] Shuffle buffer filled.\n"
          ]
        },
        {
          "name": "stdout",
          "output_type": "stream",
          "text": [
            " 94/250 [==========>...................] - ETA: 1:02 - loss: 6.2745 - root_mean_squared_error: 2.5049"
          ]
        },
        {
          "name": "stderr",
          "output_type": "stream",
          "text": [
            "2023-12-08 21:14:43.283097: I tensorflow/core/kernels/data/shuffle_dataset_op.cc:422] ShuffleDatasetV3:35: Filling up shuffle buffer (this may take a while): 1877 of 2000\n"
          ]
        },
        {
          "name": "stdout",
          "output_type": "stream",
          "text": [
            " 96/250 [==========>...................] - ETA: 1:01 - loss: 6.3093 - root_mean_squared_error: 2.5118"
          ]
        },
        {
          "name": "stderr",
          "output_type": "stream",
          "text": [
            "2023-12-08 21:14:43.930377: I tensorflow/core/kernels/data/shuffle_dataset_op.cc:452] Shuffle buffer filled.\n"
          ]
        },
        {
          "name": "stdout",
          "output_type": "stream",
          "text": [
            "126/250 [==============>...............] - ETA: 49s - loss: 6.3837 - root_mean_squared_error: 2.5266"
          ]
        },
        {
          "name": "stderr",
          "output_type": "stream",
          "text": [
            "2023-12-08 21:14:56.177535: I tensorflow/core/kernels/data/shuffle_dataset_op.cc:422] ShuffleDatasetV3:35: Filling up shuffle buffer (this may take a while): 1924 of 2000\n"
          ]
        },
        {
          "name": "stdout",
          "output_type": "stream",
          "text": [
            "127/250 [==============>...............] - ETA: 49s - loss: 6.4096 - root_mean_squared_error: 2.5317"
          ]
        },
        {
          "name": "stderr",
          "output_type": "stream",
          "text": [
            "2023-12-08 21:14:56.574460: I tensorflow/core/kernels/data/shuffle_dataset_op.cc:452] Shuffle buffer filled.\n"
          ]
        },
        {
          "name": "stdout",
          "output_type": "stream",
          "text": [
            "158/250 [=================>............] - ETA: 37s - loss: 6.3429 - root_mean_squared_error: 2.5185"
          ]
        },
        {
          "name": "stderr",
          "output_type": "stream",
          "text": [
            "2023-12-08 21:15:09.061651: I tensorflow/core/kernels/data/shuffle_dataset_op.cc:422] ShuffleDatasetV3:35: Filling up shuffle buffer (this may take a while): 1939 of 2000\n"
          ]
        },
        {
          "name": "stdout",
          "output_type": "stream",
          "text": [
            "159/250 [==================>...........] - ETA: 36s - loss: 6.3474 - root_mean_squared_error: 2.5194"
          ]
        },
        {
          "name": "stderr",
          "output_type": "stream",
          "text": [
            "2023-12-08 21:15:09.381954: I tensorflow/core/kernels/data/shuffle_dataset_op.cc:452] Shuffle buffer filled.\n"
          ]
        },
        {
          "name": "stdout",
          "output_type": "stream",
          "text": [
            "190/250 [=====================>........] - ETA: 24s - loss: 6.2432 - root_mean_squared_error: 2.4986"
          ]
        },
        {
          "name": "stderr",
          "output_type": "stream",
          "text": [
            "2023-12-08 21:15:21.943754: I tensorflow/core/kernels/data/shuffle_dataset_op.cc:422] ShuffleDatasetV3:35: Filling up shuffle buffer (this may take a while): 1928 of 2000\n"
          ]
        },
        {
          "name": "stdout",
          "output_type": "stream",
          "text": [
            "191/250 [=====================>........] - ETA: 23s - loss: 6.2454 - root_mean_squared_error: 2.4991"
          ]
        },
        {
          "name": "stderr",
          "output_type": "stream",
          "text": [
            "2023-12-08 21:15:22.316548: I tensorflow/core/kernels/data/shuffle_dataset_op.cc:452] Shuffle buffer filled.\n"
          ]
        },
        {
          "name": "stdout",
          "output_type": "stream",
          "text": [
            "222/250 [=========================>....] - ETA: 11s - loss: 6.3750 - root_mean_squared_error: 2.5249"
          ]
        },
        {
          "name": "stderr",
          "output_type": "stream",
          "text": [
            "2023-12-08 21:15:34.844854: I tensorflow/core/kernels/data/shuffle_dataset_op.cc:422] ShuffleDatasetV3:35: Filling up shuffle buffer (this may take a while): 1936 of 2000\n"
          ]
        },
        {
          "name": "stdout",
          "output_type": "stream",
          "text": [
            "223/250 [=========================>....] - ETA: 10s - loss: 6.3701 - root_mean_squared_error: 2.5239"
          ]
        },
        {
          "name": "stderr",
          "output_type": "stream",
          "text": [
            "2023-12-08 21:15:35.177619: I tensorflow/core/kernels/data/shuffle_dataset_op.cc:452] Shuffle buffer filled.\n"
          ]
        },
        {
          "name": "stdout",
          "output_type": "stream",
          "text": [
            "250/250 [==============================] - ETA: 0s - loss: 6.4304 - root_mean_squared_error: 2.5358"
          ]
        },
        {
          "name": "stderr",
          "output_type": "stream",
          "text": [
            "2023-12-08 21:15:47.755196: I tensorflow/core/kernels/data/shuffle_dataset_op.cc:422] ShuffleDatasetV3:35: Filling up shuffle buffer (this may take a while): 1891 of 2000\n",
            "2023-12-08 21:15:48.381063: I tensorflow/core/kernels/data/shuffle_dataset_op.cc:452] Shuffle buffer filled.\n"
          ]
        },
        {
          "name": "stdout",
          "output_type": "stream",
          "text": [
            "250/250 [==============================] - 149s 596ms/step - loss: 6.4304 - root_mean_squared_error: 2.5358 - val_loss: 4.3805 - val_root_mean_squared_error: 2.0930\n"
          ]
        }
      ],
      "source": [
        "# fit the model\n",
        "history = m.fit(\n",
        "    x=training,\n",
        "    epochs=50,\n",
        "    # epochs=EPOCHS,\n",
        "    steps_per_epoch=int(TRAIN_SIZE / BATCH_SIZE),\n",
        "    validation_data=evaluation,\n",
        "    validation_steps=EVAL_SIZE\n",
        ")"
      ]
    },
    {
      "cell_type": "code",
      "execution_count": 74,
      "metadata": {},
      "outputs": [],
      "source": [
        "# save the model to a local file \n",
        "MODEL_NAME = 'unet_viirs_e50.keras'\n",
        "m.save(HOME_PATH + DATA_PATH + FOLDER + MODEL_NAME)"
      ]
    },
    {
      "cell_type": "markdown",
      "metadata": {
        "id": "U2XrwZHp66j4"
      },
      "source": [
        "Note that the notebook VM is sometimes not heavy-duty enough to get through a whole training job, especially if you have a large buffer size or a large number of epochs.  You can still use this notebook for training, but may need to set up an alternative VM ([learn more](https://research.google.com/colaboratory/local-runtimes.html)) for production use.  Alternatively, you can package your code for running large training jobs on Google's AI Platform [as described here](https://cloud.google.com/ml-engine/docs/tensorflow/trainer-considerations).  The following code loads a pre-trained model, which you can use for predictions right away."
      ]
    },
    {
      "cell_type": "code",
      "execution_count": null,
      "metadata": {
        "id": "-RJpNfEUS1qp"
      },
      "outputs": [],
      "source": [
        "# import os\n",
        "# os.environ[\"GOOGLE_APPLICATION_CREDENTIALS\"] = \"/Users/ilyonsg/.config/gcloud/application_default_credentials.json\"\n",
        "# Load a trained model. 50 epochs. 25 hours. Final RMSE ~0.08.\n",
        "\n",
        "\n",
        "# MODEL_DIR = 'gs://ee-docs-demos/fcnn-demo/trainer/model'\n",
        "m = tf.keras.models.load_model(HOME_PATH + DATA_PATH + FOLDER + MODEL_NAME)\n",
        "m.summary()"
      ]
    },
    {
      "cell_type": "markdown",
      "metadata": {},
      "source": [
        "# Evaluation\n",
        "Let's look at how the model performed in terms of loss while it trained."
      ]
    },
    {
      "cell_type": "code",
      "execution_count": 75,
      "metadata": {},
      "outputs": [
        {
          "data": {
            "image/png": "[encoded data removed]",
            "text/plain": [
              "<Figure size 640x480 with 1 Axes>"
            ]
          },
          "metadata": {},
          "output_type": "display_data"
        }
      ],
      "source": [
        "# plot the training and validation loss\n",
        "import matplotlib.pyplot as plt\n",
        "\n",
        "plt.plot(history.history['root_mean_squared_error'])\n",
        "plt.plot(history.history['val_root_mean_squared_error'])\n",
        "plt.title('Model RMSE')\n",
        "plt.ylabel('RMSE')\n",
        "plt.xlabel('Epoch')\n",
        "plt.legend(['Train', 'Test'], loc='upper left')\n",
        "plt.show()\n"
      ]
    },
    {
      "cell_type": "markdown",
      "metadata": {
        "id": "J1ySNup0xCqN"
      },
      "source": [
        "# Prediction\n",
        "\n",
        "The prediction pipeline is:\n",
        "\n",
        "1.  Export imagery on which to do predictions from Earth Engine in TFRecord format to a Cloud Storage bucket.\n",
        "2.  Use the trained model to make the predictions.\n",
        "3.  Write the predictions to a TFRecord file in a Cloud Storage.\n",
        "4.  Upload the predictions TFRecord file to Earth Engine.\n",
        "\n",
        "The following functions handle this process.  It's useful to separate the export from the predictions so that you can experiment with different models without running the export every time."
      ]
    },
    {
      "cell_type": "markdown",
      "metadata": {},
      "source": [
        "## Export Sample Imagery for Prediction"
      ]
    },
    {
      "cell_type": "code",
      "execution_count": null,
      "metadata": {
        "id": "M3WDAa-RUpXP"
      },
      "outputs": [],
      "source": [
        "def doExport(out_image_base, kernel_buffer, region):\n",
        "  \"\"\"Run the image export task.  Block until complete.\n",
        "  \"\"\"\n",
        "  task = ee.batch.Export.image.toCloudStorage(\n",
        "    image = image.select(BANDS),\n",
        "    description = out_image_base,\n",
        "    bucket = BUCKET,\n",
        "    fileNamePrefix = FOLDER + out_image_base,\n",
        "    region = region.getInfo()['coordinates'],\n",
        "    scale = 30,\n",
        "    fileFormat = 'TFRecord',\n",
        "    maxPixels = 1e10,\n",
        "    formatOptions = {\n",
        "      'patchDimensions': KERNEL_SHAPE,\n",
        "      'kernelSize': kernel_buffer,\n",
        "      'compressed': True,\n",
        "      'maxFileSize': 104857600\n",
        "    }\n",
        "  )\n",
        "  task.start()\n",
        "\n",
        "  # Block until the task completes.\n",
        "  print('Running image export to Cloud Storage...')\n",
        "  import time\n",
        "  while task.active():\n",
        "    time.sleep(30)\n",
        "\n",
        "  # Error condition\n",
        "  if task.status()['state'] != 'COMPLETED':\n",
        "    print('Error with image export.')\n",
        "  else:\n",
        "    print('Image export completed.')"
      ]
    },
    {
      "cell_type": "markdown",
      "metadata": {},
      "source": [
        "## Define Code for Running Model on Prediction Data\n",
        "Modified to run on local data."
      ]
    },
    {
      "cell_type": "code",
      "execution_count": null,
      "metadata": {
        "id": "zb_9_FflygVw"
      },
      "outputs": [],
      "source": [
        "def doPrediction(out_image_base, kernel_buffer):\n",
        "  \"\"\"Perform inference on exported imagery, upload to Earth Engine.\n",
        "  \"\"\"\n",
        "\n",
        "  print('Looking for TFRecord files...')\n",
        "\n",
        "  # # Get a list of all the files in the output bucket.\n",
        "  # filesList = !gsutil ls 'gs://'{BUCKET}'/'{FOLDER}\n",
        "  # Get a list of all local files in /data/unet-mini\n",
        "  filesList = !ls {HOME_PATH}{DATA_PATH}{FOLDER}\n",
        "\n",
        "  # Get only the files generated by the image export.\n",
        "  exportFilesList = [s for s in filesList if out_image_base in s]\n",
        "\n",
        "  # Get the list of image files and the JSON mixer file.\n",
        "  imageFilesList = []\n",
        "  jsonFile = None\n",
        "  for f in exportFilesList:\n",
        "    if f.endswith('.tfrecord.gz'):\n",
        "      imageFilesList.append(f)\n",
        "    elif f.endswith('.json'):\n",
        "      jsonFile = f\n",
        "\n",
        "  # Make sure the files are in the right order.\n",
        "  imageFilesList.sort()\n",
        "\n",
        "  from pprint import pprint\n",
        "  pprint(imageFilesList)\n",
        "  print('here I am')\n",
        "  print(jsonFile)\n",
        "\n",
        "  import json\n",
        "  # Load the contents of the mixer file to a JSON object.\n",
        "  # jsonText = !{GCLOUD_PATH}gsutil cat {jsonFile}  \n",
        "  # jsonText = !cat '/home/isly9493/csci5922/proj/data/viirs-usa/FCNN_demo_beijing_384_mixer.json'\n",
        "  jsonText = !cat {HOME_PATH}{DATA_PATH}{FOLDER}{jsonFile}\n",
        "  print(jsonText)\n",
        "  # Get a single string w/ newlines from the IPython.utils.text.SList\n",
        "  mixer = json.loads(jsonText.nlstr)\n",
        "  pprint(mixer)\n",
        "  patches = mixer['totalPatches']\n",
        "\n",
        "\n",
        "\n",
        "  buffered_shape = [\n",
        "      KERNEL_SHAPE[0] + kernel_buffer[0],\n",
        "      KERNEL_SHAPE[1] + kernel_buffer[1]]\n",
        "\n",
        "  imageColumns = [\n",
        "    tf.io.FixedLenFeature(shape=buffered_shape, dtype=tf.float32)\n",
        "      for k in BANDS\n",
        "  ]\n",
        "\n",
        "  imageFeaturesDict = dict(zip(BANDS, imageColumns))\n",
        "\n",
        "  def parse_image(example_proto):\n",
        "    return tf.io.parse_single_example(example_proto, imageFeaturesDict)\n",
        "\n",
        "  def toTupleImage(inputs):\n",
        "    inputsList = [inputs.get(key) for key in BANDS]\n",
        "    stacked = tf.stack(inputsList, axis=0)\n",
        "    stacked = tf.transpose(stacked, [1, 2, 0])\n",
        "    return stacked\n",
        "\n",
        "  # append absolute path to imageFilesList\n",
        "  imageFilesList = [HOME_PATH + DATA_PATH + FOLDER + f for f in imageFilesList]\n",
        "  print(imageFilesList)\n",
        "  \n",
        "  # Create a dataset from the TFRecord file(s) in Cloud Storage.\n",
        "  imageDataset = tf.data.TFRecordDataset(imageFilesList, compression_type='GZIP')\n",
        "  imageDataset = imageDataset.map(parse_image, num_parallel_calls=5)\n",
        "  imageDataset = imageDataset.map(toTupleImage).batch(1)\n",
        "\n",
        "  # print(imageDataset)\n",
        "\n",
        "  # Perform inference.\n",
        "  print('Running predictions...')\n",
        "  predictions = m.predict(imageDataset, steps=patches, verbose=1)\n",
        "  # print(predictions[0])\n",
        "  return predictions"
      ]
    },
    {
      "cell_type": "code",
      "execution_count": null,
      "metadata": {},
      "outputs": [],
      "source": [
        "\n",
        "def writePredictions(predictions, out_image_base, kernel_buffer):\n",
        "  print('Writing predictions...')\n",
        "  out_image_file = 'gs://' + BUCKET + '/' + FOLDER + out_image_base + '.TFRecord'\n",
        "  # out_image_file = '/home/isly9493/csci5922/proj/data/unet-mini/' + out_image_base + '.TFRecord'\n",
        "\n",
        "  # Get set up for prediction.\n",
        "  x_buffer = int(kernel_buffer[0] / 2)\n",
        "  y_buffer = int(kernel_buffer[1] / 2)\n",
        "  \n",
        "  \n",
        "  writer = tf.io.TFRecordWriter(out_image_file)\n",
        "  patches = 0\n",
        "  for predictionPatch in predictions:\n",
        "    print('Writing patch ' + str(patches) + '...')\n",
        "    predictionPatch = predictionPatch[\n",
        "        x_buffer:x_buffer+KERNEL_SIZE, y_buffer:y_buffer+KERNEL_SIZE]\n",
        "\n",
        "    # Create an example.\n",
        "    example = tf.train.Example(\n",
        "      features=tf.train.Features(\n",
        "        feature={\n",
        "          'impervious': tf.train.Feature(\n",
        "            float_list=tf.train.FloatList(\n",
        "              value=predictionPatch.flatten()\n",
        "            )\n",
        "          )\n",
        "        }\n",
        "      )\n",
        "    )\n",
        "    # Write the example.\n",
        "    writer.write(example.SerializeToString())\n",
        "    patches += 1\n",
        "\n",
        "  print('Done for looping.')\n",
        "  writer.close()\n"
      ]
    },
    {
      "cell_type": "code",
      "execution_count": null,
      "metadata": {},
      "outputs": [],
      "source": [
        "def uploadPredictionsToEE(out_image_base, user_folder):\n",
        "  # Start the upload.\n",
        "  print('Uploading to Google Earth Egnine...')\n",
        "  \n",
        "  # define file paths\n",
        "  out_image_file = 'gs://' + BUCKET + '/' + FOLDER + '/' + out_image_base + '.TFRecord'\n",
        "  out_image_asset = user_folder + '/' + out_image_base\n",
        "  jsonFile = 'gs://' + BUCKET + '/' + FOLDER + '/' + 'FCNN_demo_beijing_384_mixer.json'\n",
        "  # jsonFile = '/home/isly9493/csci5922/proj/data/unet-mini/FCNN_demo_beijing_384_mixer.json'\n",
        "  \n",
        "  print('out_image_asset: ', out_image_asset)\n",
        "  print('out_image_file: ', out_image_file)\n",
        "  print('jsonFile: ', jsonFile)\n",
        "  \n",
        "  # upload file to google earth engine from gcs\n",
        "  # !earthengine upload image --asset_id={out_image_asset} {out_image_file} {jsonFile}\n",
        "  !earthengine upload image --asset_id={out_image_asset} {out_image_file} {jsonFile}"
      ]
    },
    {
      "cell_type": "markdown",
      "metadata": {
        "id": "LZqlymOehnQO"
      },
      "source": [
        "Now there's all the code needed to run the prediction pipeline, all that remains is to specify the output region in which to do the prediction, the names of the output files, where to put them, and the shape of the outputs.  In terms of the shape, the model is trained on 256x256 patches, but can work (in theory) on any patch that's big enough with even dimensions ([reference](https://www.cv-foundation.org/openaccess/content_cvpr_2015/papers/Long_Fully_Convolutional_Networks_2015_CVPR_paper.pdf)).  Because of tile boundary artifacts, give the model slightly larger patches for prediction, then clip out the middle 256x256 patch.  This is controlled with a kernel buffer, half the size of which will extend beyond the kernel buffer.  For example, specifying a 128x128 kernel will append 64 pixels on each side of the patch, to ensure that the pixels in the output are taken from inputs completely covered by the kernel."
      ]
    },
    {
      "cell_type": "markdown",
      "metadata": {},
      "source": [
        "### Specify Region and Outputs for Prediction"
      ]
    },
    {
      "cell_type": "code",
      "execution_count": null,
      "metadata": {
        "id": "FPANwc7B1-TS"
      },
      "outputs": [],
      "source": [
        "# Output assets folder: YOUR FOLDER\n",
        "user_folder = 'projects/'+GCS_PROJECT+'/assets' # INSERT YOUR FOLDER HERE.\n",
        "\n",
        "# Base file name to use for TFRecord files and assets.\n",
        "bj_image_base = 'FCNN_demo_beijing_384_'\n",
        "# Half this will extend on the sides of each patch.\n",
        "bj_kernel_buffer = [128, 128]\n",
        "# Beijing\n",
        "bj_region = ee.Geometry.Polygon(\n",
        "        [[[115.9662455210937, 40.121362012835235],\n",
        "          [115.9662455210937, 39.64293313749715],\n",
        "          [117.01818643906245, 39.64293313749715],\n",
        "          [117.01818643906245, 40.121362012835235]]], None, False)"
      ]
    },
    {
      "cell_type": "code",
      "execution_count": null,
      "metadata": {
        "id": "lLNEOLkXWvSi"
      },
      "outputs": [],
      "source": [
        "# Run the export.\n",
        "doExport(bj_image_base, bj_kernel_buffer, bj_region)"
      ]
    },
    {
      "cell_type": "code",
      "execution_count": null,
      "metadata": {},
      "outputs": [],
      "source": [
        "# copy the file from cloud storage to local\n",
        "!{GCLOUD_PATH}gsutil -m cp \\\n",
        "  \"gs://csci5922-proj/viirs-usa/FCNN_demo_beijing_384_00000.tfrecord.gz\" \\\n",
        "  \"gs://csci5922-proj/viirs-usa/FCNN_demo_beijing_384_00001.tfrecord.gz\" \\\n",
        "  \"gs://csci5922-proj/viirs-usa/FCNN_demo_beijing_384_00002.tfrecord.gz\" \\\n",
        "  \"gs://csci5922-proj/viirs-usa/FCNN_demo_beijing_384_00003.tfrecord.gz\" \\\n",
        "  \"gs://csci5922-proj/viirs-usa/FCNN_demo_beijing_384_00004.tfrecord.gz\" \\\n",
        "  \"gs://csci5922-proj/viirs-usa/FCNN_demo_beijing_384_mixer.json\" \\\n",
        "  \"/home/isly9493/csci5922/proj/data/viirs-usa/\"\n"
      ]
    },
    {
      "cell_type": "code",
      "execution_count": 76,
      "metadata": {
        "id": "KxACnxKFrQ_J"
      },
      "outputs": [
        {
          "name": "stdout",
          "output_type": "stream",
          "text": [
            "Looking for TFRecord files...\n",
            "['FCNN_demo_beijing_384_00000.tfrecord.gz',\n",
            " 'FCNN_demo_beijing_384_00001.tfrecord.gz',\n",
            " 'FCNN_demo_beijing_384_00002.tfrecord.gz',\n",
            " 'FCNN_demo_beijing_384_00003.tfrecord.gz',\n",
            " 'FCNN_demo_beijing_384_00004.tfrecord.gz']\n",
            "here I am\n",
            "FCNN_demo_beijing_384_mixer.json\n",
            "['{', '  \"projection\": {', '    \"crs\": \"EPSG:4326\",', '    \"affine\": {', '      \"doubleMatrix\": [2.6949458523585647E-4, 0.0, 115.9662149728414, 0.0, -2.6949458523585647E-4, 40.122623344499544]', '    }', '  },', '  \"patchDimensions\": [256, 256],', '  \"patchesPerRow\": 15,', '  \"totalPatches\": 90', '}']\n",
            "{'patchDimensions': [256, 256],\n",
            " 'patchesPerRow': 15,\n",
            " 'projection': {'affine': {'doubleMatrix': [0.00026949458523585647,\n",
            "                                            0.0,\n",
            "                                            115.9662149728414,\n",
            "                                            0.0,\n",
            "                                            -0.00026949458523585647,\n",
            "                                            40.122623344499544]},\n",
            "                'crs': 'EPSG:4326'},\n",
            " 'totalPatches': 90}\n",
            "['/home/isly9493/csci5922/proj/data/viirs-usa/FCNN_demo_beijing_384_00000.tfrecord.gz', '/home/isly9493/csci5922/proj/data/viirs-usa/FCNN_demo_beijing_384_00001.tfrecord.gz', '/home/isly9493/csci5922/proj/data/viirs-usa/FCNN_demo_beijing_384_00002.tfrecord.gz', '/home/isly9493/csci5922/proj/data/viirs-usa/FCNN_demo_beijing_384_00003.tfrecord.gz', '/home/isly9493/csci5922/proj/data/viirs-usa/FCNN_demo_beijing_384_00004.tfrecord.gz']\n",
            "Running predictions...\n",
            "90/90 [==============================] - 1s 12ms/step\n"
          ]
        }
      ],
      "source": [
        "# Run the prediction.\n",
        "predictions = doPrediction(bj_image_base, bj_kernel_buffer)\n"
      ]
    },
    {
      "cell_type": "code",
      "execution_count": 77,
      "metadata": {},
      "outputs": [
        {
          "name": "stdout",
          "output_type": "stream",
          "text": [
            "Writing predictions...\n",
            "Writing patch 0...\n",
            "Writing patch 1...\n",
            "Writing patch 2...\n",
            "Writing patch 3...\n",
            "Writing patch 4...\n",
            "Writing patch 5...\n",
            "Writing patch 6...\n",
            "Writing patch 7...\n",
            "Writing patch 8...\n",
            "Writing patch 9...\n",
            "Writing patch 10...\n",
            "Writing patch 11...\n",
            "Writing patch 12...\n",
            "Writing patch 13...\n",
            "Writing patch 14...\n",
            "Writing patch 15...\n",
            "Writing patch 16...\n",
            "Writing patch 17...\n",
            "Writing patch 18...\n",
            "Writing patch 19...\n",
            "Writing patch 20...\n",
            "Writing patch 21...\n",
            "Writing patch 22...\n",
            "Writing patch 23...\n",
            "Writing patch 24...\n",
            "Writing patch 25...\n",
            "Writing patch 26...\n",
            "Writing patch 27...\n",
            "Writing patch 28...\n",
            "Writing patch 29...\n",
            "Writing patch 30...\n",
            "Writing patch 31...\n",
            "Writing patch 32...\n",
            "Writing patch 33...\n",
            "Writing patch 34...\n",
            "Writing patch 35...\n",
            "Writing patch 36...\n",
            "Writing patch 37...\n",
            "Writing patch 38...\n",
            "Writing patch 39...\n",
            "Writing patch 40...\n",
            "Writing patch 41...\n",
            "Writing patch 42...\n",
            "Writing patch 43...\n",
            "Writing patch 44...\n",
            "Writing patch 45...\n",
            "Writing patch 46...\n",
            "Writing patch 47...\n",
            "Writing patch 48...\n",
            "Writing patch 49...\n",
            "Writing patch 50...\n",
            "Writing patch 51...\n",
            "Writing patch 52...\n",
            "Writing patch 53...\n",
            "Writing patch 54...\n",
            "Writing patch 55...\n",
            "Writing patch 56...\n",
            "Writing patch 57...\n",
            "Writing patch 58...\n",
            "Writing patch 59...\n",
            "Writing patch 60...\n",
            "Writing patch 61...\n",
            "Writing patch 62...\n",
            "Writing patch 63...\n",
            "Writing patch 64...\n",
            "Writing patch 65...\n",
            "Writing patch 66...\n",
            "Writing patch 67...\n",
            "Writing patch 68...\n",
            "Writing patch 69...\n",
            "Writing patch 70...\n",
            "Writing patch 71...\n",
            "Writing patch 72...\n",
            "Writing patch 73...\n",
            "Writing patch 74...\n",
            "Writing patch 75...\n",
            "Writing patch 76...\n",
            "Writing patch 77...\n",
            "Writing patch 78...\n",
            "Writing patch 79...\n",
            "Writing patch 80...\n",
            "Writing patch 81...\n",
            "Writing patch 82...\n",
            "Writing patch 83...\n",
            "Writing patch 84...\n",
            "Writing patch 85...\n",
            "Writing patch 86...\n",
            "Writing patch 87...\n",
            "Writing patch 88...\n",
            "Writing patch 89...\n",
            "Done for looping.\n"
          ]
        }
      ],
      "source": [
        "# Write the predictions.\n",
        "writePredictions(predictions, bj_image_base, bj_kernel_buffer)"
      ]
    },
    {
      "cell_type": "code",
      "execution_count": 78,
      "metadata": {},
      "outputs": [
        {
          "name": "stdout",
          "output_type": "stream",
          "text": [
            "Uploading to Google Earth Egnine...\n",
            "out_image_asset:  projects/master-thesis-ilg/assets/FCNN_demo_beijing_384_\n",
            "out_image_file:  gs://csci5922-proj/viirs-usa//FCNN_demo_beijing_384_.TFRecord\n",
            "jsonFile:  gs://csci5922-proj/viirs-usa//FCNN_demo_beijing_384_mixer.json\n",
            "Started upload task with ID: DEFIVQWVPOBVJY5YLXXW6R5R\n"
          ]
        }
      ],
      "source": [
        "# upload to earth engine\n",
        "uploadPredictionsToEE(bj_image_base, user_folder)"
      ]
    },
    {
      "cell_type": "markdown",
      "metadata": {
        "id": "uj_G9OZ1xH6K"
      },
      "source": [
        "# Display the output\n",
        "\n",
        "One the data has been exported, the model has made predictions and the predictions have been written to a file, and the image imported to Earth Engine, it's possible to display the resultant Earth Engine asset.  Here, display the impervious area predictions over Beijing, China."
      ]
    },
    {
      "cell_type": "code",
      "execution_count": 79,
      "metadata": {
        "id": "Jgco6HJ4R5p2"
      },
      "outputs": [
        {
          "data": {
            "text/html": [
              "<div style=\"width:100%;\"><div style=\"position:relative;width:100%;height:0;padding-bottom:60%;\"><span style=\"color:#565656\">Make this Notebook Trusted to load map: File -> Trust Notebook</span><iframe srcdoc=\"&lt;!DOCTYPE html&gt;\n",
              "&lt;html&gt;\n",
              "&lt;head&gt;\n",
              "    \n",
              "    &lt;meta http-equiv=&quot;content-type&quot; content=&quot;text/html; charset=UTF-8&quot; /&gt;\n",
              "    \n",
              "        &lt;script&gt;\n",
              "            L_NO_TOUCH = false;\n",
              "            L_DISABLE_3D = false;\n",
              "        &lt;/script&gt;\n",
              "    \n",
              "    &lt;style&gt;html, body {width: 100%;height: 100%;margin: 0;padding: 0;}&lt;/style&gt;\n",
              "    &lt;style&gt;#map {position:absolute;top:0;bottom:0;right:0;left:0;}&lt;/style&gt;\n",
              "    &lt;script src=&quot;https://cdn.jsdelivr.net/npm/leaflet@1.9.3/dist/leaflet.js&quot;&gt;&lt;/script&gt;\n",
              "    &lt;script src=&quot;https://code.jquery.com/jquery-3.7.1.min.js&quot;&gt;&lt;/script&gt;\n",
              "    &lt;script src=&quot;https://cdn.jsdelivr.net/npm/bootstrap@5.2.2/dist/js/bootstrap.bundle.min.js&quot;&gt;&lt;/script&gt;\n",
              "    &lt;script src=&quot;https://cdnjs.cloudflare.com/ajax/libs/Leaflet.awesome-markers/2.0.2/leaflet.awesome-markers.js&quot;&gt;&lt;/script&gt;\n",
              "    &lt;link rel=&quot;stylesheet&quot; href=&quot;https://cdn.jsdelivr.net/npm/leaflet@1.9.3/dist/leaflet.css&quot;/&gt;\n",
              "    &lt;link rel=&quot;stylesheet&quot; href=&quot;https://cdn.jsdelivr.net/npm/bootstrap@5.2.2/dist/css/bootstrap.min.css&quot;/&gt;\n",
              "    &lt;link rel=&quot;stylesheet&quot; href=&quot;https://netdna.bootstrapcdn.com/bootstrap/3.0.0/css/bootstrap.min.css&quot;/&gt;\n",
              "    &lt;link rel=&quot;stylesheet&quot; href=&quot;https://cdn.jsdelivr.net/npm/@fortawesome/fontawesome-free@6.2.0/css/all.min.css&quot;/&gt;\n",
              "    &lt;link rel=&quot;stylesheet&quot; href=&quot;https://cdnjs.cloudflare.com/ajax/libs/Leaflet.awesome-markers/2.0.2/leaflet.awesome-markers.css&quot;/&gt;\n",
              "    &lt;link rel=&quot;stylesheet&quot; href=&quot;https://cdn.jsdelivr.net/gh/python-visualization/folium/folium/templates/leaflet.awesome.rotate.min.css&quot;/&gt;\n",
              "    \n",
              "            &lt;meta name=&quot;viewport&quot; content=&quot;width=device-width,\n",
              "                initial-scale=1.0, maximum-scale=1.0, user-scalable=no&quot; /&gt;\n",
              "            &lt;style&gt;\n",
              "                #map_0ca625f1332ab7118283c8c04516c2e7 {\n",
              "                    position: relative;\n",
              "                    width: 100.0%;\n",
              "                    height: 100.0%;\n",
              "                    left: 0.0%;\n",
              "                    top: 0.0%;\n",
              "                }\n",
              "                .leaflet-container { font-size: 1rem; }\n",
              "            &lt;/style&gt;\n",
              "        \n",
              "&lt;/head&gt;\n",
              "&lt;body&gt;\n",
              "    \n",
              "    \n",
              "            &lt;div class=&quot;folium-map&quot; id=&quot;map_0ca625f1332ab7118283c8c04516c2e7&quot; &gt;&lt;/div&gt;\n",
              "        \n",
              "&lt;/body&gt;\n",
              "&lt;script&gt;\n",
              "    \n",
              "    \n",
              "            var map_0ca625f1332ab7118283c8c04516c2e7 = L.map(\n",
              "                &quot;map_0ca625f1332ab7118283c8c04516c2e7&quot;,\n",
              "                {\n",
              "                    center: [39.898, 116.5097],\n",
              "                    crs: L.CRS.EPSG3857,\n",
              "                    zoom: 11,\n",
              "                    zoomControl: true,\n",
              "                    preferCanvas: false,\n",
              "                }\n",
              "            );\n",
              "\n",
              "            \n",
              "\n",
              "        \n",
              "    \n",
              "            var tile_layer_7d928f6df5bb25add172a775fe7d5d9c = L.tileLayer(\n",
              "                &quot;https://tile.openstreetmap.org/{z}/{x}/{y}.png&quot;,\n",
              "                {&quot;attribution&quot;: &quot;\\u0026copy; \\u003ca href=\\&quot;https://www.openstreetmap.org/copyright\\&quot;\\u003eOpenStreetMap\\u003c/a\\u003e contributors&quot;, &quot;detectRetina&quot;: false, &quot;maxNativeZoom&quot;: 19, &quot;maxZoom&quot;: 19, &quot;minZoom&quot;: 0, &quot;noWrap&quot;: false, &quot;opacity&quot;: 1, &quot;subdomains&quot;: &quot;abc&quot;, &quot;tms&quot;: false}\n",
              "            );\n",
              "        \n",
              "    \n",
              "            tile_layer_7d928f6df5bb25add172a775fe7d5d9c.addTo(map_0ca625f1332ab7118283c8c04516c2e7);\n",
              "        \n",
              "    \n",
              "            var tile_layer_00a80847b922dacc25d124a0aa0d41b2 = L.tileLayer(\n",
              "                &quot;https://earthengine.googleapis.com/v1/projects/earthengine-legacy/maps/5665a5cebce37398a237faa7e9dc8090-eecf5913bd4950ed216316623f1c90c4/tiles/{z}/{x}/{y}&quot;,\n",
              "                {&quot;attribution&quot;: &quot;Map Data \\u0026copy; \\u003ca href=\\&quot;https://earthengine.google.com/\\&quot;\\u003eGoogle Earth Engine\\u003c/a\\u003e&quot;, &quot;detectRetina&quot;: false, &quot;maxNativeZoom&quot;: 18, &quot;maxZoom&quot;: 18, &quot;minZoom&quot;: 0, &quot;noWrap&quot;: false, &quot;opacity&quot;: 1, &quot;subdomains&quot;: &quot;abc&quot;, &quot;tms&quot;: false}\n",
              "            );\n",
              "        \n",
              "    \n",
              "            tile_layer_00a80847b922dacc25d124a0aa0d41b2.addTo(map_0ca625f1332ab7118283c8c04516c2e7);\n",
              "        \n",
              "    \n",
              "            var tile_layer_d22284e4fcabaa7786b522737325d571 = L.tileLayer(\n",
              "                &quot;https://earthengine.googleapis.com/v1/projects/earthengine-legacy/maps/d27abdc7f7a1b706bf4ffdd49895b65c-2fb3a30223dbf2297a4882e3b03f0735/tiles/{z}/{x}/{y}&quot;,\n",
              "                {&quot;attribution&quot;: &quot;Map Data \\u0026copy; \\u003ca href=\\&quot;https://earthengine.google.com/\\&quot;\\u003eGoogle Earth Engine\\u003c/a\\u003e&quot;, &quot;detectRetina&quot;: false, &quot;maxNativeZoom&quot;: 18, &quot;maxZoom&quot;: 18, &quot;minZoom&quot;: 0, &quot;noWrap&quot;: false, &quot;opacity&quot;: 1, &quot;subdomains&quot;: &quot;abc&quot;, &quot;tms&quot;: false}\n",
              "            );\n",
              "        \n",
              "    \n",
              "            tile_layer_d22284e4fcabaa7786b522737325d571.addTo(map_0ca625f1332ab7118283c8c04516c2e7);\n",
              "        \n",
              "    \n",
              "            var tile_layer_b009029048adf1372f86d7a211ec3351 = L.tileLayer(\n",
              "                &quot;https://earthengine.googleapis.com/v1/projects/earthengine-legacy/maps/b512c734daf93af8575d303b81c904e4-3a2414fbc26f56fe608fca1eae079ead/tiles/{z}/{x}/{y}&quot;,\n",
              "                {&quot;attribution&quot;: &quot;Map Data \\u0026copy; \\u003ca href=\\&quot;https://earthengine.google.com/\\&quot;\\u003eGoogle Earth Engine\\u003c/a\\u003e&quot;, &quot;detectRetina&quot;: false, &quot;maxNativeZoom&quot;: 18, &quot;maxZoom&quot;: 18, &quot;minZoom&quot;: 0, &quot;noWrap&quot;: false, &quot;opacity&quot;: 1, &quot;subdomains&quot;: &quot;abc&quot;, &quot;tms&quot;: false}\n",
              "            );\n",
              "        \n",
              "    \n",
              "            tile_layer_b009029048adf1372f86d7a211ec3351.addTo(map_0ca625f1332ab7118283c8c04516c2e7);\n",
              "        \n",
              "    \n",
              "            var layer_control_e17eaa7b5d4c38c5a26afa3ca3580bbe_layers = {\n",
              "                base_layers : {\n",
              "                    &quot;openstreetmap&quot; : tile_layer_7d928f6df5bb25add172a775fe7d5d9c,\n",
              "                },\n",
              "                overlays :  {\n",
              "                    &quot;viirs dnb&quot; : tile_layer_00a80847b922dacc25d124a0aa0d41b2,\n",
              "                    &quot;predicted nightlights&quot; : tile_layer_d22284e4fcabaa7786b522737325d571,\n",
              "                    &quot;difference&quot; : tile_layer_b009029048adf1372f86d7a211ec3351,\n",
              "                },\n",
              "            };\n",
              "            let layer_control_e17eaa7b5d4c38c5a26afa3ca3580bbe = L.control.layers(\n",
              "                layer_control_e17eaa7b5d4c38c5a26afa3ca3580bbe_layers.base_layers,\n",
              "                layer_control_e17eaa7b5d4c38c5a26afa3ca3580bbe_layers.overlays,\n",
              "                {&quot;autoZIndex&quot;: true, &quot;collapsed&quot;: true, &quot;position&quot;: &quot;topright&quot;}\n",
              "            ).addTo(map_0ca625f1332ab7118283c8c04516c2e7);\n",
              "\n",
              "        \n",
              "&lt;/script&gt;\n",
              "&lt;/html&gt;\" style=\"position:absolute;width:100%;height:100%;left:0;top:0;border:none !important;\" allowfullscreen webkitallowfullscreen mozallowfullscreen></iframe></div></div>"
            ],
            "text/plain": [
              "<folium.folium.Map at 0x7f60f01a1450>"
            ]
          },
          "execution_count": 79,
          "metadata": {},
          "output_type": "execute_result"
        }
      ],
      "source": [
        "map = folium.Map(location=[39.898, 116.5097], zoom_start=11)\n",
        "\n",
        "# actual viirs\n",
        "viirs = ee.ImageCollection('NOAA/VIIRS/DNB/MONTHLY_V1/VCMSLCFG').select('avg_rad').filterDate('2021-01-01', '2022-12-31').median().divide(60).float()\n",
        "actual_image = viirs.clip(bj_region)\n",
        "mapid = viirs.getMapId({'min': 0, 'max': 1}) # normally max 1.0\n",
        "folium.TileLayer(\n",
        "    tiles=mapid['tile_fetcher'].url_format,\n",
        "    attr='Map Data &copy; <a href=\"https://earthengine.google.com/\">Google Earth Engine</a>',\n",
        "    overlay=True,\n",
        "    name='viirs dnb',\n",
        "  ).add_to(map)\n",
        "\n",
        "# prediction\n",
        "out_image = ee.Image(user_folder + '/' + bj_image_base)\n",
        "mapid = out_image.getMapId({'min': 0, 'max': 1})\n",
        "folium.TileLayer(\n",
        "    tiles=mapid['tile_fetcher'].url_format,\n",
        "    attr='Map Data &copy; <a href=\"https://earthengine.google.com/\">Google Earth Engine</a>',\n",
        "    overlay=True,\n",
        "    name='predicted nightlights',\n",
        "  ).add_to(map)\n",
        "\n",
        "\n",
        "# difference\n",
        "diff = out_image.subtract(actual_image)\n",
        "mapid = diff.getMapId({'min': -0.5, 'max': 0.5, 'palette': ['FF0000', '000000', '00FF00']})\n",
        "folium.TileLayer(\n",
        "    tiles=mapid['tile_fetcher'].url_format,\n",
        "    attr='Map Data &copy; <a href=\"https://earthengine.google.com/\">Google Earth Engine</a>',\n",
        "    overlay=True,\n",
        "    name='difference',\n",
        "  ).add_to(map)\n",
        "\n",
        "# visualize the map\n",
        "map.add_child(folium.LayerControl())\n",
        "map"
      ]
    }
  ],
  "metadata": {
    "accelerator": "GPU",
    "colab": {
      "machine_shape": "hm",
      "private_outputs": true,
      "provenance": [],
      "toc_visible": true
    },
    "kernelspec": {
      "display_name": "Python 3",
      "name": "python3"
    },
    "language_info": {
      "codemirror_mode": {
        "name": "ipython",
        "version": 3
      },
      "file_extension": ".py",
      "mimetype": "text/x-python",
      "name": "python",
      "nbconvert_exporter": "python",
      "pygments_lexer": "ipython3",
      "version": "3.11.5"
    }
  },
  "nbformat": 4,
  "nbformat_minor": 0
}
