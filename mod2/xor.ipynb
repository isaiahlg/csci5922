{
 "cells": [
  {
   "cell_type": "code",
   "execution_count": 2,
   "metadata": {},
   "outputs": [],
   "source": [
    "import numpy as np\n",
    "import pandas as pd"
   ]
  },
  {
   "cell_type": "code",
   "execution_count": 5,
   "metadata": {},
   "outputs": [
    {
     "name": "stdout",
     "output_type": "stream",
     "text": [
      "(4, 2)\n",
      "(4, 1)\n"
     ]
    }
   ],
   "source": [
    "x = np.array([\n",
    "    [0,0],\n",
    "    [0,1],\n",
    "    [1,0],\n",
    "    [1,1]\n",
    "])\n",
    "\n",
    "y = np.array([\n",
    "    [0],\n",
    "    [1],\n",
    "    [1],\n",
    "    [0]\n",
    "])\n",
    "\n",
    "print(x.shape)\n",
    "print(y.shape)"
   ]
  },
  {
   "cell_type": "code",
   "execution_count": null,
   "metadata": {},
   "outputs": [],
   "source": [
    "## part 1\n",
    "# create a class called \"Neural Network\"\n",
    "# it should have a method called train that takes in X and Y\n",
    "# it should take in # of epochs, learning rate as an input\n",
    "# it should use the sigmoid as an activation function\n",
    "\n",
    "# it should have a property called .loss that stores the error for each epoch\n",
    "# it should have a property called .confidence that stores a confidence matrix \n",
    "\n",
    "## part 2\n",
    "# it should take # of hidden layers as an input\n",
    "# it should take # of nodes per hidden layer as an input"
   ]
  },
  {
   "cell_type": "code",
   "execution_count": 6,
   "metadata": {},
   "outputs": [],
   "source": [
    "class NeuralNetwork:\n",
    "    w1 = np.empty((2,2))\n",
    "    b = np.empty((1,2))\n",
    "    w2 = np.empty((2,1))\n",
    "    c = np.empty((1,1))\n",
    "    \n",
    "    def __init__(self, learning_rate, epochs):\n",
    "        self.learning_rate = learning_rate\n",
    "        self.epochs = epochs\n",
    "        self.w1 = np.empty((4,1))\n",
    "        self.b = np.empty((2,1))\n",
    "        self.w2 = np.empty((2,1))\n",
    "        self.c = np.empty((1,1))\n",
    "    \n",
    "    @property\n",
    "    def z1(self):\n",
    "        return self.x @ self.w1 + self.b\n",
    "    \n",
    "    @property\n",
    "    def h(self):\n",
    "        return (1/(1+np.exp(-self.z1)))\n",
    "\n",
    "    @property\n",
    "    def z2(self):\n",
    "        return self.h @ self.w2 + self.c\n",
    "    \n",
    "    @property\n",
    "    def y_hat(self):\n",
    "        return (1/(1+np.exp(-self.z2)))\n",
    "\n",
    "    def initialize_weights(self):\n",
    "        self.w1 = np.random.rand(4,1)\n",
    "        self.b = np.random.rand(2,1)\n",
    "        self.w2 = np.random.rand(2,1)\n",
    "        self.c = np.random.rand(1,1)\n",
    "\n",
    "    def feed_forward(self):\n",
    "        print('feeding forward')\n",
    "\n",
    "    def calculate_loss(self):\n",
    "        print('calculating loss')\n",
    "    \n",
    "    def backpropogate(self):\n",
    "        print('backpropogating')\n",
    "\n",
    "    def train(self):\n",
    "        print('training the model.')"
   ]
  }
 ],
 "metadata": {
  "kernelspec": {
   "display_name": "Python 3",
   "language": "python",
   "name": "python3"
  },
  "language_info": {
   "codemirror_mode": {
    "name": "ipython",
    "version": 3
   },
   "file_extension": ".py",
   "mimetype": "text/x-python",
   "name": "python",
   "nbconvert_exporter": "python",
   "pygments_lexer": "ipython3",
   "version": "3.11.0"
  },
  "orig_nbformat": 4
 },
 "nbformat": 4,
 "nbformat_minor": 2
}
