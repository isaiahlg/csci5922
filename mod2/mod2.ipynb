{
 "cells": [
  {
   "cell_type": "markdown",
   "metadata": {},
   "source": [
    "# Module 2: Simple Neural Networks"
   ]
  },
  {
   "cell_type": "markdown",
   "metadata": {},
   "source": [
    "\n",
    "## Part 1: Single Hidden Layer with Sigmoid Activation Function\n",
    "\n",
    "<!-- insert png of nn1 -->\n",
    "![image](nn1.png)"
   ]
  },
  {
   "cell_type": "markdown",
   "metadata": {},
   "source": [
    "### #1: Illustrate the Matrices Associated with the Neural Network  \n",
    "\n",
    " \n",
    "$X = \n",
    "\\begin{bmatrix}\n",
    "x_1\\\\\n",
    "x_2\\\\\n",
    "x_3\n",
    "\\end{bmatrix}$\n",
    "\n",
    "$W1 = \n",
    "\\begin{bmatrix}\n",
    "w_{11} & w_{21} & w_{31}\\\\\n",
    "w_{12} & w_{22} & w_{32}\\\\\n",
    "w_{13} & w_{23} & w_{33}\\\\\n",
    "w_{14} & w_{24} & w_{34}\\\\\n",
    "\\end{bmatrix}$\n",
    "\n",
    "$H = \n",
    "\\begin{bmatrix}\n",
    "h_1\\\\\n",
    "h_2\\\\ \n",
    "h_3\\\\\n",
    "h_4\\\\\n",
    "\\end{bmatrix}$\n",
    "\n",
    "$W2 =\n",
    "\\begin{bmatrix}\n",
    "w_{11} & w_{21} & w_{31} & w_{41}\\\\\n",
    "\\end{bmatrix}$\n",
    "\n",
    "$B = \n",
    "\\begin{bmatrix}\n",
    "b_1\\\\\n",
    "b_2\\\\\n",
    "b_3\\\\\n",
    "b_4\\\\\n",
    "\\end{bmatrix}$\n",
    "\n",
    "$C \\in \\mathbb{R}$ (c is a scalar)\n",
    "\n",
    "$Z1 = W1 * X + B = \n",
    "\\begin{bmatrix}\n",
    "z_1\\\\\n",
    "z_2\\\\\n",
    "z_3\\\\\n",
    "z_4\\\\\n",
    "\\end{bmatrix}$\n",
    "\n",
    "$\\sigma (z) = \\frac{1}{1+e^{-z}}$\n",
    "\n",
    "$H = \\sigma(Z1)$ \n",
    "\n",
    "$Z2 = W2 * H + C$ (scalar)\n",
    "\n",
    "$\\hat{y} = \\sigma(Z2)$ (scalar)\n",
    "\n",
    "$y \\in \\mathbb{R}$ (scalar)\n",
    "\n",
    "$\\hat{y} - y \\in \\mathbb{R} $ (scalar)\n",
    "\n",
    "Assuming binary cross entropy:  \n",
    "\n",
    "$L = -y\\log(\\hat{y}) - (1-y)\\log(1-\\hat{y})$ (scalar)"
   ]
  }
 ],
 "metadata": {
  "language_info": {
   "name": "python"
  },
  "orig_nbformat": 4
 },
 "nbformat": 4,
 "nbformat_minor": 2
}
